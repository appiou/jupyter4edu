{
 "cells": [
  {
   "cell_type": "markdown",
   "metadata": {},
   "source": [
    "# SET Operations"
   ]
  },
  {
   "cell_type": "markdown",
   "metadata": {},
   "source": [
    "### Import \"standard\" libraries"
   ]
  },
  {
   "cell_type": "code",
   "execution_count": 1,
   "metadata": {
    "collapsed": true
   },
   "outputs": [],
   "source": [
    "# Import libraries first\n",
    "%matplotlib inline\n",
    "import numpy as np\n",
    "import scipy.interpolate as interpol\n",
    "import matplotlib.pyplot as plt\n",
    "import matplotlib.colors as colors\n",
    "import matplotlib.cm as cmx\n",
    "\n",
    "import sys, logging, os, re\n",
    "import time\n",
    "\n",
    "import seaborn as sns\n",
    "import scipy\n",
    "import scipy.io as sio"
   ]
  },
  {
   "cell_type": "markdown",
   "metadata": {},
   "source": [
    "### Import specific libraries/functions to use for Sets:\n",
    " * [SymPy](http://www.sympy.org/en/index.html): is a Python library for symbolic mathematics. \n",
    " * [matplotlib_venn](https://pypi.python.org/pypi/matplotlib-venn): Functions for plotting area-proportional two- and three-way Venn diagrams in matplotlib."
   ]
  },
  {
   "cell_type": "code",
   "execution_count": 16,
   "metadata": {
    "collapsed": true
   },
   "outputs": [],
   "source": [
    "import sympy as sym\n",
    "from matplotlib_venn import venn3, venn3_circles, venn2, venn2_circles"
   ]
  },
  {
   "cell_type": "markdown",
   "metadata": {},
   "source": [
    "***\n",
    "## Todays' Summary\n",
    "* Definitions\n",
    "* Notation\n",
    "* Venn Diagrams\n",
    "* Set operations\n",
    "\n",
    "Follow these links:\n",
    "- [Introduction](#Introduction)\n",
    "- [Definitions](#Definitions)\n",
    "- [Subsets](#Subsets)\n",
    "    - [Subsets Facts](#Subsets-Facts)\n",
    "- [Set equality](#Set-equality)\n",
    "- [Set operations](#Set-operations)\n",
    "    - [Union](#Union)\n",
    "    - [Intersection](#Intersection)\n",
    "    - [Disjoint](#Disjoint)\n",
    "    - [Complement](#Complement)\n",
    "    - [Difference](#Difference)\n",
    "    "
   ]
  },
  {
   "cell_type": "markdown",
   "metadata": {},
   "source": [
    "***\n",
    "## Introduction\n",
    "* Sets are one of the basic building blocks for the types of objects considered in discrete mathematics.\n",
    "    * Important for counting. \n",
    "    * Programming languages have set operations.\n",
    "* Set theory is an important branch of mathematics.\n",
    "    * Many different systems of axioms have been used to develop set theory.\n",
    "    * Here we are not concerned with a formal set of axioms for set theory. Instead, we will use what is called naïve set theory."
   ]
  },
  {
   "cell_type": "markdown",
   "metadata": {},
   "source": [
    "***\n",
    "## Definitions\n",
    "\n",
    "A <font color='red'> **set** $A$</font> is a collection of objects, called *members* or *elements* and we express this as $A=\\{a_1, a_2, ..., a_n\\}$.\n",
    "   * If an element *a belongs* to the set A we write $a \\in A$.\n",
    "   * If an element $a$ does *NOT* belong to the set A we write $a \\notin A$.\n",
    "   * A set that contains NO elements is called an *empty set*, and it is denoted by $\\{ \\}$ or $\\emptyset$.\n",
    "   * Order of elements does not matter.\n",
    "   * Listing the elements more than once does NOT change the set, i.e. repeated elements do not count.\n",
    "   \n",
    ">### Examples\n",
    "> 1. Set of all vowels in the English aplhabet: $V=\\{a, e, i ,o, u\\}$.\n",
    "> 2. Set of all positive ODD integers less than 10: $P=\\{1,3,5,7,9\\}$ or $\\{ x \\in \\mathbb Z \\ x \\ odd,\\ 0<x<10 \\}$.\n",
    "> 3. Set of all integers less than 0: $N=\\{...,-3, -2, -1 \\}$ or $\\{ x \\in \\mathbb Z \\ ,\\ ?????? \\}$. \n",
    "\n",
    ">> #### Comments\n",
    ">> 1. The expression we see on the right hand-side of examples 2 and 3, is called *set builder notation*, meaning that we have a shared property between the elements of the set.\n",
    ">> 2. Sets like V and P are called *finite* sets as we can count the number of elements in these sets. Otherwise, sets like N are called *infinite*. Finite sets are said to have *cardinality* $n$. The $n$ is the number of distinct elements of the finite set. "
   ]
  },
  {
   "cell_type": "markdown",
   "metadata": {},
   "source": [
    "Below you can see some simple examples on sets."
   ]
  },
  {
   "cell_type": "code",
   "execution_count": 17,
   "metadata": {
    "collapsed": true
   },
   "outputs": [],
   "source": [
    "# Creating symbols (mathematical constants that act as elements)\n",
    "a, b, c, d, e, i, o, u = sym.symbols(\"a, b, c, d, e, i, o, u\")"
   ]
  },
  {
   "cell_type": "code",
   "execution_count": 18,
   "metadata": {},
   "outputs": [
    {
     "name": "stdout",
     "output_type": "stream",
     "text": [
      "1. V= {u, o, i, a, e}\n",
      "2. P= {1, 3, 7, 9, 15}\n",
      "3. N= {-1, -5, -4, -3, -2}\n"
     ]
    }
   ],
   "source": [
    "# The sets V, P, and N are the sets defined in the above examples. Here, we define them in the Python enviroment.\n",
    "V=set([a,e,i,o,u])\n",
    "P=set([1,3,15,7,9])\n",
    "N=set([-5,-4,-3,-2,-1])\n",
    "# Printing the set to the screen\n",
    "print('1. V=',V)\n",
    "print('2. P=',P)\n",
    "print('3. N=',N)"
   ]
  },
  {
   "cell_type": "code",
   "execution_count": 19,
   "metadata": {},
   "outputs": [
    {
     "data": {
      "text/plain": [
       "({u, o, i, a, e}, {1, 3, 7, 9, 15}, {-5, -4, -3, -2, -1})"
      ]
     },
     "execution_count": 19,
     "metadata": {},
     "output_type": "execute_result"
    }
   ],
   "source": [
    "# or we can print them on the screen all together or one at a time\n",
    "V, P, N"
   ]
  },
  {
   "cell_type": "code",
   "execution_count": 20,
   "metadata": {},
   "outputs": [
    {
     "data": {
      "text/plain": [
       "{1, 3, 7, 9, 15}"
      ]
     },
     "execution_count": 20,
     "metadata": {},
     "output_type": "execute_result"
    }
   ],
   "source": [
    "P"
   ]
  },
  {
   "cell_type": "markdown",
   "metadata": {},
   "source": [
    "**Note that the repeated elements do not count.** "
   ]
  },
  {
   "cell_type": "code",
   "execution_count": 21,
   "metadata": {},
   "outputs": [
    {
     "data": {
      "text/plain": [
       "{a, b, c, e}"
      ]
     },
     "execution_count": 21,
     "metadata": {},
     "output_type": "execute_result"
    }
   ],
   "source": [
    "# Create a finite set with repeated elements\n",
    "A = sym.FiniteSet(a, a, a, b, b, c, e, e, e)\n",
    "\n",
    "# Print it to the screen\n",
    "A \n",
    "# Observe that repeated elemenst will be omitted"
   ]
  },
  {
   "cell_type": "code",
   "execution_count": 22,
   "metadata": {
    "collapsed": true
   },
   "outputs": [],
   "source": [
    "# Defining the three finite sets (again) using sympy this time! This is just a different way of expressing the same thing.\n",
    "V=sym.FiniteSet(a, e, i, o, u)\n",
    "P=sym.FiniteSet(1,3,5,7,9)\n",
    "N=sym.FiniteSet(-5,-4,-3,-2,-1)"
   ]
  },
  {
   "cell_type": "code",
   "execution_count": 23,
   "metadata": {},
   "outputs": [
    {
     "data": {
      "text/plain": [
       "True"
      ]
     },
     "execution_count": 23,
     "metadata": {},
     "output_type": "execute_result"
    }
   ],
   "source": [
    "# Checking if V set is finite\n",
    "V.is_FiniteSet"
   ]
  },
  {
   "cell_type": "code",
   "execution_count": 24,
   "metadata": {},
   "outputs": [
    {
     "data": {
      "text/plain": [
       "False"
      ]
     },
     "execution_count": 24,
     "metadata": {},
     "output_type": "execute_result"
    }
   ],
   "source": [
    "# Is 1 in the set P?\n",
    "2 in P"
   ]
  },
  {
   "cell_type": "code",
   "execution_count": 25,
   "metadata": {},
   "outputs": [
    {
     "data": {
      "text/plain": [
       "False"
      ]
     },
     "execution_count": 25,
     "metadata": {},
     "output_type": "execute_result"
    }
   ],
   "source": [
    "# Is -6 in the set N?\n",
    "-6 in N"
   ]
  },
  {
   "cell_type": "markdown",
   "metadata": {},
   "source": [
    "It is worth mentioning here that *Sympy* contains the singleton called ```S```.  \n",
    "The singleton is a set with only one element."
   ]
  },
  {
   "cell_type": "code",
   "execution_count": 26,
   "metadata": {},
   "outputs": [
    {
     "data": {
      "text/plain": [
       "sympy.core.singleton.SingletonRegistry"
      ]
     },
     "execution_count": 26,
     "metadata": {},
     "output_type": "execute_result"
    }
   ],
   "source": [
    "type(sym.S)"
   ]
  },
  {
   "cell_type": "markdown",
   "metadata": {},
   "source": [
    "Here are some common sets we will be using:\n",
    "* $\\mathbb N$ is the set of natural numbers, i.e. $\\mathbb N=\\{1, 2, 3, ...\\}$.\n",
    "* $\\mathbb Z$ is the set of integers, i.e. $\\mathbb Z=\\{...,-3, -2, -1, 0, 1, 2, 3, ...\\}$.\n",
    "* $\\mathbb R$ is the set of real numbers\n",
    "* $\\mathbb Q$ is the set of rational numbers, i.e. fractions.\n",
    "\n",
    "These sets are mainly going to be used as our domain---the **universal** set $U$."
   ]
  },
  {
   "cell_type": "markdown",
   "metadata": {},
   "source": [
    "Note that we ALSO have the counting numbers, $ \\left\\{ 0, 1, 2, 3, 4, 5, \\dots \\right\\} $.  The counting numbers are represented in *sympy* as ```sympy.S.Naturals0```."
   ]
  },
  {
   "cell_type": "markdown",
   "metadata": {},
   "source": [
    "The integers, $ \\mathbb{Z} $, are represented by ```sympy.S.Integers```."
   ]
  },
  {
   "cell_type": "code",
   "execution_count": 27,
   "metadata": {},
   "outputs": [
    {
     "data": {
      "text/plain": [
       "False"
      ]
     },
     "execution_count": 27,
     "metadata": {},
     "output_type": "execute_result"
    }
   ],
   "source": [
    "# Is one-half an integer?\n",
    "1 / 2 in sym.S.Integers"
   ]
  },
  {
   "cell_type": "markdown",
   "metadata": {},
   "source": [
    "And of course, We have the real numbers, $ \\mathbb{R} $. The corresponding set is called sym.S.Reals."
   ]
  },
  {
   "cell_type": "markdown",
   "metadata": {},
   "source": [
    "[Back to the top](#Todays'-Summary)"
   ]
  },
  {
   "cell_type": "markdown",
   "metadata": {},
   "source": [
    "***\n",
    "## Subsets\n",
    "$A \\subseteq B$ :  \"$A$ is a subset of $B$\" or \"$A$ is contained in $B$\"\n",
    "\n",
    "\n",
    "* $A$ is a subset of $B$ if and only if **every** element of A is also an element of B.\n",
    "* We can completely formalize this:  $A \\subseteq B \\iff \\forall x \\ (x\\in A \\to x\\in B)$ \n",
    "\n",
    ">### Examples\n",
    "> 1. A = {3, 9},       B = {5, 9, 1, 3},       $A \\subseteq B$ ?\n",
    "> 2. C = {3, 3, 3, 9}, D = {5, 9, 1, 3},       $C \\subseteq D$ ?\n",
    "> 3. E = {1, 2, 3},    F = {2, 3, 4},          $E \\subseteq F$ ? \n",
    "\n",
    "For answering these, let's use sympy....\n"
   ]
  },
  {
   "cell_type": "code",
   "execution_count": 28,
   "metadata": {},
   "outputs": [
    {
     "data": {
      "text/plain": [
       "False"
      ]
     },
     "execution_count": 28,
     "metadata": {},
     "output_type": "execute_result"
    }
   ],
   "source": [
    "# example #1\n",
    "A=sym.FiniteSet(3,9,8)\n",
    "B=sym.FiniteSet(5,9)\n",
    "# check for subset:\n",
    "B.is_subset(A)"
   ]
  },
  {
   "cell_type": "code",
   "execution_count": 29,
   "metadata": {},
   "outputs": [
    {
     "data": {
      "text/plain": [
       "True"
      ]
     },
     "execution_count": 29,
     "metadata": {},
     "output_type": "execute_result"
    }
   ],
   "source": [
    "# example #2\n",
    "C=sym.FiniteSet(3,9)\n",
    "D=sym.FiniteSet(5,9,1,3)\n",
    "# check for subset:\n",
    "C.is_subset(D)"
   ]
  },
  {
   "cell_type": "code",
   "execution_count": 30,
   "metadata": {},
   "outputs": [
    {
     "data": {
      "text/plain": [
       "False"
      ]
     },
     "execution_count": 30,
     "metadata": {},
     "output_type": "execute_result"
    }
   ],
   "source": [
    "# example #3\n",
    "E=sym.FiniteSet(1,2,3)\n",
    "F=sym.FiniteSet(2,3,4)\n",
    "# check for subset:\n",
    "E.is_subset(F)"
   ]
  },
  {
   "cell_type": "markdown",
   "metadata": {},
   "source": [
    ">### Subsets Facts\n",
    "> #### Useful rules:\n",
    "> 1. $\\varnothing \\subseteq A$ for any set $A$ \n",
    "> 2. $A \\subseteq A$ for any set $A$\n",
    ">\n",
    "> #### Proper subset:\n",
    "There is also a proper subset, $A \\subset B$, which is defined if there are elements in $B$ that are not in $A$. \n",
    "> 1. $A \\subset B$:     “$A$ is a proper subset of $B$” \n",
    "> 2. $A \\subset B \\iff \\forall x \\ (x \\in A \\to x \\in B) \\land \\exists x \\ (x \\in B \\land x \\notin A)$\n",
    ">\n",
    "> **Note:** *A is never a proper subset of itself*\n"
   ]
  },
  {
   "cell_type": "code",
   "execution_count": 31,
   "metadata": {},
   "outputs": [
    {
     "data": {
      "text/plain": [
       "True"
      ]
     },
     "execution_count": 31,
     "metadata": {},
     "output_type": "execute_result"
    }
   ],
   "source": [
    "# Are the integers a proper subset of the real numbers\n",
    "sym.S.Integers.is_proper_subset(sym.S.Reals)"
   ]
  },
  {
   "cell_type": "markdown",
   "metadata": {},
   "source": [
    "[Back to the top](#Todays'-Summary)"
   ]
  },
  {
   "cell_type": "markdown",
   "metadata": {},
   "source": [
    "Now, this discussion easily leads to the equality of sets. If we have two sets, $A$ and $B$ taken from a universal set $U$, when are they equal?"
   ]
  },
  {
   "cell_type": "markdown",
   "metadata": {},
   "source": [
    "***\n",
    "## Set equality\n",
    "\n",
    "Two sets $A$ and $B$ are equal if they have exactly the same elements. In that case we write $A=B$.\n",
    "\n",
    "\n",
    "Mathematically speaking, two sets $A$ and $B$ are equal if and only if $A \\subseteq B$ and $B \\subseteq A$.\n",
    "\n",
    "Otherwise $A\\neq B$.\n",
    "\n",
    "> ### Examples\n",
    "> 1. A = {9, 2, 7, -3},     B = {7, 9, -3, 2},              $A=B$?\n",
    "> 2. C = {dog, cat, horse}, D = {cat, horse, squirrel, dog},$C=D$?\n",
    "> 3. E = {1, 3, 2},         F = {1, 2, 1, 3},               $E=F$?  "
   ]
  },
  {
   "cell_type": "code",
   "execution_count": 32,
   "metadata": {},
   "outputs": [
    {
     "data": {
      "text/plain": [
       "True"
      ]
     },
     "execution_count": 32,
     "metadata": {},
     "output_type": "execute_result"
    }
   ],
   "source": [
    "# example #1\n",
    "A=sym.FiniteSet(9,2,7,-3)\n",
    "B=sym.FiniteSet(7,9,-3,2)\n",
    "# check for set equality\n",
    "A==B"
   ]
  },
  {
   "cell_type": "code",
   "execution_count": 33,
   "metadata": {},
   "outputs": [
    {
     "data": {
      "text/plain": [
       "False"
      ]
     },
     "execution_count": 33,
     "metadata": {},
     "output_type": "execute_result"
    }
   ],
   "source": [
    "# example #2\n",
    "C=sym.FiniteSet('dog','cat','horse')\n",
    "D=sym.FiniteSet('cat','horse','squireel','dog')\n",
    "# check for set equality\n",
    "C==D"
   ]
  },
  {
   "cell_type": "code",
   "execution_count": 34,
   "metadata": {},
   "outputs": [
    {
     "data": {
      "text/plain": [
       "True"
      ]
     },
     "execution_count": 34,
     "metadata": {},
     "output_type": "execute_result"
    }
   ],
   "source": [
    "# example #3\n",
    "E=sym.FiniteSet(1,3,2)\n",
    "F=sym.FiniteSet(1,2,1,3)\n",
    "# check for set equality\n",
    "E==F"
   ]
  },
  {
   "cell_type": "markdown",
   "metadata": {},
   "source": [
    "[Back to the top](#Todays'-Summary)"
   ]
  },
  {
   "cell_type": "markdown",
   "metadata": {},
   "source": [
    "***\n",
    "## Set operations"
   ]
  },
  {
   "cell_type": "markdown",
   "metadata": {},
   "source": [
    "### Union \n",
    "\n",
    "$A \\cup B = \\{ x \\ | \\ x \\in A  \\lor x \\in B\\}$\n",
    "\n",
    "Contains elements in either $A$ <font color='red'> **or** </font> $B$ <font color='red'> **or both** </font>.\n",
    "\n",
    "(You can think of union as combining the elements of the sets)"
   ]
  },
  {
   "cell_type": "markdown",
   "metadata": {},
   "source": [
    ">### Example: \n",
    "Change the sets to see what happens"
   ]
  },
  {
   "cell_type": "code",
   "execution_count": 35,
   "metadata": {
    "collapsed": true
   },
   "outputs": [],
   "source": [
    "A = sym.FiniteSet(a, b)\n",
    "B = sym.FiniteSet(b, c, d, a,i)"
   ]
  },
  {
   "cell_type": "code",
   "execution_count": 36,
   "metadata": {},
   "outputs": [
    {
     "data": {
      "text/plain": [
       "{a, b, c, d, i}"
      ]
     },
     "execution_count": 36,
     "metadata": {},
     "output_type": "execute_result"
    }
   ],
   "source": [
    "# sympy calculates the union\n",
    "sym.Union(A, B)"
   ]
  },
  {
   "cell_type": "code",
   "execution_count": 37,
   "metadata": {},
   "outputs": [
    {
     "data": {
      "text/plain": [
       "{a, b, c, d, i}"
      ]
     },
     "execution_count": 37,
     "metadata": {},
     "output_type": "execute_result"
    }
   ],
   "source": [
    "# or we can also use the following command as an alternative\n",
    "A.union(B)"
   ]
  },
  {
   "cell_type": "code",
   "execution_count": 38,
   "metadata": {},
   "outputs": [
    {
     "data": {
      "text/plain": [
       "5"
      ]
     },
     "execution_count": 38,
     "metadata": {},
     "output_type": "execute_result"
    }
   ],
   "source": [
    "# Prints the number of the elements in the union of A and B, i.e. the number of elements in the intersection \n",
    "# len() stands for the length of a list \n",
    "len(set(A)|set(B)) \n",
    "# | is the symbol for the OR operator"
   ]
  },
  {
   "cell_type": "markdown",
   "metadata": {},
   "source": [
    "***\n",
    "### Intersection\n",
    "\n",
    "$A \\cap B = \\{x \\ | \\ x \\in A \\land x \\in B \\}$\n",
    "\n",
    "Contains elements in both $A$ <font color='red'> **and**</font> $B$.\n",
    "\n",
    "(You can think of intersection as looking for elements that appear in both sets)"
   ]
  },
  {
   "cell_type": "markdown",
   "metadata": {},
   "source": [
    ">### Example:"
   ]
  },
  {
   "cell_type": "code",
   "execution_count": 39,
   "metadata": {
    "collapsed": true
   },
   "outputs": [],
   "source": [
    "# Creating symbols (mathematical constants that act as elements)\n",
    "a, b, c, d, e, f, g, h = sym.symbols(\"a, b, c, d, e, f, g, h\")"
   ]
  },
  {
   "cell_type": "code",
   "execution_count": 40,
   "metadata": {
    "collapsed": true
   },
   "outputs": [],
   "source": [
    "A = set([a, b])\n",
    "B = set([b, c, d])\n",
    "W=sym.FiniteSet(1, 2, 3, 4, 5)\n",
    "V=sym.FiniteSet(1, 3, 5, 7, 9)"
   ]
  },
  {
   "cell_type": "code",
   "execution_count": 41,
   "metadata": {},
   "outputs": [
    {
     "data": {
      "text/plain": [
       "{a, b}"
      ]
     },
     "execution_count": 41,
     "metadata": {},
     "output_type": "execute_result"
    }
   ],
   "source": [
    "G=sym.FiniteSet(a,b)\n",
    "F=sym.FiniteSet(a,b,c,d,e)\n",
    "sym.Intersection(F,G)"
   ]
  },
  {
   "cell_type": "code",
   "execution_count": 42,
   "metadata": {},
   "outputs": [
    {
     "data": {
      "text/plain": [
       "{a, b, c, d, e}"
      ]
     },
     "execution_count": 42,
     "metadata": {},
     "output_type": "execute_result"
    }
   ],
   "source": [
    "sym.Union(F,G)"
   ]
  },
  {
   "cell_type": "code",
   "execution_count": 43,
   "metadata": {},
   "outputs": [
    {
     "data": {
      "image/png": "[encoded data removed]",
      "text/plain": [
       "<matplotlib.figure.Figure at 0x1eb8cb4e550>"
      ]
     },
     "metadata": {},
     "output_type": "display_data"
    }
   ],
   "source": [
    "v = venn2([F,G], ('F', 'G'))\n"
   ]
  },
  {
   "cell_type": "markdown",
   "metadata": {},
   "source": [
    "Note that above figure is called a **Venn Diagram** and it can be use for any number of sets.\n",
    "\n",
    "Note also that Venn diagram can be use to represent union and intersection (and complement) of sets.\n",
    "\n",
    "BUT be careful, the numbers writen within the specific areas represent the number of elements they include!!!"
   ]
  },
  {
   "cell_type": "code",
   "execution_count": 44,
   "metadata": {},
   "outputs": [
    {
     "data": {
      "text/plain": [
       "{1, 3, 5}"
      ]
     },
     "execution_count": 44,
     "metadata": {},
     "output_type": "execute_result"
    }
   ],
   "source": [
    "sym.Intersection(W, V)"
   ]
  },
  {
   "cell_type": "code",
   "execution_count": 45,
   "metadata": {},
   "outputs": [
    {
     "data": {
      "text/plain": [
       "{1, 3, 5}"
      ]
     },
     "execution_count": 45,
     "metadata": {},
     "output_type": "execute_result"
    }
   ],
   "source": [
    "W.intersection(V)"
   ]
  },
  {
   "cell_type": "code",
   "execution_count": 46,
   "metadata": {},
   "outputs": [
    {
     "data": {
      "text/plain": [
       "{1, 2, 3, 4, 5, 7, 9}"
      ]
     },
     "execution_count": 46,
     "metadata": {},
     "output_type": "execute_result"
    }
   ],
   "source": [
    "sym.Union(W, V)"
   ]
  },
  {
   "cell_type": "code",
   "execution_count": 47,
   "metadata": {},
   "outputs": [
    {
     "data": {
      "text/plain": [
       "False"
      ]
     },
     "execution_count": 47,
     "metadata": {},
     "output_type": "execute_result"
    }
   ],
   "source": [
    "W.is_subset(V)"
   ]
  },
  {
   "cell_type": "code",
   "execution_count": 48,
   "metadata": {},
   "outputs": [
    {
     "data": {
      "text/plain": [
       "1"
      ]
     },
     "execution_count": 48,
     "metadata": {},
     "output_type": "execute_result"
    }
   ],
   "source": [
    "# Prints the number of common elements of set A and B, i.e. the number of elements in the intersection \n",
    "# len() stands for the length of a list\n",
    "len(set(A)&set(B)) \n",
    "# & is the symbol for AND operator"
   ]
  },
  {
   "cell_type": "code",
   "execution_count": 49,
   "metadata": {},
   "outputs": [
    {
     "data": {
      "text/plain": [
       "{b}"
      ]
     },
     "execution_count": 49,
     "metadata": {},
     "output_type": "execute_result"
    }
   ],
   "source": [
    "A.intersection(B)"
   ]
  },
  {
   "cell_type": "markdown",
   "metadata": {},
   "source": [
    "***\n",
    "### Disjoint\n",
    "$A \\cap B = \\emptyset$\n",
    "\n",
    "Two sets are called disjoint if their intersection is **empty**, that is, they have no elements in common.\n",
    "\n"
   ]
  },
  {
   "cell_type": "markdown",
   "metadata": {},
   "source": [
    ">### Example:"
   ]
  },
  {
   "cell_type": "markdown",
   "metadata": {},
   "source": [
    "Using the singleton we can define the empty set within *Sympy*."
   ]
  },
  {
   "cell_type": "code",
   "execution_count": 50,
   "metadata": {},
   "outputs": [
    {
     "data": {
      "text/plain": [
       "EmptySet()"
      ]
     },
     "execution_count": 50,
     "metadata": {},
     "output_type": "execute_result"
    }
   ],
   "source": [
    "sym.S.EmptySet"
   ]
  },
  {
   "cell_type": "code",
   "execution_count": 51,
   "metadata": {},
   "outputs": [
    {
     "data": {
      "image/png": "[encoded data removed]",
      "text/plain": [
       "<matplotlib.figure.Figure at 0x1eb8cef0f28>"
      ]
     },
     "metadata": {},
     "output_type": "display_data"
    }
   ],
   "source": [
    "fig = plt.figure()\n",
    "A = set([a, b])\n",
    "B = set([c, d, e])\n",
    "\n",
    "v = venn2([A,B], ('A', 'B'))\n",
    "\n",
    "# A.intersection(B)"
   ]
  },
  {
   "cell_type": "code",
   "execution_count": 52,
   "metadata": {},
   "outputs": [
    {
     "data": {
      "text/plain": [
       "False"
      ]
     },
     "execution_count": 52,
     "metadata": {},
     "output_type": "execute_result"
    },
    {
     "data": {
      "text/plain": [
       "<matplotlib.figure.Figure at 0x1eb8cf2d358>"
      ]
     },
     "metadata": {},
     "output_type": "display_data"
    }
   ],
   "source": [
    "fig = plt.figure()\n",
    "W=sym.FiniteSet(1, 2, 3, 4, 5)\n",
    "V=sym.FiniteSet(1, 3, 5, 7, 9)\n",
    "\n",
    "# v = venn2([W,V], ('W', 'V'))\n",
    "# W.intersection(V)\n",
    "# len(set(W)&set(V)) \n",
    "4 in sym.Intersection(W, V)"
   ]
  },
  {
   "cell_type": "markdown",
   "metadata": {},
   "source": [
    "***\n",
    "### Complement\n",
    "$\\overline{A} = U - A$ and it is the set $$ \\overline{A} = \\left\\{ x \\quad | \\quad x \\in U, \\quad x \\notin A \\right\\} $$\n",
    "\n",
    "The complement of a set $A$ contains exactly those elements in the universal set that are <font color='red'> **not**</font> in $A$. \n",
    "\n",
    "It is also written as $ A' $ or $A^c$.\n",
    "\n",
    ">>Note that:\n",
    " 1. $x \\in \\overline{A}  \\iff x \\notin A$\n",
    " 2. $\\overline{A} \\cup A = U$\n",
    " 3. $\\overline{A} \\cap A = \\emptyset$\n",
    " 4. $\\overline{\\overline{A}}=A$\n"
   ]
  },
  {
   "cell_type": "markdown",
   "metadata": {},
   "source": [
    ">### Example:"
   ]
  },
  {
   "cell_type": "code",
   "execution_count": 53,
   "metadata": {},
   "outputs": [
    {
     "data": {
      "text/plain": [
       "({1, 2, 3, 4, 5, 6, 7, 8, 9}, {3, 5, 7})"
      ]
     },
     "execution_count": 53,
     "metadata": {},
     "output_type": "execute_result"
    }
   ],
   "source": [
    "# Creating two  sets\n",
    "U = sym.FiniteSet(1, 2, 3, 4, 5, 6, 7, 8, 9)\n",
    "A = sym.FiniteSet(3, 5, 7)\n",
    "\n",
    "# Printing both to the screen\n",
    "U, A"
   ]
  },
  {
   "cell_type": "code",
   "execution_count": 54,
   "metadata": {
    "collapsed": true
   },
   "outputs": [],
   "source": [
    "# Setting U as a universal set\n",
    "U.is_UniversalSet"
   ]
  },
  {
   "cell_type": "code",
   "execution_count": 55,
   "metadata": {},
   "outputs": [
    {
     "data": {
      "text/plain": [
       "{1, 2, 4, 6, 8, 9}"
      ]
     },
     "execution_count": 55,
     "metadata": {},
     "output_type": "execute_result"
    }
   ],
   "source": [
    "# Calculating the complement of A (with respect to U)\n",
    "A.complement(U)"
   ]
  },
  {
   "cell_type": "code",
   "execution_count": 56,
   "metadata": {},
   "outputs": [
    {
     "data": {
      "text/plain": [
       "(S.Naturals, {3, 5, 7})"
      ]
     },
     "execution_count": 56,
     "metadata": {},
     "output_type": "execute_result"
    }
   ],
   "source": [
    "# Creating two  sets\n",
    "U = sym.S.Naturals\n",
    "A = sym.FiniteSet(3, 5, 7)\n",
    "\n",
    "# Printing both to the screen\n",
    "U, A"
   ]
  },
  {
   "cell_type": "code",
   "execution_count": 57,
   "metadata": {},
   "outputs": [
    {
     "data": {
      "text/plain": [
       "S.Naturals \\ {3, 5, 7}"
      ]
     },
     "execution_count": 57,
     "metadata": {},
     "output_type": "execute_result"
    }
   ],
   "source": [
    "A.complement(U)"
   ]
  },
  {
   "cell_type": "markdown",
   "metadata": {},
   "source": [
    "***\n",
    "### Difference\n",
    "\n",
    "$A - B= \\left\\{ x \\in U \\ \\ | \\quad x \\in \\ A \\ \\wedge \\ x \\notin B \\right\\} $\n",
    "\n",
    "The **difference** between sets $A$ and $B$ contains exactly those elements of $A$ that are not in $B$.\n",
    "\n",
    "Note that we actually *subtract* the elements of the second set from those in the first."
   ]
  },
  {
   "cell_type": "markdown",
   "metadata": {},
   "source": [
    ">### Example:"
   ]
  },
  {
   "cell_type": "code",
   "execution_count": 58,
   "metadata": {},
   "outputs": [
    {
     "data": {
      "text/plain": [
       "({a, b}, {d, b, c})"
      ]
     },
     "execution_count": 58,
     "metadata": {},
     "output_type": "execute_result"
    }
   ],
   "source": [
    "A = set([a, b])\n",
    "B = set([b, c, d, ])\n",
    "\n",
    "A, B"
   ]
  },
  {
   "cell_type": "code",
   "execution_count": 59,
   "metadata": {},
   "outputs": [
    {
     "data": {
      "text/plain": [
       "{a}"
      ]
     },
     "execution_count": 59,
     "metadata": {},
     "output_type": "execute_result"
    }
   ],
   "source": [
    "A-B"
   ]
  },
  {
   "cell_type": "code",
   "execution_count": 60,
   "metadata": {},
   "outputs": [
    {
     "data": {
      "image/png": "[encoded data removed]",
      "text/plain": [
       "<matplotlib.figure.Figure at 0x1eb8cb3fd68>"
      ]
     },
     "metadata": {},
     "output_type": "display_data"
    }
   ],
   "source": [
    "v = venn2([A,B], ('A', 'B'))"
   ]
  },
  {
   "cell_type": "markdown",
   "metadata": {},
   "source": [
    "[Back to the top](#Todays'-Summary)"
   ]
  },
  {
   "cell_type": "code",
   "execution_count": null,
   "metadata": {
    "collapsed": true
   },
   "outputs": [],
   "source": []
  }
 ],
 "metadata": {
  "kernelspec": {
   "display_name": "Python 3",
   "language": "python",
   "name": "python3"
  },
  "language_info": {
   "codemirror_mode": {
    "name": "ipython",
    "version": 3
   },
   "file_extension": ".py",
   "mimetype": "text/x-python",
   "name": "python",
   "nbconvert_exporter": "python",
   "pygments_lexer": "ipython3",
   "version": "3.6.3"
  }
 },
 "nbformat": 4,
 "nbformat_minor": 2
}
