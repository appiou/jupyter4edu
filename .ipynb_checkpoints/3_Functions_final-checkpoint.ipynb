{
 "cells": [
  {
   "cell_type": "markdown",
   "metadata": {},
   "source": [
    "# Functions"
   ]
  },
  {
   "cell_type": "markdown",
   "metadata": {},
   "source": [
    "### Import \"standard\" libraries"
   ]
  },
  {
   "cell_type": "code",
   "execution_count": 1,
   "metadata": {
    "collapsed": true
   },
   "outputs": [],
   "source": [
    "# Import libraries first\n",
    "%matplotlib inline\n",
    "import numpy as np\n",
    "import scipy.interpolate as interpol\n",
    "import matplotlib.pyplot as plt\n",
    "import matplotlib.colors as colors\n",
    "import matplotlib.cm as cmx\n",
    "\n",
    "import sys, logging, os, re\n",
    "import time\n",
    "\n",
    "# import seaborn as sns\n",
    "import scipy\n",
    "import scipy.io as sio"
   ]
  },
  {
   "cell_type": "markdown",
   "metadata": {},
   "source": [
    "***\n",
    "## Todays' Summary\n",
    "\n",
    "* Definitions\n",
    "    * Function\n",
    "    * Domain, Codomain\n",
    "    * Image, Preimage\n",
    "* Examples\n",
    "    * Floor & Ceiling Functions\n",
    "* Representing Functions\n",
    "* Properties of functions :Injection, Surjection, Bijection and Inverse Function\n",
    "* Composition of Functions\n",
    "\n",
    "\n",
    "\n",
    "Follow these links:\n",
    "- [Definitions](#Definitions)\n",
    "- [Examples](#Examples)\n",
    "    - [Floor & Ceiling](#Example-5:-Floor-and-Ceilling-Functions)\n",
    "- [Representing Functions](#Representing-Functions)\n",
    "- [Properties of Functions](#Properties-of-Functions)\n",
    "- [Composition of Functions](#Composition-of-Functions)\n"
   ]
  },
  {
   "cell_type": "markdown",
   "metadata": {},
   "source": [
    "***\n",
    "## Definitions\n",
    "\n",
    "### Function\n",
    "* A <font color='red'> **function** $f$</font> from a set $X$ to a set $Y$ is a subset of the Cartesian product $X \\times Y$ in which to **each** element of   $x \\in X$ we assign **exactly one** element of $y \\in Y$ with the pair $(x,y)  \\in f$.\n",
    "\n",
    "\n",
    "* We sometimes write this as $f(x) = y$.\n",
    "\n",
    "  Note that $(x,y)$ is an *ordered* pair in the function.\n",
    "\n",
    "\n",
    "* If *f* is a function from $X$ to $Y$, we write:                 $$f : X \\rightarrow Y$$\n",
    "\n",
    "* We say that $f :X \\rightarrow Y$ **maps** $X$ to $Y$.\n",
    "\n",
    "* Functions are sometimes called **mappings** or **transformations**.\n"
   ]
  },
  {
   "cell_type": "markdown",
   "metadata": {},
   "source": [
    "### Domain, Codomain\n",
    "* If $f : X \\rightarrow Y$, we say that $X$ is the **domain** of $f$ and $Y$ is the **codomain** of $f$. \n",
    "\n",
    "* The **range** of $f : X\\rightarrow Y$ is the set of *all* images of elements of $X$. \n",
    "\n",
    "  This is a **subset of the codomain**.\n",
    "\n",
    "\n"
   ]
  },
  {
   "cell_type": "markdown",
   "metadata": {},
   "source": [
    "### Image, Pre-image\n",
    "\n",
    "* If $f (x)=y$, we say that $y$ is the **image** of $x$ and $x$ is the **pre-image** of $y$.\n",
    "\n",
    "***"
   ]
  },
  {
   "cell_type": "markdown",
   "metadata": {},
   "source": [
    "## Examples\n",
    "Below you can see some simple examples on functions."
   ]
  },
  {
   "cell_type": "markdown",
   "metadata": {},
   "source": [
    "### Example 1:\n",
    "\n",
    "* Consider the function $f : X \\rightarrow Y$ with:\n",
    "\n",
    "<table style=\"width:30%\">\n",
    "  <tr>\n",
    "    <td>$X = \\{1, 2, 3\\}$  </td> \n",
    "    <td>$f(1) = a$</td> \n",
    "  </tr>\n",
    "  \n",
    "  <tr>\n",
    "    <td>$Y = \\{a, b, c, d\\}$</td>\n",
    "    <td>$f(2) = b$</td> \n",
    "  </tr>\n",
    "  <tr>\n",
    "    <td> </td>\n",
    "    <td>$f(3) = c$</td> \n",
    "  </tr>\n",
    "</table>\n",
    "\n",
    "* Here, the **range** of $f$ is $\\{a, b, c\\} \\subset Y$.\n",
    "***"
   ]
  },
  {
   "cell_type": "markdown",
   "metadata": {},
   "source": [
    "### Example 2:\n",
    "\n",
    "* Consider the function $f : X \\rightarrow Y$ with:\n",
    "\n",
    "<table style=\"width:30%\">\n",
    "  <tr>\n",
    "    <td>$X = \\{1, 2, 3\\}$ </td>\n",
    "    <td>$f(1) = a$</td> \n",
    "  </tr>\n",
    "  <tr>\n",
    "    <td>$Y = \\{a, b, c, d\\}$</td>\n",
    "    <td>$f(2) = a$</td> \n",
    "  </tr>\n",
    "  <tr>\n",
    "    <td> </td>\n",
    "    <td>$f(3) = d$</td> \n",
    "  </tr>\n",
    "</table>\n",
    "\n",
    "* Is $f$ still a **function**?\n",
    "* What is its range?\n",
    "***"
   ]
  },
  {
   "cell_type": "markdown",
   "metadata": {},
   "source": [
    "### Example 3:\n",
    "\n",
    "* Consider the function $f : X \\rightarrow Y$ with:\n",
    "\n",
    "<table style=\"width:30%\">\n",
    "  <tr>\n",
    "    <td>$X = \\{1, 2, 3\\}$ </td>\n",
    "    <td>$f(1) = a$</td> \n",
    "  </tr>\n",
    "  <tr>\n",
    "    <td>$Y = \\{a, b, c, d\\}$</td>\n",
    "    <td>$f(2) = a$</td> \n",
    "  </tr>\n",
    "  <tr>\n",
    "    <td> </td>\n",
    "    <td>$f(3) = c$</td> \n",
    "  </tr>\n",
    "    <tr>\n",
    "    <td> </td>\n",
    "    <td>$f(3) = d$</td> \n",
    "  </tr>\n",
    "</table>\n",
    "\n",
    "* Is $f$ still a **function**?\n",
    "* What is its range?\n",
    "***"
   ]
  },
  {
   "cell_type": "markdown",
   "metadata": {},
   "source": [
    "### Example 4:\n",
    "\n",
    "* Let $x$ be an integer from the given list [15,4,6,6,371281] and $y$ is a (corresponding) *positive* integer [3,9,1,2,2]. \n",
    "\n",
    "* Define ** $x$ ```mod``` $y$** to be the remainder when $x$ is divided by $y$.\n",
    "\n",
    "  Then $15$ ```mod``` $3 = ?$ How about $15$ ```mod``` $4 = ?$ How about $4$ ```mod``` $9 = ?$ How about $6$ ```mod``` $1 = ?$\n"
   ]
  },
  {
   "cell_type": "code",
   "execution_count": 2,
   "metadata": {},
   "outputs": [
    {
     "name": "stdout",
     "output_type": "stream",
     "text": [
      "0\n"
     ]
    }
   ],
   "source": [
    "# To answer the above question, let us use the mod function to find out the answer!!!\n",
    "print(np.mod(15,3))"
   ]
  },
  {
   "cell_type": "code",
   "execution_count": 3,
   "metadata": {},
   "outputs": [
    {
     "name": "stdout",
     "output_type": "stream",
     "text": [
      "[0 4 0 0 1]\n"
     ]
    }
   ],
   "source": [
    "# To make this a bit faster we can use the following setting:\n",
    "x = np.array([15,4,6,6,371281])\n",
    "y = np.array([3,9,1,2,2])\n",
    "\n",
    "result=np.mod(x,y)\n",
    "print(result)"
   ]
  },
  {
   "cell_type": "markdown",
   "metadata": {},
   "source": [
    "* The modular function is used for the well known [Hash functions](https://en.wikipedia.org/wiki/Hash_function) – for storing and retrieving nonnegative numbers into a specific number of available cells\n",
    "***"
   ]
  },
  {
   "cell_type": "markdown",
   "metadata": {},
   "source": [
    "[Back to the top](#Todays'-Summary)"
   ]
  },
  {
   "cell_type": "markdown",
   "metadata": {},
   "source": [
    "### Example 5: Floor and Ceilling Functions\n",
    "\n",
    "Both of these functions are for rounding purposes.\n",
    "\n",
    "* The **Floor** function is denoted as $\\lfloor 𝑥 \\rfloor$ and it i defined as the greatest integer $\\le x$ (rounds **down**)."
   ]
  },
  {
   "cell_type": "code",
   "execution_count": 4,
   "metadata": {},
   "outputs": [
    {
     "data": {
      "text/plain": [
       "5.0"
      ]
     },
     "execution_count": 4,
     "metadata": {},
     "output_type": "execute_result"
    }
   ],
   "source": [
    "# Let's try this function for few numbers\n",
    "np.floor(5.2)"
   ]
  },
  {
   "cell_type": "code",
   "execution_count": 5,
   "metadata": {},
   "outputs": [
    {
     "data": {
      "text/plain": [
       "array([-2., -2., -1.,  0.,  1.,  1.,  2.])"
      ]
     },
     "execution_count": 5,
     "metadata": {},
     "output_type": "execute_result"
    }
   ],
   "source": [
    "# Note the difference between a positive and a negative number --- like -1.7 and 1.7\n",
    "a = np.array([-1.7, -1.5, -0.2, 0.2, 1.5, 1.7, 2.1])\n",
    "np.floor(a)"
   ]
  },
  {
   "cell_type": "code",
   "execution_count": 6,
   "metadata": {},
   "outputs": [
    {
     "data": {
      "text/plain": [
       "Text(0.5,1,'Floor Function')"
      ]
     },
     "execution_count": 6,
     "metadata": {},
     "output_type": "execute_result"
    },
    {
     "data": {
      "image/png": "[encoded data removed]",
      "text/plain": [
       "<matplotlib.figure.Figure at 0x1a9923aebe0>"
      ]
     },
     "metadata": {},
     "output_type": "display_data"
    }
   ],
   "source": [
    "# Below you can see the graph of the Floor function - this looks like a step function\n",
    "\n",
    "# To create n+1 uniformly distributed coordinates in an interval [a,b], stored in an array, \n",
    "# one can use linspace: t = numpy.linspace(a, b, n+1)\n",
    "y=np.linspace(-3,3,7)\n",
    "\n",
    "fig = plt.figure(figsize=(8,8))\n",
    "ax = fig.add_subplot(1, 1, 1)\n",
    "\n",
    "# Move left y-axis and bottom x-axis to center, passing through (0,0)\n",
    "ax.spines['left'].set_position('center')\n",
    "ax.spines['bottom'].set_position('center')\n",
    "\n",
    "ax.spines['right'].set_color('none')\n",
    "ax.spines['top'].set_color('none')\n",
    "\n",
    "plt.plot(a,y,'bo',mfc=\"None\",label='real data')\n",
    "plt.plot(np.floor(a),y,'bo',label='floor data')\n",
    "for i in range(0,y.size):\n",
    "    plt.plot([np.floor(a)[i],a[i]],[y[i],y[i]],'b-')\n",
    "\n",
    "plt.grid(color='lightgray',linestyle='--')    \n",
    "plt.legend()\n",
    "plt.title('Floor Function')"
   ]
  },
  {
   "cell_type": "markdown",
   "metadata": {},
   "source": [
    "We continue with \n",
    "* The **Ceiling** function is denoted as $\\lceil 𝑥 \\rceil$ and it is defined to be the smallest integer $\\ge x$ (rounds **up**).\n"
   ]
  },
  {
   "cell_type": "code",
   "execution_count": 7,
   "metadata": {},
   "outputs": [
    {
     "data": {
      "text/plain": [
       "6.0"
      ]
     },
     "execution_count": 7,
     "metadata": {},
     "output_type": "execute_result"
    }
   ],
   "source": [
    "# Let's try the ceiling function for few numbers\n",
    "np.ceil(5.2)"
   ]
  },
  {
   "cell_type": "code",
   "execution_count": 8,
   "metadata": {},
   "outputs": [
    {
     "data": {
      "text/plain": [
       "array([-1., -1., -0.,  1.,  2.,  2.,  2.])"
      ]
     },
     "execution_count": 8,
     "metadata": {},
     "output_type": "execute_result"
    }
   ],
   "source": [
    "# Note the difference between a positive and a negative number --- like -1.7 and 1.7\n",
    "\n",
    "b = np.array([-1.7, -1.5, -0.2, 0.2, 1.5, 1.7, 2.0])\n",
    "np.ceil(b)"
   ]
  },
  {
   "cell_type": "code",
   "execution_count": 9,
   "metadata": {},
   "outputs": [
    {
     "name": "stdout",
     "output_type": "stream",
     "text": [
      "1.0 2.0\n"
     ]
    }
   ],
   "source": [
    "# Also note the difference between between Floor and Ceiling functions for numbers like -1.7 and 1.7\n",
    "\n",
    "print(np.floor(1.7),np.ceil(1.7))"
   ]
  },
  {
   "cell_type": "code",
   "execution_count": 10,
   "metadata": {},
   "outputs": [
    {
     "data": {
      "text/plain": [
       "Text(0.5,1,'Ceiling Function')"
      ]
     },
     "execution_count": 10,
     "metadata": {},
     "output_type": "execute_result"
    },
    {
     "data": {
      "image/png": "[encoded data removed]",
      "text/plain": [
       "<matplotlib.figure.Figure at 0x1a9924b07b8>"
      ]
     },
     "metadata": {},
     "output_type": "display_data"
    }
   ],
   "source": [
    "#The graph of Ceiling function looks again like a step function\n",
    "y=np.linspace(-3,3,7)\n",
    "\n",
    "fig = plt.figure(figsize=(8,8))\n",
    "ax = fig.add_subplot(1, 1, 1)\n",
    "\n",
    "# Move left y-axis and bottom x-axis to center, passing through (0,0)\n",
    "ax.spines['left'].set_position('center')\n",
    "ax.spines['bottom'].set_position('center')\n",
    "\n",
    "ax.spines['right'].set_color('none')\n",
    "ax.spines['top'].set_color('none')\n",
    "\n",
    "plt.plot(b,y,'bo',mfc=\"None\",label='real data')\n",
    "plt.plot(np.ceil(b),y,'bo',label='ceiling data')\n",
    "for i in range(0,y.size):\n",
    "    plt.plot([np.ceil(b)[i],b[i]],[y[i],y[i]],'b-')\n",
    "\n",
    "plt.grid(color='lightgray',linestyle='--')\n",
    "plt.legend()\n",
    "plt.title('Ceiling Function')"
   ]
  },
  {
   "cell_type": "markdown",
   "metadata": {},
   "source": [
    "***"
   ]
  },
  {
   "cell_type": "markdown",
   "metadata": {},
   "source": [
    "[Back to the top](#Todays'-Summary)"
   ]
  },
  {
   "cell_type": "markdown",
   "metadata": {},
   "source": [
    "\n",
    "## Representing Functions\n",
    "\n",
    "Functions can be represented in different ways depending on their use. The most common ways of representing functions include:\n",
    "1. Tables\n",
    "2. Arrow diagrams\n",
    "3. Formulas\n",
    "4. Graphs\n",
    "\n",
    "So let us take a look at each one of these representations."
   ]
  },
  {
   "cell_type": "markdown",
   "metadata": {},
   "source": [
    "### Example 2: recall\n",
    "\n",
    "* Consider the function $f : X \\rightarrow Y$ with:\n",
    "\n",
    "<table style=\"width:30%\">\n",
    "  <tr>\n",
    "    <td>$X = \\{1, 2, 3\\}$ </td>\n",
    "    <td>$f(1) = a$</td> \n",
    "  </tr>\n",
    "  <tr>\n",
    "    <td>$Y = \\{a, b, c, d\\}$</td>\n",
    "    <td>$f(2) = a$</td> \n",
    "  </tr>\n",
    "  <tr>\n",
    "    <td> </td>\n",
    "    <td>$f(3) = d$</td> \n",
    "  </tr>\n",
    "</table>\n",
    "\n",
    "* Is $f$ still a **function**?\n",
    "* What is its range?"
   ]
  },
  {
   "cell_type": "markdown",
   "metadata": {},
   "source": [
    "### 1. Table representation\n",
    "\n",
    "<table style=\"width:10%\">\n",
    "  <tr>\n",
    "    <td>**$ x $** </td>\n",
    "    <td>**$f(x)$**</td> \n",
    "  </tr>\n",
    "  <tr>\n",
    "    <td>1</td>\n",
    "    <td>a</td> \n",
    "  </tr>\n",
    "  <tr>\n",
    "    <td>2</td>\n",
    "    <td>a</td> \n",
    "  </tr>\n",
    "   <tr>\n",
    "    <td>3</td>\n",
    "    <td>d</td> \n",
    "  </tr>\n",
    "</table>"
   ]
  },
  {
   "cell_type": "markdown",
   "metadata": {},
   "source": [
    "### 2. Arrow Diagrams\n",
    "\n",
    "<table style=\"width:10%\">\n",
    "  <tr>\n",
    "    <td>**$ x $** </td>\n",
    "    <td>**$f(x)$**</td> \n",
    "  </tr>\n",
    "  <tr>\n",
    "    <td>1</td>\n",
    "    <td>a</td> \n",
    "  </tr>\n",
    "  <tr>\n",
    "    <td>2</td>\n",
    "    <td>a</td> \n",
    "  </tr>\n",
    "   <tr>\n",
    "    <td>3</td>\n",
    "    <td>d</td> \n",
    "  </tr>\n",
    "</table>"
   ]
  },
  {
   "cell_type": "markdown",
   "metadata": {},
   "source": [
    "### 3. Formulas\n",
    "\n",
    "* If the domain of our function $f$ is large, it is convenient and more practical to specify $f$ with a formula, e.g.:\n",
    "$$ f : \\mathbb{R} \\rightarrow \\mathbb{R} \\quad\\text{where}\\quad f(x) = x^3+1 $$ \n",
    "\n",
    "* We get the following results for specific values of $x$ from the given domain $\\mathbb{R}$ of the above function $f$\n"
   ]
  },
  {
   "cell_type": "code",
   "execution_count": 11,
   "metadata": {},
   "outputs": [
    {
     "name": "stdout",
     "output_type": "stream",
     "text": [
      "2\n",
      "28\n",
      "-26\n"
     ]
    }
   ],
   "source": [
    "# Results for the given function for specific values of the domain\n",
    "def f(x):\n",
    "    return x**3+1\n",
    "    \n",
    "print(f(1))\n",
    "print(f(3))\n",
    "print(f(-3))"
   ]
  },
  {
   "cell_type": "markdown",
   "metadata": {},
   "source": [
    "### 4. Graphs\n",
    "\n",
    "* Let $f$ be a function from set $X$ to set $Y$. \n",
    "* The **graph** of the function $f$ is the **set of ordered pairs:**\n",
    "$$ \\{(x,y) \\quad|\\quad x \\in X \\quad\\text{and}\\quad f(x) = y\\}$$.\n",
    "\n",
    "\n",
    "What follows are the graphs of two different functions. \n",
    "\n",
    "Note that it matters what is the **domain** of each function."
   ]
  },
  {
   "cell_type": "code",
   "execution_count": 12,
   "metadata": {},
   "outputs": [
    {
     "data": {
      "image/png": "[encoded data removed]",
      "text/plain": [
       "<matplotlib.figure.Figure at 0x1a9926c6cc0>"
      ]
     },
     "metadata": {},
     "output_type": "display_data"
    }
   ],
   "source": [
    "# This is the graph of f(x)=2x+1 on the set of integers\n",
    "def f(x):\n",
    "    return 2*x+1\n",
    "\n",
    "x=np.linspace(1,5,5)\n",
    "fig = plt.figure(figsize=(8,5))\n",
    "ax = fig.add_subplot(1, 1, 1)\n",
    "\n",
    "ax.spines['right'].set_color('none')\n",
    "ax.spines['top'].set_color('none')\n",
    "plt.plot(x,f(x),'bo')\n",
    "plt.grid(color='lightgray',linestyle='--')"
   ]
  },
  {
   "cell_type": "code",
   "execution_count": 13,
   "metadata": {},
   "outputs": [
    {
     "data": {
      "image/png": "[encoded data removed]",
      "text/plain": [
       "<matplotlib.figure.Figure at 0x1a992951da0>"
      ]
     },
     "metadata": {},
     "output_type": "display_data"
    }
   ],
   "source": [
    "# This is the graph of f(x)=x^2 on the set of integers\n",
    "def f(x):\n",
    "    return x**2\n",
    "\n",
    "x=np.linspace(-3,3,7)\n",
    "fig = plt.figure(figsize=(8,5))\n",
    "ax = fig.add_subplot(1, 1, 1)\n",
    "\n",
    "# Move left y-axis and bottom x-axis to center, passing through (0,0)\n",
    "ax.spines['left'].set_position('center')\n",
    "\n",
    "ax.spines['right'].set_color('none')\n",
    "ax.spines['top'].set_color('none')\n",
    "\n",
    "plt.plot(x,f(x),'bo')\n",
    "plt.grid(color='lightgray',linestyle='--')"
   ]
  },
  {
   "cell_type": "markdown",
   "metadata": {},
   "source": [
    "[Back to the top](#Todays'-Summary)"
   ]
  },
  {
   "cell_type": "markdown",
   "metadata": {},
   "source": [
    "***\n",
    "## Properties of Functions"
   ]
  },
  {
   "cell_type": "markdown",
   "metadata": {},
   "source": [
    "### One-to-one or  Injective Function\n",
    "\n",
    "* A function $f : X \\rightarrow Y$ is called **one-to-one function (or injective)** if no member of $Y$ is assigned to more than one member of $X$:\n",
    "$$ \\forall x_1 \\ \\forall x_2 \\quad ( (f(x_1) = f(x_2) ) \\rightarrow (x_1 = x_2)$$\n",
    "\n",
    "\n",
    "* Note: If $f : X \\rightarrow Y$ is one-to-one and $X$,$Y$ are **finite**, then $|X| \\le |Y|$.\n",
    "\n",
    "\n",
    "* How to prove? \n",
    "    * Algebraically: iff  $x \\ne y$ then $f(x) \\ne f(y)$ (contrapositive)\n",
    "    * Graphically: Horizontal line test\n",
    "    * Not 1-1: if $ \\exists x_1 ≠ x_2$ so that $f(x_1) = f(x_2)$\n",
    "***"
   ]
  },
  {
   "cell_type": "markdown",
   "metadata": {
    "collapsed": true
   },
   "source": [
    "### Onto or Surjective Function\n",
    "* A function $f : X \\rightarrow Y$ is called ** onto function (or surjective)** if the range of the function *equals* $Y$, i.e. every element of $Y$ appears as the image of some element from $X$.\n",
    "$$ \\forall y \\in Y \\quad \\exists x\\in X  \\quad ( f(x) = y)$$\n",
    "\n",
    "* Note: If $X, Y$ are finite sets, then for an onto function $f : X \\rightarrow Y$ to exist we must have $|X| \\ge |Y|$.\n",
    "\n",
    "          \n",
    "* How to prove? \n",
    "    * Use the above definition (a direct proof).\n",
    "    * Not onto? $\\exists y \\in Y \\quad \\forall x \\in X \\quad (f(x) \\ne y)$\n",
    "***"
   ]
  },
  {
   "cell_type": "markdown",
   "metadata": {
    "collapsed": true
   },
   "source": [
    "### Bijection: One-to-one & Onto\n",
    "\n",
    "* A function which is **both** one-to-one and onto is called a **bijection** (or one-to-one correspondence). \n",
    "\n",
    "\n",
    "* **Example**: Which of the following functions (if any) defined below  are bijections? Note that for both of them $f : \\mathbb{Z} \\rightarrow \\mathbb{Z}$.\n",
    "\t 1. $f(x) = x+1$ \n",
    "\t 2. $f(x) = x^2$"
   ]
  },
  {
   "cell_type": "markdown",
   "metadata": {},
   "source": [
    "***\n",
    "### Identity\n",
    "* The function $f : X \\rightarrow X$ such that: \n",
    "$$f = \\{(x, x) \\quad |\\quad x \\in X\\}$$ \n",
    "\n",
    "  is called the **identity function** on $X$, and is denoted by $1_X$ (or $id_X$).\n",
    "\n",
    "Note: The identity function is a one-to-one \n",
    "correspondence.\n"
   ]
  },
  {
   "cell_type": "markdown",
   "metadata": {},
   "source": [
    "### Inverse Function\n",
    "\n",
    "* Let $f$ be a *bijection* from $X$ to $Y$. \n",
    "The **inverse** function of $f$, denoted by $f^{-1}$, is the function that assigns to an element of $y \\in Y$ the unique element $x \\in X$ such that $f(x) = y$. \n",
    "\n",
    "\n",
    "* In other words, $ f^{–1}(y) = x$.\n",
    "* Note that $f^{-1} : Y \\rightarrow X$\n",
    " \n",
    "\n",
    "* <font color='red'> Be careful </font> $f^{–1}$ has **nothing** to do with $\\frac{1}{f}$.\n"
   ]
  },
  {
   "cell_type": "markdown",
   "metadata": {},
   "source": [
    "### How to find the inverse function\n",
    "\n",
    "* Given a **bijection** $f(x)$. To find $f^{-1}(x)$ follow these three steps:\n",
    "    1. Change $f(x)$ with $y$.\n",
    "    2. Switch the $x$ and the $y$.\n",
    "    3. Solve for $y$. This *new* $y$ is $f^{-1}$."
   ]
  },
  {
   "cell_type": "markdown",
   "metadata": {},
   "source": [
    "* Find $f^{–1}$, if possible, of the following functions:\n",
    "    1. Let $f :{a,b,c} \\rightarrow {1,2,3}$ with $f = {(a,2),(b,3),(c,1)}$.\n",
    "    2. Let $f : Z \\rightarrow Z$, with $f(x)=x+1$\n",
    "    3. Let $f : Z \\rightarrow Z$, with $f(x)=x^2$\n",
    "    \n",
    "  For more details go to [Intro to Inverse Functions](https://www.khanacademy.org/math/algebra2/manipulating-functions/introduction-to-inverses-of-functions/a/intro-to-inverse-functions).\n",
    "***"
   ]
  },
  {
   "cell_type": "markdown",
   "metadata": {},
   "source": [
    "[Back to the top](#Todays'-Summary)"
   ]
  },
  {
   "cell_type": "markdown",
   "metadata": {},
   "source": [
    "## Composition of Functions\n",
    "* Given two functions $f :X \\rightarrow Y$ and $g :Y \\rightarrow Z$, we may form a new function from $X$ to $Z$, called the **composition of $f$ and $g$** by:\n",
    "\n",
    "\n",
    "$$ (g \\circ f )(x) = g(f(x)) \\quad \\text{for all} \\quad x \\in X $$\n",
    "\n",
    "\n",
    "* **Remark 1:** The **range** of $f$ must be a **subset of the domain** of $g$.\n",
    "* **Remark 2:** We can **not** always find **both** $g \\circ f$ and $f \\circ g$.\n",
    "* **Remark 3:** If we CAN find both, it does **NOT** mean that $g \\circ f = f \\circ g$."
   ]
  },
  {
   "cell_type": "markdown",
   "metadata": {},
   "source": [
    "### Composition Example 1:\n",
    "With this example we will examine the three remarks previously stated.\n",
    "\n",
    "Let us define two functions $f$ and $g$ as follows:\n",
    "\n",
    "$f = {(a,3),(b,2),(c,1)}$ and $g = {(a,b),(b,c),(c,a)}$.\n",
    "* $g \\circ f =\\text{is not defined (Why?)}$\n",
    "* $f \\circ g = \\{(a,2),(b,1),(c,3)\\}$"
   ]
  },
  {
   "cell_type": "markdown",
   "metadata": {},
   "source": [
    "### Composition Example 2:\n",
    "Find the composition $f \\circ g$ and $g \\circ f$ when given the real valued functions $$f(x)=x^2 \\quad \\mbox{and} \\quad g(x)=x+1$$"
   ]
  },
  {
   "cell_type": "code",
   "execution_count": 14,
   "metadata": {},
   "outputs": [
    {
     "name": "stdout",
     "output_type": "stream",
     "text": [
      "f o g = 12 but g o f = 11\n"
     ]
    }
   ],
   "source": [
    "# Define the function comp which takes two functions as arguments (f and g) and returns a function representing \n",
    "# their composition:\n",
    "def comp(f, g):\n",
    "    return lambda x: f(g(x))\n",
    "\n",
    "# Define f(x)\n",
    "def f(x):\n",
    "    return 2*x\n",
    "#print(f(5))\n",
    "\n",
    "#Define g(x)\n",
    "def g(x):\n",
    "    return x + 1\n",
    "#print(g(5))\n",
    "\n",
    "c1 = comp(f, g) # Composing fog for x=5; fog(x)=2(x+1)\n",
    "c2 = comp(g,f)  # Composing gof for x=5; gof(x)=2x+1\n",
    "print('f o g =', c1(5),'but', 'g o f =', c2(5))\n",
    "#Can you verify this??"
   ]
  },
  {
   "cell_type": "markdown",
   "metadata": {},
   "source": [
    "### Composition Example 3:\n",
    "Find the composition of the three functions $f \\circ g \\circ h$ when given the real valued functions \n",
    "$f(x)=x^2$, $g(x)=x+1$ and $h(x)=2x$."
   ]
  },
  {
   "cell_type": "code",
   "execution_count": 15,
   "metadata": {},
   "outputs": [
    {
     "name": "stdout",
     "output_type": "stream",
     "text": [
      "52\n"
     ]
    }
   ],
   "source": [
    "# Define h(x)=x^2 (The other two functions a same as in Example 2 so we do not need to define them again)\n",
    "def h(x):\n",
    "    return x*x \n",
    "#print(h(4))\n",
    "\n",
    "# Call the function for x=5; fogoh(x)=2(x^2+1)\n",
    "c3 = comp(comp(f, g), h)\n",
    "print(c3(5))"
   ]
  },
  {
   "cell_type": "markdown",
   "metadata": {},
   "source": [
    "### Facts about Composition of Functions\n",
    "* For any $f :X \\rightarrow Y$, we have that:\n",
    "  $$f \\circ 1_X = f \\quad \\text{and} \\quad 1_Y \\circ f = f$$\n",
    "\n",
    "\n",
    "* Also  $$f^{–1} \\circ f = 1_x \\quad \\text{and} \\quad f \\circ f^{–1} = 1_Y$$\n",
    "\n",
    "  This is a way to check the validity of an inverse function.\n",
    "\n",
    "\n",
    "* For any $f :X \\rightarrow X$, we define $f^1 = f$ and for $n \\in \\mathbb{Z}$, $\\ f^{n+1} = f \\circ (f^n)$.\n",
    "\n",
    "\n",
    "\n",
    "* Example: \n",
    "    * Let $f : \\mathbb{Z} \\rightarrow \\mathbb{Z}$, $f(x) = 2x+3$. Find $f^2, f^3$.\n",
    "    * Let $f = \\{(1,2),(2,3)(3,1)\\}$. Find $f^4$.\n"
   ]
  },
  {
   "cell_type": "markdown",
   "metadata": {
    "collapsed": true
   },
   "source": [
    "[Back to the top](#Todays'-Summary)"
   ]
  },
  {
   "cell_type": "code",
   "execution_count": null,
   "metadata": {
    "collapsed": true
   },
   "outputs": [],
   "source": []
  }
 ],
 "metadata": {
  "kernelspec": {
   "display_name": "Python 3",
   "language": "python",
   "name": "python3"
  },
  "language_info": {
   "codemirror_mode": {
    "name": "ipython",
    "version": 3
   },
   "file_extension": ".py",
   "mimetype": "text/x-python",
   "name": "python",
   "nbconvert_exporter": "python",
   "pygments_lexer": "ipython3",
   "version": "3.6.3"
  }
 },
 "nbformat": 4,
 "nbformat_minor": 2
}
