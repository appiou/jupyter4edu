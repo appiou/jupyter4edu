{
 "cells": [
  {
   "cell_type": "markdown",
   "metadata": {},
   "source": [
    "## Fundamental concepts: Data Types; primitive types; using variables \n",
    "\n",
    " - primitive type `short`\n",
    "\n",
    "The short data type is a 16-bit signed two's complement integer. It has a minimum value of -32,768 and a maximum value of 32,767 (inclusive).\n",
    "\n",
    "Declaring a variable of type `short`:\n",
    "\n",
    "```java\n",
    "short number1; \n",
    "```\n"
   ]
  },
  {
   "cell_type": "code",
   "execution_count": null,
   "metadata": {
    "collapsed": true
   },
   "outputs": [],
   "source": []
  },
  {
   "cell_type": "code",
   "execution_count": 1,
   "metadata": {
    "collapsed": false
   },
   "outputs": [
    {
     "name": "stdout",
     "output_type": "stream",
     "text": [
      "the value of number1  = -32000\n",
      "the value of number2  = 5000\n"
     ]
    }
   ],
   "source": [
    "// Fundamental concepts: Data Types; primitive types; using variables \n",
    "// primitive type short\n",
    "// The short data type is a 16-bit signed two's complement integer. It has a minimum value of -32,768 and a maximum value of 32,767 (inclusive)\n",
    "short number1; // declaring a variable of type short\n",
    "number1= -32000; // assigning a short value to variable number1\n",
    "\n",
    "short number2; // declaring another variable of type short\n",
    "number2 = 5000; // assigning a short value to variable number2\n",
    "System.out.println(\"the value of number1  = \" +number1);\n",
    "System.out.println(\"the value of number2  = \" +number2);"
   ]
  },
  {
   "cell_type": "code",
   "execution_count": 2,
   "metadata": {
    "collapsed": false
   },
   "outputs": [
    {
     "name": "stdout",
     "output_type": "stream",
     "text": [
      "the value of number1  = 100000000\n",
      "the sum of number1 + number 2 = 100000005\n"
     ]
    }
   ],
   "source": [
    "// primitive type int\n",
    "// By default, the int data type is a 32-bit signed two's complement integer, values from -2^31 to 2^31-1.\n",
    "int number1; // declaring a variable of type int\n",
    "number1= 100000000; // assigning an integer value to variable number1\n",
    "System.out.println(\"the value of number1  = \" +number1);\n",
    "int number2; // declaring another variable of type int\n",
    "number2 = 5; // assigning an integer value to variable number2\n",
    "int sum; // sum of number1+number2\n",
    "sum = number1 + number2;\n",
    "System.out.println(\"the sum of number1 + number 2 = \" +sum);"
   ]
  },
  {
   "cell_type": "code",
   "execution_count": null,
   "metadata": {
    "collapsed": false
   },
   "outputs": [],
   "source": []
  },
  {
   "cell_type": "code",
   "execution_count": null,
   "metadata": {
    "collapsed": true
   },
   "outputs": [],
   "source": []
  }
 ],
 "metadata": {
  "kernelspec": {
   "display_name": "Java",
   "language": "java",
   "name": "java"
  },
  "language_info": {
   "codemirror_mode": "java",
   "file_extension": ".java",
   "mimetype": "text/x-java-source",
   "name": "Java",
   "pygments_lexer": "java",
   "version": "9.0.4+11"
  }
 },
 "nbformat": 4,
 "nbformat_minor": 1
}
