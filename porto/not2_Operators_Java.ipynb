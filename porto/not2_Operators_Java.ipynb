{
 "cells": [
  {
   "cell_type": "code",
   "execution_count": null,
   "metadata": {
    "collapsed": false
   },
   "outputs": [],
   "source": [
    "// Operators and expressions\n",
    "//Arithmetic Operators\n",
    "int number1 = 10;\n",
    "int number2 = 300;\n",
    "int number3 = 150;\n",
    "// + (Addition)\n",
    "// number1 + number2 = 310\n",
    "System.out.println(number1+number2);\n",
    "// - (Subtraction)\n",
    "// number2 - number3 = 150\n",
    "System.out.println(number2 - number3);\n",
    "// * (Multiplication)\n",
    "// number1 * 2 = 20\n",
    "System.out.println(number1*2);\n",
    "// / (Division)\n",
    "// number2/2 = 150\n",
    "System.out.println(number2/2);\n",
    "// % (Modulus)\n",
    "// Divides left-hand operand by right-hand operand and returns remainder\n",
    "// number2 % number3 gives 0\n",
    "System.out.println(number2 % number3);\n",
    "// ++ (Increment) - Increases the value of operand by 1\n",
    "// number1 ++  or ++ number1 \n",
    "System.out.println(++number1);\n",
    "// -- (Decrement) - Decreases the value of operand by 1\n",
    "// number1 --  or -- number1 \n",
    "System.out.println(--number1);"
   ]
  }
 ],
 "metadata": {
  "kernelspec": {
   "display_name": "Java",
   "language": "java",
   "name": "java"
  },
  "language_info": {
   "codemirror_mode": "java",
   "file_extension": ".java",
   "mimetype": "text/x-java-source",
   "name": "Java",
   "pygments_lexer": "java",
   "version": "9.0.4+11"
  }
 },
 "nbformat": 4,
 "nbformat_minor": 1
}
