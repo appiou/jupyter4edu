{
 "cells": [
  {
   "cell_type": "code",
   "execution_count": null,
   "metadata": {
    "collapsed": false
   },
   "outputs": [],
   "source": [
    "// Cycles: DO-FOR, for repetition\n",
    "// vary the control variable from 1 to 10 in increments of 1\n",
    "for (int i =1; i <= 10;i ++)\n",
    "    System.out.println (i);"
   ]
  },
  {
   "cell_type": "code",
   "execution_count": null,
   "metadata": {
    "collapsed": false
   },
   "outputs": [],
   "source": [
    "// vary the control variable from 0 to 100 in increments of 2\n",
    "for  (int i =0; i <= 100;i += 2)\n",
    "    System.out.println (i);"
   ]
  },
  {
   "cell_type": "code",
   "execution_count": null,
   "metadata": {
    "collapsed": false
   },
   "outputs": [],
   "source": [
    "// vary the control variable from 100 to 1 in decrements of 1\n",
    "for  (int i =100; i >0;i --)\n",
    "    System.out.println (i);"
   ]
  },
  {
   "cell_type": "code",
   "execution_count": null,
   "metadata": {
    "collapsed": false
   },
   "outputs": [],
   "source": [
    "// vary the control variable from 7 to 77 in increments of 7\n",
    "for  (int i =7; i <= 77; i += 7)\n",
    "    System.out.println (i);"
   ]
  },
  {
   "cell_type": "code",
   "execution_count": null,
   "metadata": {
    "collapsed": false
   },
   "outputs": [],
   "source": [
    "// vary the control variable from 20 to 2 in decrements of 2\n",
    "for  (int i =20; i >=2;i -= 2)\n",
    "    System.out.println (i);"
   ]
  },
  {
   "cell_type": "code",
   "execution_count": null,
   "metadata": {
    "collapsed": false
   },
   "outputs": [],
   "source": [
    "// vary the control variable over the values 2,5,8,11,14,17,20\n",
    "for  (int i =2; i <=20;i += 3)\n",
    "    System.out.println (i);"
   ]
  },
  {
   "cell_type": "code",
   "execution_count": null,
   "metadata": {
    "collapsed": false
   },
   "outputs": [],
   "source": [
    "// summing even integers from 2 trough 20\n",
    "int total = 0; // initialize total\n",
    "for  (int i =2; i <= 20;i += 2)\n",
    "    {total = total +i;}\n",
    "System.out.println (total);"
   ]
  },
  {
   "cell_type": "code",
   "execution_count": null,
   "metadata": {
    "collapsed": false
   },
   "outputs": [],
   "source": [
    "// printing the even numbers from 10 to 30 - version 1\n",
    "for  (int i =10; i <=30;i ++)\n",
    "   { if ((i % 2)== 0)\n",
    "        System.out.println (i + \" is even\");}"
   ]
  },
  {
   "cell_type": "code",
   "execution_count": null,
   "metadata": {
    "collapsed": false
   },
   "outputs": [],
   "source": [
    "// printing the even numbers from 10 to 30 - version 2\n",
    "for  (int i =10; i <=30;i +=2)\n",
    "   { System.out.println (i + \" is even\");}"
   ]
  },
  {
   "cell_type": "code",
   "execution_count": null,
   "metadata": {
    "collapsed": false
   },
   "outputs": [],
   "source": [
    "// example with nested for\n",
    "for (int a=1; a<=4; a++)\n",
    "{\n",
    "    for (int b= 1;b<=4; b++)\n",
    "    {\n",
    "        for (int c=1;c<=4;c++)\n",
    "           { \n",
    "           System.out.print(\"@\");\n",
    "           }\n",
    "     System.out.println();\n",
    "    }\n",
    "     System.out.println();\n",
    "}"
   ]
  },
  {
   "cell_type": "code",
   "execution_count": null,
   "metadata": {
    "collapsed": true
   },
   "outputs": [],
   "source": []
  }
 ],
 "metadata": {
  "kernelspec": {
   "display_name": "Java",
   "language": "java",
   "name": "java"
  },
  "language_info": {
   "codemirror_mode": "java",
   "file_extension": ".java",
   "mimetype": "text/x-java-source",
   "name": "Java",
   "pygments_lexer": "java",
   "version": "9.0.4+11"
  }
 },
 "nbformat": 4,
 "nbformat_minor": 1
}
