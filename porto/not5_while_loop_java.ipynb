{
 "cells": [
  {
   "cell_type": "code",
   "execution_count": null,
   "metadata": {
    "collapsed": false
   },
   "outputs": [],
   "source": [
    "// Cycles: DO-WHILE, condition repetition\n",
    "int count =1;\n",
    "do\n",
    "{\n",
    "    System.out.println(count);\n",
    "    count ++;\n",
    "} while (count<=10);"
   ]
  },
  {
   "cell_type": "code",
   "execution_count": null,
   "metadata": {
    "collapsed": false
   },
   "outputs": [],
   "source": [
    "// Cycles: DO-WHILE, condition repetition - versio 2\n",
    "int count =1;\n",
    "while (count<=10)\n",
    "{\n",
    "    System.out.println(count);\n",
    "    count ++;\n",
    "} "
   ]
  },
  {
   "cell_type": "code",
   "execution_count": null,
   "metadata": {
    "collapsed": false
   },
   "outputs": [],
   "source": [
    "// summing even integers from 2 trough 20\n",
    "int total = 0; // initialize total\n",
    "int i = 2;\n",
    "while ( i <= 20)\n",
    "    {total = total +i;\n",
    "    i=i+2;}\n",
    "System.out.println (total);"
   ]
  },
  {
   "cell_type": "code",
   "execution_count": null,
   "metadata": {
    "collapsed": false
   },
   "outputs": [],
   "source": [
    "// printing the values 2,5,8,11,14,17,20\n",
    "int i=2;\n",
    "while ( i <=20)\n",
    "{\n",
    "    System.out.println (i);\n",
    "    i= i+=3;\n",
    "}"
   ]
  },
  {
   "cell_type": "code",
   "execution_count": null,
   "metadata": {
    "collapsed": false
   },
   "outputs": [],
   "source": [
    "// printing the even numbers from 10 to 30 \n",
    "int i=10;\n",
    "while (i <=30)\n",
    "   { System.out.println (i + \" is even\");\n",
    "   i=i+2;\n",
    "   }"
   ]
  }
 ],
 "metadata": {
  "kernelspec": {
   "display_name": "Java",
   "language": "java",
   "name": "java"
  },
  "language_info": {
   "codemirror_mode": "java",
   "file_extension": ".java",
   "mimetype": "text/x-java-source",
   "name": "Java",
   "pygments_lexer": "java",
   "version": "9.0.4+11"
  }
 },
 "nbformat": 4,
 "nbformat_minor": 1
}
