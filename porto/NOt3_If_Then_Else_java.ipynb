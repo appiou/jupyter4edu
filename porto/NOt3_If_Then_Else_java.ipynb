{
 "cells": [
  {
   "cell_type": "code",
   "execution_count": null,
   "metadata": {
    "collapsed": false
   },
   "outputs": [],
   "source": [
    "// IF-THEN-ELSE and Relational Operators\n",
    "// == (equal to) Checks if the values of two operands are equal or not, if yes then condition becomes true.\n",
    "int a = 10;\n",
    "int b = 5;\n",
    "// IF-THEN\n",
    "if (a==b) System.out.println (\"a equals b\");\n",
    "// IF-THEN-ELSE\n",
    "if (a==b) System.out.println (\"a equals b\");\n",
    "    else System.out.println (\"a is different from b\");\n",
    "// != (not equal to) Checks if the values of two operands are equal or not, if values are not equal then condition becomes true\n",
    "if (a!=b) System.out.println (\"a and b are different\");\n",
    "// > (greater than) Checks if the value of left operand is greater than the value of right operand, if yes then condition becomes true.\n",
    "if (a> b) System.out.println (\"a = \" + a + \" is greater than b = \"+b);\n",
    "    else System.out.println (\"a= \" + a + \" is less than b= \"+b);\n",
    "b=15;\n",
    "if (a> b) System.out.println (\"a = \" + a + \" is greater than b = \"+b);\n",
    "    else System.out.println (\"a= \" + a + \" is less than b= \"+b);\n",
    "// < (less than) Checks if the value of left operand is less than the value of right operand, if yes then condition becomes true\n",
    "if (a< b) System.out.println (\"a = \" + a + \" is less than b = \"+b);\n",
    "// >= (greater than or equal to)\n",
    "b = 10;\n",
    "if (a>= b) System.out.println (\"a = \" + a + \" is greater than or equal to b = \"+b);\n",
    "// <= (less than or equal to)\n",
    "b=20;\n",
    "if (a<= b) System.out.println (\"a = \" + a + \" is less than or equal to b = \"+b);"
   ]
  },
  {
   "cell_type": "code",
   "execution_count": null,
   "metadata": {
    "collapsed": false
   },
   "outputs": [],
   "source": [
    "// Logical Operators\n",
    "// && (logical and)  If both the operands are true, then the condition becomes true.\n",
    "int a= 10;\n",
    "int b= 10;\n",
    "if ((a==10) && (b==10)) System.out.println(\"a equals b\");\n",
    "b=5;\n",
    "if ((a==10) && (b==10)) System.out.println(\"a equals b\");\n",
    "// creates truth table for &&\n",
    "System.out.print (\"false && false= \");\n",
    "System.out.println(false && false);\n",
    "System.out.print (\"false && true= \");\n",
    "System.out.println(false && true);\n",
    "System.out.print (\"true && false= \");\n",
    "System.out.println(true && false);\n",
    "System.out.print (\"true && true= \");\n",
    "System.out.println(true && true);\n",
    "\n",
    "// || (logical or) If any of the two operands are true, then the condition becomes true.\n",
    "if ((a==10) || (b==10)) System.out.println(\"a or b equals 10\");\n",
    "b=5;\n",
    "if ((a==10) || (b==10)) System.out.println(\"a or b equals 10\");\n",
    "// creates truth table for ||\n",
    "System.out.print (\"false || false= \");\n",
    "System.out.println(false || false);\n",
    "System.out.print (\"false || true= \");\n",
    "System.out.println(false || true);\n",
    "System.out.print (\"true || false= \");\n",
    "System.out.println(true || false);\n",
    "System.out.print (\"true || true= \");\n",
    "System.out.println(true || true);\n",
    "\n",
    "// ! (logical not) If a condition is true then Logical NOT operator will make false.\n",
    "a=5;\n",
    "if (!(a==10)) System.out.println(\"a is not equal to 10\");"
   ]
  },
  {
   "cell_type": "code",
   "execution_count": null,
   "metadata": {
    "collapsed": true
   },
   "outputs": [],
   "source": []
  }
 ],
 "metadata": {
  "kernelspec": {
   "display_name": "Java",
   "language": "java",
   "name": "java"
  },
  "language_info": {
   "codemirror_mode": "java",
   "file_extension": ".java",
   "mimetype": "text/x-java-source",
   "name": "Java",
   "pygments_lexer": "java",
   "version": "9.0.4+11"
  }
 },
 "nbformat": 4,
 "nbformat_minor": 1
}
