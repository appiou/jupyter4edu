{
 "cells": [
  {
   "cell_type": "markdown",
   "metadata": {},
   "source": [
    "# Symbolic computation with polynomials"
   ]
  },
  {
   "cell_type": "markdown",
   "metadata": {},
   "source": [
    "## The `setdefault` method of dictionaries\n",
    "\n",
    "Sometimes, one needs to change the value of an entry in a dictionary and would ran into problems if the corresponding key does not yet exist. By way of example, let us imagine that the entry is a list to which another value should be added. The following code would work without problems: "
   ]
  },
  {
   "cell_type": "code",
   "execution_count": null,
   "metadata": {},
   "outputs": [],
   "source": [
    "d = {1: ['A'], 2: []}\n",
    "d[1].append('B')\n",
    "d[2].append('X')\n",
    "print(d)"
   ]
  },
  {
   "cell_type": "markdown",
   "metadata": {},
   "source": [
    "The situation is different, if the key does not yet exist:"
   ]
  },
  {
   "cell_type": "code",
   "execution_count": null,
   "metadata": {},
   "outputs": [],
   "source": [
    "d = {}\n",
    "d[1].append('A')"
   ]
  },
  {
   "cell_type": "markdown",
   "metadata": {},
   "source": [
    "A possible solution could be as follows:"
   ]
  },
  {
   "cell_type": "code",
   "execution_count": null,
   "metadata": {},
   "outputs": [],
   "source": [
    "d = {}\n",
    "newvalue = 'A'\n",
    "try:\n",
    "    d[1].append(newvalue)\n",
    "except KeyError:\n",
    "    d[1] = [newvalue]\n",
    "print(d)"
   ]
  },
  {
   "cell_type": "markdown",
   "metadata": {},
   "source": [
    "Modify the initial dictionary to make sure that the solution works also if there exits already a list as value for the key `1`.\n",
    "\n",
    "While this solution works fine, there exists a more elegant one. Each dictionary possesses a `setdefault` method which returns the value if the key exists. Otherwise it returns a default value specified as second argument of the `setdefault` call. The first argument specifies the key. The code in the previous cell could thus be replaced by "
   ]
  },
  {
   "cell_type": "code",
   "execution_count": null,
   "metadata": {},
   "outputs": [],
   "source": [
    "d = {}\n",
    "newvalue = 'A'\n",
    "d.setdefault(1, []).append(newvalue)\n",
    "print(d)\n",
    "newvalue = 'B'\n",
    "d.setdefault(1, []).append(newvalue)\n",
    "print(d)"
   ]
  },
  {
   "cell_type": "markdown",
   "metadata": {},
   "source": [
    "In the exercise, you will have to transfer this solution to the problem of adding a value to a potentially already existing value in the dictionary."
   ]
  }
 ],
 "metadata": {
  "kernelspec": {
   "display_name": "Python 3",
   "language": "python",
   "name": "python3"
  },
  "language_info": {
   "codemirror_mode": {
    "name": "ipython",
    "version": 3
   },
   "file_extension": ".py",
   "mimetype": "text/x-python",
   "name": "python",
   "nbconvert_exporter": "python",
   "pygments_lexer": "ipython3",
   "version": "3.6.4"
  }
 },
 "nbformat": 4,
 "nbformat_minor": 2
}
