{
 "cells": [
  {
   "cell_type": "markdown",
   "metadata": {},
   "source": [
    "# Symbolic computation with polynomials"
   ]
  },
  {
   "cell_type": "markdown",
   "metadata": {},
   "source": [
    "Python not only allows for numerical computations but also allows to carry out symbolic calculations by loading the `sympy` package. In this exercise, we will try to implement on our own a very restricted functionality to do symbolic manipulations of polynomials. The main focus is to get some experience with dictionaries and not necessarily to find the best possible solution for the symbolic manipulation of polynomials.\n",
    "\n",
    "The basic idea is to represent a polynomial by means of a dictionary. For each power with a non-zero prefactor, an entry is present in dictionary with the key given by the power and the value given by the corresponding prefactor. For simplicity, we assume that the powers of the polynomial are given by integers. As an example, the polynomial\n",
    "$$3x^2+4-\\frac{6}{x}$$\n",
    "would be represented by the dictionary `{2: 3, 0: 4, -1: 6}`.\n",
    "\n",
    "The following functionality should be implemented:\n",
    "\n",
    "* addition and subtraction of two polynomials\n",
    "* multiplication of two polynomials\n",
    "* differentiation of a polynomial\n",
    "* pretty-printing of a polynomial\n",
    "\n",
    "As the division of polynomials as well as integration of a polynomial potentially lead to results outside the class of polynomial functions, we will not consider them here."
   ]
  },
  {
   "cell_type": "markdown",
   "metadata": {},
   "source": [
    "## Cleanup of a polynomial\n",
    "\n",
    "Before starting to implement the functionalities listed above, it is useful to write a utility function which cleans up a dictionary by removing entries where the coefficient is zero. In this way, one can avoid displaying irrelevant entries when printing the dictionary representing a polynomial."
   ]
  },
  {
   "cell_type": "code",
   "execution_count": 2,
   "metadata": {
    "nbgrader": {
     "grade": false,
     "grade_id": "polynomial-cleanup",
     "locked": false,
     "schema_version": 1,
     "solution": true
    }
   },
   "outputs": [],
   "source": [
    "def cleanup(p):\n",
    "    \"\"\"Remove terms with vanishing coefficient from dictionary\n",
    "    \n",
    "    \"\"\"\n",
    "    ### BEGIN SOLUTION\n",
    "    p_cleaned = dict()\n",
    "    for power in p:\n",
    "        if p[power]:\n",
    "            p_cleaned[power] = p[power]\n",
    "    return p_cleaned\n",
    "    ### END SOLUTION"
   ]
  },
  {
   "cell_type": "markdown",
   "metadata": {},
   "source": [
    "Test your implementation by executing the following cell."
   ]
  },
  {
   "cell_type": "code",
   "execution_count": 7,
   "metadata": {
    "nbgrader": {
     "grade": true,
     "grade_id": "polynomial-cleanup-test",
     "locked": true,
     "points": 2,
     "schema_version": 1,
     "solution": false
    }
   },
   "outputs": [],
   "source": [
    "result = cleanup({2: 1, 1: 0, 0: 1, -2: 0, -3:5})\n",
    "assert isinstance(result, dict), 'The result is not a dictionary.'\n",
    "assert all(result.values()), 'At least one vanishing coefficient is present.'"
   ]
  },
  {
   "cell_type": "markdown",
   "metadata": {},
   "source": [
    "## Multiplication of two polynomials"
   ]
  },
  {
   "cell_type": "markdown",
   "metadata": {},
   "source": [
    "*Hint:* It might be useful to use the `setdefault` method of dictionaries. If you need more information about this method, take a look [here](~Setdefault.ipynb)."
   ]
  },
  {
   "cell_type": "code",
   "execution_count": 19,
   "metadata": {
    "nbgrader": {
     "grade": false,
     "grade_id": "polynomial-multiplication",
     "locked": false,
     "schema_version": 1,
     "solution": true
    }
   },
   "outputs": [],
   "source": [
    "def multiply(p1, p2):\n",
    "    \"\"\"multiply polynomials p1 and p2\n",
    "    \n",
    "    \"\"\"\n",
    "    ### BEGIN SOLUTION\n",
    "    product = dict()\n",
    "    for power1 in p1:\n",
    "        for power2 in p2:\n",
    "            power = power1+power2\n",
    "            product[power] = product.setdefault(power, 0)+p1[power1]*p2[power2]\n",
    "    return cleanup(product)\n",
    "    ### END SOLUTION"
   ]
  },
  {
   "cell_type": "markdown",
   "metadata": {},
   "source": [
    "Test your code by executing the following cell."
   ]
  },
  {
   "cell_type": "code",
   "execution_count": 22,
   "metadata": {
    "nbgrader": {
     "grade": true,
     "grade_id": "polynomial-multipliation-test",
     "locked": true,
     "points": 2,
     "schema_version": 1,
     "solution": false
    }
   },
   "outputs": [],
   "source": [
    "p1 = {1: 1, 0: -1}\n",
    "p2 = {1: 1, 0: 1}\n",
    "result = multiply(p1, p2)\n",
    "assert isinstance(result, dict), 'The result is not a dictionary.'\n",
    "assert all(result.values()), 'Did you clean up the dictionary?'\n",
    "assert result == {2: 1, 0: -1}, 'The result is not correct.'"
   ]
  },
  {
   "cell_type": "markdown",
   "metadata": {},
   "source": [
    "## Addition of two polynomials\n",
    "\n",
    "*Hint:* It might be useful to make use of sets in the solution. If you need more help, take a look [here](~Sets.ipynb)."
   ]
  },
  {
   "cell_type": "code",
   "execution_count": 55,
   "metadata": {
    "nbgrader": {
     "grade": false,
     "grade_id": "polynomial-addition",
     "locked": false,
     "schema_version": 1,
     "solution": true
    }
   },
   "outputs": [],
   "source": [
    "def addition(p1, p2):\n",
    "    \"\"\"add two polynomials\n",
    "    \n",
    "    \"\"\"\n",
    "    ### BEGIN SOLUTION\n",
    "    powers = set(p1).union(set(p2))\n",
    "    result = dict()\n",
    "    for power in powers:\n",
    "        result[power] = p1.setdefault(power, 0)+p2.setdefault(power, 0)\n",
    "    return cleanup(result)\n",
    "    ### END SOLUTION"
   ]
  },
  {
   "cell_type": "markdown",
   "metadata": {},
   "source": [
    "Test your result by executing the following cell."
   ]
  },
  {
   "cell_type": "code",
   "execution_count": 60,
   "metadata": {
    "nbgrader": {
     "grade": true,
     "grade_id": "polynomial-addition-test",
     "locked": true,
     "points": 2,
     "schema_version": 1,
     "solution": false
    }
   },
   "outputs": [],
   "source": [
    "p1 = {2: 3, 1: 4, -1: 2}\n",
    "p2 = {2: 4, 1: -2, 0: 5, -1: -2}\n",
    "result = addition(p1, p2)\n",
    "assert isinstance(result, dict), 'The result is not a dictionary.'\n",
    "assert all(result.values()), 'Did you clean up the dictionary?'\n",
    "assert result == {2: 7, 1: 2, 0: 5}, 'The result is not correct.'"
   ]
  },
  {
   "cell_type": "markdown",
   "metadata": {},
   "source": [
    "## Subtraction of two polynomials\n",
    "\n",
    "*Hint:* Try to avoid as much as possible to repeat code which you have written before."
   ]
  },
  {
   "cell_type": "code",
   "execution_count": 62,
   "metadata": {
    "nbgrader": {
     "grade": false,
     "grade_id": "polynomial-subtraction",
     "locked": false,
     "schema_version": 1,
     "solution": true
    }
   },
   "outputs": [],
   "source": [
    "def subtraction(p1, p2):\n",
    "    \"\"\"substract polynomial p2 from polynomial p1\n",
    "    \n",
    "    \"\"\"\n",
    "    ### BEGIN SOLUTION\n",
    "    p2 = {k: -v for k, v in p2.items()}\n",
    "    return addition(p1, p2)\n",
    "    ### END SOLUTION"
   ]
  },
  {
   "cell_type": "markdown",
   "metadata": {},
   "source": [
    "Test your result by executing the following cell."
   ]
  },
  {
   "cell_type": "code",
   "execution_count": 68,
   "metadata": {
    "nbgrader": {
     "grade": true,
     "grade_id": "polynomial-subtraction-test",
     "locked": true,
     "points": 0,
     "schema_version": 1,
     "solution": false
    }
   },
   "outputs": [],
   "source": [
    "p1 = {2: 3, 1: 4, -1: 2}\n",
    "p2 = {2: 4, 1: -2, 0: 5, -1: -2}\n",
    "result = subtraction(p1, p2)\n",
    "assert isinstance(result, dict), 'The result is not a dictionary.'\n",
    "assert all(result.values()), 'Did you clean up the dictionary?'\n",
    "assert result == {2: -1, 1: 6, 0: -5, -1: 4}, 'The result is not correct.'"
   ]
  },
  {
   "cell_type": "markdown",
   "metadata": {},
   "source": [
    "## Differentiation of a polynomial"
   ]
  },
  {
   "cell_type": "code",
   "execution_count": 71,
   "metadata": {
    "nbgrader": {
     "grade": false,
     "grade_id": "polynomial-diff",
     "locked": false,
     "schema_version": 1,
     "solution": true
    }
   },
   "outputs": [],
   "source": [
    "def diff(p):\n",
    "    \"\"\"differentiate the polynomial p\n",
    "    \n",
    "    \"\"\"\n",
    "    ### BEGIN SOLUTION\n",
    "    result = dict()\n",
    "    for k, v in p.items():\n",
    "        if k:\n",
    "            result[k-1] = k*v\n",
    "    return result\n",
    "    ### END SOLUTION"
   ]
  },
  {
   "cell_type": "markdown",
   "metadata": {},
   "source": [
    "Test your solution by executing the following cell."
   ]
  },
  {
   "cell_type": "code",
   "execution_count": 72,
   "metadata": {
    "nbgrader": {
     "grade": true,
     "grade_id": "polynomial-diff-test",
     "locked": true,
     "points": 2,
     "schema_version": 1,
     "solution": false
    }
   },
   "outputs": [],
   "source": [
    "p = {2: 4, 1: -2, 0: 5, -1: -2}\n",
    "result = diff(p)\n",
    "assert isinstance(result, dict), 'The result is not a dictionary.'\n",
    "assert all(result.values()), 'Did you clean up the dictionary?'\n",
    "assert result == {1: 8, 0: -2, -2: 2}, 'The result is not correct.'"
   ]
  },
  {
   "cell_type": "markdown",
   "metadata": {},
   "source": [
    "## Pretty-printing of a polynomial"
   ]
  },
  {
   "cell_type": "markdown",
   "metadata": {},
   "source": [
    "In order to facilitate working with polynomials, it is useful to be able to print the polynomial in a nice way. In particular, the following points should be taken care of:\n",
    "\n",
    "* The powers should decrease from left to right.\n",
    "* Negative powers should be represented in a form like 2/x².\n",
    "* For the linear term or inversely linear term, no power should be set.\n",
    "* For the constant term, only the coefficient should be set.\n",
    "* Between the individual terms, plus or minus sign should be set as appropriate. However, there should be no plus sign in front of the leading term.\n",
    "* If the coefficient equal 1 or -1 for a positive power, only the appropriate sign should be set.\n",
    "\n",
    "In a first step, implement a function which serves to typeset the powers by superscript numbers. Find out the Unicode code points for the ten digits 0-9. An empty string should be returned if the power is one."
   ]
  },
  {
   "cell_type": "code",
   "execution_count": 76,
   "metadata": {
    "nbgrader": {
     "grade": false,
     "grade_id": "polynomial-sup-power",
     "locked": false,
     "schema_version": 1,
     "solution": true
    }
   },
   "outputs": [],
   "source": [
    "def sup_power(power):\n",
    "    \"\"\"replace the integer argument by a string consisting of superscript digits\n",
    "    \n",
    "       Return an empty string in the special case where power equals -1 or 1.\n",
    "    \"\"\"\n",
    "    ### BEGIN SOLUTION\n",
    "    if power in (-1, 1):\n",
    "        return ''\n",
    "    sup_digits = ['\\u2070', '\\u00b9', '\\u00b2', '\\u00b3', '\\u2074',\n",
    "                  '\\u2075', '\\u2076', '\\u2077', '\\u2078', '\\u2079']\n",
    "    digits = [sup_digits[n] for n in map(int, str(power))]\n",
    "    return ''.join(digits)\n",
    "    ### END SOLUTION"
   ]
  },
  {
   "cell_type": "markdown",
   "metadata": {},
   "source": [
    "As always, check your code by executing the following cell."
   ]
  },
  {
   "cell_type": "code",
   "execution_count": 79,
   "metadata": {
    "nbgrader": {
     "grade": true,
     "grade_id": "polynomial-sup-power-test",
     "locked": true,
     "points": 2,
     "schema_version": 1,
     "solution": false
    }
   },
   "outputs": [],
   "source": [
    "result = sup_power(1)\n",
    "assert isinstance(result, str), 'The result should be a string.'\n",
    "assert result == '', 'The string should be empty if the power equals 1.'\n",
    "result = sup_power(1357902468)\n",
    "assert isinstance(result, str), 'The result should be a string.'\n",
    "assert result == '¹³⁵⁷⁹⁰²⁴⁶⁸', 'Check the resulting string. It is not correct.'"
   ]
  },
  {
   "cell_type": "markdown",
   "metadata": {},
   "source": [
    "Now, we are ready to tackle the last part and develop a function to prettyprint a polynomial.\n",
    "Afterwards, go ahead and play around with the various functions."
   ]
  },
  {
   "cell_type": "code",
   "execution_count": 103,
   "metadata": {
    "nbgrader": {
     "grade": false,
     "grade_id": "polynomial-pprint",
     "locked": false,
     "schema_version": 1,
     "solution": true
    }
   },
   "outputs": [],
   "source": [
    "def pprint(p):\n",
    "    \"\"\"convert the polynomial into a pretty string representation\n",
    "    \n",
    "       To be on the safe side, a clean up of the polynomial should\n",
    "       be done first.\n",
    "    \"\"\"\n",
    "    p = cleanup(p)\n",
    "    powers = list(p.keys())\n",
    "    powers.sort()\n",
    "    powers.reverse()\n",
    "    pstring = ''\n",
    "    for power in powers:\n",
    "        if pstring == '':\n",
    "            coeff = str(p[power])\n",
    "        else:\n",
    "            coeff = '{:+}'.format(p[power])\n",
    "        if power > 0:\n",
    "            xpower = 'x{}'.format(sup_power(power))\n",
    "            if abs(p[power]) == 1:\n",
    "                coeff = coeff[:-1]\n",
    "        elif power < 0:\n",
    "            xpower = '/x{}'.format(sup_power(-power))\n",
    "        else:\n",
    "            xpower = ''\n",
    "        pstring = ''.join([pstring, coeff, xpower])\n",
    "    return pstring"
   ]
  },
  {
   "cell_type": "markdown",
   "metadata": {},
   "source": [
    "Check the correctness of your code by evaluating the following cell."
   ]
  },
  {
   "cell_type": "code",
   "execution_count": 108,
   "metadata": {
    "nbgrader": {
     "grade": true,
     "grade_id": "polynomial-pprint-test",
     "locked": true,
     "points": 2,
     "schema_version": 1,
     "solution": false
    }
   },
   "outputs": [],
   "source": [
    "assert 'x' not in pprint({0: 2}), 'There should be no x present for a constant polynomial'\n",
    "assert '/' in pprint({-1: 3}), 'Inverse powers should be represented by means of a slash.'\n",
    "assert '+' not in pprint({2: 3}), 'There should be no leading plus sign.'\n",
    "assert '¹' not in pprint({1: 7}), 'The power of the linear term should not be set.'\n",
    "assert '¹' not in pprint({-1: 9}), 'The power of an inversely linear term should not be set.'\n",
    "result = pprint({17: 3, 13: 0, 2: -1, 1: 1, 0: 2, -3: -1})\n",
    "assert result == '3x¹⁷-x²+x+2-1/x³', 'Check the result, it is not correct.'"
   ]
  },
  {
   "cell_type": "markdown",
   "metadata": {},
   "source": [
    "Now have some fun manipulating polynomials."
   ]
  }
 ],
 "metadata": {
  "kernelspec": {
   "display_name": "Python 3",
   "language": "python",
   "name": "python3"
  },
  "language_info": {
   "codemirror_mode": {
    "name": "ipython",
    "version": 3
   },
   "file_extension": ".py",
   "mimetype": "text/x-python",
   "name": "python",
   "nbconvert_exporter": "python",
   "pygments_lexer": "ipython3",
   "version": "3.6.4"
  }
 },
 "nbformat": 4,
 "nbformat_minor": 2
}
