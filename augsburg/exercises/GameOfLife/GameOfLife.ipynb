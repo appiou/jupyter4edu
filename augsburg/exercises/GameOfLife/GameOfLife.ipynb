{
 "cells": [
  {
   "cell_type": "markdown",
   "metadata": {},
   "source": [
    "# Game of Life"
   ]
  },
  {
   "cell_type": "markdown",
   "metadata": {},
   "source": [
    "The [game of life](https://en.wikipedia.org/wiki/Conway%27s_Game_of_Life) simulates the dynamics of some living species according to a few simple rules devised by the British mathematician [J. H. Conway](https://en.wikipedia.org/wiki/John_Horton_Conway). The dynamics unfolds on a square lattice of cells which can either be populated or unpopulated. The rules for the time evolution are as follows:\n",
    "\n",
    "1. A populated cell will become unpopulated in the next generation if it has less than two\n",
    "   populated neighbors.\n",
    "1. A populated cell will be populated in the next generation if it has two or three \n",
    "   populated neighbors.\n",
    "1. A populated cell will become unpopulated in the next generation if it has more than    \n",
    "   three populated neighbors.\n",
    "1. An unpopulated cell will become populated in the next generation if exactly three of its  \n",
    "   neighbors are populated.\n",
    "   \n",
    "These rules can be motivated by a minimum of populated neighboring cells needed for reproduction and a maximum of populated neighboring cells to avoid starvation from overpopulation. The rules can be stated in a simpler form as:\n",
    "\n",
    "A cell will be populated in the next generation if\n",
    "\n",
    "* it is presently populated and has two populated neighboring cells\n",
    "* independently of its present state, it has three populated neighboring cells\n",
    "\n",
    "In all other cases, the cell will be unpopulated in the next generation. The update from generation to generation has to be done for all cells in a single step."
   ]
  },
  {
   "cell_type": "markdown",
   "metadata": {},
   "source": [
    "In a first step, one needs to implement an update to the next generation in an efficient way. We store the present state of the population on the lattice in a Numpy array where a populated cell is denoted by 1 while an unpopulated cell is denoted by 0. A second Numpy array of the same size is generated where each entry contains the number of populated neighbors of that entry in the original array.\n",
    "\n",
    "The following hints might be useful:\n",
    "\n",
    "* The number of (populated or unpopulated) neighbors is 8.\n",
    "* Use periodic boundary condition when determining the number of neighbors.\n",
    "* A test for equality can be performed on a complete array, resulting in a Boolean array.\n",
    "* Boolean `and` and `or` can be performed on whole arrays by means of `&` and `|`, \n",
    "  respectively.\n",
    "* Avoid creating new arrays as this is expensive in compute time."
   ]
  },
  {
   "cell_type": "markdown",
   "metadata": {},
   "source": [
    "### Number of populated neighboring cells"
   ]
  },
  {
   "cell_type": "markdown",
   "metadata": {},
   "source": [
    "In order to determine how may of the 8 neighboring cells are populated, we make use of [`scipy.signal.convolve2d`](https://docs.scipy.org/doc/scipy/reference/generated/scipy.signal.convolve2d.html#scipy.signal.convolve2d) from the [Scipy library](https://docs.scipy.org/doc/scipy/reference/). Take a look at the documentation to familiarize yourself with the `convolve2d` function. If you are not familiar with the concept of convolution, take a look [here](~Convolution.ipynb).\n",
    "\n",
    "In the following, in order to avoid boundary effects, we will assume periodic boundary conditions."
   ]
  },
  {
   "cell_type": "code",
   "execution_count": 41,
   "metadata": {
    "nbgrader": {
     "grade": false,
     "grade_id": "gameoflife-update",
     "locked": false,
     "schema_version": 1,
     "solution": true
    }
   },
   "outputs": [],
   "source": [
    "# put imports here if necessary\n",
    "### BEGIN SOLUTION\n",
    "import numpy as np\n",
    "from scipy import signal\n",
    "### END SOLUTION\n",
    "\n",
    "def neighbors(world):\n",
    "    \"\"\"determine the next generation in the game of life\n",
    "    \n",
    "       The state of the population is stored in the 2d array\n",
    "       'world'. The number of neighbors is obtained by means\n",
    "       of scipy.signal.convolve2d with periodic boundary\n",
    "       conditions.\n",
    "       \n",
    "    \"\"\"\n",
    "    ### BEGIN SOLUTION\n",
    "    v = np.array([[1, 1, 1],\n",
    "                  [1, 0, 1],\n",
    "                  [1, 1, 1]])\n",
    "    return signal.convolve2d(world, v, mode='same', boundary='wrap')\n",
    "    ### END SOLUTION"
   ]
  },
  {
   "cell_type": "markdown",
   "metadata": {},
   "source": [
    "Test your solution by executing the following two cells."
   ]
  },
  {
   "cell_type": "code",
   "execution_count": 42,
   "metadata": {
    "nbgrader": {
     "grade": true,
     "grade_id": "gameoflife-neighbors-existence",
     "locked": true,
     "points": 2,
     "schema_version": 1,
     "solution": false
    }
   },
   "outputs": [],
   "source": [
    "result = update(np.zeros((10, 10), dtype=np.int8))\n",
    "assert result is not None, 'It seems that you do not return a result.'\n",
    "assert isinstance(result, np.ndarray), 'It seems that you do not return a Numpy array.'"
   ]
  },
  {
   "cell_type": "code",
   "execution_count": 47,
   "metadata": {
    "nbgrader": {
     "grade": true,
     "grade_id": "gameoflife-neighbors-correctness",
     "locked": true,
     "points": 2,
     "schema_version": 1,
     "solution": false
    }
   },
   "outputs": [],
   "source": [
    "import numpy as np\n",
    "a = np.random.randint(0, 2, (5, 5))\n",
    "result = neighbors(a)\n",
    "assert np.all(0 <= result), 'The number of neighbors cannot be negative.'\n",
    "assert np.all(result <= 8), 'The number of neighbors cannot be larger than 8.'\n",
    "for nx, ny in ((1, 1), (0, 1), (1, 0), (0, 0)):\n",
    "    msg = 'Error in element ({}, {})\\n'.format(nx, ny)\n",
    "    msg = msg+'original matrix:\\n{}\\n'.format(a)\n",
    "    msg = msg+'neighbors:\\n{}'.format(result)\n",
    "    assert result[nx, ny] == (a[nx-1, ny-1]+a[nx-1, ny]+a[nx-1, ny+1]\n",
    "                              +a[nx, ny-1]+a[nx, ny+1]\n",
    "                              +a[nx+1, ny-1]+a[nx+1, ny]+a[nx+1, ny+1]), msg\n",
    "old_convolve2d = signal.convolve2d\n",
    "del signal.convolve2d\n",
    "try:\n",
    "    neighbors(a)\n",
    "except AttributeError:\n",
    "    pass\n",
    "else:\n",
    "    raise AssertionError(\"It seems that scipy.signal.convolve2d is not used.\")\n",
    "finally:\n",
    "    signal.convolve2d = old_convolve2d\n",
    "    del old_convolve2d"
   ]
  },
  {
   "cell_type": "markdown",
   "metadata": {},
   "source": [
    "The following hints might be useful:\n",
    "\n",
    "* The number of (populated or unpopulated) neighbors is 8.\n",
    "* Use periodic boundary condition when determining the number of neighbors.\n",
    "* A test for equality can be performed on a complete array, resulting in a Boolean array.\n",
    "* Boolean `and` and `or` can be performed on whole arrays by means of `&` and `|`, \n",
    "  respectively.\n",
    "* Avoid creating new arrays as this is expensive in compute time."
   ]
  },
  {
   "cell_type": "code",
   "execution_count": null,
   "metadata": {},
   "outputs": [],
   "source": [
    "# put imports here if necessary\n",
    "### BEGIN SOLUTION\n",
    "import numpy as np\n",
    "from scipy import signal\n",
    "### END SOLUTION\n",
    "\n",
    "def update(world):\n",
    "    \"\"\"determine the next generation in the game of life\n",
    "    \n",
    "       The state of the population is stored in the 2d array\n",
    "       'world'. The number of neighbors is obtained by means\n",
    "       of scipy.signal.convolve2d with periodic boundary\n",
    "       conditions.\n",
    "       \n",
    "    \"\"\"\n",
    "    ### BEGIN SOLUTION\n",
    "    v = np.array([[1, 1, 1],\n",
    "                  [1, 0, 1],\n",
    "                  [1, 1, 1]])\n",
    "    nr_neighbors = signal.convolve2d(world, v, mode='same', boundary='wrap')\n",
    "    world = world & (nr_neighbors == 2)\n",
    "    world = world | (nr_neighbors == 3)\n",
    "    return world\n",
    "    ### END SOLUTION"
   ]
  },
  {
   "cell_type": "code",
   "execution_count": null,
   "metadata": {},
   "outputs": [],
   "source": [
    "%matplotlib notebook\n",
    "import numpy as np\n",
    "from scipy import signal\n",
    "import matplotlib.pyplot as plt\n",
    "from matplotlib.animation import FuncAnimation\n",
    "\n",
    "\n",
    "class Conway:\n",
    "    configs = {'blinker': [[1, 1, 1]],\n",
    "               'toad': [[1, 1, 1, 0],\n",
    "                        [0, 1, 1, 1]],\n",
    "               'glider': [[1, 0, 0],\n",
    "                          [0, 1, 1],\n",
    "                          [1, 1, 0]],\n",
    "               'beacon': [[0, 0, 0, 0, 0, 0],\n",
    "                          [0, 1, 1, 0, 0, 0],\n",
    "                          [0, 1, 1, 0, 0, 0],\n",
    "                          [0, 0, 0, 1, 1, 0],\n",
    "                          [0, 0, 0, 1, 1, 0],\n",
    "                          [0, 0, 0, 0, 0, 0]],\n",
    "               'pulsar': [[0, 0, 0, 0, 0, 0, 0, 0, 0, 0, 0, 0, 0, 0, 0, 0, 0],\n",
    "                          [0, 0, 0, 0, 0, 0, 0, 0, 0, 0, 0, 0, 0, 0, 0, 0, 0],\n",
    "                          [0, 0, 0, 0, 1, 1, 1, 0, 0, 0, 1, 1, 1, 0, 0, 0, 0],\n",
    "                          [0, 0, 0, 0, 0, 0, 0, 0, 0, 0, 0, 0, 0, 0, 0, 0, 0],\n",
    "                          [0, 0, 1, 0, 0, 0, 0, 1, 0, 1, 0, 0, 0, 0, 1, 0, 0],\n",
    "                          [0, 0, 1, 0, 0, 0, 0, 1, 0, 1, 0, 0, 0, 0, 1, 0, 0],\n",
    "                          [0, 0, 1, 0, 0, 0, 0, 1, 0, 1, 0, 0, 0, 0, 1, 0, 0],\n",
    "                          [0, 0, 0, 0, 1, 1, 1, 0, 0, 0, 1, 1, 1, 0, 0, 0, 0],\n",
    "                          [0, 0, 0, 0, 0, 0, 0, 0, 0, 0, 0, 0, 0, 0, 0, 0, 0],\n",
    "                          [0, 0, 0, 0, 1, 1, 1, 0, 0, 0, 1, 1, 1, 0, 0, 0, 0],\n",
    "                          [0, 0, 1, 0, 0, 0, 0, 1, 0, 1, 0, 0, 0, 0, 1, 0, 0],\n",
    "                          [0, 0, 1, 0, 0, 0, 0, 1, 0, 1, 0, 0, 0, 0, 1, 0, 0],\n",
    "                          [0, 0, 1, 0, 0, 0, 0, 1, 0, 1, 0, 0, 0, 0, 1, 0, 0],\n",
    "                          [0, 0, 0, 0, 0, 0, 0, 0, 0, 0, 0, 0, 0, 0, 0, 0, 0],\n",
    "                          [0, 0, 0, 0, 1, 1, 1, 0, 0, 0, 1, 1, 1, 0, 0, 0, 0],\n",
    "                          [0, 0, 0, 0, 0, 0, 0, 0, 0, 0, 0, 0, 0, 0, 0, 0, 0],\n",
    "                          [0, 0, 0, 0, 0, 0, 0, 0, 0, 0, 0, 0, 0, 0, 0, 0, 0]],\n",
    "               'pentadecathlon': [[0, 0, 0, 0, 0, 0, 0, 0, 0, 0, 0],\n",
    "                                  [0, 0, 0, 0, 0, 0, 0, 0, 0, 0, 0],\n",
    "                                  [0, 0, 0, 0, 0, 1, 0, 0, 0, 0, 0],\n",
    "                                  [0, 0, 0, 0, 0, 1, 0, 0, 0, 0, 0],\n",
    "                                  [0, 0, 0, 0, 1, 0, 1, 0, 0, 0, 0],\n",
    "                                  [0, 0, 0, 0, 0, 1, 0, 0, 0, 0, 0],\n",
    "                                  [0, 0, 0, 0, 0, 1, 0, 0, 0, 0, 0],\n",
    "                                  [0, 0, 0, 0, 0, 1, 0, 0, 0, 0, 0],\n",
    "                                  [0, 0, 0, 0, 0, 1, 0, 0, 0, 0, 0],\n",
    "                                  [0, 0, 0, 0, 1, 0, 1, 0, 0, 0, 0],\n",
    "                                  [0, 0, 0, 0, 0, 1, 0, 0, 0, 0, 0],\n",
    "                                  [0, 0, 0, 0, 0, 1, 0, 0, 0, 0, 0],\n",
    "                                  [0, 0, 0, 0, 0, 0, 0, 0, 0, 0, 0],\n",
    "                                  [0, 0, 0, 0, 0, 0, 0, 0, 0, 0, 0]]                               \n",
    "              }\n",
    "    \n",
    "    v = np.array([[1, 1, 1],\n",
    "                  [1, 0, 1],\n",
    "                  [1, 1, 1]])\n",
    "    \n",
    "    def __init__(self, size=100, initial=None, x0=0, y0=0):\n",
    "        self.size = size\n",
    "        self.set_initial(initial, x0, y0)\n",
    "        \n",
    "    def set_initial(self, initial, x0, y0):\n",
    "        if initial is None:\n",
    "            self.world = np.random.randint(0, 2, (self.size, self.size))\n",
    "        else:\n",
    "            try:\n",
    "                config = self.configs[initial]\n",
    "            except KeyError:\n",
    "                raise KeyError('initial configuration {} not found'.format(initial))\n",
    "            else:\n",
    "                self.world = np.zeros((self.size, self.size), dtype=np.int8)\n",
    "                self.world[x0:x0+len(config), y0:y0+len(config[0])] = config\n",
    "                \n",
    "    def updatefig(self, *args):\n",
    "        n = signal.convolve2d(self.world, self.v, mode='same', boundary='wrap')\n",
    "        self.world = self.world & (n == 2)\n",
    "        self.world = self.world | (n == 3)\n",
    "        self.im.set_array(self.world)\n",
    "        return self.im,\n",
    "    \n",
    "    def animate(self, **kwargs):\n",
    "        print(kwargs)\n",
    "        fig = plt.figure()\n",
    "        self.im = plt.imshow(self.world, animated=True)\n",
    "        self.ani = FuncAnimation(fig, self.updatefig, **kwargs)\n",
    "        plt.show()"
   ]
  },
  {
   "cell_type": "code",
   "execution_count": null,
   "metadata": {},
   "outputs": [],
   "source": [
    "c = Conway(1000, None, x0=15, y0=15)\n",
    "c.animate(interval=200)"
   ]
  },
  {
   "cell_type": "code",
   "execution_count": null,
   "metadata": {},
   "outputs": [],
   "source": []
  }
 ],
 "metadata": {
  "kernelspec": {
   "display_name": "Python 3",
   "language": "python",
   "name": "python3"
  },
  "language_info": {
   "codemirror_mode": {
    "name": "ipython",
    "version": 3
   },
   "file_extension": ".py",
   "mimetype": "text/x-python",
   "name": "python",
   "nbconvert_exporter": "python",
   "pygments_lexer": "ipython3",
   "version": "3.6.4"
  }
 },
 "nbformat": 4,
 "nbformat_minor": 2
}
