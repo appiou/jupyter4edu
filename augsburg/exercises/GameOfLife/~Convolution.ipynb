{
 "cells": [
  {
   "cell_type": "markdown",
   "metadata": {},
   "source": [
    "# Game of Life"
   ]
  },
  {
   "cell_type": "markdown",
   "metadata": {},
   "source": [
    "## Convolution"
   ]
  },
  {
   "cell_type": "markdown",
   "metadata": {},
   "source": [
    "The convolution of two functions is defined as\n",
    "$$f(x) = g(x)*h(x) = \\int\\mathrm{d}y\\,g(y)h(x-y)\\,.$$\n",
    "Discretizing the integral, one can transfer this idea to matrices. The matrix elements of the convolution of matrices $\\mathsf{B}$ and $\\mathsf{C}$ are given by\n",
    "$$\\mathsf{A}_i = \\sum_j \\mathsf{B}_j \\mathsf{C}_{i-j}\\,.$$\n",
    "\n",
    "In order to illustrate the concept, we use the `scipy.special.convolve` function which allows to perform a convolution on 1d arrays. For the 2d arrays in the game of life, we will make use of `scipy.special.convolve2d`. The following code determines a discrete derivative where each element of the new array `a` is obtained by a difference of the neighboring elements in the original array `b`. We set `mode='same'` to obtain an array of the same length. Missing elements to the left and right of the original array are set to zero. In order to understand how convolution works, take a look at the output of the following code and try to figure out how it is obtained."
   ]
  },
  {
   "cell_type": "code",
   "execution_count": null,
   "metadata": {},
   "outputs": [],
   "source": [
    "import numpy as np\n",
    "import scipy.signal\n",
    "b = np.random.randint(0, 10, 5)\n",
    "print(b)\n",
    "c = np.array([1, 0, -1])\n",
    "a = scipy.signal.convolve(b, c, mode='same')\n",
    "print(a)"
   ]
  },
  {
   "cell_type": "markdown",
   "metadata": {},
   "source": [
    "As mentioned above, elements beyond the array boundaries are set to zero by `convolve`."
   ]
  },
  {
   "cell_type": "markdown",
   "metadata": {},
   "source": [
    "There is also a two-dimensional convolution provided by `scipy.signal.convolve2d`. In the context of the game of life, it is appropriate to use `mode='same'` as in the previous one-dimensional example. `convolve2d` offers different ways to treat the boundaries, two of which are of interest to us.\n",
    "\n",
    "`boundary='fill'` will fill missing values outside the array with `fillvalue` which by default equals zero. Another choice is `boundary='wrap'` which amounts to applying periodic boundary conditions. Applied to our problem, this choice implies evolving the game of life on a toroidal lattice. In this way, boundary effects can be avoided."
   ]
  }
 ],
 "metadata": {
  "kernelspec": {
   "display_name": "Python 3",
   "language": "python",
   "name": "python3"
  },
  "language_info": {
   "codemirror_mode": {
    "name": "ipython",
    "version": 3
   },
   "file_extension": ".py",
   "mimetype": "text/x-python",
   "name": "python",
   "nbconvert_exporter": "python",
   "pygments_lexer": "ipython3",
   "version": "3.7.3"
  }
 },
 "nbformat": 4,
 "nbformat_minor": 2
}
