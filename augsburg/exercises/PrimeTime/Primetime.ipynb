{
 "cells": [
  {
   "cell_type": "markdown",
   "metadata": {},
   "source": [
    "# Prime times"
   ]
  },
  {
   "cell_type": "markdown",
   "metadata": {},
   "source": [
    "Determine the number of primes which can be interpreted as time. For primes with less than four digits, an appropriate number of zeros shall be prepended. Valid primes in this sense are for example 811 which can be interpreted as 8h11 and 2027 corresponding to 20h27. 1193, on the other hand can not be interpreted as time.\n",
    "\n",
    "In order to determine all primes in the relevant range of numbers, implement the [sieve of Eratosthenes](https://en.wikipedia.org/wiki/Sieve_of_Eratosthenes)."
   ]
  },
  {
   "cell_type": "markdown",
   "metadata": {},
   "source": [
    "You are invited to solve this problem on your own. However, if you would like some guidance, feel free to take a look here:\n",
    "\n",
    "* [Two steps towards prime times](~TwoStepsToPrimeTimes.ipynb)"
   ]
  },
  {
   "cell_type": "code",
   "execution_count": 9,
   "metadata": {
    "nbgrader": {
     "grade": false,
     "grade_id": "prime-times",
     "locked": false,
     "schema_version": 1,
     "solution": true
    }
   },
   "outputs": [],
   "source": [
    "# put imports and additional function definitions here, if needed\n",
    "### BEGIN SOLUTION\n",
    "from math import sqrt\n",
    "\n",
    "def prime_list(maximum):\n",
    "    if maximum < 2:\n",
    "        raise ValueError('maximum should be at least 2')\n",
    "    candidates = [False, False]+[True]*(maximum-1)\n",
    "    maxcandidate = int(sqrt(maximum)+0.5)\n",
    "    candidate = candidates.index(True)\n",
    "    while candidate <= maxcandidate:\n",
    "        for multiple in range(candidate**2, maximum+1, candidate):\n",
    "            candidates[multiple] = False\n",
    "        offset = candidate+1\n",
    "        candidate = candidates[offset:].index(True)+offset\n",
    "    primelist = [nr for nr, isprime in enumerate(candidates) if isprime]\n",
    "    return primelist\n",
    "\n",
    "def is_time(n):\n",
    "    hours, minutes = divmod(n, 100)\n",
    "    return 0 <= hours <= 23 and 0 <= minutes <= 59\n",
    "### END SOLUTION\n",
    "\n",
    "def prime_times():\n",
    "    \"\"\"determine how many prime numbers can be interpreted as time\n",
    "    \n",
    "    \"\"\"\n",
    "    ### BEGIN SOLUTION\n",
    "    return sum(map(is_time, prime_list(2359)))\n",
    "    ### END SOLUTION"
   ]
  },
  {
   "cell_type": "markdown",
   "metadata": {},
   "source": [
    "Test your code by executing the following cell."
   ]
  },
  {
   "cell_type": "code",
   "execution_count": 13,
   "metadata": {
    "nbgrader": {
     "grade": true,
     "grade_id": "test-correctness",
     "locked": true,
     "points": 4,
     "schema_version": 1,
     "solution": false
    }
   },
   "outputs": [],
   "source": [
    "result = prime_times()\n",
    "assert not (1000-result) % 3, 'Unfortunately, your result is not correct.'\n",
    "assert (1000-result)//3-result == 52, 'Unfortunately, your result is not correct.'"
   ]
  }
 ],
 "metadata": {
  "kernelspec": {
   "display_name": "Python 3",
   "language": "python",
   "name": "python3"
  },
  "language_info": {
   "codemirror_mode": {
    "name": "ipython",
    "version": 3
   },
   "file_extension": ".py",
   "mimetype": "text/x-python",
   "name": "python",
   "nbconvert_exporter": "python",
   "pygments_lexer": "ipython3",
   "version": "3.6.4"
  }
 },
 "nbformat": 4,
 "nbformat_minor": 2
}
