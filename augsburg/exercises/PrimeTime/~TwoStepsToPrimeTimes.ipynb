{
 "cells": [
  {
   "cell_type": "markdown",
   "metadata": {},
   "source": [
    "# Prime times"
   ]
  },
  {
   "cell_type": "markdown",
   "metadata": {},
   "source": [
    "## Two steps towards prime times"
   ]
  },
  {
   "cell_type": "markdown",
   "metadata": {},
   "source": [
    "In order to solve the problem, it might be appropriate to first develop two functions with the following functionality:\n",
    "\n",
    "* [check whether an integer represents a valid time](~ValidTimes.ipynb)\n",
    "* [create a list of prime numbers up to a given maximum by means of the sieve of Eratosthenes](~SieveOfEratosthenes.ipynb)\n",
    "\n",
    "Before getting more help by clicking on the above links, you might first want to try to solve at least one of the two problems on your own. You can still follow the links if you are stuck. "
   ]
  }
 ],
 "metadata": {
  "kernelspec": {
   "display_name": "Python 3",
   "language": "python",
   "name": "python3"
  },
  "language_info": {
   "codemirror_mode": {
    "name": "ipython",
    "version": 3
   },
   "file_extension": ".py",
   "mimetype": "text/x-python",
   "name": "python",
   "nbconvert_exporter": "python",
   "pygments_lexer": "ipython3",
   "version": "3.6.4"
  }
 },
 "nbformat": 4,
 "nbformat_minor": 2
}
