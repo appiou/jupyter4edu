{
 "cells": [
  {
   "cell_type": "markdown",
   "metadata": {},
   "source": [
    "# Prime times"
   ]
  },
  {
   "cell_type": "markdown",
   "metadata": {},
   "source": [
    "## Sieve of Eratosthenes"
   ]
  },
  {
   "cell_type": "markdown",
   "metadata": {},
   "source": [
    "We will give a brief introduction to the [sieve of Eratosthenes](https://en.wikipedia.org/wiki/Sieve_of_Eratosthenes) which allows to efficiently generate a list of prime numbers. In our example, we set the maximum value in the list to `49`. Of course, `49` is not a prime number and thus will not be a member of the final list."
   ]
  },
  {
   "cell_type": "markdown",
   "metadata": {},
   "source": [
    "### Step 0. Initialization\n",
    "We start with a list of Booleans with the values `True` and `False` implying that the number corresponding to the index is a prime or not, respectively. The integers `0` and `1` are no primes and their entries are set to `False` indicated by the grey cells in the following figure. All other integers are candidates for being prime and at this point are represented by white cells.\n",
    "\n",
    "![Eratosthenes step 0](eratosthenes_0.png \"Eratosthenes step 0\")\n",
    "\n",
    "### Step 1. Cross out multiples of 2\n",
    "The smallest potential candidate, i.e. `2`, is in fact a prime as there is no smaller admissible divisor. In the figure, we mark the prime by a colored cell and cross out all multiples of `2`, i.e. we set the corresponding Booleans in the list to `False`.\n",
    "\n",
    "![Eratosthenes step 1](eratosthenes_1.png \"Eratosthenes step 1\")\n",
    "\n",
    "### Step 2. Cross out multiples of 3\n",
    "The next candidate is `3`. We cross out all multiples and update the Boolean list accordingly. All multiples, really? No. Can you figure out what is the smallest number which needs to be crossed out?\n",
    "\n",
    "![Eratosthenes step 2](eratosthenes_2.png \"Eratosthenes step 2\")\n",
    "\n",
    "### Step 3. Cross out multiples of 5\n",
    "We proceed as before. Check whether your idea in the previous step about which is the smallest number to be crossed out is correct.\n",
    "\n",
    "![Eratosthenes step 3](eratosthenes_3.png \"Eratosthenes step 3\")\n",
    "\n",
    "### Step 4. Cross out multiples of 7\n",
    "The next candidate is `7` and we proceed as before. In steps 2-4, we were proceeding in steps of 2, but this is accidental. The rule is to consider the smallest candidate available, which at this stage happens to be `7`.\n",
    "\n",
    "![Eratosthenes step 4](eratosthenes_4.png \"Eratosthenes step 4\")\n",
    "\n",
    "### Step 5. Identify all remaining primes\n",
    "In a list up to `49`, `7` is the largest prime which requires crossing out numbers. Why is this so? Hint: Recall your reasoning in step 2. All remaining candidates are in fact primes and we obtain the following result with the prime numbers `2`, `3`, `5`, `7`, `11`, `13`, `17`, `19`, `23`, `29`, `31`, `37`, `41`, `43`, `47` which should be contained in the list returned by your function to be implemented below.\n",
    "\n",
    "![Eratosthenes step 5](eratosthenes_5.png \"Eratosthenes step 5\")"
   ]
  },
  {
   "cell_type": "markdown",
   "metadata": {},
   "source": [
    "*Hint:*   \n",
    "Extracting the primes from the Boolean list can be done with standard methods explained in the course. However, there are a couple of features in Python which can make this step more elegant. Take a look at the following two notebooks, if you want to learn about these features:\n",
    "\n",
    "* [enumerate](~Enumerate.ipynb)\n",
    "* [list comprehensions](~ListComprehensions.ipynb)"
   ]
  },
  {
   "cell_type": "code",
   "execution_count": null,
   "metadata": {
    "nbgrader": {
     "grade": false,
     "grade_id": "prime-list",
     "locked": false,
     "schema_version": 1,
     "solution": true
    }
   },
   "outputs": [],
   "source": [
    "# Put imports here, if needed\n",
    "### BEGIN SOLUTION\n",
    "from math import sqrt\n",
    "### END SOLUTION\n",
    "\n",
    "def prime_list(maximum):\n",
    "    \"\"\"generate list of primes\n",
    "    \n",
    "       The list contains prime up to and possibly including the argument\n",
    "       maximum. It is obtained by an implementation of the sieve of\n",
    "       Eratosthenes.\n",
    "    \n",
    "    \"\"\"\n",
    "    ### BEGIN SOLUTION\n",
    "    if maximum < 2:\n",
    "        raise ValueError('maximum should be at least 2')\n",
    "    candidates = [False, False]+[True]*(maximum-1)\n",
    "    maxcandidate = int(sqrt(maximum)+0.5)\n",
    "    candidate = candidates.index(True)\n",
    "    while candidate <= maxcandidate:\n",
    "        for multiple in range(candidate**2, maximum+1, candidate):\n",
    "            candidates[multiple] = False\n",
    "        offset = candidate+1\n",
    "        candidate = candidates[offset:].index(True)+offset\n",
    "    primelist = [nr for nr, isprime in enumerate(candidates) if isprime]\n",
    "    return primelist\n",
    "    ### END SOLUTION"
   ]
  },
  {
   "cell_type": "markdown",
   "metadata": {},
   "source": [
    "Check your solution by running the function for some values of the argument and by executing the tests in the following two cells."
   ]
  },
  {
   "cell_type": "code",
   "execution_count": null,
   "metadata": {
    "nbgrader": {
     "grade": true,
     "grade_id": "test-existence",
     "locked": true,
     "points": 1,
     "schema_version": 1,
     "solution": false
    }
   },
   "outputs": [],
   "source": [
    "result = prime_list(3)\n",
    "assert result is not None, 'Did you return a result?'\n",
    "assert isinstance(result, list), 'The function does not return a list.'\n",
    "assert all(isinstance(n, int) for n in result), ('The entries in the '\n",
    "                              'list of primes should all be integers.')"
   ]
  },
  {
   "cell_type": "code",
   "execution_count": null,
   "metadata": {
    "nbgrader": {
     "grade": true,
     "grade_id": "test-correctness",
     "locked": true,
     "points": 1,
     "schema_version": 1,
     "solution": false
    }
   },
   "outputs": [],
   "source": [
    "result = prime_list(49)\n",
    "assert result[0] == 2, 'The smallest prime should be 2.'\n",
    "assert result[-1] == 47, ('Check whether the list of primes with a '\n",
    "         'maximum of 49 corresponds to the example discussed above.')\n",
    "assert len(result) == 15, ('Check whether the list of primes with a '\n",
    "         'maximum of 49 corresponds to the example discussed above. '\n",
    "         'It does not have the expected length.')\n",
    "assert prime_list(47)[-1] == 47, 'For maximum=47, 47 is not in the list.'\n",
    "result = prime_list(1000)\n",
    "assert result[-1] == 997, 'The largest prime smaller than 1000 should be 997.'\n",
    "assert len(result) == 168, 'The number of primes up to 1000 is not correct.'"
   ]
  }
 ],
 "metadata": {
  "kernelspec": {
   "display_name": "Python 3",
   "language": "python",
   "name": "python3"
  },
  "language_info": {
   "codemirror_mode": {
    "name": "ipython",
    "version": 3
   },
   "file_extension": ".py",
   "mimetype": "text/x-python",
   "name": "python",
   "nbconvert_exporter": "python",
   "pygments_lexer": "ipython3",
   "version": "3.6.4"
  }
 },
 "nbformat": 4,
 "nbformat_minor": 2
}
