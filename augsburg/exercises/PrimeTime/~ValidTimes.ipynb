{
 "cells": [
  {
   "cell_type": "markdown",
   "metadata": {},
   "source": [
    "# Prime times"
   ]
  },
  {
   "cell_type": "markdown",
   "metadata": {},
   "source": [
    "## Check for valid times"
   ]
  },
  {
   "cell_type": "markdown",
   "metadata": {},
   "source": [
    "In order to check whether an integer can be interpreted as a valid time, the two sets of two digits corresponding to hours and minutes should be extracted. To this end it is useful to recall the integer division and the modulo operation. In Python 3, the corresponding operators are:\n",
    "\n",
    "* integer division: `//`\n",
    "* modulo operation: `%`\n",
    "\n",
    "Use these operators, to extract the hours and minutes out of the integer\n",
    "`1234`. You should obtain `12` for the hours and `34` for the minutes. Open a new cell below and check whether you are able to extract hours and minutes."
   ]
  },
  {
   "cell_type": "markdown",
   "metadata": {},
   "source": [
    "Actually, hours and minutes can be extracted in a single step by means of `divmod`. Open a new cell below and use `help` to find out how `divmod` works."
   ]
  },
  {
   "cell_type": "markdown",
   "metadata": {},
   "source": [
    "A useful property of Python is that comparisons can be chained. If you want to check whether an integer `n` is larger or equal `0` and smaller than `10`, you can either use "
   ]
  },
  {
   "cell_type": "code",
   "execution_count": null,
   "metadata": {},
   "outputs": [],
   "source": [
    "n = 7\n",
    "0 <= n and n < 10"
   ]
  },
  {
   "cell_type": "markdown",
   "metadata": {},
   "source": [
    "or"
   ]
  },
  {
   "cell_type": "code",
   "execution_count": null,
   "metadata": {},
   "outputs": [],
   "source": [
    "0 <= n < 10"
   ]
  },
  {
   "cell_type": "markdown",
   "metadata": {},
   "source": [
    "which is more elegant. Modify the value of `n` to make sure that the Boolean expressions work as expected."
   ]
  },
  {
   "cell_type": "markdown",
   "metadata": {},
   "source": [
    "Now, you should have everything ready to implement the following function."
   ]
  },
  {
   "cell_type": "code",
   "execution_count": 1,
   "metadata": {
    "nbgrader": {
     "grade": false,
     "grade_id": "istime",
     "locked": false,
     "schema_version": 1,
     "solution": true
    }
   },
   "outputs": [],
   "source": [
    "def is_time(n):\n",
    "    \"\"\"check whether the integer n can be interpreted as valid time\n",
    "    \n",
    "       An integer with less than four digits is thought to have an\n",
    "       appropriate number of zeros preprended. In a four digit integer,\n",
    "       the first two digits shall correspond to valid number of hours\n",
    "       while the last two digits shall correspond to a valid number of\n",
    "       minutes. If the integer corresponds to a valid time, the\n",
    "       function returns True, otherwise it returns False.\n",
    "    \n",
    "    \"\"\"\n",
    "    ### BEGIN SOLUTION\n",
    "    hours, minutes = divmod(n, 100)\n",
    "    return 0 <= hours <= 23 and 0 <= minutes <= 59\n",
    "    ### END SOLUTION"
   ]
  },
  {
   "cell_type": "markdown",
   "metadata": {},
   "source": [
    "Execute the following two cells to make sure that everything works correctly."
   ]
  },
  {
   "cell_type": "code",
   "execution_count": 2,
   "metadata": {
    "nbgrader": {
     "grade": true,
     "grade_id": "test-existence",
     "locked": true,
     "points": 1,
     "schema_version": 1,
     "solution": false
    }
   },
   "outputs": [],
   "source": [
    "assert is_time(2027) is not None, 'Does your function return a result?'\n",
    "from random import randrange\n",
    "assert isinstance(is_time(randrange(1, 2400)), bool), ('The result '\n",
    "                                                    'is not a Boolean.')"
   ]
  },
  {
   "cell_type": "code",
   "execution_count": 3,
   "metadata": {
    "nbgrader": {
     "grade": true,
     "grade_id": "test-correctness",
     "locked": true,
     "points": 1,
     "schema_version": 1,
     "solution": false
    }
   },
   "outputs": [],
   "source": [
    "for n in (9, 31, 359, 1659, 2359):\n",
    "    assert is_time(n), '{} is not recognized as valid time'.format(n)\n",
    "for n in (67, 277, 983, 1261, 2401):\n",
    "    assert not is_time(n), ('{} is incorrectly identified as '\n",
    "                            'valid time'.format(n))"
   ]
  }
 ],
 "metadata": {
  "kernelspec": {
   "display_name": "Python 3",
   "language": "python",
   "name": "python3"
  },
  "language_info": {
   "codemirror_mode": {
    "name": "ipython",
    "version": 3
   },
   "file_extension": ".py",
   "mimetype": "text/x-python",
   "name": "python",
   "nbconvert_exporter": "python",
   "pygments_lexer": "ipython3",
   "version": "3.6.4"
  }
 },
 "nbformat": 4,
 "nbformat_minor": 2
}
