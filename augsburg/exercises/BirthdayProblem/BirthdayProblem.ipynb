{
 "cells": [
  {
   "cell_type": "markdown",
   "metadata": {},
   "source": [
    "# Birthday problem"
   ]
  },
  {
   "cell_type": "markdown",
   "metadata": {},
   "source": [
    "The [birthday problem](https://en.wikipedia.org/wiki/Birthday_problem) considers a number of randomly selected persons and asks for the probability that at least two of these persons have their birthday on the same day of the year. For simplicity, we will neglect leap years and therefore assume that each year has 365 days. \n",
    "\n",
    "While there exists an analytical solution to the probability as a function of the number of persons, we want to analyze the problem by means of a simulation drawing birthdays at random."
   ]
  },
  {
   "cell_type": "markdown",
   "metadata": {},
   "source": [
    "In a first step, we consider a random realization of birthdays for a given number of persons. The function ``equal_birthdays`` should create this realization and determine whether among these birthdays at least two of them are equal.\n",
    "\n",
    "Hints:\n",
    "* Find a function provided by the ``random`` module suited for this problem. Remember the ``help`` function which allows to obtain information about modules and functions provided by these modules.\n",
    "* If you need help about how to determine coincidences, you might want to take a look at this [notebook](~ListsAndSets.ipynb)."
   ]
  },
  {
   "cell_type": "code",
   "execution_count": 6,
   "metadata": {
    "nbgrader": {
     "grade": false,
     "grade_id": "birthday-single-realization",
     "locked": false,
     "schema_version": 1,
     "solution": true
    }
   },
   "outputs": [],
   "source": [
    "# put import statements here, if needed\n",
    "### BEGIN SOLUTION\n",
    "import random\n",
    "### END SOLUTION\n",
    "\n",
    "def equal_birthdays(npersons):\n",
    "    \"\"\"determine occurrence of equal birthdays\n",
    "\n",
    "       For a given number of persons a random realization\n",
    "       of birthdays is created. The function determines whether\n",
    "       at least two persons have the same birthday.\n",
    "\n",
    "       npersons: number of persons\n",
    "\n",
    "    \"\"\"\n",
    "    ### BEGIN SOLUTION\n",
    "    birthdays = set()\n",
    "    for nperson in range(npersons):\n",
    "        birthdays.add(random.randint(1, 365))\n",
    "        if len(birthdays) != nperson+1:\n",
    "            return True\n",
    "    return False\n",
    "    ### END SOLUTION"
   ]
  },
  {
   "cell_type": "markdown",
   "metadata": {},
   "source": [
    "Executing the following two cells will give you an idea of whether your function works correctly."
   ]
  },
  {
   "cell_type": "code",
   "execution_count": 9,
   "metadata": {
    "nbgrader": {
     "grade": true,
     "grade_id": "test-existence-birthday-single-realization",
     "locked": true,
     "points": 1,
     "schema_version": 1,
     "solution": false
    }
   },
   "outputs": [],
   "source": [
    "result = equal_birthdays(2)\n",
    "assert result is not None, 'Does your function return a result?'\n",
    "assert type(result) == type(True), 'The function does not return a boolean value.'"
   ]
  },
  {
   "cell_type": "code",
   "execution_count": 14,
   "metadata": {
    "nbgrader": {
     "grade": true,
     "grade_id": "test-correctness-birthday-single-realization",
     "locked": true,
     "points": 2,
     "schema_version": 1,
     "solution": false
    }
   },
   "outputs": [],
   "source": [
    "for seed, result in ((42, False), (192347, True)):\n",
    "    random.seed(seed)\n",
    "    assert equal_birthdays(20) == result, 'Your function appears to return an incorrect result.'"
   ]
  },
  {
   "cell_type": "markdown",
   "metadata": {},
   "source": [
    "With the help of the function ``equal_birthdays``, you can now develop a function ``probability_equal_birthdays`` which determines for a given number of realizations the probability that among a given number of persons at least two of them have their birthday on the same day of the year."
   ]
  },
  {
   "cell_type": "code",
   "execution_count": 7,
   "metadata": {
    "nbgrader": {
     "grade": false,
     "grade_id": "birthday-multiple-realizations",
     "locked": false,
     "schema_version": 1,
     "solution": true
    }
   },
   "outputs": [],
   "source": [
    "def probability_equal_birthdays(npersons, realizations=10000):\n",
    "    \"\"\"determine probability for equal birthdays\n",
    "\n",
    "       Given a number of persons and of random realizations,\n",
    "       the probability is determined that at least two persons\n",
    "       have the same birthday.\n",
    "\n",
    "       npersons: number of persons\n",
    "       realizations: number of realizations of random ensembles,\n",
    "                 default is 10000\n",
    "\n",
    "    \"\"\"\n",
    "    ### BEGIN SOLUTION\n",
    "    coincidence = 0\n",
    "    for _ in range(realizations):\n",
    "        if equal_birthdays(npersons):\n",
    "            coincidence = coincidence+1\n",
    "    return coincidence/realizations\n",
    "    ### END SOLUTION"
   ]
  },
  {
   "cell_type": "markdown",
   "metadata": {},
   "source": [
    "Execute the following two cells to check the correctness of your function. Note though, that you should not only rely on these tests. One possibility for additional checks is to compare the results obtained from your function with the probabilities listed on this [Wikipedia page](https://en.wikipedia.org/wiki/Birthday_problem). You might also want to take a look at how the results depend on the number of realizations."
   ]
  },
  {
   "cell_type": "code",
   "execution_count": 16,
   "metadata": {
    "nbgrader": {
     "grade": true,
     "grade_id": "test-existence-birthday-multiple-realizations",
     "locked": true,
     "points": 1,
     "schema_version": 1,
     "solution": false
    }
   },
   "outputs": [],
   "source": [
    "result = probability_equal_birthdays(2, 20)\n",
    "assert result is not None, 'Does your function return a result?'\n",
    "assert type(result) == type(1.), 'The function does not return a float.'"
   ]
  },
  {
   "cell_type": "code",
   "execution_count": 24,
   "metadata": {
    "nbgrader": {
     "grade": true,
     "grade_id": "test-correctness-birthday-multiple-realizations",
     "locked": true,
     "points": 2,
     "schema_version": 1,
     "solution": false
    }
   },
   "outputs": [],
   "source": [
    "random.seed(42)\n",
    "for npersons, result in ((10, 0.1221), (20, 0.417), (30, 0.7026)):\n",
    "    assert abs(probability_equal_birthdays(npersons, 10000)-result) < 0.0001, (\n",
    "        'Your function appears to return an incorrect result.')"
   ]
  },
  {
   "cell_type": "markdown",
   "metadata": {},
   "source": [
    "Finally, you should determine the probability for the occurrence of birthday coincidences as a function of the number of persons considered. Your code should produce a list of tuples where each tuple contains two values, namely the number of persons and the corresponding probability. Giving this list of tuples to the provided function ``plot`` will generate a graphical representation. "
   ]
  },
  {
   "cell_type": "code",
   "execution_count": 25,
   "metadata": {
    "nbgrader": {
     "grade": true,
     "grade_id": "birthday-problem",
     "locked": false,
     "points": 2,
     "schema_version": 1,
     "solution": true
    }
   },
   "outputs": [
    {
     "data": {
      "image/png": "[encoded data removed]",
      "text/plain": [
       "<Figure size 432x288 with 1 Axes>"
      ]
     },
     "metadata": {
      "needs_background": "light"
     },
     "output_type": "display_data"
    }
   ],
   "source": [
    "import matplotlib.pyplot as plt\n",
    "\n",
    "def plot(data):\n",
    "    \"\"\"plot a curve from a list of tuples\n",
    "\n",
    "       data: list of tuples (x, y)\n",
    "\n",
    "    \"\"\"\n",
    "    plt.plot(*list(zip(*data)))\n",
    "    plt.show()\n",
    "\n",
    "### BEGIN SOLUTION\n",
    "coincidencelist = []\n",
    "for npersons in range(2, 60):\n",
    "    coincidencelist.append((npersons, probability_equal_birthdays(npersons)))\n",
    "### END SOLUTION\n",
    "plot(coincidencelist)"
   ]
  },
  {
   "cell_type": "markdown",
   "metadata": {},
   "source": [
    "And do not forget to save your work..."
   ]
  }
 ],
 "metadata": {
  "kernelspec": {
   "display_name": "Python 3",
   "language": "python",
   "name": "python3"
  },
  "language_info": {
   "codemirror_mode": {
    "name": "ipython",
    "version": 3
   },
   "file_extension": ".py",
   "mimetype": "text/x-python",
   "name": "python",
   "nbconvert_exporter": "python",
   "pygments_lexer": "ipython3",
   "version": "3.6.8"
  }
 },
 "nbformat": 4,
 "nbformat_minor": 2
}
