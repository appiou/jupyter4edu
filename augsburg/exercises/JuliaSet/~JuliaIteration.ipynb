{
 "cells": [
  {
   "cell_type": "markdown",
   "metadata": {},
   "source": [
    "# Julia set"
   ]
  },
  {
   "cell_type": "markdown",
   "metadata": {},
   "source": [
    "## Iteration prescription"
   ]
  },
  {
   "cell_type": "markdown",
   "metadata": {},
   "source": [
    "The iteration prescription for the Julia set is given by\n",
    "\\begin{equation}\n",
    "z \\to z^2+c\n",
    "\\end{equation}\n",
    "where $c$ is a fixed complex number chosen here as $-0.8+0.156\\mathrm{i}$. The starting value $z_0$ is chosen from the complex plane, i.e. $z_0=x_0+\\mathrm{i}y_0$. The series is assumed to diverge once the absolute value of $z$ becomes larger than a given threshold. The number of iterations until the threshold is crossed is an indicator of how fast the series diverges. We set an upper limit on the number of iterations to account for the cases where the threshold is not reached. The following function should return the number of iterations until the threshold is crossed for the first time."
   ]
  },
  {
   "cell_type": "code",
   "execution_count": null,
   "metadata": {
    "nbgrader": {
     "grade": false,
     "grade_id": "julia-iteration",
     "locked": false,
     "schema_version": 1,
     "solution": true
    }
   },
   "outputs": [],
   "source": [
    "def juliaiter(z0, c, threshold, maxiter):\n",
    "    \"\"\"Determine number of iterations needed to cross the threshold\n",
    "    \n",
    "       z0:        initial value for z\n",
    "       c:         complex number in iteration prescription\n",
    "       threshold: threshold value to be crossed by |z|\n",
    "       maxiter:   maximum of iterations\n",
    "       \n",
    "    \"\"\"\n",
    "    ### BEGIN SOLUTION\n",
    "    z = z0\n",
    "    niter = 0\n",
    "    while niter < maxiter and abs(z) <= threshold:\n",
    "        niter = niter+1\n",
    "        z = z**2 + c\n",
    "    return niter\n",
    "    ### END SOLUTION"
   ]
  },
  {
   "cell_type": "markdown",
   "metadata": {},
   "source": [
    "Test your solution by executing the following two cells. Everything is fine if no error message is displayed."
   ]
  },
  {
   "cell_type": "code",
   "execution_count": null,
   "metadata": {
    "nbgrader": {
     "grade": true,
     "grade_id": "test-existence",
     "locked": true,
     "points": 1,
     "schema_version": 1,
     "solution": false
    }
   },
   "outputs": [],
   "source": [
    "result = juliaiter(-0.3+0.4j, -0.8+0.156j, 2, 100)\n",
    "assert result is not None, 'Does your function return a result?'\n",
    "assert type(result) == type(1), 'The result should be an integer.'"
   ]
  },
  {
   "cell_type": "code",
   "execution_count": null,
   "metadata": {
    "nbgrader": {
     "grade": true,
     "grade_id": "test-correctness",
     "locked": true,
     "points": 2,
     "schema_version": 1,
     "solution": false
    }
   },
   "outputs": [],
   "source": [
    "import math\n",
    "maxiter = 100\n",
    "threshold = 2\n",
    "assert juliaiter(1, 0, threshold, maxiter) == maxiter, 'There is a problem even for c=0.'\n",
    "z0 = 1.0000001\n",
    "expected = int(math.log(math.log(threshold)/math.log(z0), 2))+1\n",
    "assert juliaiter(z0, 0, threshold, maxiter) == expected, 'There is a problem even for c=0.'\n",
    "z0 = -0.3+0.4j\n",
    "c = -0.8+0.156j\n",
    "threshold = abs(z0**8+4*z0**6*c+2*z0**4*(3*c**2+c)+4*z0**2*(c**3+c**2)+c**4+2*c**3+c**2+c)\n",
    "maxiter = 4\n",
    "assert juliaiter(z0, c, threshold+1e-6, maxiter) == maxiter, 'Wrong number of iterations'\n",
    "assert juliaiter(z0, c, threshold-1e-6, maxiter) == maxiter-1, 'Wrong number of iterations'"
   ]
  }
 ],
 "metadata": {
  "celltoolbar": "Create Assignment",
  "kernelspec": {
   "display_name": "Python 3",
   "language": "python",
   "name": "python3"
  },
  "language_info": {
   "codemirror_mode": {
    "name": "ipython",
    "version": 3
   },
   "file_extension": ".py",
   "mimetype": "text/x-python",
   "name": "python",
   "nbconvert_exporter": "python",
   "pygments_lexer": "ipython3",
   "version": "3.6.4"
  }
 },
 "nbformat": 4,
 "nbformat_minor": 2
}
