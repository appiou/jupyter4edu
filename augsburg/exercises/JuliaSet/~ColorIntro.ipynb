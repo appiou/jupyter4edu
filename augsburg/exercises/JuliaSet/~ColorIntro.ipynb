{
 "cells": [
  {
   "cell_type": "markdown",
   "metadata": {},
   "source": [
    "# Julia set"
   ]
  },
  {
   "cell_type": "markdown",
   "metadata": {},
   "source": [
    "## A brief introduction to colors"
   ]
  },
  {
   "cell_type": "code",
   "execution_count": 1,
   "metadata": {},
   "outputs": [
    {
     "data": {
      "application/vnd.jupyter.widget-view+json": {
       "model_id": "d8231c6a3fc14f11ab7370b06de983d0",
       "version_major": 2,
       "version_minor": 0
      },
      "text/plain": [
       "Box(children=(HTML(value='<div style=\"width:50px;height:50px;background-color:#ffffff;border-style:solid;borde…"
      ]
     },
     "metadata": {},
     "output_type": "display_data"
    }
   ],
   "source": [
    "import colorsys\n",
    "import ipywidgets as widgets\n",
    "\n",
    "class ColorGUI:\n",
    "    def __init__(self, r=1, g=1, b=1):\n",
    "        self.r = min(r, 1)\n",
    "        self.g = min(g, 1)\n",
    "        self.b = min(b, 1)\n",
    "        self.update('hsv')\n",
    "        display(self.gui())\n",
    "        \n",
    "    def update(self, target):\n",
    "        if target == 'rgb':\n",
    "            self.r, self.g, self.b = colorsys.hsv_to_rgb(self.h, self.s, self.v)\n",
    "        elif target == 'hsv':\n",
    "            self.h, self.s, self.v = colorsys.rgb_to_hsv(self.r, self.g, self.b)\n",
    "        else:\n",
    "            raise ValueError('invalid target {}'.format(target))\n",
    "    \n",
    "    def html(self):\n",
    "        boxtemplate = ('<div style=\"'\n",
    "                       'width:50px;'\n",
    "                       'height:50px;'\n",
    "                       'background-color:#{:06x};'\n",
    "                       'border-style:solid;'\n",
    "                       'border-width:1px'\n",
    "                       '\"></div>')\n",
    "        r, g, b = (int(255*x) for x in (self.r, self.g, self.b))\n",
    "        colorvalue = 256*(256*r+g)+b\n",
    "        return boxtemplate.format(colorvalue)\n",
    "    \n",
    "    def gui(self):\n",
    "        self.slider_dict = {x: widgets.FloatSlider(value=getattr(self, x), min=0, max=1, step=0.01,\n",
    "                                                   description=x.upper(), orientation='horizontal')\n",
    "                                for x in 'rgbhsv'}\n",
    "        self.colorbox = widgets.HTML(value=self.html())\n",
    "        for slider in self.slider_dict.values():\n",
    "            slider.observe(self.on_value_change, 'value')\n",
    "        return widgets.Box([self.colorbox,\n",
    "                            widgets.VBox([self.slider_dict[x] for x in 'rgb']),\n",
    "                            widgets.VBox([self.slider_dict[x] for x in 'hsv'])])\n",
    "    \n",
    "    def on_value_change(self, change):\n",
    "        changed_entry = change['owner'].description.lower()\n",
    "        setattr(self, changed_entry, change['new'])\n",
    "        source = 'rgb'\n",
    "        target = 'hsv'\n",
    "        if changed_entry not in source:\n",
    "            target = source\n",
    "        self.update(target)\n",
    "        for entry in target:\n",
    "            self.slider_dict[entry].value = getattr(self, entry)\n",
    "        self.colorbox.value = self.html()\n",
    "\n",
    "\n",
    "c = ColorGUI()"
   ]
  },
  {
   "cell_type": "code",
   "execution_count": null,
   "metadata": {},
   "outputs": [],
   "source": []
  }
 ],
 "metadata": {
  "kernelspec": {
   "display_name": "Python 3",
   "language": "python",
   "name": "python3"
  },
  "language_info": {
   "codemirror_mode": {
    "name": "ipython",
    "version": 3
   },
   "file_extension": ".py",
   "mimetype": "text/x-python",
   "name": "python",
   "nbconvert_exporter": "python",
   "pygments_lexer": "ipython3",
   "version": "3.7.3"
  }
 },
 "nbformat": 4,
 "nbformat_minor": 2
}
