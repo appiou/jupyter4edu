{
 "cells": [
  {
   "cell_type": "markdown",
   "metadata": {},
   "source": [
    "# Julia set"
   ]
  },
  {
   "cell_type": "markdown",
   "metadata": {},
   "source": [
    "## A brief introduction to colors"
   ]
  },
  {
   "cell_type": "markdown",
   "metadata": {},
   "source": [
    "There exists quite a number of color models trying to parametrize colors in terms of numerical values. An overview can be found for example on the [Wikipedia page on color models](https://en.wikipedia.org/wiki/Color_model). Depending on the intended application, one of these models might be advantageous as compared to others.\n",
    "\n",
    "In the following, we will specifically consider two color models known as the RGB model ([link to Wikipedia](https://en.wikipedia.org/wiki/RGB_color_model)) and the HSV model ([link to Wikipedia](https://en.wikipedia.org/wiki/HSL_and_HSV)).\n",
    "\n",
    "In the RGB model, a color is specified by values for the intensies of red (R), green (G), and blue (B). The color is then obtained by adding up the three contributions. Each of the three parameters is usually specified by a value either between 0 and 1 or between 0 and 255. In the latter case, one often uses integers which then can be represented by 8-bit values. In the following figure, the colors expressed in terms of a RGB parametrization are represented on the faces of a cube.\n",
    "\n",
    "  ![RGB model](rgb.png \"RGB model\")\n",
    "  \n",
    "On each face of the left figure, one of the parameters R, G, and B is set to 1 while the others change between 0 and 1 when walking along one of edges. Accordingly, on each face of the right figure, one of the parameters is set to 0. The cube on the right thus displays the three faces which are invisible for the cube on the right. The eight corners of the cube correspond to the following parameters and colors:\n",
    "\n",
    "\n",
    " | R | G | B | <p align=\"left\">color </p>  |\n",
    " |---|---|---|-----------------------------|\n",
    " | 0 | 0 | 0 | <p align=\"left\">black</p>   |\n",
    " | 0 | 0 | 1 | <p align=\"left\">blue</p>    |\n",
    " | 0 | 1 | 0 | <p align=\"left\">green</p>   |\n",
    " | 0 | 1 | 1 | <p align=\"left\">cyan</p>    |\n",
    " | 1 | 0 | 0 | <p align=\"left\">red</p>     |\n",
    " | 1 | 0 | 1 | <p align=\"left\">magenta</p> |\n",
    " | 1 | 1 | 0 | <p align=\"left\">yellow</p>  |\n",
    " | 1 | 1 | 1 | <p align=\"left\">white</p>   |\n",
    "\n",
    "\n",
    "A color in the HSV model is also specified by three parameters which are called hue (H), saturation (S), and value (V). The following figure demonstrates how the HSV model works.\n",
    "\n",
    "  ![HSV model](hsv.png \"HSV model\")\n",
    "  \n",
    "The hue increases along the circle with red corresponding to H=0, green corresponding to H=1/3 or 120°, and blue corresponding to H=2/3 or 240°. The corresponding complementary colors are found by rotation by 180°. For each disk, the saturation grows from 0 to 1. S=0 implies white, a greyish color, or black depending on V while S=1 corresponds to the fully saturated color. The disk on the right demonstrates the effect of a value of V smaller than 1. With decreasing V, the colors become increasingly darker.\n",
    "\n",
    "By executing the following code cell, a small GUI, i.e. a graphical user interface,  will be generated which allows you to play around with colors represented in the RGB and HSV models. Do not worry to understand the code unless you are really interested in how it works. Further information on how to use the GUI will be given below."
   ]
  },
  {
   "cell_type": "code",
   "execution_count": 3,
   "metadata": {},
   "outputs": [
    {
     "data": {
      "application/vnd.jupyter.widget-view+json": {
       "model_id": "5e8eca1792c34df6a582524d65f1c793",
       "version_major": 2,
       "version_minor": 0
      },
      "text/plain": [
       "Box(children=(HTML(value='<div style=\"width:50px;height:50px;background-color:#ff0000;border-style:solid;borde…"
      ]
     },
     "metadata": {},
     "output_type": "display_data"
    }
   ],
   "source": [
    "import colorsys\n",
    "import ipywidgets as widgets\n",
    "\n",
    "class ColorGUI:\n",
    "    def __init__(self, r=1, g=1, b=1):\n",
    "        self.r = min(r, 1)\n",
    "        self.g = min(g, 1)\n",
    "        self.b = min(b, 1)\n",
    "        self.update('hsv')\n",
    "        display(self.gui())\n",
    "        \n",
    "    def update(self, target):\n",
    "        if target == 'rgb':\n",
    "            self.r, self.g, self.b = colorsys.hsv_to_rgb(self.h, self.s, self.v)\n",
    "        elif target == 'hsv':\n",
    "            self.h, self.s, self.v = colorsys.rgb_to_hsv(self.r, self.g, self.b)\n",
    "        else:\n",
    "            raise ValueError('invalid target {}'.format(target))\n",
    "    \n",
    "    def html(self):\n",
    "        boxtemplate = ('<div style=\"'\n",
    "                       'width:50px;'\n",
    "                       'height:50px;'\n",
    "                       'background-color:#{:06x};'\n",
    "                       'border-style:solid;'\n",
    "                       'border-width:1px'\n",
    "                       '\"></div>')\n",
    "        r, g, b = (int(255*x) for x in (self.r, self.g, self.b))\n",
    "        colorvalue = 256*(256*r+g)+b\n",
    "        return boxtemplate.format(colorvalue)\n",
    "    \n",
    "    def gui(self):\n",
    "        self.slider_dict = {x: widgets.FloatSlider(value=getattr(self, x), min=0, max=1, step=0.01,\n",
    "                                                   description=x.upper(), orientation='horizontal')\n",
    "                                for x in 'rgbhsv'}\n",
    "        self.colorbox = widgets.HTML(value=self.html())\n",
    "        for slider in self.slider_dict.values():\n",
    "            slider.observe(self.on_value_change, 'value')\n",
    "        return widgets.Box([self.colorbox,\n",
    "                            widgets.VBox([self.slider_dict[x] for x in 'rgb']),\n",
    "                            widgets.VBox([self.slider_dict[x] for x in 'hsv'])])\n",
    "    \n",
    "    def on_value_change(self, change):\n",
    "        changed_entry = change['owner'].description.lower()\n",
    "        setattr(self, changed_entry, change['new'])\n",
    "        source = 'rgb'\n",
    "        target = 'hsv'\n",
    "        if changed_entry not in source:\n",
    "            target = source\n",
    "        self.update(target)\n",
    "        for entry in target:\n",
    "            self.slider_dict[entry].value = getattr(self, entry)\n",
    "        self.colorbox.value = self.html()\n",
    "\n",
    "\n",
    "c = ColorGUI(1, 0, 0)"
   ]
  },
  {
   "cell_type": "markdown",
   "metadata": {},
   "source": [
    "Once the code cell above has been executed, you should see a GUI containing three sections. On the left, a square visually represents the color corresponding to the parameters which can be modified by moving the sliders. The three sliders in the middle pertain to the RGB model. Moving a slider will change the corresponding parameter. The change will be reflected both in the colored square on the left as well as in the sliders pertaining to the HSV model on the right. Alternatively, you can change the parameters in the HSV model. The, the colored square an the parameters in the RGB model will adjust accordingly.\n"
   ]
  },
  {
   "cell_type": "markdown",
   "metadata": {},
   "source": [
    "Suggestions for exploration:\n",
    "\n",
    "* Keep S=V=1 and observe how the color changes when you move the H slider from 0 to 1. How do the parameters R, G, and B change? Can you come up with a set of functions R(H), G(H), B(H) describing the observed behavior.\n",
    "* Set S=0 and change V. How do the color and the parameters R, G, and B change? Does the result depend on the value of H? \n",
    "* Suppose that you want to map a float number between 0 and 1 onto a set of colors representing a rainbow, i.e. running from red over green to blue. How could this be achieved?"
   ]
  }
 ],
 "metadata": {
  "kernelspec": {
   "display_name": "Python 3",
   "language": "python",
   "name": "python3"
  },
  "language_info": {
   "codemirror_mode": {
    "name": "ipython",
    "version": 3
   },
   "file_extension": ".py",
   "mimetype": "text/x-python",
   "name": "python",
   "nbconvert_exporter": "python",
   "pygments_lexer": "ipython3",
   "version": "3.7.3"
  }
 },
 "nbformat": 4,
 "nbformat_minor": 2
}
