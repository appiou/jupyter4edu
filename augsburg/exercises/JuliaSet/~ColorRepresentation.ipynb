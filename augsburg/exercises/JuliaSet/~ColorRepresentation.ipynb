{
 "cells": [
  {
   "cell_type": "markdown",
   "metadata": {},
   "source": [
    "# Julia set"
   ]
  },
  {
   "cell_type": "markdown",
   "metadata": {},
   "source": [
    "## Representing numbers as colors"
   ]
  },
  {
   "cell_type": "markdown",
   "metadata": {},
   "source": [
    "In order to generate our final plot, we need to convert numbers into colors. This is done by means of a colormap which maps numbers between 0 and 1 into a color. \n",
    "\n",
    "Execute the following cell so that you can explore the idea of colormaps. The details of the code are irrelevant, so do not waste time on trying to understand it at this point."
   ]
  },
  {
   "cell_type": "code",
   "execution_count": 1,
   "metadata": {},
   "outputs": [],
   "source": [
    "%matplotlib inline\n",
    "import matplotlib.cm as cm\n",
    "import matplotlib.pyplot as plt\n",
    "import numpy as np\n",
    "from IPython.display import SVG\n",
    "\n",
    "def colorbar(cmapname):\n",
    "    gradient = np.linspace(0, 1, 256)\n",
    "    gradient = np.vstack((gradient, gradient))\n",
    "    fig = plt.imshow(gradient, aspect=0.05, extent=(0, 1, 0, 1), cmap=plt.get_cmap(cmapname))\n",
    "    fig.axes.get_yaxis().set_visible(False)\n",
    "\n",
    "def display_color(x, cmapname):\n",
    "    rgbcolor = cm.get_cmap(name=cmapname)(float(x), bytes=True, alpha=False)[:3]\n",
    "    print(rgbcolor)\n",
    "    return SVG('''<svg height=\"100\" width=\"100\">\n",
    "                      <rect x=\"1\" y=\"1\" width=\"50\" height=\"50\" fill=\"rgb({},{},{})\" stroke=\"black\" />\n",
    "                  </svg>'''.format(*rgbcolor))"
   ]
  },
  {
   "cell_type": "markdown",
   "metadata": {},
   "source": [
    "We start with one of the colormaps provided by the `matplotlib` library called `hot`:"
   ]
  },
  {
   "cell_type": "code",
   "execution_count": 2,
   "metadata": {},
   "outputs": [
    {
     "data": {
      "image/png": "[encoded data removed]",
      "text/plain": [
       "<Figure size 432x288 with 1 Axes>"
      ]
     },
     "metadata": {
      "needs_background": "light"
     },
     "output_type": "display_data"
    }
   ],
   "source": [
    "colorbar('hot')"
   ]
  },
  {
   "cell_type": "markdown",
   "metadata": {},
   "source": [
    "In the following cell, you can change the argument of the function `display_color` between 0 and 1 and explore how the color changes."
   ]
  },
  {
   "cell_type": "code",
   "execution_count": 3,
   "metadata": {},
   "outputs": [
    {
     "name": "stdout",
     "output_type": "stream",
     "text": [
      "(255, 255, 156)\n"
     ]
    },
    {
     "data": {
      "image/svg+xml": [
       "<svg height=\"100\" width=\"100\">\n",
       "                      <rect fill=\"rgb(255,255,156)\" height=\"50\" stroke=\"black\" width=\"50\" x=\"1\" y=\"1\"/>\n",
       "                  </svg>"
      ],
      "text/plain": [
       "<IPython.core.display.SVG object>"
      ]
     },
     "execution_count": 3,
     "metadata": {},
     "output_type": "execute_result"
    }
   ],
   "source": [
    "display_color(0.9, 'hot')"
   ]
  },
  {
   "cell_type": "markdown",
   "metadata": {},
   "source": [
    "The `matplotlib` library provides many more colormaps, like e.g. `viridis`. Take a look at [Colormaps in Matplotlib](https://matplotlib.org/tutorials/colors/colormaps.html) for more information. Try out a couple of other colormaps.\n",
    "\n",
    "If you want to explore a bit more how to deal with colors in computer programming, there is another notebook for you:\n",
    "\n",
    "* [A brief introduction to colors](~ColorIntro.ipynb)"
   ]
  }
 ],
 "metadata": {
  "kernelspec": {
   "display_name": "Python 3",
   "language": "python",
   "name": "python3"
  },
  "language_info": {
   "codemirror_mode": {
    "name": "ipython",
    "version": 3
   },
   "file_extension": ".py",
   "mimetype": "text/x-python",
   "name": "python",
   "nbconvert_exporter": "python",
   "pygments_lexer": "ipython3",
   "version": "3.7.3"
  }
 },
 "nbformat": 4,
 "nbformat_minor": 2
}
