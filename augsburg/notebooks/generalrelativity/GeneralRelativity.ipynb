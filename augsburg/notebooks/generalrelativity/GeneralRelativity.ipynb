{
 "cells": [
  {
   "cell_type": "markdown",
   "metadata": {},
   "source": [
    "# General relativity using symbolic computer algebra"
   ]
  },
  {
   "cell_type": "markdown",
   "metadata": {},
   "source": [
    "In order to perform symbolic manipulations, we use the `sympy` package together with the `gravipy` package. While the first one is a comprehensive package for symbolic computer algebra, the latter is a small package providing in particular a few tensors needed in the context of general relativity. `gravipy` is available from the [pypi repository](https://pypi.org/project/GraviPy/) while a good way to have access to the `sympy` package is through an installation of the free [Anaconda distribution](https://www.anaconda.com/download/). As `gravipy` ensures that `sympy` is imported, it is sufficient to import only `gravipy` in the following cell."
   ]
  },
  {
   "cell_type": "code",
   "execution_count": 3,
   "metadata": {},
   "outputs": [],
   "source": [
    "from gravipy import *\n",
    "init_printing()"
   ]
  },
  {
   "cell_type": "markdown",
   "metadata": {},
   "source": [
    "## Derivation of the Schwarzschild solution"
   ]
  },
  {
   "cell_type": "markdown",
   "metadata": {},
   "source": [
    "We choose as our coordinates $t, r, \\theta,$ and $\\phi$:"
   ]
  },
  {
   "cell_type": "code",
   "execution_count": 4,
   "metadata": {},
   "outputs": [
    {
     "data": {
      "image/png": "[encoded data removed]",
      "text/latex": [
       "$$\\left [ t, \\quad r, \\quad \\theta, \\quad \\phi\\right ]$$"
      ],
      "text/plain": [
       "[t, r, \\theta, \\phi]"
      ]
     },
     "execution_count": 4,
     "metadata": {},
     "output_type": "execute_result"
    }
   ],
   "source": [
    "t, r, theta, phi = symbols(r't, r, \\theta, \\phi')\n",
    "x = Coordinates('x', [t, r, theta, phi])\n",
    "x.c"
   ]
  },
  {
   "cell_type": "markdown",
   "metadata": {},
   "source": [
    "The line element is chosen to be of the form\n",
    "$$\\mathrm{d}s^2 = -A(r)c^2\\mathrm{d}t^2+B(r)\\mathrm{d}r^2+r^2\\mathrm{d}\\theta^2+r^2\\sin(\\theta)^2\\mathrm{d}\\phi^2$$\n",
    "where we need to determine the functions $\\alpha$ and $\\beta$ as a function of the radial coordinate $r$."
   ]
  },
  {
   "cell_type": "code",
   "execution_count": 5,
   "metadata": {},
   "outputs": [
    {
     "data": {
      "image/png": "[encoded data removed]",
      "text/latex": [
       "$$\\left[\\begin{matrix}- A{\\left (r \\right )} & 0 & 0 & 0\\\\0 & B{\\left (r \\right )} & 0 & 0\\\\0 & 0 & r^{2} & 0\\\\0 & 0 & 0 & r^{2} \\sin^{2}{\\left (\\theta \\right )}\\end{matrix}\\right]$$"
      ],
      "text/plain": [
       "⎡-A(r)   0    0          0       ⎤\n",
       "⎢                                ⎥\n",
       "⎢  0    B(r)  0          0       ⎥\n",
       "⎢                                ⎥\n",
       "⎢              2                 ⎥\n",
       "⎢  0     0    r          0       ⎥\n",
       "⎢                                ⎥\n",
       "⎢                  2    2        ⎥\n",
       "⎣  0     0    0   r ⋅sin (\\theta)⎦"
      ]
     },
     "execution_count": 5,
     "metadata": {},
     "output_type": "execute_result"
    }
   ],
   "source": [
    "A, B = symbols('A, B')\n",
    "Metric = diag(-A(r), B(r), r**2, r**2*sin(theta)**2)\n",
    "g = MetricTensor('g', x, Metric)\n",
    "g(All, All)"
   ]
  },
  {
   "cell_type": "markdown",
   "metadata": {},
   "source": [
    "We are searching for a solution valid in the source-free region of space, i.e., we are looking for solutions of\n",
    "$$G=0$$\n",
    "where $G$ is the Einstein tensor. The ``gravipy`` package requires to first determine the Christoffel symbols and the Ricci tensor."
   ]
  },
  {
   "cell_type": "code",
   "execution_count": 6,
   "metadata": {},
   "outputs": [],
   "source": [
    "Ga = Christoffel('Ga', g)\n",
    "Ric = Ricci('Ric', g)\n",
    "Einst = Einstein('Einst', Ric)"
   ]
  },
  {
   "cell_type": "markdown",
   "metadata": {},
   "source": [
    "The Einstein tensor is obtained as"
   ]
  },
  {
   "cell_type": "code",
   "execution_count": 7,
   "metadata": {
    "scrolled": false
   },
   "outputs": [
    {
     "data": {
      "image/png": "[encoded data removed]",
      "text/latex": [
       "$$\\left[\\begin{matrix}\\frac{A{\\left (r \\right )}}{r^{2} B^{2}{\\left (r \\right )}} \\left(r \\frac{d}{d r} B{\\left (r \\right )} + B^{2}{\\left (r \\right )} - B{\\left (r \\right )}\\right) & 0 & 0 & 0\\\\0 & \\frac{\\frac{d}{d r} A{\\left (r \\right )}}{r A{\\left (r \\right )}} - \\frac{1}{r^{2}} B{\\left (r \\right )} + \\frac{1}{r^{2}} & 0 & 0\\\\0 & 0 & \\frac{r}{4 A^{2}{\\left (r \\right )} B^{2}{\\left (r \\right )}} \\left(2 r A{\\left (r \\right )} B{\\left (r \\right )} \\frac{d^{2}}{d r^{2}}  A{\\left (r \\right )} - r A{\\left (r \\right )} \\frac{d}{d r} A{\\left (r \\right )} \\frac{d}{d r} B{\\left (r \\right )} - r B{\\left (r \\right )} \\left(\\frac{d}{d r} A{\\left (r \\right )}\\right)^{2} - 2 A^{2}{\\left (r \\right )} \\frac{d}{d r} B{\\left (r \\right )} + 2 A{\\left (r \\right )} B{\\left (r \\right )} \\frac{d}{d r} A{\\left (r \\right )}\\right) & 0\\\\0 & 0 & 0 & \\frac{r \\sin^{2}{\\left (\\theta \\right )}}{4 A^{2}{\\left (r \\right )} B^{2}{\\left (r \\right )}} \\left(2 r A{\\left (r \\right )} B{\\left (r \\right )} \\frac{d^{2}}{d r^{2}}  A{\\left (r \\right )} - r A{\\left (r \\right )} \\frac{d}{d r} A{\\left (r \\right )} \\frac{d}{d r} B{\\left (r \\right )} - r B{\\left (r \\right )} \\left(\\frac{d}{d r} A{\\left (r \\right )}\\right)^{2} - 2 A^{2}{\\left (r \\right )} \\frac{d}{d r} B{\\left (r \\right )} + 2 A{\\left (r \\right )} B{\\left (r \\right )} \\frac{d}{d r} A{\\left (r \\right )}\\right)\\end{matrix}\\right]$$"
      ],
      "text/plain": [
       "⎡⎛  d           2          ⎞                                                  \n",
       "⎢⎜r⋅──(B(r)) + B (r) - B(r)⎟⋅A(r)                                             \n",
       "⎢⎝  dr                     ⎠                                                  \n",
       "⎢────────────────────────────────           0                                 \n",
       "⎢             2  2                                                            \n",
       "⎢            r ⋅B (r)                                                         \n",
       "⎢                                                                             \n",
       "⎢                                  d                                          \n",
       "⎢                                  ──(A(r))                                   \n",
       "⎢                                  dr         B(r)   1                        \n",
       "⎢               0                  ──────── - ──── + ──                       \n",
       "⎢                                   r⋅A(r)      2     2                       \n",
       "⎢                                              r     r                        \n",
       "⎢                                                                             \n",
       "⎢                                                          ⎛                2 \n",
       "⎢                                                          ⎜               d  \n",
       "⎢                                                        r⋅⎜2⋅r⋅A(r)⋅B(r)⋅───(\n",
       "⎢                                                          ⎜                2 \n",
       "⎢                                                          ⎝              dr  \n",
       "⎢               0                           0            ─────────────────────\n",
       "⎢                                                                             \n",
       "⎢                                                                             \n",
       "⎢                                                                             \n",
       "⎢                                                                             \n",
       "⎢                                                                             \n",
       "⎢                                                                             \n",
       "⎢                                                                             \n",
       "⎢                                                                             \n",
       "⎢               0                           0                                 \n",
       "⎢                                                                             \n",
       "⎣                                                                             \n",
       "\n",
       "                                                                              \n",
       "                                                                              \n",
       "                                                                              \n",
       "                                     0                                        \n",
       "                                                                              \n",
       "                                                                              \n",
       "                                                                              \n",
       "                                                                              \n",
       "                                                                              \n",
       "                                                                              \n",
       "                                     0                                        \n",
       "                                                                              \n",
       "                                                                              \n",
       "                                                                              \n",
       "                                                    2                         \n",
       "               d        d                 ⎛d       ⎞       2    d             \n",
       "A(r)) - r⋅A(r)⋅──(A(r))⋅──(B(r)) - r⋅B(r)⋅⎜──(A(r))⎟  - 2⋅A (r)⋅──(B(r)) + 2⋅A\n",
       "               dr       dr                ⎝dr      ⎠            dr            \n",
       "                                                                              \n",
       "──────────────────────────────────────────────────────────────────────────────\n",
       "                                  2     2                                     \n",
       "                               4⋅A (r)⋅B (r)                                  \n",
       "                                                                              \n",
       "                                                                              \n",
       "                                                                              \n",
       "                                                                              \n",
       "                                                                              \n",
       "                                                                              \n",
       "                                     0                                        \n",
       "                                                                              \n",
       "                                                                              \n",
       "\n",
       "                                                                              \n",
       "                                                                              \n",
       "                                                                              \n",
       "                                                                              \n",
       "                                                                              \n",
       "                                                                              \n",
       "                                                                              \n",
       "                                                                              \n",
       "                                                                              \n",
       "                                                                              \n",
       "                                                                              \n",
       "                                                                              \n",
       "                                                                              \n",
       "                                                                              \n",
       "                 ⎞                                                            \n",
       "         d       ⎟                                                            \n",
       "(r)⋅B(r)⋅──(A(r))⎟                                                            \n",
       "         dr      ⎟                                                            \n",
       "                 ⎠                                                            \n",
       "──────────────────                                                            \n",
       "                                                                              \n",
       "                                                                              \n",
       "                                                                              \n",
       "                      ⎛                2                                      \n",
       "                      ⎜               d                 d        d            \n",
       "                    r⋅⎜2⋅r⋅A(r)⋅B(r)⋅───(A(r)) - r⋅A(r)⋅──(A(r))⋅──(B(r)) - r⋅\n",
       "                      ⎜                2                dr       dr           \n",
       "                      ⎝              dr                                       \n",
       "                    ──────────────────────────────────────────────────────────\n",
       "                                                                              \n",
       "                                                                              \n",
       "\n",
       "                                                                        ⎤\n",
       "                                                                        ⎥\n",
       "                                                                        ⎥\n",
       "      0                                                                 ⎥\n",
       "                                                                        ⎥\n",
       "                                                                        ⎥\n",
       "                                                                        ⎥\n",
       "                                                                        ⎥\n",
       "                                                                        ⎥\n",
       "                                                                        ⎥\n",
       "      0                                                                 ⎥\n",
       "                                                                        ⎥\n",
       "                                                                        ⎥\n",
       "                                                                        ⎥\n",
       "                                                                        ⎥\n",
       "                                                                        ⎥\n",
       "                                                                        ⎥\n",
       "                                                                        ⎥\n",
       "                                                                        ⎥\n",
       "      0                                                                 ⎥\n",
       "                                                                        ⎥\n",
       "                                                                        ⎥\n",
       "                                                                        ⎥\n",
       "               2                                          ⎞             ⎥\n",
       "     ⎛d       ⎞       2    d                      d       ⎟    2        ⎥\n",
       "B(r)⋅⎜──(A(r))⎟  - 2⋅A (r)⋅──(B(r)) + 2⋅A(r)⋅B(r)⋅──(A(r))⎟⋅sin (\\theta)⎥\n",
       "     ⎝dr      ⎠            dr                     dr      ⎟             ⎥\n",
       "                                                          ⎠             ⎥\n",
       "────────────────────────────────────────────────────────────────────────⎥\n",
       "   2     2                                                              ⎥\n",
       "4⋅A (r)⋅B (r)                                                           ⎦"
      ]
     },
     "execution_count": 7,
     "metadata": {},
     "output_type": "execute_result"
    }
   ],
   "source": [
    "Einst(All, All)"
   ]
  },
  {
   "cell_type": "markdown",
   "metadata": {},
   "source": [
    "It turns out that $G_{22}$ and $G_{33}$ are trivially related by a factor $\\sin(\\theta)^2$, so that it is sufficient to \n",
    "solve the set of equations\n",
    "$$G_{00}=0,\\quad G_{11}=0,\\quad G_{22}=0.$$\n",
    "We note that the first equation essentially depends only on $B(r)$. Therefore, we start by solving this equation. In order to ensure that for $r\\to\\infty$ we obtain the Minkowski metric, we divide the solution by the corresponding limit:"
   ]
  },
  {
   "cell_type": "code",
   "execution_count": 8,
   "metadata": {},
   "outputs": [
    {
     "data": {
      "image/png": "[encoded data removed]",
      "text/latex": [
       "$$\\frac{r}{C_{1} + r}$$"
      ],
      "text/plain": [
       "  r   \n",
       "──────\n",
       "C₁ + r"
      ]
     },
     "execution_count": 8,
     "metadata": {},
     "output_type": "execute_result"
    }
   ],
   "source": [
    "B_solution = dsolve(Einst(1, 1), B(r)).rhs\n",
    "B_solution = B_solution/limit(B_solution, r, oo)\n",
    "B_solution"
   ]
  },
  {
   "cell_type": "markdown",
   "metadata": {},
   "source": [
    "In the next step, we use this result to solve the second equation for the function $A(r)$:"
   ]
  },
  {
   "cell_type": "code",
   "execution_count": 9,
   "metadata": {},
   "outputs": [
    {
     "data": {
      "image/png": "[encoded data removed]",
      "text/latex": [
       "$$\\frac{C_{2}}{r} + 1$$"
      ],
      "text/plain": [
       "C₂    \n",
       "── + 1\n",
       "r     "
      ]
     },
     "execution_count": 9,
     "metadata": {},
     "output_type": "execute_result"
    }
   ],
   "source": [
    "A_solution = dsolve(Einst(2, 2).subs(B(r), B_solution), A(r)).rhs\n",
    "A_solution = A_solution/limit(A_solution, r, oo)\n",
    "A_solution"
   ]
  },
  {
   "cell_type": "markdown",
   "metadata": {},
   "source": [
    "We are thus left with two constants $C_1$ and $C_2$ which have to be chose such that they satisfy the third equation:"
   ]
  },
  {
   "cell_type": "code",
   "execution_count": 10,
   "metadata": {},
   "outputs": [
    {
     "data": {
      "image/png": "[encoded data removed]",
      "text/latex": [
       "$$\\left [ \\left \\{ C_{1} : C_{2}\\right \\}\\right ]$$"
      ],
      "text/plain": [
       "[{C₁: C₂}]"
      ]
     },
     "execution_count": 10,
     "metadata": {},
     "output_type": "execute_result"
    }
   ],
   "source": [
    "C1, C2 = symbols('C1, C2')\n",
    "C_solution = solve(Einst(3, 3).subs(A(r), A_solution).subs(B(r), B_solution).doit(), C1, C2, dict=True)\n",
    "C_solution"
   ]
  },
  {
   "cell_type": "markdown",
   "metadata": {},
   "source": [
    "It turns out that $C_1\\overset{!}{=}C_2$, which we insert into the solution for $B(r)$."
   ]
  },
  {
   "cell_type": "code",
   "execution_count": 11,
   "metadata": {},
   "outputs": [
    {
     "data": {
      "image/png": "[encoded data removed]",
      "text/latex": [
       "$$\\frac{r}{C_{2} + r}$$"
      ],
      "text/plain": [
       "  r   \n",
       "──────\n",
       "C₂ + r"
      ]
     },
     "execution_count": 11,
     "metadata": {},
     "output_type": "execute_result"
    }
   ],
   "source": [
    "B_solution = B_solution.subs(C_solution[0])\n",
    "B_solution"
   ]
  },
  {
   "cell_type": "markdown",
   "metadata": {},
   "source": [
    "We are left with one free parameter which was to be expected because the mass $M$ of the central object should remain as a parameter. The parameter can be determined by comparing the spectral shift obtained from our solution with the spectral shift obtained from the Newtonian gravitational field ad demanded by the equivalence principle. Assuming that the frequency $\\nu(r)$ of a photon at radial coordinate $r$ is measured when its frequency at infinity was $\\nu(\\infty)$, we have\n",
    "$$\\frac{\\nu(r)}{\\nu(\\infty)} = \\frac{1}{\\sqrt{-g_{00}}} \\overset{!}{=} 1+\\frac{GM}{c^2r}.$$"
   ]
  },
  {
   "cell_type": "code",
   "execution_count": 12,
   "metadata": {},
   "outputs": [
    {
     "data": {
      "image/png": "[encoded data removed]",
      "text/latex": [
       "$$\\left \\{ C_{2} : - \\frac{2 G}{c^{2}} M\\right \\}$$"
      ],
      "text/plain": [
       "⎧    -2⋅G⋅M ⎫\n",
       "⎪C₂: ───────⎪\n",
       "⎨        2  ⎬\n",
       "⎪       c   ⎪\n",
       "⎩           ⎭"
      ]
     },
     "execution_count": 12,
     "metadata": {},
     "output_type": "execute_result"
    }
   ],
   "source": [
    "g00 = g(1, 1).subs(A(r), A_solution)\n",
    "coeff_one_over_r = series(1/sqrt(-g00), 1/r, 0, 2).coeff(r, -1)\n",
    "G, M, c = symbols('G, M, c')\n",
    "c2_solution = solve(coeff_one_over_r-G*M/c**2, C2, dict=True)[0]\n",
    "c2_solution"
   ]
  },
  {
   "cell_type": "markdown",
   "metadata": {},
   "source": [
    "We thus obtain the functions $A(r)$ and $B(r)$ as"
   ]
  },
  {
   "cell_type": "code",
   "execution_count": 13,
   "metadata": {},
   "outputs": [
    {
     "data": {
      "image/png": "[encoded data removed]",
      "text/latex": [
       "$$\\left ( - \\frac{2 G M}{c^{2} r} + 1, \\quad \\frac{r}{- \\frac{2 G}{c^{2}} M + r}\\right )$$"
      ],
      "text/plain": [
       "⎛  2⋅G⋅M           r     ⎞\n",
       "⎜- ───── + 1, ───────────⎟\n",
       "⎜    2          2⋅G⋅M    ⎟\n",
       "⎜   c ⋅r      - ───── + r⎟\n",
       "⎜                  2     ⎟\n",
       "⎝                 c      ⎠"
      ]
     },
     "execution_count": 13,
     "metadata": {},
     "output_type": "execute_result"
    }
   ],
   "source": [
    "A_solution = A_solution.subs(c2_solution)\n",
    "B_solution = B_solution.subs(c2_solution)\n",
    "A_solution, B_solution"
   ]
  },
  {
   "cell_type": "code",
   "execution_count": 14,
   "metadata": {},
   "outputs": [
    {
     "data": {
      "image/png": "[encoded data removed]",
      "text/latex": [
       "$$\\left[\\begin{matrix}\\frac{2 G M}{c^{2} r} - 1 & 0 & 0 & 0\\\\0 & \\frac{r}{- \\frac{2 G}{c^{2}} M + r} & 0 & 0\\\\0 & 0 & r^{2} & 0\\\\0 & 0 & 0 & r^{2} \\sin^{2}{\\left (\\theta \\right )}\\end{matrix}\\right]$$"
      ],
      "text/plain": [
       "⎡2⋅G⋅M                                      ⎤\n",
       "⎢───── - 1       0       0          0       ⎥\n",
       "⎢  2                                        ⎥\n",
       "⎢ c ⋅r                                      ⎥\n",
       "⎢                                           ⎥\n",
       "⎢                r                          ⎥\n",
       "⎢    0      ───────────  0          0       ⎥\n",
       "⎢             2⋅G⋅M                         ⎥\n",
       "⎢           - ───── + r                     ⎥\n",
       "⎢                2                          ⎥\n",
       "⎢               c                           ⎥\n",
       "⎢                                           ⎥\n",
       "⎢                         2                 ⎥\n",
       "⎢    0           0       r          0       ⎥\n",
       "⎢                                           ⎥\n",
       "⎢                             2    2        ⎥\n",
       "⎣    0           0       0   r ⋅sin (\\theta)⎦"
      ]
     },
     "execution_count": 14,
     "metadata": {},
     "output_type": "execute_result"
    }
   ],
   "source": [
    "Metric = diag(-A_solution, B_solution, r**2, r**2*sin(theta)**2)\n",
    "g = MetricTensor('g', x, Metric)\n",
    "g(All, All)"
   ]
  },
  {
   "cell_type": "markdown",
   "metadata": {},
   "source": [
    "With the Schwarzschild radius\n",
    "$$r_\\mathrm{S} = \\frac{2GM}{c^2},$$\n",
    "our final result for the Schwarzschild line element thus reads\n",
    "$$\\mathrm{d}s^2 = -\\left(1-\\frac{r_\\text{S}}{r}\\right)c^2\\mathrm{d}t^2+\\frac{1}{1-\\frac{r_\\text{S}}{r}}\\mathrm{d}r^2+r^2\\mathrm{d}\\theta^2+r^2\\sin(\\theta)^2\\mathrm{d}\\phi^2.$$\n",
    "The Einstein tensor indeed vanishes as it should:"
   ]
  },
  {
   "cell_type": "code",
   "execution_count": 15,
   "metadata": {},
   "outputs": [
    {
     "data": {
      "image/png": "[encoded data removed]",
      "text/latex": [
       "$$\\left[\\begin{matrix}0 & 0 & 0 & 0\\\\0 & 0 & 0 & 0\\\\0 & 0 & 0 & 0\\\\0 & 0 & 0 & 0\\end{matrix}\\right]$$"
      ],
      "text/plain": [
       "⎡0  0  0  0⎤\n",
       "⎢          ⎥\n",
       "⎢0  0  0  0⎥\n",
       "⎢          ⎥\n",
       "⎢0  0  0  0⎥\n",
       "⎢          ⎥\n",
       "⎣0  0  0  0⎦"
      ]
     },
     "execution_count": 15,
     "metadata": {},
     "output_type": "execute_result"
    }
   ],
   "source": [
    "Ga = Christoffel('Ga', g)\n",
    "Ric = Ricci('Ric', g)\n",
    "Einst = Einstein('Einst', Ric)\n",
    "Einst(All, All)"
   ]
  },
  {
   "cell_type": "markdown",
   "metadata": {},
   "source": [
    "The Riemann tensor, on the other hand, contains non-vanishing elements. The space-time in the source-free region described by the Schwarzschild metric is thus curved."
   ]
  },
  {
   "cell_type": "code",
   "execution_count": 16,
   "metadata": {},
   "outputs": [
    {
     "data": {
      "image/png": "[encoded data removed]",
      "text/latex": [
       "$$\\left[\\begin{matrix}\\left[\\begin{matrix}0 & 0 & 0 & 0\\\\0 & 0 & 0 & 0\\\\0 & 0 & 0 & 0\\\\0 & 0 & 0 & 0\\end{matrix}\\right] & \\left[\\begin{matrix}0 & - \\frac{2 G M}{c^{2} r^{3}} & 0 & 0\\\\\\frac{2 G M}{c^{2} r^{3}} & 0 & 0 & 0\\\\0 & 0 & 0 & 0\\\\0 & 0 & 0 & 0\\end{matrix}\\right] & \\left[\\begin{matrix}0 & 0 & \\frac{G M}{c^{4} r^{2}} \\left(- 2 G M + c^{2} r\\right) & 0\\\\0 & 0 & 0 & 0\\\\- \\frac{G M}{c^{4} r^{2}} \\left(- 2 G M + c^{2} r\\right) & 0 & 0 & 0\\\\0 & 0 & 0 & 0\\end{matrix}\\right] & \\left[\\begin{matrix}0 & 0 & 0 & \\frac{G M}{c^{4} r^{2}} \\left(- 2 G M + c^{2} r\\right) \\sin^{2}{\\left (\\theta \\right )}\\\\0 & 0 & 0 & 0\\\\0 & 0 & 0 & 0\\\\- \\frac{G M}{c^{4} r^{2}} \\left(- 2 G M + c^{2} r\\right) \\sin^{2}{\\left (\\theta \\right )} & 0 & 0 & 0\\end{matrix}\\right]\\\\\\left[\\begin{matrix}0 & \\frac{2 G M}{c^{2} r^{3}} & 0 & 0\\\\- \\frac{2 G M}{c^{2} r^{3}} & 0 & 0 & 0\\\\0 & 0 & 0 & 0\\\\0 & 0 & 0 & 0\\end{matrix}\\right] & \\left[\\begin{matrix}0 & 0 & 0 & 0\\\\0 & 0 & 0 & 0\\\\0 & 0 & 0 & 0\\\\0 & 0 & 0 & 0\\end{matrix}\\right] & \\left[\\begin{matrix}0 & 0 & 0 & 0\\\\0 & 0 & \\frac{G M}{2 G M - c^{2} r} & 0\\\\0 & - \\frac{G M}{2 G M - c^{2} r} & 0 & 0\\\\0 & 0 & 0 & 0\\end{matrix}\\right] & \\left[\\begin{matrix}0 & 0 & 0 & 0\\\\0 & 0 & 0 & \\frac{G M \\sin^{2}{\\left (\\theta \\right )}}{2 G M - c^{2} r}\\\\0 & 0 & 0 & 0\\\\0 & - \\frac{G M \\sin^{2}{\\left (\\theta \\right )}}{2 G M - c^{2} r} & 0 & 0\\end{matrix}\\right]\\\\\\left[\\begin{matrix}0 & 0 & - \\frac{G M}{c^{4} r^{2}} \\left(- 2 G M + c^{2} r\\right) & 0\\\\0 & 0 & 0 & 0\\\\\\frac{G M}{c^{4} r^{2}} \\left(- 2 G M + c^{2} r\\right) & 0 & 0 & 0\\\\0 & 0 & 0 & 0\\end{matrix}\\right] & \\left[\\begin{matrix}0 & 0 & 0 & 0\\\\0 & 0 & - \\frac{G M}{2 G M - c^{2} r} & 0\\\\0 & \\frac{G M}{2 G M - c^{2} r} & 0 & 0\\\\0 & 0 & 0 & 0\\end{matrix}\\right] & \\left[\\begin{matrix}0 & 0 & 0 & 0\\\\0 & 0 & 0 & 0\\\\0 & 0 & 0 & 0\\\\0 & 0 & 0 & 0\\end{matrix}\\right] & \\left[\\begin{matrix}0 & 0 & 0 & 0\\\\0 & 0 & 0 & 0\\\\0 & 0 & 0 & \\frac{2 G}{c^{2}} M r \\sin^{2}{\\left (\\theta \\right )}\\\\0 & 0 & - \\frac{2 G}{c^{2}} M r \\sin^{2}{\\left (\\theta \\right )} & 0\\end{matrix}\\right]\\\\\\left[\\begin{matrix}0 & 0 & 0 & - \\frac{G M}{c^{4} r^{2}} \\left(- 2 G M + c^{2} r\\right) \\sin^{2}{\\left (\\theta \\right )}\\\\0 & 0 & 0 & 0\\\\0 & 0 & 0 & 0\\\\\\frac{G M}{c^{4} r^{2}} \\left(- 2 G M + c^{2} r\\right) \\sin^{2}{\\left (\\theta \\right )} & 0 & 0 & 0\\end{matrix}\\right] & \\left[\\begin{matrix}0 & 0 & 0 & 0\\\\0 & 0 & 0 & - \\frac{G M \\sin^{2}{\\left (\\theta \\right )}}{2 G M - c^{2} r}\\\\0 & 0 & 0 & 0\\\\0 & \\frac{G M \\sin^{2}{\\left (\\theta \\right )}}{2 G M - c^{2} r} & 0 & 0\\end{matrix}\\right] & \\left[\\begin{matrix}0 & 0 & 0 & 0\\\\0 & 0 & 0 & 0\\\\0 & 0 & 0 & - \\frac{2 G}{c^{2}} M r \\sin^{2}{\\left (\\theta \\right )}\\\\0 & 0 & \\frac{2 G}{c^{2}} M r \\sin^{2}{\\left (\\theta \\right )} & 0\\end{matrix}\\right] & \\left[\\begin{matrix}0 & 0 & 0 & 0\\\\0 & 0 & 0 & 0\\\\0 & 0 & 0 & 0\\\\0 & 0 & 0 & 0\\end{matrix}\\right]\\end{matrix}\\right]$$"
      ],
      "text/plain": [
       "⎡                                                                             \n",
       "⎢                                                                             \n",
       "⎢                                                                             \n",
       "⎢                                                                             \n",
       "⎢                                ⎡0  0  0  0⎤                                 \n",
       "⎢                                ⎢          ⎥                                 \n",
       "⎢                                ⎢0  0  0  0⎥                                 \n",
       "⎢                                ⎢          ⎥                                 \n",
       "⎢                                ⎢0  0  0  0⎥                                 \n",
       "⎢                                ⎢          ⎥                                 \n",
       "⎢                                ⎣0  0  0  0⎦                                 \n",
       "⎢                                                                             \n",
       "⎢                                                                             \n",
       "⎢                                                                             \n",
       "⎢                                                                             \n",
       "⎢                                                                             \n",
       "⎢                                                                             \n",
       "⎢                           ⎡         2⋅G⋅M      ⎤                            \n",
       "⎢                           ⎢   0     ─────  0  0⎥                            \n",
       "⎢                           ⎢          2  3      ⎥                            \n",
       "⎢                           ⎢         c ⋅r       ⎥                            \n",
       "⎢                           ⎢                    ⎥                            \n",
       "⎢                           ⎢-2⋅G⋅M              ⎥                            \n",
       "⎢                           ⎢───────    0    0  0⎥                            \n",
       "⎢                           ⎢  2  3              ⎥                            \n",
       "⎢                           ⎢ c ⋅r               ⎥                            \n",
       "⎢                           ⎢                    ⎥                            \n",
       "⎢                           ⎢   0       0    0  0⎥                            \n",
       "⎢                           ⎢                    ⎥                            \n",
       "⎢                           ⎣   0       0    0  0⎦                            \n",
       "⎢                                                                             \n",
       "⎢                                                                             \n",
       "⎢             ⎡                             ⎛          2  ⎞    ⎤              \n",
       "⎢             ⎢                        -G⋅M⋅⎝-2⋅G⋅M + c ⋅r⎠    ⎥              \n",
       "⎢             ⎢         0           0  ─────────────────────  0⎥              \n",
       "⎢             ⎢                                 4  2           ⎥              \n",
       "⎢             ⎢                                c ⋅r            ⎥              \n",
       "⎢             ⎢                                                ⎥              \n",
       "⎢             ⎢         0           0            0            0⎥              \n",
       "⎢             ⎢                                                ⎥              \n",
       "⎢             ⎢    ⎛          2  ⎞                             ⎥              \n",
       "⎢             ⎢G⋅M⋅⎝-2⋅G⋅M + c ⋅r⎠                             ⎥              \n",
       "⎢             ⎢───────────────────  0            0            0⎥              \n",
       "⎢             ⎢        4  2                                    ⎥              \n",
       "⎢             ⎢       c ⋅r                                     ⎥              \n",
       "⎢             ⎢                                                ⎥              \n",
       "⎢             ⎣         0           0            0            0⎦              \n",
       "⎢                                                                             \n",
       "⎢⎡                                             ⎛          2  ⎞    2         ⎤ \n",
       "⎢⎢                                        -G⋅M⋅⎝-2⋅G⋅M + c ⋅r⎠⋅sin (\\theta) ⎥ \n",
       "⎢⎢               0                  0  0  ──────────────────────────────────⎥ \n",
       "⎢⎢                                                       4  2               ⎥ \n",
       "⎢⎢                                                      c ⋅r                ⎥ \n",
       "⎢⎢                                                                          ⎥ \n",
       "⎢⎢               0                  0  0                  0                 ⎥ \n",
       "⎢⎢                                                                          ⎥ \n",
       "⎢⎢               0                  0  0                  0                 ⎥ \n",
       "⎢⎢                                                                          ⎥ \n",
       "⎢⎢    ⎛          2  ⎞    2                                                  ⎥ \n",
       "⎢⎢G⋅M⋅⎝-2⋅G⋅M + c ⋅r⎠⋅sin (\\theta)                                          ⎥ \n",
       "⎢⎢────────────────────────────────  0  0                  0                 ⎥ \n",
       "⎢⎢              4  2                                                        ⎥ \n",
       "⎣⎣             c ⋅r                                                         ⎦ \n",
       "\n",
       "                                                ⎡                             \n",
       "            ⎡       -2⋅G⋅M       ⎤              ⎢                          G⋅M\n",
       "            ⎢  0    ───────  0  0⎥              ⎢          0            0  ───\n",
       "            ⎢         2  3       ⎥              ⎢                             \n",
       "            ⎢        c ⋅r        ⎥              ⎢                             \n",
       "            ⎢                    ⎥              ⎢                             \n",
       "            ⎢2⋅G⋅M               ⎥              ⎢          0            0     \n",
       "            ⎢─────     0     0  0⎥              ⎢                             \n",
       "            ⎢ 2  3               ⎥              ⎢     ⎛          2  ⎞         \n",
       "            ⎢c ⋅r                ⎥              ⎢-G⋅M⋅⎝-2⋅G⋅M + c ⋅r⎠         \n",
       "            ⎢                    ⎥              ⎢─────────────────────  0     \n",
       "            ⎢  0       0     0  0⎥              ⎢         4  2                \n",
       "            ⎢                    ⎥              ⎢        c ⋅r                 \n",
       "            ⎣  0       0     0  0⎦              ⎢                             \n",
       "                                                ⎣          0            0     \n",
       "                                                                              \n",
       "                                                                              \n",
       "                                                        ⎡0       0            \n",
       "                                                        ⎢                     \n",
       "                                                        ⎢                     \n",
       "                 ⎡0  0  0  0⎤                           ⎢0       0        ────\n",
       "                 ⎢          ⎥                           ⎢                     \n",
       "                 ⎢0  0  0  0⎥                           ⎢                 2⋅G⋅\n",
       "                 ⎢          ⎥                           ⎢                     \n",
       "                 ⎢0  0  0  0⎥                           ⎢      -G⋅M           \n",
       "                 ⎢          ⎥                           ⎢0  ────────────      \n",
       "                 ⎣0  0  0  0⎦                           ⎢            2        \n",
       "                                                        ⎢   2⋅G⋅M - c ⋅r      \n",
       "                                                        ⎢                     \n",
       "                                                        ⎣0       0            \n",
       "                                                                              \n",
       "                                                                              \n",
       "                                                                              \n",
       "      ⎡0       0             0        0⎤                                      \n",
       "      ⎢                                ⎥                                      \n",
       "      ⎢                    -G⋅M        ⎥                                      \n",
       "      ⎢0       0        ────────────  0⎥                           ⎡0  0  0  0\n",
       "      ⎢                          2     ⎥                           ⎢          \n",
       "      ⎢                 2⋅G⋅M - c ⋅r   ⎥                           ⎢0  0  0  0\n",
       "      ⎢                                ⎥                           ⎢          \n",
       "      ⎢       G⋅M                      ⎥                           ⎢0  0  0  0\n",
       "      ⎢0  ────────────       0        0⎥                           ⎢          \n",
       "      ⎢            2                   ⎥                           ⎣0  0  0  0\n",
       "      ⎢   2⋅G⋅M - c ⋅r                 ⎥                                      \n",
       "      ⎢                                ⎥                                      \n",
       "      ⎣0       0             0        0⎦                                      \n",
       "                                                                              \n",
       "                                                                              \n",
       " ⎡0         0          0          0         ⎤  ⎡0  0           0              \n",
       " ⎢                                          ⎥  ⎢                              \n",
       " ⎢                                2         ⎥  ⎢0  0           0              \n",
       " ⎢                        -G⋅M⋅sin (\\theta) ⎥  ⎢                              \n",
       " ⎢0         0          0  ──────────────────⎥  ⎢                              \n",
       " ⎢                                    2     ⎥  ⎢                            -2\n",
       " ⎢                           2⋅G⋅M - c ⋅r   ⎥  ⎢0  0           0            ──\n",
       " ⎢                                          ⎥  ⎢                              \n",
       " ⎢0         0          0          0         ⎥  ⎢                              \n",
       " ⎢                                          ⎥  ⎢                              \n",
       " ⎢          2                               ⎥  ⎢                 2            \n",
       " ⎢   G⋅M⋅sin (\\theta)                       ⎥  ⎢      2⋅G⋅M⋅r⋅sin (\\theta)    \n",
       " ⎢0  ────────────────  0          0         ⎥  ⎢0  0  ────────────────────    \n",
       " ⎢              2                           ⎥  ⎢                2             \n",
       " ⎣     2⋅G⋅M - c ⋅r                         ⎦  ⎣               c              \n",
       "\n",
       " ⎛          2  ⎞   ⎤   ⎡                                              ⎛       \n",
       "⋅⎝-2⋅G⋅M + c ⋅r⎠   ⎥   ⎢                                          G⋅M⋅⎝-2⋅G⋅M \n",
       "────────────────  0⎥   ⎢                0                   0  0  ────────────\n",
       "     4  2          ⎥   ⎢                                                      \n",
       "    c ⋅r           ⎥   ⎢                                                      \n",
       "                   ⎥   ⎢                                                      \n",
       "      0           0⎥   ⎢                0                   0  0              \n",
       "                   ⎥   ⎢                                                      \n",
       "                   ⎥   ⎢                0                   0  0              \n",
       "                   ⎥   ⎢                                                      \n",
       "      0           0⎥   ⎢     ⎛          2  ⎞    2                             \n",
       "                   ⎥   ⎢-G⋅M⋅⎝-2⋅G⋅M + c ⋅r⎠⋅sin (\\theta)                     \n",
       "                   ⎥   ⎢──────────────────────────────────  0  0              \n",
       "                   ⎥   ⎢               4  2                                   \n",
       "      0           0⎦   ⎣              c ⋅r                                    \n",
       "                                                                              \n",
       "                                       ⎡0          0           0         0    \n",
       " 0        0⎤                           ⎢                                      \n",
       "           ⎥                           ⎢                                 2    \n",
       "G⋅M        ⎥                           ⎢                          G⋅M⋅sin (\\th\n",
       "────────  0⎥                           ⎢0          0           0  ────────────\n",
       "     2     ⎥                           ⎢                                     2\n",
       "M - c ⋅r   ⎥                           ⎢                            2⋅G⋅M - c \n",
       "           ⎥                           ⎢                                      \n",
       "           ⎥                           ⎢0          0           0         0    \n",
       " 0        0⎥                           ⎢                                      \n",
       "           ⎥                           ⎢           2                          \n",
       "           ⎥                           ⎢   -G⋅M⋅sin (\\theta)                  \n",
       "           ⎥                           ⎢0  ──────────────────  0         0    \n",
       " 0        0⎦                           ⎢               2                      \n",
       "                                       ⎣      2⋅G⋅M - c ⋅r                    \n",
       "                                                                              \n",
       "                                   ⎡0  0            0                      0  \n",
       "                                   ⎢                                          \n",
       "                                   ⎢0  0            0                      0  \n",
       "                                   ⎢                                          \n",
       "⎤                                  ⎢                                         2\n",
       "⎥                                  ⎢                              2⋅G⋅M⋅r⋅sin \n",
       "⎥                                  ⎢0  0            0             ────────────\n",
       "⎥                                  ⎢                                        2 \n",
       "⎥                                  ⎢                                       c  \n",
       "⎥                                  ⎢                                          \n",
       "⎦                                  ⎢                  2                       \n",
       "                                   ⎢      -2⋅G⋅M⋅r⋅sin (\\theta)               \n",
       "                                   ⎢0  0  ──────────────────────           0  \n",
       "                                   ⎢                 2                        \n",
       "                                   ⎣                c                         \n",
       "                                                                              \n",
       "        0           ⎤                                                         \n",
       "                    ⎥                                                         \n",
       "        0           ⎥                                                         \n",
       "                    ⎥                                                         \n",
       "          2         ⎥                                  ⎡0  0  0  0⎤           \n",
       "⋅G⋅M⋅r⋅sin (\\theta) ⎥                                  ⎢          ⎥           \n",
       "────────────────────⎥                                  ⎢0  0  0  0⎥           \n",
       "         2          ⎥                                  ⎢          ⎥           \n",
       "        c           ⎥                                  ⎢0  0  0  0⎥           \n",
       "                    ⎥                                  ⎢          ⎥           \n",
       "                    ⎥                                  ⎣0  0  0  0⎦           \n",
       "                    ⎥                                                         \n",
       "        0           ⎥                                                         \n",
       "                    ⎥                                                         \n",
       "                    ⎦                                                         \n",
       "\n",
       "   2  ⎞    2        ⎤⎤\n",
       "+ c ⋅r⎠⋅sin (\\theta)⎥⎥\n",
       "────────────────────⎥⎥\n",
       "  4  2              ⎥⎥\n",
       " c ⋅r               ⎥⎥\n",
       "                    ⎥⎥\n",
       "   0                ⎥⎥\n",
       "                    ⎥⎥\n",
       "   0                ⎥⎥\n",
       "                    ⎥⎥\n",
       "                    ⎥⎥\n",
       "                    ⎥⎥\n",
       "   0                ⎥⎥\n",
       "                    ⎥⎥\n",
       "                    ⎦⎥\n",
       "                     ⎥\n",
       "    ⎤                ⎥\n",
       "    ⎥                ⎥\n",
       "    ⎥                ⎥\n",
       "eta)⎥                ⎥\n",
       "────⎥                ⎥\n",
       "    ⎥                ⎥\n",
       "⋅r  ⎥                ⎥\n",
       "    ⎥                ⎥\n",
       "    ⎥                ⎥\n",
       "    ⎥                ⎥\n",
       "    ⎥                ⎥\n",
       "    ⎥                ⎥\n",
       "    ⎥                ⎥\n",
       "    ⎥                ⎥\n",
       "    ⎦                ⎥\n",
       "                     ⎥\n",
       "        ⎤            ⎥\n",
       "        ⎥            ⎥\n",
       "        ⎥            ⎥\n",
       "        ⎥            ⎥\n",
       "        ⎥            ⎥\n",
       "(\\theta)⎥            ⎥\n",
       "────────⎥            ⎥\n",
       "        ⎥            ⎥\n",
       "        ⎥            ⎥\n",
       "        ⎥            ⎥\n",
       "        ⎥            ⎥\n",
       "        ⎥            ⎥\n",
       "        ⎥            ⎥\n",
       "        ⎥            ⎥\n",
       "        ⎦            ⎥\n",
       "                     ⎥\n",
       "                     ⎥\n",
       "                     ⎥\n",
       "                     ⎥\n",
       "                     ⎥\n",
       "                     ⎥\n",
       "                     ⎥\n",
       "                     ⎥\n",
       "                     ⎥\n",
       "                     ⎥\n",
       "                     ⎥\n",
       "                     ⎥\n",
       "                     ⎥\n",
       "                     ⎥\n",
       "                     ⎥\n",
       "                     ⎦"
      ]
     },
     "execution_count": 16,
     "metadata": {},
     "output_type": "execute_result"
    }
   ],
   "source": [
    "Rm = Riemann('Rm', g)\n",
    "Rm(All, All, All, All)"
   ]
  },
  {
   "cell_type": "markdown",
   "metadata": {},
   "source": [
    "The metric in the coordinates chosen here contains two singularities, namely at $r=0$ and $r=r_\\mathrm{S}$. In order to decide which one of those is a real singularity, we determine the Kretschmann invariant\n",
    "$$R_{\\mu\\nu\\rho\\sigma}R^{\\mu\\nu\\rho\\sigma}.$$\n",
    "This quantity is independent of the chose coordinates"
   ]
  },
  {
   "cell_type": "code",
   "execution_count": 17,
   "metadata": {},
   "outputs": [
    {
     "data": {
      "image/png": "[encoded data removed]",
      "text/latex": [
       "$$\\frac{48 G^{2} M^{2}}{c^{4} r^{6}}$$"
      ],
      "text/plain": [
       "    2  2\n",
       "48⋅G ⋅M \n",
       "────────\n",
       "  4  6  \n",
       " c ⋅r   "
      ]
     },
     "execution_count": 17,
     "metadata": {},
     "output_type": "execute_result"
    }
   ],
   "source": [
    "from itertools import product\n",
    "Kretschmann = symbols('Kretschmann')\n",
    "Kretschmann = 0\n",
    "for mu, nu, rho, sigma in product(range(1, 5), repeat=4):\n",
    "    Kretschmann = Kretschmann+Rm(mu, nu, rho, sigma)*Rm(-mu, -nu, -rho, -sigma)\n",
    "simplify(Kretschmann)"
   ]
  },
  {
   "cell_type": "markdown",
   "metadata": {},
   "source": [
    "Indeed, the only singularity of the Schwarzschild metric is found at $r=0$. The singularity at $r_\\mathrm{S}$ can be removed by a appropriate choice of coordinates."
   ]
  }
 ],
 "metadata": {
  "kernelspec": {
   "display_name": "Python 3",
   "language": "python",
   "name": "python3"
  },
  "language_info": {
   "codemirror_mode": {
    "name": "ipython",
    "version": 3
   },
   "file_extension": ".py",
   "mimetype": "text/x-python",
   "name": "python",
   "nbconvert_exporter": "python",
   "pygments_lexer": "ipython3",
   "version": "3.6.4"
  }
 },
 "nbformat": 4,
 "nbformat_minor": 2
}
