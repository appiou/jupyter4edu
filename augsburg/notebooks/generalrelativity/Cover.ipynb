{
 "cells": [
  {
   "cell_type": "markdown",
   "metadata": {},
   "source": [
    "# General relativity using symbolic computer algebra\n",
    "\n",
    "This collection of notebooks illustrates the application of symbolic computer algebra in Python to problems of general relativity. It is based on [SymPy](https://www.sympy.org) and [GraviPy](https://pypi.org/project/GraviPy/).\n",
    "\n",
    "### Table of contents\n",
    "\n",
    "1. [Introduction to GraviPy](IntroductionGravipy.ipynb)\n",
    "1. [Schwarzschild metric](SchwarzschildMetric.ipynb)\n",
    "1. [Tolman-Oppenheimer-Volkoff equation](TOVEquation.ipynb)"
   ]
  }
 ],
 "metadata": {
  "kernelspec": {
   "display_name": "Python 3",
   "language": "python",
   "name": "python3"
  },
  "language_info": {
   "codemirror_mode": {
    "name": "ipython",
    "version": 3
   },
   "file_extension": ".py",
   "mimetype": "text/x-python",
   "name": "python",
   "nbconvert_exporter": "python",
   "pygments_lexer": "ipython3",
   "version": "3.5.3"
  }
 },
 "nbformat": 4,
 "nbformat_minor": 2
}
