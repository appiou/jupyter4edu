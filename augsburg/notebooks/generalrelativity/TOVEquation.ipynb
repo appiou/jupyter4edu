{
 "cells": [
  {
   "cell_type": "markdown",
   "metadata": {},
   "source": [
    "# General relativity using symbolic computer algebra"
   ]
  },
  {
   "cell_type": "code",
   "execution_count": 1,
   "metadata": {
    "scrolled": true
   },
   "outputs": [],
   "source": [
    "from gravipy import *\n",
    "init_printing()"
   ]
  },
  {
   "cell_type": "markdown",
   "metadata": {},
   "source": [
    "## Tolman-Oppenheimer-Volkoff equation"
   ]
  },
  {
   "cell_type": "code",
   "execution_count": 2,
   "metadata": {},
   "outputs": [],
   "source": [
    "t, r, theta, phi = symbols(r't, r, \\theta, \\phi')\n",
    "x = Coordinates('x', [t, r, theta, phi])\n",
    "alpha = Function(r'\\alpha')\n",
    "beta = Function(r'\\beta')\n",
    "Metric = diag(-exp(2*alpha(r)), exp(2*beta(r)), r**2, r**2*sin(theta)**2)\n",
    "g = MetricTensor('g', x, Metric)\n",
    "Ga = Christoffel('Ga', g)\n",
    "Ric = Ricci('Ric', g)\n",
    "Einst = Einstein('Einst', Ric)"
   ]
  },
  {
   "cell_type": "markdown",
   "metadata": {},
   "source": [
    "The energy-momentum tensor $T_{\\mu\\nu}$ of an ideal fluid described by its pressure and density in the restframe of a element of the liquid is given by"
   ]
  },
  {
   "cell_type": "code",
   "execution_count": 3,
   "metadata": {},
   "outputs": [
    {
     "data": {
      "image/png": "[encoded data removed]",
      "text/latex": [
       "$\\displaystyle \\left[\\begin{matrix}\\rho{\\left(r \\right)} e^{2 \\alpha{\\left(r \\right)}} & 0 & 0 & 0\\\\0 & p{\\left(r \\right)} e^{2 \\beta{\\left(r \\right)}} & 0 & 0\\\\0 & 0 & r^{2} p{\\left(r \\right)} & 0\\\\0 & 0 & 0 & r^{2} p{\\left(r \\right)} \\sin^{2}{\\left(\\theta \\right)}\\end{matrix}\\right]$"
      ],
      "text/plain": [
       "⎡         2⋅\\alpha(r)                                                 ⎤\n",
       "⎢\\rho(r)⋅ℯ                    0             0              0          ⎥\n",
       "⎢                                                                     ⎥\n",
       "⎢                            2⋅\\beta(r)                               ⎥\n",
       "⎢         0            p(r)⋅ℯ               0              0          ⎥\n",
       "⎢                                                                     ⎥\n",
       "⎢                                         2                           ⎥\n",
       "⎢         0                   0          r ⋅p(r)           0          ⎥\n",
       "⎢                                                                     ⎥\n",
       "⎢                                                  2         2        ⎥\n",
       "⎣         0                   0             0     r ⋅p(r)⋅sin (\\theta)⎦"
      ]
     },
     "execution_count": 3,
     "metadata": {},
     "output_type": "execute_result"
    }
   ],
   "source": [
    "p = Function('p')\n",
    "rho = Function(r'\\rho')\n",
    "T = Tensor('T', 2, g,\n",
    "           components=diag(exp(2*alpha(r))*rho(r), exp(2*beta(r))*p(r), r**2*p(r), r**2*sin(theta)**2*p(r)))\n",
    "T(All, All)"
   ]
  },
  {
   "cell_type": "markdown",
   "metadata": {},
   "source": [
    "Raising one or two indices, the energy-momentum tensor takes the form"
   ]
  },
  {
   "cell_type": "markdown",
   "metadata": {},
   "source": [
    "$T^{\\mu}_{\\nu}$"
   ]
  },
  {
   "cell_type": "code",
   "execution_count": 4,
   "metadata": {},
   "outputs": [
    {
     "data": {
      "image/png": "[encoded data removed]",
      "text/latex": [
       "$\\displaystyle \\left[\\begin{matrix}- \\rho{\\left(r \\right)} & 0 & 0 & 0\\\\0 & p{\\left(r \\right)} & 0 & 0\\\\0 & 0 & p{\\left(r \\right)} & 0\\\\0 & 0 & 0 & p{\\left(r \\right)}\\end{matrix}\\right]$"
      ],
      "text/plain": [
       "⎡-\\rho(r)   0     0     0  ⎤\n",
       "⎢                          ⎥\n",
       "⎢   0      p(r)   0     0  ⎥\n",
       "⎢                          ⎥\n",
       "⎢   0       0    p(r)   0  ⎥\n",
       "⎢                          ⎥\n",
       "⎣   0       0     0    p(r)⎦"
      ]
     },
     "execution_count": 4,
     "metadata": {},
     "output_type": "execute_result"
    }
   ],
   "source": [
    "T(-All, All)"
   ]
  },
  {
   "cell_type": "markdown",
   "metadata": {},
   "source": [
    "$T^{\\mu\\nu}$"
   ]
  },
  {
   "cell_type": "code",
   "execution_count": 5,
   "metadata": {},
   "outputs": [
    {
     "data": {
      "image/png": "[encoded data removed]",
      "text/latex": [
       "$\\displaystyle \\left[\\begin{matrix}\\rho{\\left(r \\right)} e^{- 2 \\alpha{\\left(r \\right)}} & 0 & 0 & 0\\\\0 & p{\\left(r \\right)} e^{- 2 \\beta{\\left(r \\right)}} & 0 & 0\\\\0 & 0 & \\frac{p{\\left(r \\right)}}{r^{2}} & 0\\\\0 & 0 & 0 & \\frac{p{\\left(r \\right)}}{r^{2} \\sin^{2}{\\left(\\theta \\right)}}\\end{matrix}\\right]$"
      ],
      "text/plain": [
       "⎡         -2⋅\\alpha(r)                                          ⎤\n",
       "⎢\\rho(r)⋅ℯ                      0           0           0       ⎥\n",
       "⎢                                                               ⎥\n",
       "⎢                             -2⋅\\beta(r)                       ⎥\n",
       "⎢          0            p(r)⋅ℯ              0           0       ⎥\n",
       "⎢                                                               ⎥\n",
       "⎢                                          p(r)                 ⎥\n",
       "⎢          0                    0          ────         0       ⎥\n",
       "⎢                                            2                  ⎥\n",
       "⎢                                           r                   ⎥\n",
       "⎢                                                               ⎥\n",
       "⎢                                                      p(r)     ⎥\n",
       "⎢          0                    0           0    ───────────────⎥\n",
       "⎢                                                 2    2        ⎥\n",
       "⎣                                                r ⋅sin (\\theta)⎦"
      ]
     },
     "execution_count": 5,
     "metadata": {},
     "output_type": "execute_result"
    }
   ],
   "source": [
    "T(-All, -All)"
   ]
  },
  {
   "cell_type": "code",
   "execution_count": 6,
   "metadata": {},
   "outputs": [
    {
     "data": {
      "image/png": "[encoded data removed]",
      "text/latex": [
       "$\\displaystyle - \\kappa \\rho{\\left(r \\right)} e^{2 \\alpha{\\left(r \\right)}} + \\frac{\\left(2 r \\frac{d}{d r} \\beta{\\left(r \\right)} + e^{2 \\beta{\\left(r \\right)}} - 1\\right) e^{2 \\alpha{\\left(r \\right)} - 2 \\beta{\\left(r \\right)}}}{r^{2}}$"
      ],
      "text/plain": [
       "                                ⎛    d               2⋅\\beta(r)    ⎞  2⋅\\alpha\n",
       "                                ⎜2⋅r⋅──(\\beta(r)) + ℯ           - 1⎟⋅ℯ        \n",
       "                  2⋅\\alpha(r)   ⎝    dr                            ⎠          \n",
       "- \\kappa⋅\\rho(r)⋅ℯ            + ──────────────────────────────────────────────\n",
       "                                                               2              \n",
       "                                                              r               \n",
       "\n",
       "(r) - 2⋅\\beta(r)\n",
       "                \n",
       "                \n",
       "────────────────\n",
       "                \n",
       "                "
      ]
     },
     "metadata": {},
     "output_type": "display_data"
    },
    {
     "data": {
      "image/png": "[encoded data removed]",
      "text/latex": [
       "$\\displaystyle - \\kappa p{\\left(r \\right)} e^{2 \\beta{\\left(r \\right)}} + \\frac{2 r \\frac{d}{d r} \\alpha{\\left(r \\right)} - e^{2 \\beta{\\left(r \\right)}} + 1}{r^{2}}$"
      ],
      "text/plain": [
       "                                d                2⋅\\beta(r)    \n",
       "                            2⋅r⋅──(\\alpha(r)) - ℯ           + 1\n",
       "               2⋅\\beta(r)       dr                             \n",
       "- \\kappa⋅p(r)⋅ℯ           + ───────────────────────────────────\n",
       "                                              2                \n",
       "                                             r                 "
      ]
     },
     "metadata": {},
     "output_type": "display_data"
    },
    {
     "data": {
      "image/png": "[encoded data removed]",
      "text/latex": [
       "$\\displaystyle - \\kappa r^{2} p{\\left(r \\right)} + r \\left(r \\left(\\frac{d}{d r} \\alpha{\\left(r \\right)}\\right)^{2} - r \\frac{d}{d r} \\alpha{\\left(r \\right)} \\frac{d}{d r} \\beta{\\left(r \\right)} + r \\frac{d^{2}}{d r^{2}} \\alpha{\\left(r \\right)} + \\frac{d}{d r} \\alpha{\\left(r \\right)} - \\frac{d}{d r} \\beta{\\left(r \\right)}\\right) e^{- 2 \\beta{\\left(r \\right)}}$"
      ],
      "text/plain": [
       "                     ⎛                 2                                      \n",
       "          2          ⎜  ⎛d            ⎞      d             d                 d\n",
       "- \\kappa⋅r ⋅p(r) + r⋅⎜r⋅⎜──(\\alpha(r))⎟  - r⋅──(\\alpha(r))⋅──(\\beta(r)) + r⋅──\n",
       "                     ⎜  ⎝dr           ⎠      dr            dr                 \n",
       "                     ⎝                                                      dr\n",
       "\n",
       "2                                          ⎞             \n",
       "               d               d           ⎟  -2⋅\\beta(r)\n",
       "─(\\alpha(r)) + ──(\\alpha(r)) - ──(\\beta(r))⎟⋅ℯ           \n",
       "2              dr              dr          ⎟             \n",
       "                                           ⎠             "
      ]
     },
     "metadata": {},
     "output_type": "display_data"
    },
    {
     "data": {
      "image/png": "[encoded data removed]",
      "text/latex": [
       "$\\displaystyle - \\kappa r^{2} p{\\left(r \\right)} \\sin^{2}{\\left(\\theta \\right)} + r \\left(r \\left(\\frac{d}{d r} \\alpha{\\left(r \\right)}\\right)^{2} - r \\frac{d}{d r} \\alpha{\\left(r \\right)} \\frac{d}{d r} \\beta{\\left(r \\right)} + r \\frac{d^{2}}{d r^{2}} \\alpha{\\left(r \\right)} + \\frac{d}{d r} \\alpha{\\left(r \\right)} - \\frac{d}{d r} \\beta{\\left(r \\right)}\\right) e^{- 2 \\beta{\\left(r \\right)}} \\sin^{2}{\\left(\\theta \\right)}$"
      ],
      "text/plain": [
       "                                  ⎛                 2                         \n",
       "          2         2             ⎜  ⎛d            ⎞      d             d     \n",
       "- \\kappa⋅r ⋅p(r)⋅sin (\\theta) + r⋅⎜r⋅⎜──(\\alpha(r))⎟  - r⋅──(\\alpha(r))⋅──(\\be\n",
       "                                  ⎜  ⎝dr           ⎠      dr            dr    \n",
       "                                  ⎝                                           \n",
       "\n",
       "             2                                          ⎞                     \n",
       "            d               d               d           ⎟  -2⋅\\beta(r)    2   \n",
       "ta(r)) + r⋅───(\\alpha(r)) + ──(\\alpha(r)) - ──(\\beta(r))⎟⋅ℯ           ⋅sin (\\t\n",
       "             2              dr              dr          ⎟                     \n",
       "           dr                                           ⎠                     \n",
       "\n",
       "     \n",
       "     \n",
       "heta)\n",
       "     \n",
       "     "
      ]
     },
     "metadata": {},
     "output_type": "display_data"
    }
   ],
   "source": [
    "kappa = symbols(r'\\kappa')\n",
    "for n in range(1, 5):\n",
    "    display(Einst(n, n)-kappa*T(n, n))"
   ]
  },
  {
   "cell_type": "markdown",
   "metadata": {},
   "source": [
    "We note that the first expression does not depend on $\\alpha(r)$ and the fourth expression is proportional to the third expression."
   ]
  },
  {
   "cell_type": "markdown",
   "metadata": {},
   "source": [
    "The $tt$-component of the Einstein field equation is simplified by defining a new function\n",
    "$$m(r) = \\frac{4\\pi}{\\kappa}r\\left(1-\\mathrm{e}^{-2\\beta}\\right).$$\n",
    "Taking the derivative, we find"
   ]
  },
  {
   "cell_type": "code",
   "execution_count": 7,
   "metadata": {},
   "outputs": [
    {
     "data": {
      "image/png": "[encoded data removed]",
      "text/latex": [
       "$\\displaystyle \\frac{4 \\pi \\left(2 r \\frac{d}{d r} \\beta{\\left(r \\right)} + e^{2 \\beta{\\left(r \\right)}} - 1\\right) e^{- 2 \\beta{\\left(r \\right)}}}{\\kappa}$"
      ],
      "text/plain": [
       "    ⎛    d               2⋅\\beta(r)    ⎞  -2⋅\\beta(r)\n",
       "4⋅π⋅⎜2⋅r⋅──(\\beta(r)) + ℯ           - 1⎟⋅ℯ           \n",
       "    ⎝    dr                            ⎠             \n",
       "─────────────────────────────────────────────────────\n",
       "                        \\kappa                       "
      ]
     },
     "execution_count": 7,
     "metadata": {},
     "output_type": "execute_result"
    }
   ],
   "source": [
    "m = symbols('m')\n",
    "m = 4*pi/kappa*r*(1-exp(-2*beta(r)))\n",
    "simplify(diff(m, r))"
   ]
  },
  {
   "cell_type": "markdown",
   "metadata": {},
   "source": [
    "We thus arrive at \n",
    "$$\\frac{\\mathrm{d}m}{\\mathrm{d}r} = 4\\pi r^2\\rho(r)$$\n",
    "or\n",
    "$$m(r) = 4\\pi\\int_0^r\\mathrm{d}r'r'^2\\rho(r').$$"
   ]
  },
  {
   "cell_type": "markdown",
   "metadata": {},
   "source": [
    "In order to proceed, it is convenient to consider energy-momentum conservation\n",
    "$$T^{\\mu\\nu}{}_{;\\mu} = 0,$$\n",
    "where the semicolon denotes a covariant derivative."
   ]
  },
  {
   "cell_type": "code",
   "execution_count": 8,
   "metadata": {},
   "outputs": [
    {
     "data": {
      "image/png": "[encoded data removed]",
      "text/latex": [
       "$\\displaystyle 0$"
      ],
      "text/plain": [
       "0"
      ]
     },
     "metadata": {},
     "output_type": "display_data"
    },
    {
     "data": {
      "image/png": "[encoded data removed]",
      "text/latex": [
       "$\\displaystyle \\left(\\rho{\\left(r \\right)} + p{\\left(r \\right)}\\right) e^{- 2 \\beta{\\left(r \\right)}} \\frac{d}{d r} \\alpha{\\left(r \\right)} + e^{- 2 \\beta{\\left(r \\right)}} \\frac{d}{d r} p{\\left(r \\right)}$"
      ],
      "text/plain": [
       "                  -2⋅\\beta(r) d                -2⋅\\beta(r) d       \n",
       "(\\rho(r) + p(r))⋅ℯ           ⋅──(\\alpha(r)) + ℯ           ⋅──(p(r))\n",
       "                              dr                           dr      "
      ]
     },
     "metadata": {},
     "output_type": "display_data"
    },
    {
     "data": {
      "image/png": "[encoded data removed]",
      "text/latex": [
       "$\\displaystyle 0$"
      ],
      "text/plain": [
       "0"
      ]
     },
     "metadata": {},
     "output_type": "display_data"
    },
    {
     "data": {
      "image/png": "[encoded data removed]",
      "text/latex": [
       "$\\displaystyle 0$"
      ],
      "text/plain": [
       "0"
      ]
     },
     "metadata": {},
     "output_type": "display_data"
    }
   ],
   "source": [
    "for nu in range(1, 5):\n",
    "    display(sum(T.covariantD(-n, -nu, n) for n in range(1, 5)))"
   ]
  },
  {
   "cell_type": "markdown",
   "metadata": {},
   "source": [
    "From the $r$-component, we thus find\n",
    "$$\\frac{\\mathrm{d}\\alpha}{\\mathrm{d}r} = -\\frac{1}{\\rho c^2+p}\\frac{\\mathrm{d}p}{\\mathrm{d}r}.$$\n",
    "Inserting this result into the $rr$-component of the Einstein field equation, we arrive at the *Tolman-Oppenheimer-Volkoff* equation\n",
    "$$\\frac{\\mathrm{d}p}{\\mathrm{d}r} = -\\frac{\\kappa}{8\\pi}\\frac{(\\rho c^2+p)\\left(\\dfrac{m(r)c^2}{r}+4\\pi r^2p\\right)}\n",
    "                                                             {r\\left(1-\\dfrac{\\kappa}{4\\pi}\\dfrac{m(r)c^2}{r}\\right)}$$"
   ]
  }
 ],
 "metadata": {
  "kernelspec": {
   "display_name": "Python 3",
   "language": "python",
   "name": "python3"
  },
  "language_info": {
   "codemirror_mode": {
    "name": "ipython",
    "version": 3
   },
   "file_extension": ".py",
   "mimetype": "text/x-python",
   "name": "python",
   "nbconvert_exporter": "python",
   "pygments_lexer": "ipython3",
   "version": "3.5.3"
  }
 },
 "nbformat": 4,
 "nbformat_minor": 2
}
