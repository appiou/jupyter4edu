{
 "cells": [
  {
   "cell_type": "markdown",
   "metadata": {},
   "source": [
    "# General relativity using symbolic computer algebra"
   ]
  },
  {
   "cell_type": "code",
   "execution_count": 1,
   "metadata": {
    "scrolled": true
   },
   "outputs": [],
   "source": [
    "from gravipy import *\n",
    "init_printing()"
   ]
  },
  {
   "cell_type": "markdown",
   "metadata": {},
   "source": [
    "## Schwarzschild solution"
   ]
  },
  {
   "cell_type": "markdown",
   "metadata": {},
   "source": [
    "In this notebook, we will derive the outer Schwarzschild solution describing space-time outside a spherically symmetric mass $M$. We will assume that the solution is spherically symmetric so that the components $g_{00}$ and $g_{11}$ only depend on the radial coordinate $r$. For simplicity, we further assume the metric tensor to be independent of time even though this assumption does not need to be imposed."
   ]
  },
  {
   "cell_type": "markdown",
   "metadata": {},
   "source": [
    "## Derivation of the Schwarzschild solution"
   ]
  },
  {
   "cell_type": "markdown",
   "metadata": {},
   "source": [
    "We choose as our coordinates $t, r, \\theta,$ and $\\phi$:"
   ]
  },
  {
   "cell_type": "code",
   "execution_count": 2,
   "metadata": {},
   "outputs": [
    {
     "data": {
      "image/png": "[encoded data removed]",
      "text/latex": [
       "$$\\left [ t, \\quad r, \\quad \\theta, \\quad \\phi\\right ]$$"
      ],
      "text/plain": [
       "[t, r, \\theta, \\phi]"
      ]
     },
     "execution_count": 2,
     "metadata": {},
     "output_type": "execute_result"
    }
   ],
   "source": [
    "t, r, theta, phi = symbols(r't, r, \\theta, \\phi')\n",
    "x = Coordinates('x', [t, r, theta, phi])\n",
    "x.c"
   ]
  },
  {
   "cell_type": "markdown",
   "metadata": {},
   "source": [
    "Assuming a time-independent, spherically symmetric solution, the line element is chosen to be of the general form\n",
    "\n",
    "$$\\mathrm{d}s^2 = -A(r)c^2\\mathrm{d}t^2+B(r)\\mathrm{d}r^2+r^2\\mathrm{d}\\theta^2+r^2\\sin(\\theta)^2\\mathrm{d}\\phi^2$$\n",
    "\n",
    "where we need to determine the form of $A$ and $B$ as a function of the radial coordinate $r$."
   ]
  },
  {
   "cell_type": "code",
   "execution_count": 3,
   "metadata": {},
   "outputs": [
    {
     "data": {
      "image/png": "[encoded data removed]",
      "text/latex": [
       "$$\\left[\\begin{matrix}- A{\\left (r \\right )} & 0 & 0 & 0\\\\0 & B{\\left (r \\right )} & 0 & 0\\\\0 & 0 & r^{2} & 0\\\\0 & 0 & 0 & r^{2} \\sin^{2}{\\left (\\theta \\right )}\\end{matrix}\\right]$$"
      ],
      "text/plain": [
       "⎡-A(r)   0    0          0       ⎤\n",
       "⎢                                ⎥\n",
       "⎢  0    B(r)  0          0       ⎥\n",
       "⎢                                ⎥\n",
       "⎢              2                 ⎥\n",
       "⎢  0     0    r          0       ⎥\n",
       "⎢                                ⎥\n",
       "⎢                  2    2        ⎥\n",
       "⎣  0     0    0   r ⋅sin (\\theta)⎦"
      ]
     },
     "execution_count": 3,
     "metadata": {},
     "output_type": "execute_result"
    }
   ],
   "source": [
    "A = Function('A')(r)\n",
    "B = Function('B')(r)\n",
    "Metric = diag(-A, B, r**2, r**2*sin(theta)**2)\n",
    "g = MetricTensor('g', x, Metric)\n",
    "g(All, All)"
   ]
  },
  {
   "cell_type": "markdown",
   "metadata": {},
   "source": [
    "We are searching for the outer solution, i.e. a solution outside of the mass generating a curved space-time. In the Einstein field equations\n",
    "\n",
    "$$G^{\\mu\\nu} = \\frac{8\\pi G}{c^4}T^{\\mu\\nu}$$\n",
    "\n",
    "the energy-momentum tensor on the right-hand side thus vanishes and we are searching for a solution of\n",
    "\n",
    "$$G^{\\mu\\nu}=0.$$\n",
    "\n",
    "In other words, we need to determine functions $A(r)$ and $B(r)$ for which the Einstein tensor obtained from the metric tensor vanishes.\n",
    "\n",
    "Before the Einstein tensor can be determined with `GraviPy`, it is first necessary to evaluate the Christoffel symbols and the Ricci tensor."
   ]
  },
  {
   "cell_type": "code",
   "execution_count": 4,
   "metadata": {},
   "outputs": [],
   "source": [
    "Gamma = Christoffel(r'\\Gamma', g)\n",
    "Ri = Ricci('Ri', g)\n",
    "G = Einstein('G', Ri)"
   ]
  },
  {
   "cell_type": "markdown",
   "metadata": {},
   "source": [
    "The Einstein tensor is obtained as"
   ]
  },
  {
   "cell_type": "code",
   "execution_count": 5,
   "metadata": {
    "scrolled": false
   },
   "outputs": [
    {
     "data": {
      "image/png": "[encoded data removed]",
      "text/latex": [
       "$$\\left[\\begin{matrix}\\frac{\\left(r \\frac{d}{d r} B{\\left (r \\right )} + B^{2}{\\left (r \\right )} - B{\\left (r \\right )}\\right) A{\\left (r \\right )}}{r^{2} B^{2}{\\left (r \\right )}} & 0 & 0 & 0\\\\0 & \\frac{\\frac{d}{d r} A{\\left (r \\right )}}{r A{\\left (r \\right )}} - \\frac{B{\\left (r \\right )}}{r^{2}} + \\frac{1}{r^{2}} & 0 & 0\\\\0 & 0 & \\frac{r \\left(2 r A{\\left (r \\right )} B{\\left (r \\right )} \\frac{d^{2}}{d r^{2}} A{\\left (r \\right )} - r A{\\left (r \\right )} \\frac{d}{d r} A{\\left (r \\right )} \\frac{d}{d r} B{\\left (r \\right )} - r B{\\left (r \\right )} \\left(\\frac{d}{d r} A{\\left (r \\right )}\\right)^{2} - 2 A^{2}{\\left (r \\right )} \\frac{d}{d r} B{\\left (r \\right )} + 2 A{\\left (r \\right )} B{\\left (r \\right )} \\frac{d}{d r} A{\\left (r \\right )}\\right)}{4 A^{2}{\\left (r \\right )} B^{2}{\\left (r \\right )}} & 0\\\\0 & 0 & 0 & \\frac{r \\left(2 r A{\\left (r \\right )} B{\\left (r \\right )} \\frac{d^{2}}{d r^{2}} A{\\left (r \\right )} - r A{\\left (r \\right )} \\frac{d}{d r} A{\\left (r \\right )} \\frac{d}{d r} B{\\left (r \\right )} - r B{\\left (r \\right )} \\left(\\frac{d}{d r} A{\\left (r \\right )}\\right)^{2} - 2 A^{2}{\\left (r \\right )} \\frac{d}{d r} B{\\left (r \\right )} + 2 A{\\left (r \\right )} B{\\left (r \\right )} \\frac{d}{d r} A{\\left (r \\right )}\\right) \\sin^{2}{\\left (\\theta \\right )}}{4 A^{2}{\\left (r \\right )} B^{2}{\\left (r \\right )}}\\end{matrix}\\right]$$"
      ],
      "text/plain": [
       "⎡⎛  d           2          ⎞                                                  \n",
       "⎢⎜r⋅──(B(r)) + B (r) - B(r)⎟⋅A(r)                                             \n",
       "⎢⎝  dr                     ⎠                                                  \n",
       "⎢────────────────────────────────           0                                 \n",
       "⎢             2  2                                                            \n",
       "⎢            r ⋅B (r)                                                         \n",
       "⎢                                                                             \n",
       "⎢                                  d                                          \n",
       "⎢                                  ──(A(r))                                   \n",
       "⎢                                  dr         B(r)   1                        \n",
       "⎢               0                  ──────── - ──── + ──                       \n",
       "⎢                                   r⋅A(r)      2     2                       \n",
       "⎢                                              r     r                        \n",
       "⎢                                                                             \n",
       "⎢                                                          ⎛                2 \n",
       "⎢                                                          ⎜               d  \n",
       "⎢                                                        r⋅⎜2⋅r⋅A(r)⋅B(r)⋅───(\n",
       "⎢                                                          ⎜                2 \n",
       "⎢                                                          ⎝              dr  \n",
       "⎢               0                           0            ─────────────────────\n",
       "⎢                                                                             \n",
       "⎢                                                                             \n",
       "⎢                                                                             \n",
       "⎢                                                                             \n",
       "⎢                                                                             \n",
       "⎢                                                                             \n",
       "⎢                                                                             \n",
       "⎢                                                                             \n",
       "⎢               0                           0                                 \n",
       "⎢                                                                             \n",
       "⎣                                                                             \n",
       "\n",
       "                                                                              \n",
       "                                                                              \n",
       "                                                                              \n",
       "                                     0                                        \n",
       "                                                                              \n",
       "                                                                              \n",
       "                                                                              \n",
       "                                                                              \n",
       "                                                                              \n",
       "                                                                              \n",
       "                                     0                                        \n",
       "                                                                              \n",
       "                                                                              \n",
       "                                                                              \n",
       "                                                    2                         \n",
       "               d        d                 ⎛d       ⎞       2    d             \n",
       "A(r)) - r⋅A(r)⋅──(A(r))⋅──(B(r)) - r⋅B(r)⋅⎜──(A(r))⎟  - 2⋅A (r)⋅──(B(r)) + 2⋅A\n",
       "               dr       dr                ⎝dr      ⎠            dr            \n",
       "                                                                              \n",
       "──────────────────────────────────────────────────────────────────────────────\n",
       "                                  2     2                                     \n",
       "                               4⋅A (r)⋅B (r)                                  \n",
       "                                                                              \n",
       "                                                                              \n",
       "                                                                              \n",
       "                                                                              \n",
       "                                                                              \n",
       "                                                                              \n",
       "                                     0                                        \n",
       "                                                                              \n",
       "                                                                              \n",
       "\n",
       "                                                                              \n",
       "                                                                              \n",
       "                                                                              \n",
       "                                                                              \n",
       "                                                                              \n",
       "                                                                              \n",
       "                                                                              \n",
       "                                                                              \n",
       "                                                                              \n",
       "                                                                              \n",
       "                                                                              \n",
       "                                                                              \n",
       "                                                                              \n",
       "                                                                              \n",
       "                 ⎞                                                            \n",
       "         d       ⎟                                                            \n",
       "(r)⋅B(r)⋅──(A(r))⎟                                                            \n",
       "         dr      ⎟                                                            \n",
       "                 ⎠                                                            \n",
       "──────────────────                                                            \n",
       "                                                                              \n",
       "                                                                              \n",
       "                                                                              \n",
       "                      ⎛                2                                      \n",
       "                      ⎜               d                 d        d            \n",
       "                    r⋅⎜2⋅r⋅A(r)⋅B(r)⋅───(A(r)) - r⋅A(r)⋅──(A(r))⋅──(B(r)) - r⋅\n",
       "                      ⎜                2                dr       dr           \n",
       "                      ⎝              dr                                       \n",
       "                    ──────────────────────────────────────────────────────────\n",
       "                                                                              \n",
       "                                                                              \n",
       "\n",
       "                                                                        ⎤\n",
       "                                                                        ⎥\n",
       "                                                                        ⎥\n",
       "      0                                                                 ⎥\n",
       "                                                                        ⎥\n",
       "                                                                        ⎥\n",
       "                                                                        ⎥\n",
       "                                                                        ⎥\n",
       "                                                                        ⎥\n",
       "                                                                        ⎥\n",
       "      0                                                                 ⎥\n",
       "                                                                        ⎥\n",
       "                                                                        ⎥\n",
       "                                                                        ⎥\n",
       "                                                                        ⎥\n",
       "                                                                        ⎥\n",
       "                                                                        ⎥\n",
       "                                                                        ⎥\n",
       "                                                                        ⎥\n",
       "      0                                                                 ⎥\n",
       "                                                                        ⎥\n",
       "                                                                        ⎥\n",
       "                                                                        ⎥\n",
       "               2                                          ⎞             ⎥\n",
       "     ⎛d       ⎞       2    d                      d       ⎟    2        ⎥\n",
       "B(r)⋅⎜──(A(r))⎟  - 2⋅A (r)⋅──(B(r)) + 2⋅A(r)⋅B(r)⋅──(A(r))⎟⋅sin (\\theta)⎥\n",
       "     ⎝dr      ⎠            dr                     dr      ⎟             ⎥\n",
       "                                                          ⎠             ⎥\n",
       "────────────────────────────────────────────────────────────────────────⎥\n",
       "   2     2                                                              ⎥\n",
       "4⋅A (r)⋅B (r)                                                           ⎦"
      ]
     },
     "execution_count": 5,
     "metadata": {},
     "output_type": "execute_result"
    }
   ],
   "source": [
    "G(All, All)"
   ]
  },
  {
   "cell_type": "markdown",
   "metadata": {},
   "source": [
    "It turns out that $G_{22}$ and $G_{33}$ ar trivially related by a factor $\\sin^2(\\theta)$"
   ]
  },
  {
   "cell_type": "code",
   "execution_count": 6,
   "metadata": {},
   "outputs": [
    {
     "data": {
      "image/png": "[encoded data removed]",
      "text/latex": [
       "$$\\sin^{2}{\\left (\\theta \\right )}$$"
      ],
      "text/plain": [
       "   2        \n",
       "sin (\\theta)"
      ]
     },
     "execution_count": 6,
     "metadata": {},
     "output_type": "execute_result"
    }
   ],
   "source": [
    "G(4, 4)/G(3, 3)"
   ]
  },
  {
   "cell_type": "markdown",
   "metadata": {},
   "source": [
    "so that it is sufficient to solve the set of equations\n",
    "\n",
    "$$G_{00}=0,\\quad G_{11}=0,\\quad G_{22}=0.$$\n",
    "\n",
    "We note that the first equation essentially depends only on $B(r)$. We recall that the indices in GraviPy objects are shifted by 1 with respect to our sign convention, so that $G_{00}$ corresponds to `G(1, 1)`. The differential equation $G_{00}=0$ can be solved by means of SymPy's `dsolve` method:"
   ]
  },
  {
   "cell_type": "code",
   "execution_count": 7,
   "metadata": {},
   "outputs": [
    {
     "data": {
      "image/png": "[encoded data removed]",
      "text/latex": [
       "$$\\frac{r}{r - r_{S}}$$"
      ],
      "text/plain": [
       "   r   \n",
       "───────\n",
       "r - r_S"
      ]
     },
     "execution_count": 7,
     "metadata": {},
     "output_type": "execute_result"
    }
   ],
   "source": [
    "C1 = Symbol('C1')\n",
    "rs = Symbol('r_S')\n",
    "B_solution = dsolve(G(1, 1), B).rhs.subs(C1, -rs)\n",
    "B_solution"
   ]
  },
  {
   "cell_type": "markdown",
   "metadata": {},
   "source": [
    "Since $C_1$ is considered by SymPy as a free parameter whose name can be changed, we need to give a different name to have consistent free parameters in the solutions for $A(r)$ and $B(r)$. Since the dimension of $C_1$ is a length, we call the free constant $r_S$ in view of its later interpretation. Our choice of the minus sign will turned out to be appropriate as well."
   ]
  },
  {
   "cell_type": "markdown",
   "metadata": {},
   "source": [
    "In order to solve the second equation $G_{11}=0$, we need to substitute $B(r)$ by the solution we just found. This is done by means of SymPy's `subs` method. We can now solve the differential equation for $A(r)$."
   ]
  },
  {
   "cell_type": "code",
   "execution_count": 8,
   "metadata": {},
   "outputs": [
    {
     "data": {
      "image/png": "[encoded data removed]",
      "text/latex": [
       "$$C_{1} \\left(1 - \\frac{r_{S}}{r}\\right)$$"
      ],
      "text/plain": [
       "   ⎛    r_S⎞\n",
       "C₁⋅⎜1 - ───⎟\n",
       "   ⎝     r ⎠"
      ]
     },
     "execution_count": 8,
     "metadata": {},
     "output_type": "execute_result"
    }
   ],
   "source": [
    "A_solution = dsolve(G(2, 2).subs(B, B_solution), A).rhs\n",
    "A_solution"
   ]
  },
  {
   "cell_type": "raw",
   "metadata": {},
   "source": [
    "In order to ensure that for large values of $r$ the Minkowski metric is obtained, we divide this result by the $r\\to\\infty$ limit:"
   ]
  },
  {
   "cell_type": "code",
   "execution_count": 9,
   "metadata": {},
   "outputs": [
    {
     "data": {
      "image/png": "[encoded data removed]",
      "text/latex": [
       "$$1 - \\frac{r_{S}}{r}$$"
      ],
      "text/plain": [
       "    r_S\n",
       "1 - ───\n",
       "     r "
      ]
     },
     "execution_count": 9,
     "metadata": {},
     "output_type": "execute_result"
    }
   ],
   "source": [
    "A_solution = A_solution/limit(A_solution, r, oo)\n",
    "A_solution"
   ]
  },
  {
   "cell_type": "markdown",
   "metadata": {},
   "source": [
    "It turns out that the remaining equation $G_{22} = 0$ is trivially fulfilled by the solutions obtained for $A(r)$ and $B(r)$:"
   ]
  },
  {
   "cell_type": "code",
   "execution_count": 10,
   "metadata": {},
   "outputs": [
    {
     "data": {
      "image/png": "[encoded data removed]",
      "text/latex": [
       "$$0$$"
      ],
      "text/plain": [
       "0"
      ]
     },
     "execution_count": 10,
     "metadata": {},
     "output_type": "execute_result"
    }
   ],
   "source": [
    "G(3, 3).subs(A, A_solution).subs(B, B_solution).doit().simplify()"
   ]
  },
  {
   "cell_type": "markdown",
   "metadata": {},
   "source": [
    "The same is obviously true for $G_{33}$.\n",
    "\n",
    "We are thus left with one free parameter which was to be expected because the mass $M$ of the central object should remain as a parameter. The parameter can be determined by comparing the spectral shift obtained from our solution with the spectral shift obtained from the Newtonian gravitational field as demanded by the equivalence principle. Assuming that the frequency $\\nu(r)$ of a photon at radial coordinate $r$ is measured when its frequency at infinity was $\\nu(\\infty)$, we have\n",
    "$$\\frac{\\nu(r)}{\\nu(\\infty)} = \\frac{1}{\\sqrt{-g_{00}}} \\overset{!}{=} 1+\\frac{GM}{c^2r}.$$"
   ]
  },
  {
   "cell_type": "code",
   "execution_count": 11,
   "metadata": {},
   "outputs": [
    {
     "data": {
      "image/png": "[encoded data removed]",
      "text/latex": [
       "$$\\left \\{ r_{S} : \\frac{2 G M}{c^{2}}\\right \\}$$"
      ],
      "text/plain": [
       "⎧     2⋅G⋅M⎫\n",
       "⎪r_S: ─────⎪\n",
       "⎨        2 ⎬\n",
       "⎪       c  ⎪\n",
       "⎩          ⎭"
      ]
     },
     "execution_count": 11,
     "metadata": {},
     "output_type": "execute_result"
    }
   ],
   "source": [
    "g00 = g(1, 1).subs(A, A_solution)\n",
    "coeff_one_over_r = series(1/sqrt(-g00), 1/r, 0, 2).coeff(r, -1)\n",
    "grav_const, M, c = symbols('G, M, c')\n",
    "c2_solution = solve(coeff_one_over_r-grav_const*M/c**2, rs, dict=True)[0]\n",
    "c2_solution"
   ]
  },
  {
   "cell_type": "markdown",
   "metadata": {},
   "source": [
    "Here, we have found the Schwarzschild radius as a function of the mass $M$ of the central object, the gravitational constant $G$ and the vacuum speed of light $c$.\n",
    "\n",
    "We thus obtain the functions $A(r)$ and $B(r)$ as"
   ]
  },
  {
   "cell_type": "code",
   "execution_count": 12,
   "metadata": {},
   "outputs": [
    {
     "data": {
      "image/png": "[encoded data removed]",
      "text/latex": [
       "$$\\left ( - \\frac{2 G M}{c^{2} r} + 1, \\quad \\frac{r}{- \\frac{2 G M}{c^{2}} + r}\\right )$$"
      ],
      "text/plain": [
       "⎛  2⋅G⋅M           r     ⎞\n",
       "⎜- ───── + 1, ───────────⎟\n",
       "⎜    2          2⋅G⋅M    ⎟\n",
       "⎜   c ⋅r      - ───── + r⎟\n",
       "⎜                  2     ⎟\n",
       "⎝                 c      ⎠"
      ]
     },
     "execution_count": 12,
     "metadata": {},
     "output_type": "execute_result"
    }
   ],
   "source": [
    "A_solution = A_solution.subs(c2_solution)\n",
    "B_solution = B_solution.subs(c2_solution)\n",
    "A_solution, B_solution"
   ]
  },
  {
   "cell_type": "markdown",
   "metadata": {},
   "source": [
    "Inserting the functions $A(r)$ and $B(r)$ into the ansatz for the metric, we arrive at the Schwarzschild metric:"
   ]
  },
  {
   "cell_type": "code",
   "execution_count": 13,
   "metadata": {},
   "outputs": [
    {
     "data": {
      "image/png": "[encoded data removed]",
      "text/latex": [
       "$$\\left[\\begin{matrix}\\frac{2 G M}{c^{2} r} - 1 & 0 & 0 & 0\\\\0 & \\frac{r}{- \\frac{2 G M}{c^{2}} + r} & 0 & 0\\\\0 & 0 & r^{2} & 0\\\\0 & 0 & 0 & r^{2} \\sin^{2}{\\left (\\theta \\right )}\\end{matrix}\\right]$$"
      ],
      "text/plain": [
       "⎡2⋅G⋅M                                      ⎤\n",
       "⎢───── - 1       0       0          0       ⎥\n",
       "⎢  2                                        ⎥\n",
       "⎢ c ⋅r                                      ⎥\n",
       "⎢                                           ⎥\n",
       "⎢                r                          ⎥\n",
       "⎢    0      ───────────  0          0       ⎥\n",
       "⎢             2⋅G⋅M                         ⎥\n",
       "⎢           - ───── + r                     ⎥\n",
       "⎢                2                          ⎥\n",
       "⎢               c                           ⎥\n",
       "⎢                                           ⎥\n",
       "⎢                         2                 ⎥\n",
       "⎢    0           0       r          0       ⎥\n",
       "⎢                                           ⎥\n",
       "⎢                             2    2        ⎥\n",
       "⎣    0           0       0   r ⋅sin (\\theta)⎦"
      ]
     },
     "execution_count": 13,
     "metadata": {},
     "output_type": "execute_result"
    }
   ],
   "source": [
    "Metric = diag(-A_solution, B_solution, r**2, r**2*sin(theta)**2)\n",
    "g = MetricTensor('g', x, Metric)\n",
    "g(All, All)"
   ]
  },
  {
   "cell_type": "markdown",
   "metadata": {},
   "source": [
    "With the Schwarzschild radius\n",
    "$$r_\\mathrm{S} = \\frac{2GM}{c^2},$$\n",
    "our final result for the Schwarzschild line element thus reads\n",
    "$$\\mathrm{d}s^2 = -\\left(1-\\frac{r_\\text{S}}{r}\\right)c^2\\mathrm{d}t^2+\\frac{1}{1-\\frac{r_\\text{S}}{r}}\\mathrm{d}r^2+r^2\\mathrm{d}\\theta^2+r^2\\sin(\\theta)^2\\mathrm{d}\\phi^2.$$\n",
    "The Einstein tensor indeed vanishes as it should:"
   ]
  },
  {
   "cell_type": "code",
   "execution_count": 14,
   "metadata": {},
   "outputs": [
    {
     "data": {
      "image/png": "[encoded data removed]",
      "text/latex": [
       "$$\\left[\\begin{matrix}0 & 0 & 0 & 0\\\\0 & 0 & 0 & 0\\\\0 & 0 & 0 & 0\\\\0 & 0 & 0 & 0\\end{matrix}\\right]$$"
      ],
      "text/plain": [
       "⎡0  0  0  0⎤\n",
       "⎢          ⎥\n",
       "⎢0  0  0  0⎥\n",
       "⎢          ⎥\n",
       "⎢0  0  0  0⎥\n",
       "⎢          ⎥\n",
       "⎣0  0  0  0⎦"
      ]
     },
     "execution_count": 14,
     "metadata": {},
     "output_type": "execute_result"
    }
   ],
   "source": [
    "Ga = Christoffel('Ga', g)\n",
    "Ric = Ricci('Ric', g)\n",
    "Einst = Einstein('Einst', Ric)\n",
    "Einst(All, All)"
   ]
  },
  {
   "cell_type": "markdown",
   "metadata": {},
   "source": [
    "The Riemann tensor, on the other hand, contains non-vanishing elements. The space-time in the source-free region described by the Schwarzschild metric is thus curved."
   ]
  },
  {
   "cell_type": "code",
   "execution_count": 15,
   "metadata": {},
   "outputs": [
    {
     "data": {
      "image/png": "[encoded data removed]",
      "text/latex": [
       "$$\\left[\\begin{matrix}\\left[\\begin{matrix}0 & 0 & 0 & 0\\\\0 & 0 & 0 & 0\\\\0 & 0 & 0 & 0\\\\0 & 0 & 0 & 0\\end{matrix}\\right] & \\left[\\begin{matrix}0 & - \\frac{2 G M}{c^{2} r^{3}} & 0 & 0\\\\\\frac{2 G M}{c^{2} r^{3}} & 0 & 0 & 0\\\\0 & 0 & 0 & 0\\\\0 & 0 & 0 & 0\\end{matrix}\\right] & \\left[\\begin{matrix}0 & 0 & \\frac{G M \\left(- 2 G M + c^{2} r\\right)}{c^{4} r^{2}} & 0\\\\0 & 0 & 0 & 0\\\\- \\frac{G M \\left(- 2 G M + c^{2} r\\right)}{c^{4} r^{2}} & 0 & 0 & 0\\\\0 & 0 & 0 & 0\\end{matrix}\\right] & \\left[\\begin{matrix}0 & 0 & 0 & \\frac{G M \\left(- 2 G M + c^{2} r\\right) \\sin^{2}{\\left (\\theta \\right )}}{c^{4} r^{2}}\\\\0 & 0 & 0 & 0\\\\0 & 0 & 0 & 0\\\\- \\frac{G M \\left(- 2 G M + c^{2} r\\right) \\sin^{2}{\\left (\\theta \\right )}}{c^{4} r^{2}} & 0 & 0 & 0\\end{matrix}\\right]\\\\\\left[\\begin{matrix}0 & \\frac{2 G M}{c^{2} r^{3}} & 0 & 0\\\\- \\frac{2 G M}{c^{2} r^{3}} & 0 & 0 & 0\\\\0 & 0 & 0 & 0\\\\0 & 0 & 0 & 0\\end{matrix}\\right] & \\left[\\begin{matrix}0 & 0 & 0 & 0\\\\0 & 0 & 0 & 0\\\\0 & 0 & 0 & 0\\\\0 & 0 & 0 & 0\\end{matrix}\\right] & \\left[\\begin{matrix}0 & 0 & 0 & 0\\\\0 & 0 & \\frac{G M}{2 G M - c^{2} r} & 0\\\\0 & - \\frac{G M}{2 G M - c^{2} r} & 0 & 0\\\\0 & 0 & 0 & 0\\end{matrix}\\right] & \\left[\\begin{matrix}0 & 0 & 0 & 0\\\\0 & 0 & 0 & \\frac{G M \\sin^{2}{\\left (\\theta \\right )}}{2 G M - c^{2} r}\\\\0 & 0 & 0 & 0\\\\0 & - \\frac{G M \\sin^{2}{\\left (\\theta \\right )}}{2 G M - c^{2} r} & 0 & 0\\end{matrix}\\right]\\\\\\left[\\begin{matrix}0 & 0 & - \\frac{G M \\left(- 2 G M + c^{2} r\\right)}{c^{4} r^{2}} & 0\\\\0 & 0 & 0 & 0\\\\\\frac{G M \\left(- 2 G M + c^{2} r\\right)}{c^{4} r^{2}} & 0 & 0 & 0\\\\0 & 0 & 0 & 0\\end{matrix}\\right] & \\left[\\begin{matrix}0 & 0 & 0 & 0\\\\0 & 0 & - \\frac{G M}{2 G M - c^{2} r} & 0\\\\0 & \\frac{G M}{2 G M - c^{2} r} & 0 & 0\\\\0 & 0 & 0 & 0\\end{matrix}\\right] & \\left[\\begin{matrix}0 & 0 & 0 & 0\\\\0 & 0 & 0 & 0\\\\0 & 0 & 0 & 0\\\\0 & 0 & 0 & 0\\end{matrix}\\right] & \\left[\\begin{matrix}0 & 0 & 0 & 0\\\\0 & 0 & 0 & 0\\\\0 & 0 & 0 & \\frac{2 G M r \\sin^{2}{\\left (\\theta \\right )}}{c^{2}}\\\\0 & 0 & - \\frac{2 G M r \\sin^{2}{\\left (\\theta \\right )}}{c^{2}} & 0\\end{matrix}\\right]\\\\\\left[\\begin{matrix}0 & 0 & 0 & - \\frac{G M \\left(- 2 G M + c^{2} r\\right) \\sin^{2}{\\left (\\theta \\right )}}{c^{4} r^{2}}\\\\0 & 0 & 0 & 0\\\\0 & 0 & 0 & 0\\\\\\frac{G M \\left(- 2 G M + c^{2} r\\right) \\sin^{2}{\\left (\\theta \\right )}}{c^{4} r^{2}} & 0 & 0 & 0\\end{matrix}\\right] & \\left[\\begin{matrix}0 & 0 & 0 & 0\\\\0 & 0 & 0 & - \\frac{G M \\sin^{2}{\\left (\\theta \\right )}}{2 G M - c^{2} r}\\\\0 & 0 & 0 & 0\\\\0 & \\frac{G M \\sin^{2}{\\left (\\theta \\right )}}{2 G M - c^{2} r} & 0 & 0\\end{matrix}\\right] & \\left[\\begin{matrix}0 & 0 & 0 & 0\\\\0 & 0 & 0 & 0\\\\0 & 0 & 0 & - \\frac{2 G M r \\sin^{2}{\\left (\\theta \\right )}}{c^{2}}\\\\0 & 0 & \\frac{2 G M r \\sin^{2}{\\left (\\theta \\right )}}{c^{2}} & 0\\end{matrix}\\right] & \\left[\\begin{matrix}0 & 0 & 0 & 0\\\\0 & 0 & 0 & 0\\\\0 & 0 & 0 & 0\\\\0 & 0 & 0 & 0\\end{matrix}\\right]\\end{matrix}\\right]$$"
      ],
      "text/plain": [
       "⎡                                                                             \n",
       "⎢                                                                             \n",
       "⎢                                                                             \n",
       "⎢                                                                             \n",
       "⎢                                ⎡0  0  0  0⎤                                 \n",
       "⎢                                ⎢          ⎥                                 \n",
       "⎢                                ⎢0  0  0  0⎥                                 \n",
       "⎢                                ⎢          ⎥                                 \n",
       "⎢                                ⎢0  0  0  0⎥                                 \n",
       "⎢                                ⎢          ⎥                                 \n",
       "⎢                                ⎣0  0  0  0⎦                                 \n",
       "⎢                                                                             \n",
       "⎢                                                                             \n",
       "⎢                                                                             \n",
       "⎢                                                                             \n",
       "⎢                                                                             \n",
       "⎢                                                                             \n",
       "⎢                           ⎡         2⋅G⋅M      ⎤                            \n",
       "⎢                           ⎢   0     ─────  0  0⎥                            \n",
       "⎢                           ⎢          2  3      ⎥                            \n",
       "⎢                           ⎢         c ⋅r       ⎥                            \n",
       "⎢                           ⎢                    ⎥                            \n",
       "⎢                           ⎢-2⋅G⋅M              ⎥                            \n",
       "⎢                           ⎢───────    0    0  0⎥                            \n",
       "⎢                           ⎢  2  3              ⎥                            \n",
       "⎢                           ⎢ c ⋅r               ⎥                            \n",
       "⎢                           ⎢                    ⎥                            \n",
       "⎢                           ⎢   0       0    0  0⎥                            \n",
       "⎢                           ⎢                    ⎥                            \n",
       "⎢                           ⎣   0       0    0  0⎦                            \n",
       "⎢                                                                             \n",
       "⎢                                                                             \n",
       "⎢             ⎡                             ⎛          2  ⎞    ⎤              \n",
       "⎢             ⎢                        -G⋅M⋅⎝-2⋅G⋅M + c ⋅r⎠    ⎥              \n",
       "⎢             ⎢         0           0  ─────────────────────  0⎥              \n",
       "⎢             ⎢                                 4  2           ⎥              \n",
       "⎢             ⎢                                c ⋅r            ⎥              \n",
       "⎢             ⎢                                                ⎥              \n",
       "⎢             ⎢         0           0            0            0⎥              \n",
       "⎢             ⎢                                                ⎥              \n",
       "⎢             ⎢    ⎛          2  ⎞                             ⎥              \n",
       "⎢             ⎢G⋅M⋅⎝-2⋅G⋅M + c ⋅r⎠                             ⎥              \n",
       "⎢             ⎢───────────────────  0            0            0⎥              \n",
       "⎢             ⎢        4  2                                    ⎥              \n",
       "⎢             ⎢       c ⋅r                                     ⎥              \n",
       "⎢             ⎢                                                ⎥              \n",
       "⎢             ⎣         0           0            0            0⎦              \n",
       "⎢                                                                             \n",
       "⎢⎡                                             ⎛          2  ⎞    2         ⎤ \n",
       "⎢⎢                                        -G⋅M⋅⎝-2⋅G⋅M + c ⋅r⎠⋅sin (\\theta) ⎥ \n",
       "⎢⎢               0                  0  0  ──────────────────────────────────⎥ \n",
       "⎢⎢                                                       4  2               ⎥ \n",
       "⎢⎢                                                      c ⋅r                ⎥ \n",
       "⎢⎢                                                                          ⎥ \n",
       "⎢⎢               0                  0  0                  0                 ⎥ \n",
       "⎢⎢                                                                          ⎥ \n",
       "⎢⎢               0                  0  0                  0                 ⎥ \n",
       "⎢⎢                                                                          ⎥ \n",
       "⎢⎢    ⎛          2  ⎞    2                                                  ⎥ \n",
       "⎢⎢G⋅M⋅⎝-2⋅G⋅M + c ⋅r⎠⋅sin (\\theta)                                          ⎥ \n",
       "⎢⎢────────────────────────────────  0  0                  0                 ⎥ \n",
       "⎢⎢              4  2                                                        ⎥ \n",
       "⎣⎣             c ⋅r                                                         ⎦ \n",
       "\n",
       "                                                ⎡                             \n",
       "            ⎡       -2⋅G⋅M       ⎤              ⎢                          G⋅M\n",
       "            ⎢  0    ───────  0  0⎥              ⎢          0            0  ───\n",
       "            ⎢         2  3       ⎥              ⎢                             \n",
       "            ⎢        c ⋅r        ⎥              ⎢                             \n",
       "            ⎢                    ⎥              ⎢                             \n",
       "            ⎢2⋅G⋅M               ⎥              ⎢          0            0     \n",
       "            ⎢─────     0     0  0⎥              ⎢                             \n",
       "            ⎢ 2  3               ⎥              ⎢     ⎛          2  ⎞         \n",
       "            ⎢c ⋅r                ⎥              ⎢-G⋅M⋅⎝-2⋅G⋅M + c ⋅r⎠         \n",
       "            ⎢                    ⎥              ⎢─────────────────────  0     \n",
       "            ⎢  0       0     0  0⎥              ⎢         4  2                \n",
       "            ⎢                    ⎥              ⎢        c ⋅r                 \n",
       "            ⎣  0       0     0  0⎦              ⎢                             \n",
       "                                                ⎣          0            0     \n",
       "                                                                              \n",
       "                                                                              \n",
       "                                                        ⎡0       0            \n",
       "                                                        ⎢                     \n",
       "                                                        ⎢                     \n",
       "                 ⎡0  0  0  0⎤                           ⎢0       0        ────\n",
       "                 ⎢          ⎥                           ⎢                     \n",
       "                 ⎢0  0  0  0⎥                           ⎢                 2⋅G⋅\n",
       "                 ⎢          ⎥                           ⎢                     \n",
       "                 ⎢0  0  0  0⎥                           ⎢      -G⋅M           \n",
       "                 ⎢          ⎥                           ⎢0  ────────────      \n",
       "                 ⎣0  0  0  0⎦                           ⎢            2        \n",
       "                                                        ⎢   2⋅G⋅M - c ⋅r      \n",
       "                                                        ⎢                     \n",
       "                                                        ⎣0       0            \n",
       "                                                                              \n",
       "                                                                              \n",
       "                                                                              \n",
       "      ⎡0       0             0        0⎤                                      \n",
       "      ⎢                                ⎥                                      \n",
       "      ⎢                    -G⋅M        ⎥                                      \n",
       "      ⎢0       0        ────────────  0⎥                           ⎡0  0  0  0\n",
       "      ⎢                          2     ⎥                           ⎢          \n",
       "      ⎢                 2⋅G⋅M - c ⋅r   ⎥                           ⎢0  0  0  0\n",
       "      ⎢                                ⎥                           ⎢          \n",
       "      ⎢       G⋅M                      ⎥                           ⎢0  0  0  0\n",
       "      ⎢0  ────────────       0        0⎥                           ⎢          \n",
       "      ⎢            2                   ⎥                           ⎣0  0  0  0\n",
       "      ⎢   2⋅G⋅M - c ⋅r                 ⎥                                      \n",
       "      ⎢                                ⎥                                      \n",
       "      ⎣0       0             0        0⎦                                      \n",
       "                                                                              \n",
       "                                                                              \n",
       " ⎡0         0          0          0         ⎤  ⎡0  0           0              \n",
       " ⎢                                          ⎥  ⎢                              \n",
       " ⎢                                2         ⎥  ⎢0  0           0              \n",
       " ⎢                        -G⋅M⋅sin (\\theta) ⎥  ⎢                              \n",
       " ⎢0         0          0  ──────────────────⎥  ⎢                              \n",
       " ⎢                                    2     ⎥  ⎢                            -2\n",
       " ⎢                           2⋅G⋅M - c ⋅r   ⎥  ⎢0  0           0            ──\n",
       " ⎢                                          ⎥  ⎢                              \n",
       " ⎢0         0          0          0         ⎥  ⎢                              \n",
       " ⎢                                          ⎥  ⎢                              \n",
       " ⎢          2                               ⎥  ⎢                 2            \n",
       " ⎢   G⋅M⋅sin (\\theta)                       ⎥  ⎢      2⋅G⋅M⋅r⋅sin (\\theta)    \n",
       " ⎢0  ────────────────  0          0         ⎥  ⎢0  0  ────────────────────    \n",
       " ⎢              2                           ⎥  ⎢                2             \n",
       " ⎣     2⋅G⋅M - c ⋅r                         ⎦  ⎣               c              \n",
       "\n",
       " ⎛          2  ⎞   ⎤   ⎡                                              ⎛       \n",
       "⋅⎝-2⋅G⋅M + c ⋅r⎠   ⎥   ⎢                                          G⋅M⋅⎝-2⋅G⋅M \n",
       "────────────────  0⎥   ⎢                0                   0  0  ────────────\n",
       "     4  2          ⎥   ⎢                                                      \n",
       "    c ⋅r           ⎥   ⎢                                                      \n",
       "                   ⎥   ⎢                                                      \n",
       "      0           0⎥   ⎢                0                   0  0              \n",
       "                   ⎥   ⎢                                                      \n",
       "                   ⎥   ⎢                0                   0  0              \n",
       "                   ⎥   ⎢                                                      \n",
       "      0           0⎥   ⎢     ⎛          2  ⎞    2                             \n",
       "                   ⎥   ⎢-G⋅M⋅⎝-2⋅G⋅M + c ⋅r⎠⋅sin (\\theta)                     \n",
       "                   ⎥   ⎢──────────────────────────────────  0  0              \n",
       "                   ⎥   ⎢               4  2                                   \n",
       "      0           0⎦   ⎣              c ⋅r                                    \n",
       "                                                                              \n",
       "                                       ⎡0          0           0         0    \n",
       " 0        0⎤                           ⎢                                      \n",
       "           ⎥                           ⎢                                 2    \n",
       "G⋅M        ⎥                           ⎢                          G⋅M⋅sin (\\th\n",
       "────────  0⎥                           ⎢0          0           0  ────────────\n",
       "     2     ⎥                           ⎢                                     2\n",
       "M - c ⋅r   ⎥                           ⎢                            2⋅G⋅M - c \n",
       "           ⎥                           ⎢                                      \n",
       "           ⎥                           ⎢0          0           0         0    \n",
       " 0        0⎥                           ⎢                                      \n",
       "           ⎥                           ⎢           2                          \n",
       "           ⎥                           ⎢   -G⋅M⋅sin (\\theta)                  \n",
       "           ⎥                           ⎢0  ──────────────────  0         0    \n",
       " 0        0⎦                           ⎢               2                      \n",
       "                                       ⎣      2⋅G⋅M - c ⋅r                    \n",
       "                                                                              \n",
       "                                   ⎡0  0            0                      0  \n",
       "                                   ⎢                                          \n",
       "                                   ⎢0  0            0                      0  \n",
       "                                   ⎢                                          \n",
       "⎤                                  ⎢                                         2\n",
       "⎥                                  ⎢                              2⋅G⋅M⋅r⋅sin \n",
       "⎥                                  ⎢0  0            0             ────────────\n",
       "⎥                                  ⎢                                        2 \n",
       "⎥                                  ⎢                                       c  \n",
       "⎥                                  ⎢                                          \n",
       "⎦                                  ⎢                  2                       \n",
       "                                   ⎢      -2⋅G⋅M⋅r⋅sin (\\theta)               \n",
       "                                   ⎢0  0  ──────────────────────           0  \n",
       "                                   ⎢                 2                        \n",
       "                                   ⎣                c                         \n",
       "                                                                              \n",
       "        0           ⎤                                                         \n",
       "                    ⎥                                                         \n",
       "        0           ⎥                                                         \n",
       "                    ⎥                                                         \n",
       "          2         ⎥                                  ⎡0  0  0  0⎤           \n",
       "⋅G⋅M⋅r⋅sin (\\theta) ⎥                                  ⎢          ⎥           \n",
       "────────────────────⎥                                  ⎢0  0  0  0⎥           \n",
       "         2          ⎥                                  ⎢          ⎥           \n",
       "        c           ⎥                                  ⎢0  0  0  0⎥           \n",
       "                    ⎥                                  ⎢          ⎥           \n",
       "                    ⎥                                  ⎣0  0  0  0⎦           \n",
       "                    ⎥                                                         \n",
       "        0           ⎥                                                         \n",
       "                    ⎥                                                         \n",
       "                    ⎦                                                         \n",
       "\n",
       "   2  ⎞    2        ⎤⎤\n",
       "+ c ⋅r⎠⋅sin (\\theta)⎥⎥\n",
       "────────────────────⎥⎥\n",
       "  4  2              ⎥⎥\n",
       " c ⋅r               ⎥⎥\n",
       "                    ⎥⎥\n",
       "   0                ⎥⎥\n",
       "                    ⎥⎥\n",
       "   0                ⎥⎥\n",
       "                    ⎥⎥\n",
       "                    ⎥⎥\n",
       "                    ⎥⎥\n",
       "   0                ⎥⎥\n",
       "                    ⎥⎥\n",
       "                    ⎦⎥\n",
       "                     ⎥\n",
       "    ⎤                ⎥\n",
       "    ⎥                ⎥\n",
       "    ⎥                ⎥\n",
       "eta)⎥                ⎥\n",
       "────⎥                ⎥\n",
       "    ⎥                ⎥\n",
       "⋅r  ⎥                ⎥\n",
       "    ⎥                ⎥\n",
       "    ⎥                ⎥\n",
       "    ⎥                ⎥\n",
       "    ⎥                ⎥\n",
       "    ⎥                ⎥\n",
       "    ⎥                ⎥\n",
       "    ⎥                ⎥\n",
       "    ⎦                ⎥\n",
       "                     ⎥\n",
       "        ⎤            ⎥\n",
       "        ⎥            ⎥\n",
       "        ⎥            ⎥\n",
       "        ⎥            ⎥\n",
       "        ⎥            ⎥\n",
       "(\\theta)⎥            ⎥\n",
       "────────⎥            ⎥\n",
       "        ⎥            ⎥\n",
       "        ⎥            ⎥\n",
       "        ⎥            ⎥\n",
       "        ⎥            ⎥\n",
       "        ⎥            ⎥\n",
       "        ⎥            ⎥\n",
       "        ⎥            ⎥\n",
       "        ⎦            ⎥\n",
       "                     ⎥\n",
       "                     ⎥\n",
       "                     ⎥\n",
       "                     ⎥\n",
       "                     ⎥\n",
       "                     ⎥\n",
       "                     ⎥\n",
       "                     ⎥\n",
       "                     ⎥\n",
       "                     ⎥\n",
       "                     ⎥\n",
       "                     ⎥\n",
       "                     ⎥\n",
       "                     ⎥\n",
       "                     ⎥\n",
       "                     ⎦"
      ]
     },
     "execution_count": 15,
     "metadata": {},
     "output_type": "execute_result"
    }
   ],
   "source": [
    "Rm = Riemann('Rm', g)\n",
    "Rm(All, All, All, All)"
   ]
  },
  {
   "cell_type": "markdown",
   "metadata": {},
   "source": [
    "The metric in the coordinates chosen here contains two singularities, namely at $r=0$ and $r=r_\\mathrm{S}$. In order to decide which one of those is a real singularity, we determine the Kretschmann invariant\n",
    "$$R_{\\mu\\nu\\rho\\sigma}R^{\\mu\\nu\\rho\\sigma}.$$\n",
    "This quantity is independent of the chose coordinates"
   ]
  },
  {
   "cell_type": "code",
   "execution_count": 16,
   "metadata": {},
   "outputs": [
    {
     "data": {
      "image/png": "[encoded data removed]",
      "text/latex": [
       "$$\\frac{48 G^{2} M^{2}}{c^{4} r^{6}}$$"
      ],
      "text/plain": [
       "    2  2\n",
       "48⋅G ⋅M \n",
       "────────\n",
       "  4  6  \n",
       " c ⋅r   "
      ]
     },
     "execution_count": 16,
     "metadata": {},
     "output_type": "execute_result"
    }
   ],
   "source": [
    "from itertools import product\n",
    "Kretschmann = symbols('Kretschmann')\n",
    "Kretschmann = 0\n",
    "for mu, nu, rho, sigma in product(range(1, 5), repeat=4):\n",
    "    Kretschmann = Kretschmann+Rm(mu, nu, rho, sigma)*Rm(-mu, -nu, -rho, -sigma)\n",
    "simplify(Kretschmann)"
   ]
  },
  {
   "cell_type": "markdown",
   "metadata": {},
   "source": [
    "Indeed, the only singularity of the Schwarzschild metric is found at $r=0$. The singularity at $r_\\mathrm{S}$ can be removed by an appropriate choice of coordinates."
   ]
  }
 ],
 "metadata": {
  "kernelspec": {
   "display_name": "Python 3",
   "language": "python",
   "name": "python3"
  },
  "language_info": {
   "codemirror_mode": {
    "name": "ipython",
    "version": 3
   },
   "file_extension": ".py",
   "mimetype": "text/x-python",
   "name": "python",
   "nbconvert_exporter": "python",
   "pygments_lexer": "ipython3",
   "version": "3.5.6"
  }
 },
 "nbformat": 4,
 "nbformat_minor": 2
}
