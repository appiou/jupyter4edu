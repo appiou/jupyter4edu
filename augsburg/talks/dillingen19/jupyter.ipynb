{
 "cells": [
  {
   "cell_type": "markdown",
   "metadata": {
    "slideshow": {
     "slide_type": "slide"
    }
   },
   "source": [
    "# Python Programmieren mit dem Jupyter Notebook\n",
    "\n",
    "### Gert-Ludwig Ingold\n",
    "Universität Augsburg\n",
    "\n",
    "<img src=\"images/EU_flag-Erasmus__vect_POS.png\" width=\"25%\" align=\"right\">"
   ]
  },
  {
   "cell_type": "markdown",
   "metadata": {
    "slideshow": {
     "slide_type": "slide"
    }
   },
   "source": [
    "## Über mich\n",
    "\n",
    "* Theoretischer Physiker an der Universität Augsburg\n",
    "* Programmiervorlesungen in Python für Physiker und Materialwissenschaftler seit 2010\n",
    "* Beiträge zu Open Source Projekten und Tutorials bei der EuroSciPy-Konferenz\n",
    "* Beteiligung an zwei Erasmus+-Projekten zum Programmieren im schulischen und universitären Unterricht mit Python\n",
    "  * iCSE4school (2015-2017)  \n",
    "    Materialien: http://visual.icse.us.edu.pl/school/\n",
    "  * Jupyter@edu (2017-2019)  \n",
    "    Materialien: https://github.com/marcinofulus/jupyter4edu"
   ]
  },
  {
   "cell_type": "markdown",
   "metadata": {
    "slideshow": {
     "slide_type": "slide"
    }
   },
   "source": [
    "## Python programmieren\n",
    "\n",
    "* in der Python shell\n",
    "  * vor allem zum Ausprobieren sehr kurzer Codesegmente\n",
    "  * besser: IPython shell (improved Python shell)   \n",
    "    Ausgangspunkt für Entwicklung des Jupyter Notebooks\n",
    "* in einem Editor\n",
    "  * ggf. Lernaufwand bei mächtigen Editoren\n",
    "  * auch in anderen Zusammenhängen nutzbar\n",
    "* in einer Entwicklungsumgebung (IDLE, Spyder, ...)\n",
    "  * relativ geringe Einarbeitungszeit\n",
    "* im Jupyter-Notebook\n",
    "  * <font color=\"#c00\">Eigenschaften ⇒</font>"
   ]
  },
  {
   "cell_type": "markdown",
   "metadata": {
    "slideshow": {
     "slide_type": "subslide"
    }
   },
   "source": [
    "## Aus Newtons Notizbuch\n",
    "\n",
    "<img src=\"images/MS-ADD-04004_25_detail.png\">"
   ]
  },
  {
   "cell_type": "markdown",
   "metadata": {
    "slideshow": {
     "slide_type": "subslide"
    }
   },
   "source": [
    "## Von Newton zum modernen Notebook\n",
    "* *Erläuterungen*  \n",
    "  Text, der Gliederungen und mathematische Formeln enthalten kann\n",
    "* *mathematische Umformungen*  \n",
    "  Programmcode und das daraus resultierende Ergebnis\n",
    "* *Abbildungen*  \n",
    "  graphische Darstellungen und Multimedia-Objekte\n",
    "* *Darstellung*  \n",
    "  HTML, PDF, …"
   ]
  },
  {
   "cell_type": "markdown",
   "metadata": {
    "slideshow": {
     "slide_type": "slide"
    }
   },
   "source": [
    "## Von IPython zum Jupyter Notebook\n",
    "\n",
    "* 2001: Start des IPython-Projekts durch Fernando Pérez  \n",
    "* Dezember 2011: Mit IPython 0.12 wird das **IPython Notebook** eingeführt\n",
    "* 2013-2014: Die Entwicklung von IPython wird mit 1,15 M\\$ von der Alfred P. Sloan Stiftung unterstützt\n",
    "* August 2013: Microsoft unterstützt die Entwicklung von IPython mit 100 k\\$\n",
    "* 2015: *The big split*: Aufteilung in einen sprachunabhängigen Teil (Jupyter) und einen Python-spezifischen\n",
    "  Teil (IPython)\n",
    "  \n",
    "Frage: Warum *Jupyter*?  \n",
    "Antwort: **Ju**lia - **Pyt**hon - **R**"
   ]
  },
  {
   "cell_type": "markdown",
   "metadata": {
    "slideshow": {
     "slide_type": "slide"
    }
   },
   "source": [
    "## Eine kurze Tour durch das Jupyter Notebook Interface\n",
    "\n",
    "<img src=\"images/help.png\">"
   ]
  },
  {
   "cell_type": "markdown",
   "metadata": {
    "slideshow": {
     "slide_type": "slide"
    }
   },
   "source": [
    "## Codezellen"
   ]
  },
  {
   "cell_type": "code",
   "execution_count": null,
   "metadata": {},
   "outputs": [],
   "source": [
    "for n in range(3):\n",
    "    print('Das Jupyter-Notebook ist toll!')"
   ]
  },
  {
   "cell_type": "markdown",
   "metadata": {},
   "source": [
    "* Ausgeführte Codezellen bekommen eine Nummer in der Reihenfolge der Ausführung.\n",
    "* Codezellen können im Prinzip in beliebiger Reihenfolge ausgeführt werden.\n",
    "* Hier liegt gerade für Anfänger ein potentieller Stolperstein.\n",
    "* Man kann aber auch alle Zellen bis zu einer vorgegebenen Zelle ausführen lassen, z.B. wenn\n",
    "  man an einem bestimmten Punkt des Notebooks einsteigen will.\n",
    "* Vorsicht bei der automatischen Ausführung unbekannter Notebooks!"
   ]
  },
  {
   "cell_type": "markdown",
   "metadata": {
    "slideshow": {
     "slide_type": "slide"
    }
   },
   "source": [
    "## Textzellen\n",
    "\n",
    "### Markdown-Beispiele\n",
    "* \\*hervorgehobener Text\\* oder \\_hervorgehobener Text\\_  \n",
    "  *hervorgehobener Text* oder _hervorgehobener Text_\n",
    "* \\*\\*stark hervorgehobener Text\\*\\* oder \\_\\_stark hervorgehobener Text\\_\\_  \n",
    "  **stark hervorgehobener Text** oder __stark hervorgehobener Text__\n",
    "* \\`\\`Code\\`\\`  \n",
    "  ``Code``\n",
    "  "
   ]
  },
  {
   "cell_type": "markdown",
   "metadata": {
    "slideshow": {
     "slide_type": "subslide"
    }
   },
   "source": [
    "## Textzellen\n",
    "\n",
    "### HTML-Beispiel \n",
    "* ``<span style=\"color: white; background-color: #f88\">farbiger Text</span>``  \n",
    "  <span style=\"color: white; background-color: #f88\">farbiger Text</span>"
   ]
  },
  {
   "cell_type": "markdown",
   "metadata": {
    "slideshow": {
     "slide_type": "subslide"
    }
   },
   "source": [
    "## Textzellen\n",
    "\n",
    "### Formelsatz\n",
    "\n",
    "``Hier steht eine Formel $\\sqrt{1+x} = 1+\\frac{x}{2}+...$ im Fließtext.`` \n",
    "\n",
    "Hier steht eine Formel $\\sqrt{1+x} = 1+\\frac{x}{2}+...$ im Fließtext.\n",
    "\n",
    "Formeln können auch für sich in einer Zeile stehen:\n",
    "\n",
    "``$$\\int_{-\\infty}^{+\\infty}\\mathrm{e}^{-x^2}\\mathrm{d}x = \\sqrt{\\pi}$$``\n",
    "\n",
    "$$\\int_{-\\infty}^{+\\infty}\\mathrm{e}^{-x^2}\\mathrm{d}x = \\sqrt{\\pi}$$\n",
    "\n",
    "* Formelsatz unter Verwendung von LaTeX-Syntax\n",
    "* Darstellung mit [MathJax](https://www.mathjax.org)"
   ]
  },
  {
   "cell_type": "markdown",
   "metadata": {
    "slideshow": {
     "slide_type": "slide"
    }
   },
   "source": [
    "## Einige wichtige Tastaturkürzel\n",
    "\n",
    "* Liste der Tastaturkürzel: ``p``"
   ]
  },
  {
   "cell_type": "markdown",
   "metadata": {
    "slideshow": {
     "slide_type": "subslide"
    }
   },
   "source": [
    "### Wechsel zwischen Kommando- und Eingabemodus\n",
    "\n",
    "* zum Eingabemodus: ``Enter``\n",
    "* zum Kommandomodus: ``ESC``"
   ]
  },
  {
   "cell_type": "markdown",
   "metadata": {
    "slideshow": {
     "slide_type": "subslide"
    }
   },
   "source": [
    "### Kommandomodus – Wechsel des Zellentyps\n",
    "\n",
    "* Wechsel zu Markdown-Zelle: ``m`` (markdown)\n",
    "* Wechsel zu Code-Zelle: ``y``"
   ]
  },
  {
   "cell_type": "markdown",
   "metadata": {
    "slideshow": {
     "slide_type": "subslide"
    }
   },
   "source": [
    "### Kommandomodus – Ausführung einer Zelle\n",
    "\n",
    "* Ausführen einer Zelle: ``STRG-Enter``\n",
    "* Ausführen einer Zelle und Auswahl der nächsten Zelle: ``SHIFT-Enter``\n",
    "* Ausführen einer Zelle und Öffnen einer neuen Zelle: ``ALT-Enter``"
   ]
  },
  {
   "cell_type": "markdown",
   "metadata": {
    "slideshow": {
     "slide_type": "subslide"
    }
   },
   "source": [
    "### Kommandomodus – Manipulation von Zellen\n",
    "\n",
    "* Kopieren ausgewählter Zellen: ``c``\n",
    "* Ausschneiden ausgewählter Zellen: ``x``\n",
    "* Einfügen unter der aktuellen Zelle: ``v``\n",
    "* Einfügen über der aktuellen Zelle: ``SHIFT-v``\n",
    "* neue Zelle über der aktuellen Zelle: ``a`` (above)\n",
    "* neue Zelle unter der aktuellen Zelle: ``b`` (below)\n",
    "* Löschen der aktuellen Zellen: ``dd`` (delete, really)"
   ]
  },
  {
   "cell_type": "markdown",
   "metadata": {
    "slideshow": {
     "slide_type": "subslide"
    }
   },
   "source": [
    "### Zerlegen und Zusammenfügen von Zellen\n",
    "\n",
    "* Zerlegen am Cursor im Editiermodus: ``STRG-SHIFT--``\n",
    "* Zusammenfügen von Zellen im Kommandomodus: ``SHIFT-m`` (merge)\n",
    "\n",
    "### Auswählen mehrerer Zellen\n",
    "\n",
    "* im Kommandomodus: ``SHIFT-↑`` oder ``SHIFT-↓``"
   ]
  },
  {
   "cell_type": "markdown",
   "metadata": {
    "slideshow": {
     "slide_type": "slide"
    }
   },
   "source": [
    "## IPython – eine verbesserte Python-Shell\n",
    "\n",
    "### Hilfe"
   ]
  },
  {
   "cell_type": "markdown",
   "metadata": {},
   "source": [
    "kurze Variante mit Signatur, Dokumentationstext, Quelle und Typ"
   ]
  },
  {
   "cell_type": "code",
   "execution_count": null,
   "metadata": {},
   "outputs": [],
   "source": [
    "import random\n",
    "random.seed?"
   ]
  },
  {
   "cell_type": "markdown",
   "metadata": {},
   "source": [
    "lange Variante mit Code (sofern verfügbar)"
   ]
  },
  {
   "cell_type": "code",
   "execution_count": null,
   "metadata": {},
   "outputs": [],
   "source": [
    "random.seed??"
   ]
  },
  {
   "cell_type": "markdown",
   "metadata": {},
   "source": [
    "Codeergänzung mit ``TAB``"
   ]
  },
  {
   "cell_type": "code",
   "execution_count": null,
   "metadata": {},
   "outputs": [],
   "source": [
    "random."
   ]
  },
  {
   "cell_type": "markdown",
   "metadata": {
    "slideshow": {
     "slide_type": "subslide"
    }
   },
   "source": [
    "### Bezug auf frühere Ergebnisse"
   ]
  },
  {
   "cell_type": "code",
   "execution_count": null,
   "metadata": {},
   "outputs": [],
   "source": [
    "2**10"
   ]
  },
  {
   "cell_type": "code",
   "execution_count": null,
   "metadata": {},
   "outputs": [],
   "source": [
    "_-1000"
   ]
  },
  {
   "cell_type": "code",
   "execution_count": null,
   "metadata": {},
   "outputs": [],
   "source": [
    "__/2**8"
   ]
  },
  {
   "cell_type": "markdown",
   "metadata": {
    "slideshow": {
     "slide_type": "subslide"
    }
   },
   "source": [
    "### Bisherige Ein- und Ausgaben"
   ]
  },
  {
   "cell_type": "code",
   "execution_count": null,
   "metadata": {},
   "outputs": [],
   "source": [
    "In"
   ]
  },
  {
   "cell_type": "code",
   "execution_count": null,
   "metadata": {},
   "outputs": [],
   "source": [
    "Out"
   ]
  },
  {
   "cell_type": "markdown",
   "metadata": {
    "slideshow": {
     "slide_type": "slide"
    }
   },
   "source": [
    "## Magische Befehle"
   ]
  },
  {
   "cell_type": "code",
   "execution_count": null,
   "metadata": {
    "scrolled": true,
    "slideshow": {
     "slide_type": "-"
    }
   },
   "outputs": [],
   "source": [
    "%lsmagic"
   ]
  },
  {
   "cell_type": "code",
   "execution_count": null,
   "metadata": {
    "slideshow": {
     "slide_type": "-"
    }
   },
   "outputs": [],
   "source": [
    "%quickref"
   ]
  },
  {
   "cell_type": "markdown",
   "metadata": {
    "slideshow": {
     "slide_type": "subslide"
    }
   },
   "source": [
    "### Zeilenmagie"
   ]
  },
  {
   "cell_type": "code",
   "execution_count": null,
   "metadata": {
    "slideshow": {
     "slide_type": "-"
    }
   },
   "outputs": [],
   "source": [
    "%timeit 2.5**100"
   ]
  },
  {
   "cell_type": "markdown",
   "metadata": {
    "slideshow": {
     "slide_type": "subslide"
    }
   },
   "source": [
    "### Zellenmagie"
   ]
  },
  {
   "cell_type": "code",
   "execution_count": null,
   "metadata": {
    "slideshow": {
     "slide_type": "-"
    }
   },
   "outputs": [],
   "source": [
    "import math"
   ]
  },
  {
   "cell_type": "code",
   "execution_count": null,
   "metadata": {
    "slideshow": {
     "slide_type": "-"
    }
   },
   "outputs": [],
   "source": [
    "%%timeit \n",
    "result = []\n",
    "nmax = 100000\n",
    "dx = 0.001\n",
    "for n in range(nmax):\n",
    "    result.append(math.sin(n*dx))"
   ]
  },
  {
   "cell_type": "code",
   "execution_count": null,
   "metadata": {},
   "outputs": [],
   "source": [
    "import numpy as np"
   ]
  },
  {
   "cell_type": "code",
   "execution_count": null,
   "metadata": {
    "slideshow": {
     "slide_type": "-"
    }
   },
   "outputs": [],
   "source": [
    "%%timeit\n",
    "nmax = 100\n",
    "dx = 0.001\n",
    "x = np.arange(0, nmax, dx)\n",
    "result = np.sin(x)"
   ]
  },
  {
   "cell_type": "code",
   "execution_count": null,
   "metadata": {
    "slideshow": {
     "slide_type": "subslide"
    }
   },
   "outputs": [],
   "source": [
    "%%HTML\n",
    "<style>\n",
    "div.text_cell_render h2 {color: #c80;}\n",
    "div.text_cell_render h3 {color: #c08;}\n",
    "</style>"
   ]
  },
  {
   "cell_type": "markdown",
   "metadata": {
    "slideshow": {
     "slide_type": "slide"
    }
   },
   "source": [
    "## Darstellungsmöglichkeiten"
   ]
  },
  {
   "cell_type": "markdown",
   "metadata": {},
   "source": [
    "### HTML-Code"
   ]
  },
  {
   "cell_type": "code",
   "execution_count": null,
   "metadata": {
    "slideshow": {
     "slide_type": "subslide"
    }
   },
   "outputs": [],
   "source": [
    "import calendar\n",
    "calendar.LocaleHTMLCalendar().formatmonth(2019, 1)"
   ]
  },
  {
   "cell_type": "code",
   "execution_count": null,
   "metadata": {},
   "outputs": [],
   "source": [
    "from IPython.display import HTML\n",
    "HTML(calendar.LocaleHTMLCalendar().formatmonth(2019, 1))"
   ]
  },
  {
   "cell_type": "markdown",
   "metadata": {
    "slideshow": {
     "slide_type": "subslide"
    }
   },
   "source": [
    "### LaTeX-Code"
   ]
  },
  {
   "cell_type": "code",
   "execution_count": null,
   "metadata": {
    "slideshow": {
     "slide_type": "-"
    }
   },
   "outputs": [],
   "source": [
    "from IPython.display import Latex\n",
    "Latex(r\"$\\cos(\\alpha-\\beta)=\\cos(\\alpha)\\cos(\\beta)+\\sin(\\alpha)\\sin(\\beta)$\")"
   ]
  },
  {
   "cell_type": "markdown",
   "metadata": {
    "slideshow": {
     "slide_type": "subslide"
    }
   },
   "source": [
    "### Youtube-Videos"
   ]
  },
  {
   "cell_type": "code",
   "execution_count": null,
   "metadata": {
    "scrolled": true,
    "slideshow": {
     "slide_type": "-"
    }
   },
   "outputs": [],
   "source": [
    "from IPython.display import YouTubeVideo\n",
    "YouTubeVideo('X18jt2lVmJY')"
   ]
  },
  {
   "cell_type": "markdown",
   "metadata": {
    "slideshow": {
     "slide_type": "subslide"
    }
   },
   "source": [
    "### Audiosignale"
   ]
  },
  {
   "cell_type": "code",
   "execution_count": null,
   "metadata": {},
   "outputs": [],
   "source": [
    "from IPython.display import Audio\n",
    "import numpy as np\n",
    "\n",
    "def sound(func, step, power, decaypower, tmax=5, framerate=44100):\n",
    "    n, t = np.ogrid[1:20:step, 0:tmax:framerate*tmax*1j]\n",
    "    data = np.sum(func(2*np.pi*220*n*t)/n**power*np.exp(-n**decaypower*t), axis=0)\n",
    "    return Audio(data, rate=framerate)\n",
    "\n",
    "sound(np.sin, step=2, power=0, decaypower=1)"
   ]
  },
  {
   "cell_type": "markdown",
   "metadata": {
    "slideshow": {
     "slide_type": "subslide"
    }
   },
   "source": [
    "Objekte lassen sich in verschiedenen Formaten darstellen:\n",
    "\n",
    "* Markdown\n",
    "* LaTeX\n",
    "* HTML\n",
    "* Javascript\n",
    "* SVG\n",
    "* PNG\n",
    "* JPEG"
   ]
  },
  {
   "cell_type": "markdown",
   "metadata": {
    "slideshow": {
     "slide_type": "subslide"
    }
   },
   "source": [
    "### Darstellung eines Farbobjekts als SVG"
   ]
  },
  {
   "cell_type": "code",
   "execution_count": null,
   "metadata": {
    "slideshow": {
     "slide_type": "-"
    }
   },
   "outputs": [],
   "source": [
    "class RGBColor:\n",
    "    def __init__(self, r, g, b):\n",
    "        self.colordict = {\"r\": r, \"g\":g, \"b\": b}\n",
    "        \n",
    "    def _repr_svg_(self):\n",
    "        return '''<svg height=\"50\" width=\"50\">\n",
    "                    <rect width=\"50\" height=\"50\" fill=\"rgb({r},{g},{b})\" />\n",
    "                  </svg>'''.format(**self.colordict)\n",
    "\n",
    "c = RGBColor(205, 128, 255)\n",
    "c"
   ]
  },
  {
   "cell_type": "markdown",
   "metadata": {
    "slideshow": {
     "slide_type": "subslide"
    }
   },
   "source": [
    "### Darstellung eines Bruchs als HTML oder LaTeX"
   ]
  },
  {
   "cell_type": "code",
   "execution_count": null,
   "metadata": {
    "slideshow": {
     "slide_type": "-"
    }
   },
   "outputs": [],
   "source": [
    "from fractions import Fraction\n",
    "\n",
    "class MyFraction(Fraction):\n",
    "    def _repr_html_(self):\n",
    "        return \"<sup>%s</sup>&frasl;<sub>%s</sub>\" % (self.numerator,\n",
    "                                                          self.denominator)\n",
    "    \n",
    "    def _repr_latex_(self):\n",
    "        return r\"$\\frac{%s}{%s}$\" % (self.numerator, self.denominator)\n",
    "    \n",
    "    def __add__(a, b):\n",
    "        \"\"\"a + b\"\"\"\n",
    "        return MyFraction(a.numerator * b.denominator +\n",
    "                          b.numerator * a.denominator,\n",
    "                          a.denominator * b.denominator)\n",
    "        \n",
    "MyFraction(12, 345)+MyFraction(67, 89)"
   ]
  },
  {
   "cell_type": "code",
   "execution_count": null,
   "metadata": {
    "slideshow": {
     "slide_type": "-"
    }
   },
   "outputs": [],
   "source": [
    "from IPython.display import display_latex\n",
    "display_latex(MyFraction(12, 345)+MyFraction(67, 89))"
   ]
  },
  {
   "cell_type": "markdown",
   "metadata": {
    "slideshow": {
     "slide_type": "slide"
    }
   },
   "source": [
    "## Widgets"
   ]
  },
  {
   "cell_type": "code",
   "execution_count": null,
   "metadata": {
    "slideshow": {
     "slide_type": "-"
    }
   },
   "outputs": [],
   "source": [
    "from ipywidgets import interact, widgets"
   ]
  },
  {
   "cell_type": "code",
   "execution_count": null,
   "metadata": {
    "slideshow": {
     "slide_type": "subslide"
    }
   },
   "outputs": [],
   "source": [
    "import matplotlib.pyplot as plt"
   ]
  },
  {
   "cell_type": "code",
   "execution_count": null,
   "metadata": {
    "slideshow": {
     "slide_type": "-"
    }
   },
   "outputs": [],
   "source": [
    "class Taylorseries:\n",
    "    def __init__(self, coeffs):\n",
    "        self.coeffs = coeffs\n",
    "        \n",
    "    def __call__(self, x, order):\n",
    "        p = np.poly1d(self.coeffs[-order-1:])\n",
    "        return p(x)\n",
    "\n",
    "maxorder = 11   \n",
    "taylor_sin = Taylorseries([(-1)**((n-1)//2)/math.factorial(n) if n % 2 else 0\n",
    "                           for n in range(maxorder, -1, -1)])\n",
    "taylor_cos = Taylorseries([(-1)**((n+1)//2)/math.factorial(n) if not (n % 2) else 0\n",
    "                           for n in range(maxorder, -1, -1)])"
   ]
  },
  {
   "cell_type": "code",
   "execution_count": null,
   "metadata": {
    "slideshow": {
     "slide_type": "subslide"
    }
   },
   "outputs": [],
   "source": [
    "@interact(funcs=widgets.Dropdown(options={'Sinus': (np.sin, taylor_sin),\n",
    "                                          'Kosinus': (np.cos, taylor_cos)},\n",
    "                                 description='Funktion'),\n",
    "          order=widgets.IntSlider(min=0, max=maxorder, value=0,\n",
    "                                  description='Ordnung')\n",
    "         )\n",
    "def g(funcs, order):\n",
    "    f, ftaylor = funcs\n",
    "    x = np.linspace(-np.pi, np.pi)\n",
    "    plt.plot(x, f(x))\n",
    "    plt.plot(x, ftaylor(x, order))\n",
    "    plt.ylim(-1.5, 1.5)\n",
    "    plt.show()"
   ]
  },
  {
   "cell_type": "markdown",
   "metadata": {
    "slideshow": {
     "slide_type": "subslide"
    }
   },
   "source": [
    "## Kopplung von Widgets"
   ]
  },
  {
   "cell_type": "code",
   "execution_count": null,
   "metadata": {
    "scrolled": true
   },
   "outputs": [],
   "source": [
    "funcs_widget = widgets.Dropdown(options={'Sinus': (np.sin, taylor_sin),\n",
    "                                         'Kosinus': (np.cos, taylor_cos)},\n",
    "                                description='Funktion')\n",
    "order_widget = widgets.IntSlider(min=1, max=maxorder, value=0, step=2,\n",
    "                                 description='Ordnung')\n",
    "\n",
    "def update_min_order(*args):\n",
    "    minval = {np.cos: 0, np.sin: 1}\n",
    "    order_widget.min = minval[funcs_widget.value[0]]\n",
    "    order_widget.value = order_widget.min\n",
    "    \n",
    "funcs_widget.observe(update_min_order, 'value')\n",
    "    \n",
    "interact(g, funcs=funcs_widget, order=order_widget);"
   ]
  },
  {
   "cell_type": "markdown",
   "metadata": {
    "slideshow": {
     "slide_type": "subslide"
    }
   },
   "source": [
    "### Defaultwidgets"
   ]
  },
  {
   "cell_type": "code",
   "execution_count": null,
   "metadata": {
    "slideshow": {
     "slide_type": "-"
    }
   },
   "outputs": [],
   "source": [
    "@interact(param1={'A': 1, 'B': 2, 'C': 3},\n",
    "          param2=['a', 'b', 'c'],\n",
    "          param3=(0, 10),\n",
    "          param4=(-1., 1.),\n",
    "          param5='Hallo',\n",
    "          param6=True,\n",
    "          param7=False\n",
    "         )\n",
    "def g(**kwargs):\n",
    "    for k, v in kwargs.items():\n",
    "        print(f'{k}: {v}')"
   ]
  },
  {
   "cell_type": "markdown",
   "metadata": {
    "slideshow": {
     "slide_type": "slide"
    }
   },
   "source": [
    "## ipynb-Datei\n",
    "\n",
    "* Die Notebook-Datei (``.ipynb``) ist lesbar, aber ein direktes Editieren sollte \n",
    "  man entweder bleiben lassen oder sorgfältig vorgehen.\n",
    "* Mit Hilfe der IPython-API lassen sich Notebooks bei Bedarf maschinell lesen \n",
    "  oder schreiben."
   ]
  },
  {
   "cell_type": "code",
   "execution_count": null,
   "metadata": {
    "slideshow": {
     "slide_type": "subslide"
    }
   },
   "outputs": [],
   "source": [
    "with open('jupyter.ipynb') as file:\n",
    "    content = file.readlines()\n",
    "for line in content[:18]:\n",
    "    print(line.strip('\\n'))"
   ]
  },
  {
   "cell_type": "code",
   "execution_count": null,
   "metadata": {
    "slideshow": {
     "slide_type": "subslide"
    }
   },
   "outputs": [],
   "source": [
    "for line in content[-23:]:\n",
    "    print(line.strip('\\n'))"
   ]
  },
  {
   "cell_type": "markdown",
   "metadata": {
    "slideshow": {
     "slide_type": "slide"
    }
   },
   "source": [
    "## Umwandlung in andere Formate\n",
    "\n",
    "``jupyter nbconvert --to FORMAT notebook.ipynb``\n",
    "\n",
    "Defaultformat ist HTML."
   ]
  },
  {
   "cell_type": "code",
   "execution_count": null,
   "metadata": {},
   "outputs": [],
   "source": [
    "from nbconvert import exporters\n",
    "exporters.get_export_names()"
   ]
  },
  {
   "cell_type": "markdown",
   "metadata": {
    "slideshow": {
     "slide_type": "slide"
    }
   },
   "source": [
    "## Jupyter-Notebook im Unterricht\n",
    "\n",
    "* Jupyter-Notebook eignet sich sehr gut zum Bereitstellen interaktive Lehrmaterialien\n",
    "* es eignet sich sehr gut zur Datenanalyse und zur Dokumentation der Ergebnisse, z.B. im experimentellen Unterricht\n",
    "* es kann zur Korrektur von Übungsaufgaben herangezogen werden ⇒ ``nbgrader``\n",
    "* es unterstützt exploratives Programmieren durch die einfache Möglichkeit, kürzere Programmteile auszuprobieren"
   ]
  },
  {
   "cell_type": "code",
   "execution_count": null,
   "metadata": {},
   "outputs": [],
   "source": [
    "%matplotlib notebook"
   ]
  },
  {
   "cell_type": "code",
   "execution_count": null,
   "metadata": {},
   "outputs": [],
   "source": [
    "x = np.linspace(0, 1, 100)\n",
    "y = np.sin(x)\n",
    "plt.plot(x, y)\n",
    "plt.show()"
   ]
  },
  {
   "cell_type": "markdown",
   "metadata": {
    "slideshow": {
     "slide_type": "subslide"
    }
   },
   "source": [
    "* Jupyter-Notebook eignet sich eher schlecht zum Erstellen längerer Programme\n",
    "* es sollte von Schüler / Studierenden nicht als einzige Möglichkeit wahrgenommen werden, in Python zu programmieren\n",
    "* die Möglichkeit, Zellen nicht in der vorgegebenen Reihenfolge abzuarbeiten, kann zu Irritationen führen\n",
    "\n",
    "<font color=\"#c30\">⇒ Das Jupyter-Notebook eröffnet spannende Möglichkeiten für den Unterricht, ist aber kein Allzweckmittel.</font>"
   ]
  },
  {
   "cell_type": "markdown",
   "metadata": {
    "slideshow": {
     "slide_type": "slide"
    }
   },
   "source": [
    "## Technische Aspekte"
   ]
  },
  {
   "cell_type": "markdown",
   "metadata": {
    "slideshow": {
     "slide_type": "subslide"
    }
   },
   "source": [
    "### Anaconda-Distribution (https://anaconda.org)\n",
    "* umfassende und freie Python-Distribution für Windows, Linux, MacOS\n",
    "* leichte Installation und Erweiterbarkeit\n",
    "* Ausrichtung auf Datenanalyse und numerische Pakete für den wissenschaftlichen Einsatz  \n",
    "  potentiell interessant für den naturwissenschaftlichen Unterricht\n",
    "* mit gut 600 MB nicht ganz klein"
   ]
  },
  {
   "cell_type": "markdown",
   "metadata": {
    "slideshow": {
     "slide_type": "subslide"
    }
   },
   "source": [
    "### Jupyter vs. Jupyterhub\n",
    "\n",
    "**Jupyter**\n",
    "* Installation auf dem eigenen Rechner\n",
    "* unterschiedliche Betriebssysteme: mit Anaconda-Distribution einheitliches Arbeitsumfeld möglich\n",
    "\n",
    "**Jupyterhub**\n",
    "* serverbasierte Jupyter-Installation\n",
    "* webbasierter Zugriff unabhängig von der lokalen Softwareinstallation\n",
    "* einheitliche Arbeitsbedingungen\n",
    "* Benutzerverwaltung erforderlich"
   ]
  },
  {
   "cell_type": "markdown",
   "metadata": {
    "slideshow": {
     "slide_type": "slide"
    }
   },
   "source": [
    "## Einführung in das Programmieren für Physiker und Materialwissenschaftler\n",
    "\n",
    "* für Studierende im 2. oder 4. Semester\n",
    "* Studierende teilweise ohne Programmiererfahrung  \n",
    "  ⇒ betreute Übungen\n",
    "* allgemeine Programmierkonzepte, keine Betonung von Pythonspezifika  \n",
    "  ⇒ gelegentlich Vergleich mit anderen Programmiersprachen\n",
    "* Manuskript online als HTML und PDF frei verfügbar: https://gertingold.github.io"
   ]
  },
  {
   "cell_type": "markdown",
   "metadata": {
    "slideshow": {
     "slide_type": "subslide"
    }
   },
   "source": [
    "### Inhalte\n",
    "\n",
    "1. *Vorschau*  \n",
    "   Zuweisungen, Schleifen, Verzweigungen, Funktionen\n",
    "2. *Einfache Datentypen, Variablen, Zuweisungen*  \n",
    "   Ganze Zahlen, Gleitkommazahlen, mathematische Funktionen, komplexe Zahlen, Variablen und Zuweisungen, Wahrheitswerte, Formatierung von Ausgaben\n",
    "3. *Kontrollstrukturen*  \n",
    "   for-Schleife, while-Schleife, Verzweigungen, Abfangen von Ausnahmen\n",
    "4. *Funktionen*  \n",
    "   Funktionsdefinitionen, Dokumentation von Funktionen, lokale und globale Variable, rekursive Funktionen, Funktionen als Argumente von Funktionen, Lambda-Funktionen, Schlüsselworte und Defaultwerte"
   ]
  },
  {
   "cell_type": "markdown",
   "metadata": {
    "slideshow": {
     "slide_type": "subslide"
    }
   },
   "source": [
    "5. *Zusammengesetzte Datentypen*  \n",
    "   Listen, Tuple, Zeichenketten, Dictionaries\n",
    "6. *Ein- und Ausgabe*  \n",
    "   Eingabe über die Kommandozeile und die Tastatur, Lesen und Schreiben von Dateien\n",
    "7. *Numerische Programmbibliotheken am Beispiel von NumPy/SciPy*  \n",
    "   Installation, Arrays und Anwendungen, numerische Integration, Integration gewöhnlicher Differentialgleichungen\n",
    "8. *Objektorientiertes Programmieren*  \n",
    "   Klassen, Attribute und Methoden, Vererbung\n",
    "9. *Erstellung von Grafiken*  \n",
    "   matplotlib, PyX"
   ]
  },
  {
   "cell_type": "markdown",
   "metadata": {
    "slideshow": {
     "slide_type": "slide"
    }
   },
   "source": [
    "## Übungsaufgaben\n",
    "\n",
    "https://github.com/marcinofulus/jupyter4edu/tree/master/augsburg/exercises"
   ]
  },
  {
   "cell_type": "markdown",
   "metadata": {
    "slideshow": {
     "slide_type": "subslide"
    }
   },
   "source": [
    "<img src=\"images/spiral.png\" width=30% align=\"right\" style=\"padding-right: 20px;\">\n",
    "\n",
    "# Zahlenspirale\n",
    "\n",
    "* Aufgabe vom Project Euler (https://projecteuler.net/)  \n",
    "  Versuch, Studierende zur Bearbeitung weiterer Aufgaben aus dem Project Euler zu motivieren\n",
    "* im Prinzip analytisch lösbar\n",
    "* algorithmische Schwierigkeit: Umsetzung der spiralförmigen Anordnung der Zahlen  \n",
    "   ⇒ Hilfestellung in weiteren Jupyter-Notebooks"
   ]
  },
  {
   "cell_type": "markdown",
   "metadata": {
    "slideshow": {
     "slide_type": "subslide"
    }
   },
   "source": [
    "<img src=\"images/julia.png\" width=30% align=\"right\" style=\"padding-right: 20px;\">\n",
    "\n",
    "# Juliamenge\n",
    "\n",
    "* Motivation durch graphisches Endergebnis\n",
    "* Funktion zur graphischen Darstellung wird zur Verfügung gestellt\n",
    "* Schwierigkeiten:\n",
    "  * Realisierung eines kontinuierlich erscheinenden Bildes durch ein Gitter\n",
    "  * Umsetzung von Zahlen in Farben  \n",
    "  ⇒ Unterstützung durch weitere Notebooks\n",
    "* Umgang mit komplexen Zahlen"
   ]
  },
  {
   "cell_type": "markdown",
   "metadata": {
    "slideshow": {
     "slide_type": "subslide"
    }
   },
   "source": [
    "<img src=\"images/parrondo.png\" width=30% align=\"right\" style=\"padding-right: 20px;\">\n",
    "\n",
    "# Parrondo-Paradoxon\n",
    "\n",
    "* Motivation durch Paradoxon: Kombination von zwei Verlustspielen kann ein Gewinnspiel ergeben\n",
    "* Umgang mit Zufallszahlen\n",
    "* unterstützende Notebooks, um Möglichkeit zur schrittweisen Bearbeitung zu geben\n",
    "* Möglichkeit der Verbesserung im Semesterverlauf: Funktionen, objektorientierte Lösung"
   ]
  },
  {
   "cell_type": "markdown",
   "metadata": {
    "slideshow": {
     "slide_type": "subslide"
    }
   },
   "source": [
    "<img src=\"images/pi.png\" width=30% align=\"right\" style=\"padding-right: 20px;\">\n",
    "\n",
    "# Kreiszahl mit hoher Genauigkeit\n",
    "\n",
    "* Bestimmung der Kreiszahl mit einigen Tausend Nachkommastellen mit Hilfe des arithmetisch-geometrischen Mittels\n",
    "* Illustration der Möglichkeiten beliebig großer Integers in Python\n",
    "* Herausforderungen:\n",
    "  * Realisierung einer Wurzelfunktion für Integers\n",
    "  * Anpassung des Algorithmus auf ganze Zahlen"
   ]
  },
  {
   "cell_type": "markdown",
   "metadata": {
    "slideshow": {
     "slide_type": "subslide"
    }
   },
   "source": [
    "<img src=\"images/primetime.png\" width=30% align=\"right\" style=\"padding-right: 20px;\">\n",
    "\n",
    "# Primzahlen als Uhrzeit\n",
    "\n",
    "* Effiziente Berechnung von Primzahlen mit dem Sieb des Eratosthenes\n",
    "* Integerdivision\n",
    "* weiterführende Notebooks zu List comprehensions und enumerate"
   ]
  },
  {
   "cell_type": "markdown",
   "metadata": {
    "slideshow": {
     "slide_type": "subslide"
    }
   },
   "source": [
    "<img src=\"images/polynomial.png\" width=30% align=\"right\" style=\"padding-right: 20px;\">\n",
    "\n",
    "# Symbolisches Rechnen mit Polynomen\n",
    "\n",
    "* Demonstration der Möglichkeit von symbolischem Rechnen\n",
    "* Übung von Dictionaries\n",
    "* weiterführende Notebooks zur setdefault-Methode und zu Sets"
   ]
  },
  {
   "cell_type": "markdown",
   "metadata": {
    "slideshow": {
     "slide_type": "subslide"
    }
   },
   "source": [
    "<img src=\"images/conway.png\" width=30% align=\"right\" style=\"padding-right: 20px;\">\n",
    "\n",
    "# Conways Spiel des Lebens\n",
    "\n",
    "* Motivation: interessante Simulation\n",
    "* Verwendung einer numerischen Bibliothek: Faltung aus SciPy\n",
    "* zufälliger Anfangszustand sowie definierte Anfangszustände\n",
    "* Funktion zur Animation wird vorgegeben"
   ]
  },
  {
   "cell_type": "markdown",
   "metadata": {
    "slideshow": {
     "slide_type": "slide"
    }
   },
   "source": [
    "## nbgrader\n",
    "\n",
    "* automatisierte Korrektur von Aufgaben\n",
    "* Möglichkeit zur webbasierten Verteilung von Aufgaben\n",
    "\n",
    "https://nbgrader.readthedocs.io  \n",
    "https://github.com/jupyter/nbgrader"
   ]
  },
  {
   "cell_type": "markdown",
   "metadata": {
    "slideshow": {
     "slide_type": "subslide"
    }
   },
   "source": [
    "<img src=\"images/nbgrader.png\" height=\"700px\">"
   ]
  },
  {
   "cell_type": "markdown",
   "metadata": {
    "slideshow": {
     "slide_type": "slide"
    }
   },
   "source": [
    "### ⇒ Demo"
   ]
  },
  {
   "cell_type": "markdown",
   "metadata": {
    "slideshow": {
     "slide_type": "subslide"
    }
   },
   "source": [
    "## Korrektur\n",
    "\n",
    "3 Zellentypen:\n",
    "* autograded answer\n",
    "* autograded test\n",
    "* manually graded answer"
   ]
  },
  {
   "cell_type": "markdown",
   "metadata": {
    "slideshow": {
     "slide_type": "subslide"
    }
   },
   "source": [
    "## Funktionen\n",
    "\n",
    "* Funktionen müssen früh in der Vorlesung eingeführt werden  \n",
    "  *aber:* es werden keine speziellen Aspekte benötigt, wie fehlende Argumente, kein Rückgabewert, Defaultargumente, Schlüsselwortargumente\n",
    "* Studierende gewöhnen sich früh an ein strukturiertes Programmieren  \n",
    "  *aber:* die Strukturierung ist vorgegeben\n",
    "* Docstrings definieren die Aufgabestellung  \n",
    "  für Studierende sind Docstrings normaler Bestandteil von Funktionen  \n",
    "  *aber:* sie schreiben die Docstrings nicht selbst"
   ]
  },
  {
   "cell_type": "markdown",
   "metadata": {
    "slideshow": {
     "slide_type": "subslide"
    }
   },
   "source": [
    "## Korrektur mit Tests\n",
    "\n",
    "* Testgetriebene Entwicklung  \n",
    "  *aber:* die Tests werden nicht von den Studierenden geschrieben\n",
    "* Feedback durch Fehlermeldungen der Tests\n",
    "  *aber:* Studierenden verlassen sich zu sehr auf diese Fehlermeldungen statt einen kritischen Blick auf den eigenen Code zu entwickeln\n",
    "* „dumme“ Fehler passieren immer\n",
    "  * „triviale“ Standardtests: werden Ergebnisse zurückgegeben, ist der Datentyp korrekt, ...?\n",
    "  * \\+ Tests der Funktionalität, die möglichst keine Hinweise für die Lösung geben"
   ]
  },
  {
   "cell_type": "markdown",
   "metadata": {
    "slideshow": {
     "slide_type": "subslide"
    }
   },
   "source": [
    "## Heterogenität\n",
    "\n",
    "* Studierende ohne Programmiererfahrung und gelegentlich mit „Schreib“hemmungen\n",
    "* Studierende mit Erfahrungen in einer anderen Programmiersprache  \n",
    "  Code sieht nicht sehr nach Python aus, z.B. Iteration über Indizes statt über Objekte\n",
    "  \n",
    "Verwendung von zusätzlichen Notebooks, die Hilfestellung geben oder eine schrittweise Problemlösung erlauben\n",
    "\n",
    "* individualisierte Lernwege möglich\n",
    "* Notebooks werden in zusätzlichen Tabs geöffnet, die unübersichtlich werden können"
   ]
  }
 ],
 "metadata": {
  "celltoolbar": "Slideshow",
  "kernelspec": {
   "display_name": "Python 3",
   "language": "python",
   "name": "python3"
  },
  "language_info": {
   "codemirror_mode": {
    "name": "ipython",
    "version": 3
   },
   "file_extension": ".py",
   "mimetype": "text/x-python",
   "name": "python",
   "nbconvert_exporter": "python",
   "pygments_lexer": "ipython3",
   "version": "3.6.6"
  }
 },
 "nbformat": 4,
 "nbformat_minor": 2
}
