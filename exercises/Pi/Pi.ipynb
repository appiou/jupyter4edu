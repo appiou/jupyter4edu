{
 "cells": [
  {
   "cell_type": "markdown",
   "metadata": {},
   "source": [
    "# $\\pi$ by means of the arithmetic-geometric mean"
   ]
  },
  {
   "cell_type": "markdown",
   "metadata": {},
   "source": [
    "The mathematical constant $\\pi$ can be determined by means of the arithmetic-geometric mean as demonstrated in [E. Salamin, Math. Comp. **30**, 565 (1976)](https://doi.org/10.2307%2F2005327). Theorem 1b in that paper states that\n",
    "$$\\pi = \\frac{4[\\mathrm{agm}(1, 2^{-1/2})]^2}{ 1-\\sum_{n=1}^\\infty 2^{n+1}c_n^2}\\,.$$\n",
    "To introduce the arithmetic-geometric mean $\\mathrm{agm}(a, b)$ of $a$ and $b$ and the numbers $c_n$ appearing in this relation, we consider the recursion\n",
    "$$a_{n+1} = \\frac{a_n+b_n}{2}\\,,\\quad b_{n+1} = \\sqrt{a_{n-1}b_{n-1}}$$\n",
    "with the initial values $a_0=a, b_0=b$. For $n\\rightarrow\\infty$, $a_n$ and $b_n$ converge to the same number, the arithmetic-geometric mean of $a$ and $b$. Furthermore, we define\n",
    "$$c_n^2=a_n^2-b_n^2\\,.$$\n",
    "\n",
    "In a first step, an implementation of this prescription using floats shall be developed. In this way, we will familiarize ourselves with the computation of $\\pi$ by means of the arithmetic-geometric mean. Ideally, the iteration is carried out until $c_n$ becomes zero. However, rounding errors might prevent the series $(a_n, b_n)$ reach a point where $a_n=b_n$ within floating point precision.\n",
    "\n",
    "In a second step, the calculation should be done by means of integers thus taking advantage of the fact that in Python integers can become sufficiently large. This approach will allow us to determine $\\pi$ to a large number of digits."
   ]
  },
  {
   "cell_type": "markdown",
   "metadata": {},
   "source": [
    "## Part 1: Implementation with floats"
   ]
  },
  {
   "cell_type": "markdown",
   "metadata": {},
   "source": [
    "Let us start by getting acquainted with the arithmetic-geometric mean. Implement a function which takes $a_n$ and $b_n$ as arguments and returns $a_{n+1}$, $b_{n+1}$, as well as $a_{n+1}^2-b_{n+1}^2$."
   ]
  },
  {
   "cell_type": "code",
   "execution_count": null,
   "metadata": {
    "nbgrader": {
     "grade": false,
     "grade_id": "agm-iteration",
     "locked": false,
     "schema_version": 1,
     "solution": true
    }
   },
   "outputs": [],
   "source": [
    "# if needed, modules should be imported before functions are defined\n",
    "# BEGIN SOLUTION\n",
    "from math import sqrt\n",
    "# END SOLUTION\n",
    "\n",
    "def agm_iteration(a, b):\n",
    "    \"\"\"perform one arithmetic-geometric iteration\n",
    "    \n",
    "       This function takes two floats a and b as\n",
    "       a_n and b_n and returns a_{n+1}, b_{n+1},\n",
    "       and the difference of their squares.\n",
    "    \"\"\"\n",
    "    # BEGIN SOLUTION\n",
    "    a, b = (a+b)/2, sqrt(a*b)\n",
    "    c2 = a*a-b*b\n",
    "    return a, b, c2\n",
    "    # END SOLUTION\n",
    "    "
   ]
  },
  {
   "cell_type": "markdown",
   "metadata": {},
   "source": [
    "Execute the following two cells to test your code."
   ]
  },
  {
   "cell_type": "code",
   "execution_count": null,
   "metadata": {
    "nbgrader": {
     "grade": true,
     "grade_id": "test-existence-agm-iteration",
     "locked": true,
     "points": 1,
     "schema_version": 1,
     "solution": false
    }
   },
   "outputs": [],
   "source": [
    "try:\n",
    "    agm_iteration(1, 1)\n",
    "except NameError as e:\n",
    "    if 'sqrt' in repr(e):\n",
    "        raise AssertionError('Did you forget to import a required module?')\n",
    "assert agm_iteration(1, 1) is not None, 'Did you return a result?'\n",
    "assert len(agm_iteration(1, 1)) == 3, 'It seems that you are not returning three values.'"
   ]
  },
  {
   "cell_type": "code",
   "execution_count": null,
   "metadata": {
    "nbgrader": {
     "grade": true,
     "grade_id": "test-correctness-agm-iteration",
     "locked": true,
     "points": 2,
     "schema_version": 1,
     "solution": false
    }
   },
   "outputs": [],
   "source": [
    "import random\n",
    "from math import sqrt\n",
    "x = random.random()\n",
    "assert agm_iteration(x, x) == (x, x, 0), 'There is a problem even for the trivial case of equal arguments.'\n",
    "assert agm_iteration(x, 0) == (0.5*x, 0, 0.25*x**2), 'There is a problem if one of the arguments is zero.'\n",
    "y = random.random()\n",
    "assert agm_iteration(x, y)[1] != sqrt(0.5*(x+y)*y), ('Make sure that you do not accidentally change the '\n",
    "                                                     'variable a before you evaluate the square root.')\n",
    "assert agm_iteration(x, y)[:-1] == (0.5*(x+y), sqrt(x*y)), 'There is an error in the new values of a and b.'\n",
    "assert abs(agm_iteration(x, y)[2]-0.25*(x-y)**2) < 1e-14, 'The difference of the squares is not correct.'"
   ]
  },
  {
   "cell_type": "markdown",
   "metadata": {},
   "source": [
    "Now, you can determine $\\pi$ by means of the arithmetic-geometric mean. Since at this point floats are used, rounding errors will prevent you from obtaining the optimal result. You should aim for an relative error with respect to the correct result smaller than $2\\cdot10^{-14}$."
   ]
  },
  {
   "cell_type": "code",
   "execution_count": 1,
   "metadata": {
    "nbgrader": {
     "grade": false,
     "grade_id": "cell-2b13f61652e193a8",
     "locked": false,
     "schema_version": 1,
     "solution": true
    }
   },
   "outputs": [],
   "source": [
    "# if needed, modules should be imported before functions are defined\n",
    "# BEGIN SOLUTION\n",
    "from math import sqrt\n",
    "# END SOLUTION\n",
    "\n",
    "def pi_agm_float():\n",
    "    \"\"\"determine pi by means of the arithmetic-geometric mean\n",
    "    \n",
    "    \"\"\"\n",
    "    # BEGIN SOLUTION\n",
    "    a = 1\n",
    "    b = 1/sqrt(2)\n",
    "    c_sum = 0\n",
    "    faktor_two = 2\n",
    "    c2 = 1\n",
    "\n",
    "    while c2 > 1e-15:\n",
    "        a, b = (a+b)/2, sqrt(a*b)\n",
    "        c2 = a*a-b*b\n",
    "        faktor_two = faktor_two*2\n",
    "        c_sum = c_sum+faktor_two*c2\n",
    "\n",
    "    return 4*a**2/(1-c_sum)\n",
    "    # END SOLUTION"
   ]
  },
  {
   "cell_type": "markdown",
   "metadata": {},
   "source": [
    "By executing the following two cells, you can verify that your code runs correctly."
   ]
  },
  {
   "cell_type": "code",
   "execution_count": 2,
   "metadata": {
    "nbgrader": {
     "grade": true,
     "grade_id": "text-existence-pi-float",
     "locked": true,
     "points": 1,
     "schema_version": 1,
     "solution": false
    }
   },
   "outputs": [],
   "source": [
    "try:\n",
    "    result = pi_agm_float()\n",
    "except NameError as e:\n",
    "    if 'sqrt' in repr(e):\n",
    "        raise AssertionError('Did you forget to import a required module?')\n",
    "assert result is not None, 'Did you return a result?'\n",
    "assert type(result) == type(1.), 'The result should be a float.'"
   ]
  },
  {
   "cell_type": "code",
   "execution_count": 4,
   "metadata": {
    "nbgrader": {
     "grade": true,
     "grade_id": "test-correctness-pi-float",
     "locked": true,
     "points": 2,
     "schema_version": 1,
     "solution": false
    }
   },
   "outputs": [],
   "source": [
    "from math import pi\n",
    "result = pi_agm_float()\n",
    "relerror = abs(result-pi)/pi\n",
    "assert relerror <= 2e-14, 'The relative error {:.3g} is larger than allowed.'.format(relerror)\n",
    "assert relerror != 0., 'Did you simply return the value of π from the math module?'"
   ]
  },
  {
   "cell_type": "markdown",
   "metadata": {},
   "source": [
    "## Part 2: Implementation with integers"
   ]
  },
  {
   "cell_type": "markdown",
   "metadata": {},
   "source": [
    "A much higher precision can be achieved by doing the complete calculation in integer arithmetic after expanding the fraction by a more or less large power of ten.\n",
    "\n",
    "As a first step, we need to be able to determine the square root of a large integer. A straightforward way to do so is by means of [Newton's method](https://en.wikipedia.org/wiki/Newton%27s_method). In order to reduce the compute time, the square root of the `math`-module can be used to obtain a good estimate as a starting point."
   ]
  },
  {
   "cell_type": "markdown",
   "metadata": {},
   "source": [
    "Explain why the `sqrt`-function of the `math`-module cannot be used to take the square root of a large integer."
   ]
  },
  {
   "cell_type": "markdown",
   "metadata": {
    "nbgrader": {
     "grade": true,
     "grade_id": "cell-5e2539da8e15b26b",
     "locked": false,
     "points": 1,
     "schema_version": 1,
     "solution": true
    }
   },
   "source": [
    "`sqrt` will first try to convert the integer argument into a float. This attempt will fail if the integer is larger than the largest possible float."
   ]
  },
  {
   "cell_type": "code",
   "execution_count": null,
   "metadata": {},
   "outputs": [],
   "source": []
  }
 ],
 "metadata": {
  "kernelspec": {
   "display_name": "Python 3",
   "language": "python",
   "name": "python3"
  },
  "language_info": {
   "codemirror_mode": {
    "name": "ipython",
    "version": 3
   },
   "file_extension": ".py",
   "mimetype": "text/x-python",
   "name": "python",
   "nbconvert_exporter": "python",
   "pygments_lexer": "ipython3",
   "version": "3.6.4"
  }
 },
 "nbformat": 4,
 "nbformat_minor": 2
}
