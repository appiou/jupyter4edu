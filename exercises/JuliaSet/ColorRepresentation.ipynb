{
 "cells": [
  {
   "cell_type": "markdown",
   "metadata": {},
   "source": [
    "# Julia set"
   ]
  },
  {
   "cell_type": "markdown",
   "metadata": {},
   "source": [
    "## Representing numbers as colors"
   ]
  },
  {
   "cell_type": "code",
   "execution_count": 100,
   "metadata": {
    "collapsed": true
   },
   "outputs": [],
   "source": [
    "import matplotlib.cm as cm\n",
    "from IPython.display import SVG\n",
    "\n",
    "def display_color(x, cmapname='hot'):\n",
    "    rgbcolor = cm.get_cmap(name=cmapname)(float(x), bytes=True, alpha=False)[:3]\n",
    "    print(rgbcolor)\n",
    "    return SVG('''<svg height=\"100\" width=\"100\">\n",
    "                      <rect x=\"1\" y=\"1\" width=\"50\" height=\"50\" fill=\"rgb({},{},{})\" stroke=\"black\" />\n",
    "                  </svg>'''.format(*rgbcolor))"
   ]
  },
  {
   "cell_type": "code",
   "execution_count": 104,
   "metadata": {},
   "outputs": [
    {
     "name": "stdout",
     "output_type": "stream",
     "text": [
      "(255, 255, 156)\n"
     ]
    },
    {
     "data": {
      "image/svg+xml": [
       "<svg height=\"100\" width=\"100\">\n",
       "                      <rect fill=\"rgb(255,255,156)\" height=\"50\" stroke=\"black\" width=\"50\" x=\"1\" y=\"1\"/>\n",
       "                  </svg>"
      ],
      "text/plain": [
       "<IPython.core.display.SVG object>"
      ]
     },
     "execution_count": 104,
     "metadata": {},
     "output_type": "execute_result"
    }
   ],
   "source": [
    "display_color(0.9)"
   ]
  },
  {
   "cell_type": "code",
   "execution_count": null,
   "metadata": {
    "collapsed": true
   },
   "outputs": [],
   "source": []
  }
 ],
 "metadata": {
  "kernelspec": {
   "display_name": "Python 3",
   "language": "python",
   "name": "python3"
  },
  "language_info": {
   "codemirror_mode": {
    "name": "ipython",
    "version": 3
   },
   "file_extension": ".py",
   "mimetype": "text/x-python",
   "name": "python",
   "nbconvert_exporter": "python",
   "pygments_lexer": "ipython3",
   "version": "3.6.3"
  }
 },
 "nbformat": 4,
 "nbformat_minor": 2
}
