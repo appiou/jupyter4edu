{
 "cells": [
  {
   "cell_type": "markdown",
   "metadata": {},
   "source": [
    "# Julia set"
   ]
  },
  {
   "cell_type": "markdown",
   "metadata": {},
   "source": [
    "Julia sets offer a possibility to generate beautiful images. Instead of going into the mathematical details of Julia sets, we consider a specific situation. More information can be found, e.g. in the [Wikipedia article on Julia sets](https://en.wikipedia.org/wiki/Julia_set).\n",
    "\n",
    "We will consider a quadratic mapping of a complex number $z$\n",
    "\\begin{equation}\n",
    "  z \\to z^2+c,\n",
    "\\end{equation}\n",
    "where $c$ is a complex constant.\n",
    "\n",
    "For the sake of motivation, let us first consider the case $c=0$. If the absolute value of the initial value, $|z_0|$ is larger than 1, the absolute value of $z$ will go to infinity as the mapping is applied over and over again. On the other hand, for $|z_0| \\leq 1$, the absolute value of $z$ will always remain finite. The border between the two regions is the Julia set.\n",
    "\n",
    "For $c\\neq 0$, the Julia set will typically exhibit a much more interesting structure than the unit circle just discussed. While one could plot the Julia set itself, a nicer graphical representation is obtained, if the starting points in the complex plane leading to a diverging series are colored as a function of how fast the divergence is.\n",
    "\n",
    "To be specific, we will consider the quadratic mapping given above and set $c=-0.8+0.156\\mathrm{i}$. As complex starting values $z_0$, we choose complex numbers on a regularly spaced two-dimensional grid with the real part in the interval $[-0.3, -0.1]$ and the imaginary part in the interval $[0.4, 0.6]$."
   ]
  },
  {
   "cell_type": "markdown",
   "metadata": {},
   "source": [
    "1. [Representation of a number by a color](ColorRepresentation.ipynb)\n",
    "1. [Equally spaced numbers on a grid](Grid.ipynb)\n",
    "1. Iteration prescription"
   ]
  },
  {
   "cell_type": "code",
   "execution_count": null,
   "metadata": {
    "collapsed": true
   },
   "outputs": [],
   "source": []
  }
 ],
 "metadata": {
  "kernelspec": {
   "display_name": "Python 3",
   "language": "python",
   "name": "python3"
  },
  "language_info": {
   "codemirror_mode": {
    "name": "ipython",
    "version": 3
   },
   "file_extension": ".py",
   "mimetype": "text/x-python",
   "name": "python",
   "nbconvert_exporter": "python",
   "pygments_lexer": "ipython3",
   "version": "3.6.4"
  }
 },
 "nbformat": 4,
 "nbformat_minor": 2
}
