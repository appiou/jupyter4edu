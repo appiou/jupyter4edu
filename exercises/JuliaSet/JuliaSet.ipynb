{
 "cells": [
  {
   "cell_type": "markdown",
   "metadata": {
    "nbgrader": {
     "grade": false,
     "grade_id": "cell-2f0053c3723aee16",
     "locked": true,
     "schema_version": 1,
     "solution": false
    }
   },
   "source": [
    "# Julia set"
   ]
  },
  {
   "cell_type": "markdown",
   "metadata": {
    "nbgrader": {
     "grade": false,
     "grade_id": "cell-0ec7ff5bdbff502d",
     "locked": true,
     "schema_version": 1,
     "solution": false
    }
   },
   "source": [
    "Julia sets offer a possibility to generate beautiful images. Instead of going into the mathematical details of Julia sets, we consider a specific situation. More information can be found, e.g. in the [Wikipedia article on Julia sets](https://en.wikipedia.org/wiki/Julia_set).\n",
    "\n",
    "We will consider a quadratic mapping of a complex number $z$\n",
    "\\begin{equation}\n",
    "  z \\to z^2+c,\n",
    "\\end{equation}\n",
    "where $c$ is a complex constant.\n",
    "\n",
    "For the sake of motivation, let us first consider the case $c=0$. If the absolute value of the initial value, $|z_0|$ is larger than 1, the absolute value of $z$ will go to infinity as the mapping is applied over and over again. On the other hand, for $|z_0| \\leq 1$, the absolute value of $z$ will always remain finite. The border between the two regions is the Julia set.\n",
    "\n",
    "For $c\\neq 0$, the Julia set will typically exhibit a much more interesting structure than the unit circle just discussed. While one could plot the Julia set itself, a nicer graphical representation is obtained, if the starting points in the complex plane leading to a diverging series are colored as a function of how fast the divergence is.\n",
    "\n",
    "To be specific, we will consider the quadratic mapping given above and set $c=-0.8+0.156\\mathrm{i}$. As complex starting values $z_0$, we choose complex numbers on a regularly spaced two-dimensional grid with the real part in the interval $[-0.3, -0.1]$ and the imaginary part in the interval $[0.4, 0.6]$. During the development of your program, you should not set the gridsize too large. It is a good idea to start e.g. with a $100\\times100$ grid. Once your code is working, you can increase the number of grid points. For practical purposes, it makes sense to define a threshold for the absolute value of $z$ beyond which you assume that the series for a given starting value $z_0$ diverges. A good value could be 2. You should also limit the number of iterations. Here, a good value could be 600. Feel free to play around with these values once your code works. \n",
    "\n",
    "If you want to tackle the problem without any further help, you can jump over the following three points which are intended to give you some help by splitting the complete problem into smaller parts. "
   ]
  },
  {
   "cell_type": "markdown",
   "metadata": {
    "nbgrader": {
     "grade": false,
     "grade_id": "cell-2da1929b0af499f9",
     "locked": true,
     "schema_version": 1,
     "solution": false
    }
   },
   "source": [
    "1. [Representation of a number by a color](ColorRepresentation.ipynb)\n",
    "1. [Equally spaced numbers on a grid](Grid.ipynb)\n",
    "1. [Iteration prescription](JuliaIteration.ipynb)"
   ]
  },
  {
   "cell_type": "code",
   "execution_count": null,
   "metadata": {
    "nbgrader": {
     "grade": true,
     "grade_id": "cell-ff8ea1fa7612a563",
     "locked": false,
     "points": 8,
     "schema_version": 1,
     "solution": true
    }
   },
   "outputs": [],
   "source": [
    "import matplotlib.pyplot as plt\n",
    "import numpy as np\n",
    "\n",
    "def plot(data, ndim, cmap):\n",
    "    \"\"\"Erzeuge eine zweidimensionale Grafik auf einem\n",
    "       Raster von ndim×ndim Punkten. Die in der Liste data\n",
    "       übergebenen Daten bestimmen die Farbe an dem\n",
    "       jeweiligen Gitterpunkt und müssen zwischen 0 und\n",
    "       1 liegen. Die Daten aus der Liste werden in Zeilen\n",
    "       von Farbpunkten umgesetzt, die von unten nach oben\n",
    "       in der Abbildung dargestellt werden.\n",
    "\n",
    "    \"\"\"\n",
    "    plt.imshow(np.array(data).reshape((ndim, ndim)),\n",
    "               cmap=cmap, origin=\"lower\")\n",
    "    plt.show()\n",
    "\n",
    "# Initialisierung der benötigten Variablen\n",
    "### BEGIN CODE\n",
    "xmin = -0.3\n",
    "xmax = -0.1\n",
    "ymin = 0.4\n",
    "ymax = 0.6\n",
    "seitenlaenge = 400\n",
    "julia_c = -0.8+0.156j\n",
    "schwelle = 50000\n",
    "maxit = 600\n",
    "### END CODE\n",
    "\n",
    "# diese Liste soll die erzeugten Daten enthalten \n",
    "julia_daten = []\n",
    "\n",
    "# Schleifen über die Startwerte und Abarbeitung der\n",
    "# Iterationsvorschrift\n",
    "### BEGIN CODE\n",
    "dx = (xmax-xmin)/(seitenlaenge-1)\n",
    "dy = (ymax-ymin)/(seitenlaenge-1)\n",
    "for ny in range(seitenlaenge):\n",
    "    y = ymin+ny*dy\n",
    "    for nx in range(seitenlaenge):\n",
    "        x = xmin+nx*dx\n",
    "        z = complex(x, y)\n",
    "        for n in range(maxit):\n",
    "            z = z**2+julia_c\n",
    "            if abs(z) >= schwelle:\n",
    "                break\n",
    "        farbe = n/(maxit-1)\n",
    "### END CODE\n",
    "# Anhängen des neuen Farbwerts an die Liste\n",
    "        julia_daten.append(farbe)\n",
    "# Erstellung der Grafik\n",
    "plot(julia_daten, seitenlaenge, cmap='hot')\n"
   ]
  }
 ],
 "metadata": {
  "kernelspec": {
   "display_name": "Python 3",
   "language": "python",
   "name": "python3"
  },
  "language_info": {
   "codemirror_mode": {
    "name": "ipython",
    "version": 3
   },
   "file_extension": ".py",
   "mimetype": "text/x-python",
   "name": "python",
   "nbconvert_exporter": "python",
   "pygments_lexer": "ipython3",
   "version": "3.6.4"
  }
 },
 "nbformat": 4,
 "nbformat_minor": 2
}
