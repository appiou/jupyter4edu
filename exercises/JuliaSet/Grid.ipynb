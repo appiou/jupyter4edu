{
 "cells": [
  {
   "cell_type": "markdown",
   "metadata": {
    "nbgrader": {
     "grade": false,
     "grade_id": "cell-6146e2a0cd8f4f50",
     "locked": true,
     "schema_version": 1,
     "solution": false
    }
   },
   "source": [
    "# Julia set"
   ]
  },
  {
   "cell_type": "markdown",
   "metadata": {
    "nbgrader": {
     "grade": false,
     "grade_id": "cell-ab77839042e4236e",
     "locked": true,
     "schema_version": 1,
     "solution": false
    }
   },
   "source": [
    "## Equally spaced numbers on a grid"
   ]
  },
  {
   "cell_type": "markdown",
   "metadata": {
    "collapsed": true,
    "nbgrader": {
     "grade": false,
     "grade_id": "cell-a095774fae6c1d7c",
     "locked": true,
     "schema_version": 1,
     "solution": false
    }
   },
   "source": [
    "For our Julia set problem, we need to generate starting values $z_0$ on a two-dimensional grid with specified boundaries. This task in two dimensions can be broken down to one dimension where a sequence of equally spaced numbers between (and including) a minimum and a maximum value is generated.\n",
    "\n",
    "Here, a code should be developed which can later be used in the Julia set program."
   ]
  },
  {
   "cell_type": "code",
   "execution_count": 23,
   "metadata": {
    "nbgrader": {
     "grade": false,
     "grade_id": "cell-67ea14474fb8d48e",
     "locked": false,
     "schema_version": 1,
     "solution": true
    }
   },
   "outputs": [],
   "source": [
    "def grid1d(xmin, xmax, npts):\n",
    "    \"\"\"Generate a list of coordinates of equally spaced grid points\n",
    "       between (and including) the bounds.\n",
    "       \n",
    "       xmin: lower bound\n",
    "       xmax: upper bound\n",
    "       npts: number of points\n",
    "    \"\"\"\n",
    "    ### BEGIN SOLUTION\n",
    "    gridpoints = []\n",
    "    for n in range(npts):\n",
    "        x = xmin + (xmax-xmin)*n/(npts-1)\n",
    "        gridpoints.append(x)\n",
    "    return gridpoints\n",
    "    ### END SOLUTION"
   ]
  },
  {
   "cell_type": "markdown",
   "metadata": {
    "nbgrader": {
     "grade": false,
     "grade_id": "cell-ec934ab43e56cacc",
     "locked": true,
     "schema_version": 1,
     "solution": false
    }
   },
   "source": [
    "Test your code by evaluating the following cell. If there is no error message, everything should be fine."
   ]
  },
  {
   "cell_type": "code",
   "execution_count": 3,
   "metadata": {
    "nbgrader": {
     "grade": true,
     "grade_id": "cell-206b0a746a69e273",
     "locked": true,
     "points": 2,
     "schema_version": 1,
     "solution": false
    }
   },
   "outputs": [],
   "source": [
    "xmin = 1.5\n",
    "xmax = 2.5\n",
    "n = 10\n",
    "points = grid1d(xmin, xmax, n)\n",
    "assert len(points) == n, 'The number of values generated is incorrect'\n",
    "assert points[0] == xmin, 'The first value differs from the lower bound xmin'\n",
    "assert points[-1] == xmax, 'The last value differs from the upper bound xmax'\n",
    "eps = 1e-12\n",
    "for x1, x2, x3 in zip(points[:-2], points[1:-1], points[2:]):\n",
    "    assert eps >= (x3-x2) - (x2-x1) >= -eps, 'The values are not equidistant'"
   ]
  },
  {
   "cell_type": "markdown",
   "metadata": {
    "nbgrader": {
     "grade": false,
     "grade_id": "cell-1d6d2c6c1e1fb3f6",
     "locked": true,
     "schema_version": 1,
     "solution": false
    }
   },
   "source": [
    "If the code for generating a one-dimensional grid is working, you are ready to extend it to two-dimensional grids. Walk the grid horizontally before making a vertical step like indicated in the following figure.\n",
    "\n",
    "![2d grid](grid2d.png \"walking a 2d grid\")\n",
    "\n",
    "The output in this case should be the list `[(0, 0), (1, 0), (2, 0), (3, 0), (0, 1), (1, 1), (2,  1), (3, 1), (0, 2), (1, 2), (2, 2), (3, 2)]`."
   ]
  },
  {
   "cell_type": "code",
   "execution_count": 28,
   "metadata": {
    "nbgrader": {
     "grade": false,
     "grade_id": "cell-e2c19d3d7e39d067",
     "locked": false,
     "schema_version": 1,
     "solution": true
    }
   },
   "outputs": [],
   "source": [
    "def grid2d(xmin, xmax, nxpts, ymin, ymax, nypts):\n",
    "    \"\"\"Generate a list of coordinate tuples (x, y) on a two-dimensional grid.\n",
    "       The points are equally spaced in each of the two directions between\n",
    "       (and including) the respective bounds. The grid is first walked along\n",
    "       the horizontal (x) direction, then along the vertical (y) direction.\n",
    "       \n",
    "       xmin: lower bound in horizontal direction\n",
    "       xmax: upper bound in horizontal direction\n",
    "       nxpts: number of points in horizontal direction\n",
    "       ymin: lower bound in vertical direction\n",
    "       ymax: upper bound in vertical direction\n",
    "       nypts: number of points in vertical direction\n",
    "    \"\"\"\n",
    "    ### BEGIN SOLUTION\n",
    "    gridpoints = []\n",
    "    for ny in range(nypts):\n",
    "        y = ymin + (ymax-ymin)*ny/(nypts-1)\n",
    "        for nx in range(nxpts):\n",
    "            x = xmin + (xmax-xmin)*nx/(nxpts-1)\n",
    "            gridpoints.append((x, y))\n",
    "    return gridpoints\n",
    "    ### END SOLUTION"
   ]
  },
  {
   "cell_type": "markdown",
   "metadata": {
    "nbgrader": {
     "grade": false,
     "grade_id": "cell-3c864cacd58be8b7",
     "locked": true,
     "schema_version": 1,
     "solution": false
    }
   },
   "source": [
    "Test your code by executing the following cell."
   ]
  },
  {
   "cell_type": "code",
   "execution_count": 46,
   "metadata": {
    "nbgrader": {
     "grade": true,
     "grade_id": "cell-8b5941cbab0ca78a",
     "locked": true,
     "points": 2,
     "schema_version": 1,
     "solution": false
    }
   },
   "outputs": [],
   "source": [
    "xmin = 1.5\n",
    "xmax = 2.5\n",
    "nxpts = 10\n",
    "ymin = 0\n",
    "ymax = 1\n",
    "nypts = 5\n",
    "points = grid2d(xmin, xmax, nxpts, ymin, ymax, nypts)\n",
    "assert len(points) == nxpts*nypts, 'The number of values generated is incorrect'\n",
    "assert points[0] == (xmin, ymin), 'The first coordinate does not correspond to the lower-left corner'\n",
    "assert points[-1] == (xmax, ymax), 'The last coordinate does not correspond to the upper-right corner'\n",
    "assert points[0][1] == points[1][1], 'Are you walking in y-direction first?'\n",
    "assert points[0][0] == points[nxpts][0], 'Are you walking in y-direction first?'\n",
    "eps = 1e-12\n",
    "for (x1, y1), (x2, y2), (x3, y3) in zip(points[:nxpts-2], points[1:nxpts-1], points[2:nxpts]):\n",
    "    assert eps >= (x3-x2) - (x2-x1) >= -eps, 'The values are not equidistant in x-direction'\n",
    "for (x1, y1), (x2, y2), (x3, y3) in zip(points[:nxpts*(nypts-2):nxpts],\n",
    "                                        points[nxpts:nxpts*(nypts-1):nxpts],\n",
    "                                        points[2*nxpts:nxpts*nypts:nxpts]):\n",
    "    assert eps >= (y3-y2) - (y2-y1) >= -eps, 'The values are not equidistant in y-direction'"
   ]
  }
 ],
 "metadata": {
  "kernelspec": {
   "display_name": "Python 3",
   "language": "python",
   "name": "python3"
  },
  "language_info": {
   "codemirror_mode": {
    "name": "ipython",
    "version": 3
   },
   "file_extension": ".py",
   "mimetype": "text/x-python",
   "name": "python",
   "nbconvert_exporter": "python",
   "pygments_lexer": "ipython3",
   "version": "3.6.4"
  }
 },
 "nbformat": 4,
 "nbformat_minor": 2
}
