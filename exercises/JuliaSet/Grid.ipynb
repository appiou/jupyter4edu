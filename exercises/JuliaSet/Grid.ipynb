{
 "cells": [
  {
   "cell_type": "markdown",
   "metadata": {},
   "source": [
    "# Julia set"
   ]
  },
  {
   "cell_type": "markdown",
   "metadata": {},
   "source": [
    "## Equally spaced numbers on a grid"
   ]
  },
  {
   "cell_type": "markdown",
   "metadata": {
    "collapsed": true
   },
   "source": [
    "For our Julia set problem, we need to generate starting values $z_0$ on a two-dimensional grid with specified boundaries. This task in two dimensions can be broken down to one dimension where a sequence of equally spaced numbers between (and including) a minimum and a maximum value is generated.\n",
    "\n",
    "Here, a code should be developed which can later be used in the Julia set program."
   ]
  },
  {
   "cell_type": "code",
   "execution_count": 15,
   "metadata": {
    "collapsed": true,
    "nbgrader": {
     "grade": true,
     "grade_id": "cell-67ea14474fb8d48e",
     "locked": false,
     "points": 1,
     "schema_version": 1,
     "solution": true
    }
   },
   "outputs": [],
   "source": [
    "def gridpoint(xmin, xmax, npts):\n",
    "    \"\"\"Generate the coordinates of npts equally spaced grid points\n",
    "       between (and including) the bounds xmin and xmax\n",
    "    \"\"\"\n",
    "    ### BEGIN SOLUTION\n",
    "    gridpoints = []\n",
    "    for n in range(npts):\n",
    "        x = xmin + (xmax-xmin)*n/(npts-1)\n",
    "        gridpoints.append(x)\n",
    "    return gridpoints\n",
    "    ### END SOLUTION"
   ]
  },
  {
   "cell_type": "code",
   "execution_count": 19,
   "metadata": {},
   "outputs": [],
   "source": [
    "xmin = 1.5\n",
    "xmax = 2.5\n",
    "n = 10\n",
    "points = gridpoint(xmin, xmax, n)\n",
    "assert points[0] == xmin\n",
    "assert points[-1] == xmax\n",
    "eps = 1e-12\n",
    "for x1, x2, x3 in zip(points[:-2], points[1:-1], points[2:]):\n",
    "    assert eps >= (x3-x2) - (x2-x1) >= -eps"
   ]
  }
 ],
 "metadata": {
  "kernelspec": {
   "display_name": "Python 3",
   "language": "python",
   "name": "python3"
  },
  "language_info": {
   "codemirror_mode": {
    "name": "ipython",
    "version": 3
   },
   "file_extension": ".py",
   "mimetype": "text/x-python",
   "name": "python",
   "nbconvert_exporter": "python",
   "pygments_lexer": "ipython3",
   "version": "3.6.3"
  }
 },
 "nbformat": 4,
 "nbformat_minor": 2
}
