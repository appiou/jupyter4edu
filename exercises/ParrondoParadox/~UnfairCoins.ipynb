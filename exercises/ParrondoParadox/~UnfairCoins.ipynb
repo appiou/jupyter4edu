{
 "cells": [
  {
   "cell_type": "markdown",
   "metadata": {
    "nbgrader": {
     "grade": false,
     "grade_id": "cell-12def3c1a2946d48",
     "locked": true,
     "schema_version": 1,
     "solution": false
    }
   },
   "source": [
    "# Parrondo's paradox"
   ]
  },
  {
   "cell_type": "markdown",
   "metadata": {
    "nbgrader": {
     "grade": false,
     "grade_id": "cell-8fbbc445ab711671",
     "locked": true,
     "schema_version": 1,
     "solution": false
    }
   },
   "source": [
    "## Unfair coins"
   ]
  },
  {
   "cell_type": "markdown",
   "metadata": {
    "nbgrader": {
     "grade": false,
     "grade_id": "cell-caeefa8d9759da33",
     "locked": true,
     "schema_version": 1,
     "solution": false
    }
   },
   "source": [
    "In order to simulate Parrondo's paradox, we need unfair coins with a prescribed winning probability $p$. Write a function simulating a single flip of such a coin."
   ]
  },
  {
   "cell_type": "code",
   "execution_count": null,
   "metadata": {
    "nbgrader": {
     "grade": false,
     "grade_id": "cell-d57180fe135ab451",
     "locked": false,
     "schema_version": 1,
     "solution": true
    }
   },
   "outputs": [],
   "source": [
    "### BEGIN CODE\n",
    "import random\n",
    "### END CODE\n",
    "\n",
    "def single_flip(p):\n",
    "    \"\"\"determine result of a single flip of a coin\n",
    "    \n",
    "       p: winning probability\n",
    "       result: 0 = loosing flip, 1 = winning flip\n",
    "    \"\"\"\n",
    "    ### BEGIN CODE\n",
    "    return int(random.random() < p)\n",
    "    ### END CODE"
   ]
  },
  {
   "cell_type": "markdown",
   "metadata": {},
   "source": [
    "The following cells will help you to test your function but you can also explore ways to test the function on our own."
   ]
  },
  {
   "cell_type": "code",
   "execution_count": null,
   "metadata": {
    "nbgrader": {
     "grade": true,
     "grade_id": "cell-d5e06ec9bc7ccada",
     "locked": true,
     "points": 1,
     "schema_version": 1,
     "solution": false
    }
   },
   "outputs": [],
   "source": [
    "assert single_flip(1) is not None, 'Does your function return a result?'\n",
    "for _ in range(10):\n",
    "    assert single_flip(1) in (0, 1), 'The result should be either 0 or 1.'"
   ]
  },
  {
   "cell_type": "code",
   "execution_count": null,
   "metadata": {
    "nbgrader": {
     "grade": true,
     "grade_id": "cell-6f72e52a1167af33",
     "locked": true,
     "points": 2,
     "schema_version": 1,
     "solution": false
    }
   },
   "outputs": [],
   "source": [
    "import math\n",
    "import random\n",
    "random.seed(0)\n",
    "ntotal = 1000000\n",
    "for p in (0.1, 0.4, 0.5, 0.6, 0.9):\n",
    "    assert abs(sum(single_flip(p) for _ in range(ntotal))-p*ntotal) < math.sqrt(ntotal), (\n",
    "        'The deviation from the winning probability seems to be too large. '\n",
    "        + 'Did you get your winning condition right?')"
   ]
  }
 ],
 "metadata": {
  "kernelspec": {
   "display_name": "Python 3",
   "language": "python",
   "name": "python3"
  },
  "language_info": {
   "codemirror_mode": {
    "name": "ipython",
    "version": 3
   },
   "file_extension": ".py",
   "mimetype": "text/x-python",
   "name": "python",
   "nbconvert_exporter": "python",
   "pygments_lexer": "ipython3",
   "version": "3.6.4"
  }
 },
 "nbformat": 4,
 "nbformat_minor": 2
}
