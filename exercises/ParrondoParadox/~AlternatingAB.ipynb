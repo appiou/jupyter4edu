{
 "cells": [
  {
   "cell_type": "markdown",
   "metadata": {},
   "source": [
    "# Parrondo's paradox"
   ]
  },
  {
   "cell_type": "markdown",
   "metadata": {},
   "source": [
    "## Playing games A and B alternatingly"
   ]
  },
  {
   "cell_type": "markdown",
   "metadata": {},
   "source": [
    "Starting with an initial capital of 0, games A and B shall by played twice alternatingly for a given number of total casts. A list reflecting the time evolution of the capital shall be returned."
   ]
  },
  {
   "cell_type": "code",
   "execution_count": null,
   "metadata": {
    "nbgrader": {
     "grade": false,
     "grade_id": "game-ab",
     "locked": false,
     "schema_version": 1,
     "solution": true
    }
   },
   "outputs": [],
   "source": [
    "# If you want to use functions based on the code developed earlier,\n",
    "# put it here. This is also the place where you would import any modules\n",
    "# you might need.\n",
    "### BEGIN CODE\n",
    "import random\n",
    "\n",
    "def single_flip(p):\n",
    "    \"\"\"Determine result of a single flip of a coin\n",
    "    \n",
    "       p: winning probability\n",
    "       result: -1 = loosing flip, 1 = winning flip\n",
    "       \n",
    "    \"\"\"\n",
    "    return 2*(random.random() < p)-1\n",
    "\n",
    "def game_A_single(epsilon):\n",
    "    \"\"\"Determine result of a single flip of a coin in game A\n",
    "    \n",
    "       epsilon: parameter determining the winning probability\n",
    "       result: -1 = loosing flip, 1 = winning flip\n",
    "    \"\"\"\n",
    "    return single_flip(0.5-epsilon)\n",
    "\n",
    "def game_B_single(epsilon, m, capital):\n",
    "    \"\"\"Determine result of a single flip of a coin in game B\n",
    "          \n",
    "       epsilon: parameter determining the winning probability\n",
    "       m:       parameter determining the type of game\n",
    "       capital: present capital, needed to determine type of game\n",
    "       result: -1 = loosing flip, 1 = winning flip\n",
    "       \n",
    "    \"\"\"\n",
    "    if capital % m:\n",
    "        return single_flip(0.75-epsilon)\n",
    "    else:\n",
    "        return single_flip(0.1-epsilon)\n",
    "### END CODE\n",
    "\n",
    "def game_AB(epsilon, m, ncasts):\n",
    "    \"\"\"Determine evolution of capital for sequence of games A-A-B-B\n",
    "    \n",
    "       epsilon: parameter determining the winning probability 1/2-epsilon\n",
    "       m:       parameter determining the type of game\n",
    "       ncasts:  number of casts\n",
    "       result:  list of ncasts+1 data containing the capital evolution\n",
    "       \n",
    "    \"\"\"\n",
    "    # BEGIN CODE\n",
    "    result = [0]\n",
    "    for ncast in range(ncasts):\n",
    "        if ncast % 4 in (0, 1):\n",
    "            result.append(result[-1]+game_A_single(epsilon))\n",
    "        else:\n",
    "            result.append(result[-1]+game_B_single(epsilon, m, result[-1]))\n",
    "    return result\n",
    "    # END CODE"
   ]
  },
  {
   "cell_type": "markdown",
   "metadata": {},
   "source": [
    "The following cell offers just a few basic tests. You can find out whether your code produces sensible results by using it in the main notebook to plot the evolution of the capital."
   ]
  },
  {
   "cell_type": "code",
   "execution_count": null,
   "metadata": {
    "nbgrader": {
     "grade": true,
     "grade_id": "text-existence",
     "locked": true,
     "points": 1,
     "schema_version": 1,
     "solution": false
    }
   },
   "outputs": [],
   "source": [
    "ncasts = 10\n",
    "result = game_AB(0.005, 3, ncasts)\n",
    "assert result is not None, 'Does your function return a result?'\n",
    "assert type(result) == type([]), 'The result is not a list.'\n",
    "assert len(result) == ncasts+1, ('The length of your list is not correct.'\n",
    "                                 + 'Did you include the starting capital?')\n",
    "assert all(type(x) == type(1) for x in result), 'All elements of the result should be integers.'"
   ]
  }
 ],
 "metadata": {
  "kernelspec": {
   "display_name": "Python 3",
   "language": "python",
   "name": "python3"
  },
  "language_info": {
   "codemirror_mode": {
    "name": "ipython",
    "version": 3
   },
   "file_extension": ".py",
   "mimetype": "text/x-python",
   "name": "python",
   "nbconvert_exporter": "python",
   "pygments_lexer": "ipython3",
   "version": "3.6.4"
  }
 },
 "nbformat": 4,
 "nbformat_minor": 2
}
