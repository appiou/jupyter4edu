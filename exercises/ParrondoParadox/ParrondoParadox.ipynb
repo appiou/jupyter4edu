{
 "cells": [
  {
   "cell_type": "markdown",
   "metadata": {},
   "source": [
    "# Parrondo's paradox"
   ]
  },
  {
   "cell_type": "markdown",
   "metadata": {},
   "source": [
    "We will define two games for which the probability to loose exceeds the probability to win. Surprisingly, by choosing an appropriate alternating sequence of the two loosing games, one finds that one wins in the long run. This situation is known as [Parrondo's paradox](https://en.wikipedia.org/wiki/Parrondo's_paradox).\n",
    "\n",
    "In the two loosing games A and B a coin is flipped to decide whether the player wins one Euro or looses it. The winning probabilities are chosen as follows.\n",
    "\n",
    "* In game A, coin 1 is used with a winning probability $p_1=1/2-\\varepsilon$ where $\\varepsilon>0$. The probability to loose is thus given by $1/2+\\varepsilon > 1/2$.\n",
    "* In game B, two different coins 2 and 3 are used depending on the player's present capital in Euros. Coin 2 has a winning probability $p_2=1/10-\\varepsilon$ and is used when the capital is a multiple of the integer $M$. Otherwise, coin 3 is used which possesses a winning probability of $p_3=3/4-\\varepsilon$.\n",
    "\n",
    "Now, the following scenarios shall be simulated with $\\varepsilon=0.005$ and $M=3$:\n",
    "\n",
    "1. Only game A is played.\n",
    "1. Only game B is played.\n",
    "1. Game A is played twice, then game B is played twice, and so on.\n",
    "\n",
    "In which of the three cases does one win in the long run?"
   ]
  },
  {
   "cell_type": "markdown",
   "metadata": {},
   "source": [
    "You can either try to solve the problem directly or you go step-by-step by working through the following points.\n",
    "\n",
    "1. [Random numbers and fair coin](~RandomNumbers.ipynb)\n",
    "1. [Unfair coins](~UnfairCoins.ipynb)\n",
    "1. [Playing game A](~GameA.ipynb)\n",
    "1. [Playing game B](~GameB.ipynb)\n",
    "1. [Playing games A and B alternatingly](~AlternatingAB.ipynb)\n",
    "\n",
    "If you just need help on how to decide whether an integer is divisible by another integer, you can get help here: [Integer division](~IntegerDivision.ipynb)\n"
   ]
  },
  {
   "cell_type": "code",
   "execution_count": null,
   "metadata": {
    "nbgrader": {
     "grade": true,
     "grade_id": "cell-112fc4dbd465a455",
     "locked": false,
     "points": 12,
     "schema_version": 1,
     "solution": true
    }
   },
   "outputs": [],
   "source": [
    "%matplotlib inline\n",
    "import matplotlib.pyplot as plt\n",
    "import numpy as np\n",
    "\n",
    "def plot(*args):\n",
    "    \"\"\"Display the evolution of the capital for one or several games\n",
    "    \n",
    "    The function takes one ore more lists containing the data to be\n",
    "    displayed.\n",
    "    \n",
    "    \"\"\"\n",
    "    for data in args:\n",
    "        plt.plot(data)\n",
    "    plt.show()\n",
    "    \n",
    "# Here, you might want to define your own functions and imports of modules\n",
    "# for use in the function play_games defined below.\n",
    "### BEGIN CODE\n",
    "import random\n",
    "\n",
    "def single_flip(p):\n",
    "    \"\"\"Determine result of a single flip of a coin\n",
    "    \n",
    "       p: winning probability\n",
    "       result: -1 = loosing flip, 1 = winning flip\n",
    "       \n",
    "    \"\"\"\n",
    "    return 2*(random.random() < p)-1\n",
    "\n",
    "def game_A(epsilon, ncasts):\n",
    "    \"\"\"Determine evolution of capital for game A\n",
    "    \n",
    "       epsilon: parameter determining the winning probability 1/2-epsilon\n",
    "       ncasts:  number of casts\n",
    "       result:  list of ncasts+1 data containing the capital evolution\n",
    "       \n",
    "    \"\"\"\n",
    "    p1 = 0.5-epsilon\n",
    "    result = [0]\n",
    "    for ncast in range(ncasts):\n",
    "        result.append(result[-1]+single_flip(p1))\n",
    "    return result\n",
    "\n",
    "def game_B(epsilon, m, ncasts):\n",
    "    \"\"\"Determine evolution of capital for game B\n",
    "    \n",
    "       epsilon: parameter determining the winning probability\n",
    "       m:       parmater determining the type of game\n",
    "       ncasts:  number of casts\n",
    "       result:  list of ncasts+1 data containing the capital evolution\n",
    "       \n",
    "    \"\"\"\n",
    "    p2 = 0.1-epsilon\n",
    "    p3 = 0.75-epsilon\n",
    "    result = [0]\n",
    "    for ncast in range(ncasts):\n",
    "        if result[-1] % m:\n",
    "            result.append(result[-1]+single_flip(p3))\n",
    "        else:\n",
    "            result.append(result[-1]+single_flip(p2))\n",
    "    return result\n",
    "\n",
    "def game_AB(epsilon, m, ncasts):\n",
    "    \"\"\"Determine evolution of capital for a repetition of game sequence\n",
    "       A-A-B-B\n",
    "       \n",
    "       epsilon: parameter determining the winning probability\n",
    "       m:       parmater determining the type of game in case of game B\n",
    "       ncasts:  number of casts\n",
    "       result:  list of ncasts+1 data containing the capital evolution\n",
    "       \n",
    "    \"\"\"\n",
    "    p1 = 0.5-epsilon\n",
    "    p2 = 0.1-epsilon\n",
    "    p3 = 0.75-epsilon\n",
    "    result = [0]\n",
    "    for ncast in range(ncasts):\n",
    "        if ncast % 4 in (0, 1):\n",
    "            result.append(result[-1]+single_flip(p1))\n",
    "        else:\n",
    "            if result[-1] % m:\n",
    "                result.append(result[-1]+single_flip(p3))\n",
    "            else:\n",
    "                result.append(result[-1]+single_flip(p2))\n",
    "    return result\n",
    "### END CODE\n",
    "\n",
    "def play_games(ncasts):\n",
    "    \"\"\"Compute the capital evolution of game A, game B and the game\n",
    "       alternating between A and B and display the results\n",
    "       \n",
    "    ncasts: number of casts per game  \n",
    "    \n",
    "    \"\"\"\n",
    "    ### BEGIN CODE\n",
    "    epsilon = 0.005\n",
    "    m = 3\n",
    "    plot(game_A(epsilon, ncasts), game_B(epsilon, m, ncasts),\n",
    "         game_AB(epsilon, m, ncasts))\n",
    "    ### END CODE"
   ]
  },
  {
   "cell_type": "markdown",
   "metadata": {},
   "source": [
    "By executing the following cell, you can display the evolution of the capital for the different games and observe Parrondo's paradox."
   ]
  },
  {
   "cell_type": "code",
   "execution_count": null,
   "metadata": {},
   "outputs": [],
   "source": [
    "play_games(100000)"
   ]
  },
  {
   "cell_type": "markdown",
   "metadata": {},
   "source": [
    "#### Suggestion for further work\n",
    "\n",
    "* Study the influence of the number of casts on the results.\n",
    "* The function `plot` defined above could be used together with your code to plot several     independent realizations of the same game in order to get an idea of the variation of the \n",
    "  final loss or gain."
   ]
  }
 ],
 "metadata": {
  "kernelspec": {
   "display_name": "Python 3",
   "language": "python",
   "name": "python3"
  },
  "language_info": {
   "codemirror_mode": {
    "name": "ipython",
    "version": 3
   },
   "file_extension": ".py",
   "mimetype": "text/x-python",
   "name": "python",
   "nbconvert_exporter": "python",
   "pygments_lexer": "ipython3",
   "version": "3.6.4"
  }
 },
 "nbformat": 4,
 "nbformat_minor": 2
}
