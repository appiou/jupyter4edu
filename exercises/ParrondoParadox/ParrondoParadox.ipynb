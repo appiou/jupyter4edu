{
 "cells": [
  {
   "cell_type": "markdown",
   "metadata": {},
   "source": [
    "# Parrondo's paradox"
   ]
  },
  {
   "cell_type": "markdown",
   "metadata": {},
   "source": [
    "We will define two games for which the probability to loose exceeds the probability to win. Surprisingly, by choosing an appropriate alternating sequence of the two loosing games, one finds that one wins in the long run. This situation is known as [Parrondo's paradox](https://en.wikipedia.org/wiki/Parrondo's_paradox).\n",
    "\n",
    "In the two loosing games A and B a coin is flipped to decide whether the player wins one Euro or looses it. The winning probabilities are chosen as follows.\n",
    "\n",
    "* In game A, coin 1 is used with a winning probability $p_1=1/2-\\varepsilon$ where $\\varepsilon>0$. The probability to loose is thus given by $1/2+\\varepsilon > 1/2$.\n",
    "* In game B, two different coins 2 and 3 are used depending on the player's present capital in Euros. Coin 2 has a winning probability $p_2=1/10-\\varepsilon$ and is used when the capital is a multiple of the integer $M$. Otherwise, coin 3 is used which possesses a winning probability of $p_3=3/4-\\varepsilon$.\n",
    "\n",
    "Now, the following scenarios shall be simulated with $\\varepsilon=0.005$ and $M=3$:\n",
    "\n",
    "1. Only game A is played.\n",
    "1. Only game B is played.\n",
    "1. Game A is played twice, then game B is played twice, and so on.\n",
    "\n",
    "In which of the three cases does one win in the long run?"
   ]
  },
  {
   "cell_type": "markdown",
   "metadata": {},
   "source": [
    "You can either try to solve the problem directly or you go step-by-step by working through the following points.\n",
    "\n",
    "1. [Random numbers and fair coin](RandomNumbers.ipynb)\n",
    "1. [Unfair coins](UnfairCoins.ipynb)\n",
    "1. [Playing game A](GameA.ipynb)\n",
    "1. [Playing game B](GameB.ipynb)\n",
    "1. [Playing games A and B alternatingly](AlternatingAB.ipynb)\n"
   ]
  }
 ],
 "metadata": {
  "celltoolbar": "Create Assignment",
  "kernelspec": {
   "display_name": "Python 3",
   "language": "python",
   "name": "python3"
  },
  "language_info": {
   "codemirror_mode": {
    "name": "ipython",
    "version": 3
   },
   "file_extension": ".py",
   "mimetype": "text/x-python",
   "name": "python",
   "nbconvert_exporter": "python",
   "pygments_lexer": "ipython3",
   "version": "3.6.4"
  }
 },
 "nbformat": 4,
 "nbformat_minor": 2
}
