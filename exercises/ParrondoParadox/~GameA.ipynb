{
 "cells": [
  {
   "cell_type": "markdown",
   "metadata": {
    "nbgrader": {
     "grade": false,
     "grade_id": "cell-12def3c1a2946d48",
     "locked": true,
     "schema_version": 1,
     "solution": false
    }
   },
   "source": [
    "# Parrondo's paradox"
   ]
  },
  {
   "cell_type": "markdown",
   "metadata": {
    "nbgrader": {
     "grade": false,
     "grade_id": "cell-8fbbc445ab711671",
     "locked": true,
     "schema_version": 1,
     "solution": false
    }
   },
   "source": [
    "## Game A"
   ]
  },
  {
   "cell_type": "markdown",
   "metadata": {},
   "source": [
    "Starting with an initial capital of 0, game A shall be played a given number of times. A list reflecting the time evolution of the capital shall be returned. If you have worked through the notebook [Unfair coins](~UnfairCoins.ipynb), make use of the function which you have developed there."
   ]
  },
  {
   "cell_type": "code",
   "execution_count": null,
   "metadata": {},
   "outputs": [],
   "source": [
    "# If you want to use a function developed earlier to handle unfair coins,\n",
    "# put it here. This is also the place where you would import any modules\n",
    "# you might need.\n",
    "### BEGIN CODE\n",
    "import random\n",
    "\n",
    "def single_flip(p):\n",
    "    \"\"\"Determine result of a single flip of a coin\n",
    "    \n",
    "       p: winning probability\n",
    "       result: -1 = loosing flip, 1 = winning flip\n",
    "       \n",
    "    \"\"\"\n",
    "    return 2*(random.random() < p)-1\n",
    "### END CODE\n",
    "\n",
    "def game_A(epsilon, ncasts):\n",
    "    \"\"\"Determine evolution of capital for game A\n",
    "    \n",
    "       epsilon: parameter determining the winning probability 1/2-epsilon\n",
    "       ncasts:  number of casts\n",
    "       result:  list of ncasts+1 data containing the capital evolution\n",
    "       \n",
    "    \"\"\"\n",
    "    # BEGIN CODE\n",
    "    p1 = 0.5-epsilon\n",
    "    result = [0]\n",
    "    for ncast in range(ncasts):\n",
    "        result.append(result[-1]+single_flip(p1))\n",
    "    return result\n",
    "    # END CODE"
   ]
  },
  {
   "cell_type": "code",
   "execution_count": null,
   "metadata": {},
   "outputs": [],
   "source": [
    "ncasts = 10\n",
    "result = game_A(0.005, ncasts)\n",
    "assert result is not None, 'Does your function return a result?'\n",
    "assert type(result) == type([]), 'The result is not a list.'\n",
    "assert len(result) == ncasts+1, ('The length of your list is not correct.'\n",
    "                                 + 'Did you include the starting capital?')\n",
    "assert all(type(x) == type(1) for x in result), 'All elements of the result should be integers.'"
   ]
  }
 ],
 "metadata": {
  "kernelspec": {
   "display_name": "Python 3",
   "language": "python",
   "name": "python3"
  },
  "language_info": {
   "codemirror_mode": {
    "name": "ipython",
    "version": 3
   },
   "file_extension": ".py",
   "mimetype": "text/x-python",
   "name": "python",
   "nbconvert_exporter": "python",
   "pygments_lexer": "ipython3",
   "version": "3.6.4"
  }
 },
 "nbformat": 4,
 "nbformat_minor": 2
}
