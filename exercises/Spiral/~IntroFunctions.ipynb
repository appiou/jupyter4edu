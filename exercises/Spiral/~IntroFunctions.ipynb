{
 "cells": [
  {
   "cell_type": "markdown",
   "metadata": {
    "nbgrader": {
     "grade": false,
     "grade_id": "cell-a23d8e6c30eee40a",
     "locked": true,
     "schema_version": 1,
     "solution": false
    }
   },
   "source": [
    "# Introduction to functions"
   ]
  },
  {
   "cell_type": "markdown",
   "metadata": {
    "nbgrader": {
     "grade": false,
     "grade_id": "cell-67042527fad5ea36",
     "locked": true,
     "schema_version": 1,
     "solution": false
    }
   },
   "source": [
    "In order to be able to validate your code, we will always embed it into a function even though your code as such would work also outside a function. Therefore, we briefly explain the aspects needed for our purpose. There will be more to learn about functions later.\n",
    "\n",
    "For the present purpose, you can think of a function very much as a mathematical function taking some input and producing a result. In contrast to mathematical functions, the input variables in Python do not necessarily need to be numbers and the same is true for the result returned by the function. Let us take a look at the following function which will compute\n",
    "\n",
    "$$\\sum_{n=n_\\mathrm{min}}^{n_\\mathrm{max}}n\\,.$$"
   ]
  },
  {
   "cell_type": "code",
   "execution_count": null,
   "metadata": {},
   "outputs": [],
   "source": [
    "def mysum(nmin, nmax):\n",
    "    result = 0\n",
    "    for n in range(nmin, nmax+1):\n",
    "        result = result+n\n",
    "    return result"
   ]
  },
  {
   "cell_type": "markdown",
   "metadata": {},
   "source": [
    "The first line will be given in the exercises and specifies the parameters supplied to the function as well as the name by which they can be accessed within the function body. You can introduce new variables within the function like `n` and `result` in this example. At the end, you use the `return` statement to return the result. The corresponding variable could be named otherwise.\n",
    "\n",
    "The function can be evaluated by calling it:"
   ]
  },
  {
   "cell_type": "code",
   "execution_count": null,
   "metadata": {},
   "outputs": [],
   "source": [
    "n = 5\n",
    "mysum(1, n)"
   ]
  },
  {
   "cell_type": "markdown",
   "metadata": {},
   "source": [
    "We check whether the function works correctly by evaluating also the known analytical result\n",
    "\n",
    "$$\\sum_{n=1}^{n_\\mathrm{max}}n = \\frac{n_\\mathrm{max}(n_\\mathrm{max}+1)}{2}\\,.$$"
   ]
  },
  {
   "cell_type": "code",
   "execution_count": null,
   "metadata": {},
   "outputs": [],
   "source": [
    "n*(n+1)//2"
   ]
  },
  {
   "cell_type": "markdown",
   "metadata": {},
   "source": [
    "Note, that the variable name `n` does not necessarily need to agree with the corresponding name in the functions's definition. In the case discussed here, the objects in the function call are associated with the variable in the function by their position in the set of parameters.\n",
    "\n",
    "Feel free to experiment a bit to get more familiar with functions if you like."
   ]
  },
  {
   "cell_type": "markdown",
   "metadata": {},
   "source": [
    "**Note:** In the exercises, the first line of the function definition will already be present and therefore does not need to be supplied by you. "
   ]
  }
 ],
 "metadata": {
  "kernelspec": {
   "display_name": "Python 3",
   "language": "python",
   "name": "python3"
  },
  "language_info": {
   "codemirror_mode": {
    "name": "ipython",
    "version": 3
   },
   "file_extension": ".py",
   "mimetype": "text/x-python",
   "name": "python",
   "nbconvert_exporter": "python",
   "pygments_lexer": "ipython3",
   "version": "3.6.4"
  }
 },
 "nbformat": 4,
 "nbformat_minor": 2
}
