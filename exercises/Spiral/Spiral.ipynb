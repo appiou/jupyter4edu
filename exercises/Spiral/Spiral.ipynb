{
 "cells": [
  {
   "cell_type": "markdown",
   "metadata": {
    "nbgrader": {
     "grade": false,
     "grade_id": "cell-b256be17fa77cc95",
     "locked": true,
     "schema_version": 1,
     "solution": false
    }
   },
   "source": [
    "# Diagonal sum in a spiral"
   ]
  },
  {
   "cell_type": "markdown",
   "metadata": {
    "nbgrader": {
     "grade": false,
     "grade_id": "cell-f73101bb46677bef",
     "locked": true,
     "schema_version": 1,
     "solution": false
    }
   },
   "source": [
    "This exercise is based on [Problem 28 of Project Euler](https://projecteuler.net/problem=28). If you want to train your coding skills by solving challenging problems, it is highly recommended to take a look at [Project Euler](https://projecteuler.net/). "
   ]
  },
  {
   "cell_type": "markdown",
   "metadata": {
    "nbgrader": {
     "grade": false,
     "grade_id": "cell-30d79a6c5a7f2919",
     "locked": true,
     "schema_version": 1,
     "solution": false
    }
   },
   "source": [
    "We consider a spiral of integers as represented in the following figure.\n",
    "\n",
    "![spiral of integers](spiral.png \"spiral of integers\")"
   ]
  },
  {
   "cell_type": "markdown",
   "metadata": {
    "nbgrader": {
     "grade": false,
     "grade_id": "cell-789f0686400cabc0",
     "locked": true,
     "schema_version": 1,
     "solution": false
    }
   },
   "source": [
    "The task is to sum the entries on the two diagonals highlighted here in black. In the figure, the square has a side length of 7 resulting in a sum over the diagonal entries of 261. The task is to develop a code which for a side length given by an odd integer returns the diagonal sum.\n",
    "\n",
    "Note that the task can be solved analytically. However, here we want to train our coding skills. Therefore, the idea is to generate the entries on the diagonal successively with only basic mathematical insight."
   ]
  },
  {
   "cell_type": "markdown",
   "metadata": {
    "nbgrader": {
     "grade": false,
     "grade_id": "cell-e56b7b9592794c13",
     "locked": true,
     "schema_version": 1,
     "solution": false
    }
   },
   "source": [
    "You can either try to solve the problem directly or, if you need help, follow the link below to first develop a partial solution. After having done so, you can return back here. But may be you try first without getting additional help.\n",
    "\n",
    "* [Diagonal entries in a single shell](~SingleShell.ipynb)"
   ]
  },
  {
   "cell_type": "code",
   "execution_count": 2,
   "metadata": {
    "nbgrader": {
     "grade": false,
     "grade_id": "cell-14980c0124453639",
     "locked": false,
     "schema_version": 1,
     "solution": true
    }
   },
   "outputs": [],
   "source": [
    "def diagonalsum(sidelength):\n",
    "    \"\"\"Compute sum of diagonal elements on an integer spiral\n",
    "    \n",
    "       sidelength: side length of the grid, needs to be odd\n",
    "    \"\"\"\n",
    "    ### BEGIN SOLUTION\n",
    "    assert sidelength % 2, \"side length needs to be odd\"\n",
    "    diagentry = 1\n",
    "    sum = diagentry\n",
    "    for nshell in range(2, (sidelength+1)//2+1):\n",
    "        delta = 2*(nshell-1)\n",
    "        for ndiag in range(4):\n",
    "            diagentry = diagentry+delta\n",
    "            sum = sum+diagentry\n",
    "    return sum\n",
    "    ### END SOLUTION"
   ]
  },
  {
   "cell_type": "markdown",
   "metadata": {
    "nbgrader": {
     "grade": false,
     "grade_id": "cell-1e7eda4d39d41249",
     "locked": true,
     "schema_version": 1,
     "solution": false
    }
   },
   "source": [
    "Test your solution by executing the following cell. If there is no output, everything is fine. Otherwise you have to go hunting coding errors."
   ]
  },
  {
   "cell_type": "code",
   "execution_count": 3,
   "metadata": {
    "nbgrader": {
     "grade": true,
     "grade_id": "cell-659caf13848a35a3",
     "locked": true,
     "points": 5,
     "schema_version": 1,
     "solution": false
    }
   },
   "outputs": [],
   "source": [
    "assert diagonalsum(7) == 261, \"The example given above does not work out correctly\"\n",
    "for n in (11, 101, 1001):\n",
    "    expected = (4*n**3+3*n**2+8*n-9)/6\n",
    "    assert diagonalsum(n) == expected, \"Side length {} yields an incorrect result\".format(n)"
   ]
  }
 ],
 "metadata": {
  "celltoolbar": "Create Assignment",
  "kernelspec": {
   "display_name": "Python 3",
   "language": "python",
   "name": "python3"
  },
  "language_info": {
   "codemirror_mode": {
    "name": "ipython",
    "version": 3
   },
   "file_extension": ".py",
   "mimetype": "text/x-python",
   "name": "python",
   "nbconvert_exporter": "python",
   "pygments_lexer": "ipython3",
   "version": "3.6.4"
  }
 },
 "nbformat": 4,
 "nbformat_minor": 2
}
