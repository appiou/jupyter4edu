{
 "cells": [
  {
   "cell_type": "markdown",
   "metadata": {},
   "source": [
    "# Diagonal sum in a spiral"
   ]
  },
  {
   "cell_type": "markdown",
   "metadata": {},
   "source": [
    "This exercise is based on [Problem 28 of Project Euler](https://projecteuler.net/problem=28). If you want to train your coding skills by solving challenging problems, it is highly recommended to take a look at [Project Euler](https://projecteuler.net/). "
   ]
  },
  {
   "cell_type": "markdown",
   "metadata": {},
   "source": [
    "We consider a spiral of integers as represented in the following figure.\n",
    "\n",
    "![spiral of integers](spiral.png \"spiral of integers\")"
   ]
  },
  {
   "cell_type": "markdown",
   "metadata": {},
   "source": [
    "The task is to sum the entries on the two diagonals highlighted here in black. In the figure, the square has a side length of 7 resulting in a sum over the diagonal entries of 261. The task is to develop a code which for a side length given by an odd integer returns the diagonal sum.\n",
    "\n",
    "Note that the task can be solved analytically. However, here we want to train our coding skills. Therefore, the idea is to generate the entries on the diagonal successively with only basic mathematical insight."
   ]
  },
  {
   "cell_type": "markdown",
   "metadata": {},
   "source": [
    "You can either try to solve the problem directly or, if you need help, follow the link to first develop a partial solution. After having done so, you can return back here. But may be you try first without getting additional help.\n",
    "\n",
    "* [Diagonal entries in a single shell](SingleShell.ipynb)"
   ]
  },
  {
   "cell_type": "code",
   "execution_count": null,
   "metadata": {},
   "outputs": [],
   "source": []
  }
 ],
 "metadata": {
  "kernelspec": {
   "display_name": "Python 3",
   "language": "python",
   "name": "python3"
  },
  "language_info": {
   "codemirror_mode": {
    "name": "ipython",
    "version": 3
   },
   "file_extension": ".py",
   "mimetype": "text/x-python",
   "name": "python",
   "nbconvert_exporter": "python",
   "pygments_lexer": "ipython3",
   "version": "3.6.4"
  }
 },
 "nbformat": 4,
 "nbformat_minor": 2
}
