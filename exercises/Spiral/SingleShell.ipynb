{
 "cells": [
  {
   "cell_type": "markdown",
   "metadata": {},
   "source": [
    "# Diagonal sum in a spiral"
   ]
  },
  {
   "cell_type": "markdown",
   "metadata": {},
   "source": [
    "## Diagonal entries in a single shell"
   ]
  },
  {
   "cell_type": "markdown",
   "metadata": {},
   "source": [
    "When solving a programming task which at the beginning appears to be too complex, it is a good idea to decompose the problem into smaller problems which are easier to handle. In the present case, one possibility is to start with a single shell indicated in red in the following figure."
   ]
  },
  {
   "cell_type": "markdown",
   "metadata": {},
   "source": [
    "![single shell in a spiral of integers](singleshell.png \"single shell in a spiral of integers\")"
   ]
  },
  {
   "cell_type": "markdown",
   "metadata": {},
   "source": [
    "Let us suppose that we want to successively generate the diagonal entries as they appear when following the spiral. Then, we might have ended up with the blue entry in the figure, i.e. the number 9. The task now is to generate the following four entries on the diagonal, i.e. 13, 17, 21, 25.\n",
    "Try to answer the following questions:\n",
    "\n",
    "* What is the rule to obtain these four numbers starting from 9?\n",
    "* Try to generalize the rule for the $n$-th shell. The numbering is done as follows: $n=1$ corresponds to the single entry 1. The shell marked in red is denoted by $n=3$. Show that the starting value for the $n$-th shell is $(2n-3)^2$ with $n>1$.\n"
   ]
  },
  {
   "cell_type": "code",
   "execution_count": 20,
   "metadata": {},
   "outputs": [],
   "source": [
    "def diagonalentries(nshell):\n",
    "    \"\"\"Determine the four diagonal entries of a given shell\n",
    "    \n",
    "       nshell: number identifying the shell\n",
    "    \"\"\"\n",
    "    ### BEGIN SOLUTION\n",
    "    start = (2*nshell-3)**2\n",
    "    delta = 2*(nshell-1)\n",
    "    \n",
    "    # solution 1:\n",
    "    \n",
    "    entries = []\n",
    "    for ndiag in range(4):\n",
    "        start = start + delta\n",
    "        entries.append(start)\n",
    "    return entries\n",
    "\n",
    "    # solution 2:\n",
    "    \n",
    "#    return list(range(start+delta, start+5*delta, delta))\n",
    "    ### END SOLUTION"
   ]
  },
  {
   "cell_type": "markdown",
   "metadata": {},
   "source": [
    "Test your solution by executing the following cell. If there is no output, this is good news. Otherwise you need to analysis the error. You can always open a new cell and play around with your function `diagonalentries` to find out what is going wrong."
   ]
  },
  {
   "cell_type": "code",
   "execution_count": 21,
   "metadata": {},
   "outputs": [],
   "source": [
    "assert len(diagonalentries(3)) == 4, \"You should create four values\"\n",
    "assert diagonalentries(3) == [13, 17, 21, 25], \"The example marked in red does not work out correctly\"\n",
    "assert diagonalentries(2) == [3, 5, 7, 9], \"There is a problem with shell 2\"\n",
    "assert diagonalentries(4) == [31, 37, 43, 49], \"There is a problem with shell 4\"\n",
    "n = 1000\n",
    "assert diagonalentries(n)[-1] == (2*n-1)**2, \"Shell 1000 does not end with the correct value\""
   ]
  },
  {
   "cell_type": "markdown",
   "metadata": {},
   "source": [
    "Before leaving this notebook, make sure to save it by typing `S` in command mode.\n",
    "\n",
    "To return to the main problem page, look for the corresponding tab in your browser. If you have closed that tab, you can open a new one by clicking [here](Spiral.ipynb)."
   ]
  }
 ],
 "metadata": {
  "kernelspec": {
   "display_name": "Python 3",
   "language": "python",
   "name": "python3"
  },
  "language_info": {
   "codemirror_mode": {
    "name": "ipython",
    "version": 3
   },
   "file_extension": ".py",
   "mimetype": "text/x-python",
   "name": "python",
   "nbconvert_exporter": "python",
   "pygments_lexer": "ipython3",
   "version": "3.6.4"
  }
 },
 "nbformat": 4,
 "nbformat_minor": 2
}
