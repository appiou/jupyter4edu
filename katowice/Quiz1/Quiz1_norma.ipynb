{
 "cells": [
  {
   "cell_type": "markdown",
   "metadata": {
    "lang": "pl",
    "nbgrader": {
     "grade": false,
     "grade_id": "cell-c6807741c0de771a",
     "locked": true,
     "schema_version": 1,
     "solution": false
    }
   },
   "source": [
    "## Oblicz normę \n",
    "\n",
    " - $L_1$ \n",
    " - $L_2$\n",
    " \n",
    "dla zadanego wektora.\n",
    "\n",
    "\n",
    "\n",
    "$$ L_p = \\left\\| \\mathbf{x} \\right\\| _p := \\bigg( \\sum_{i=1}^n \\left| x_i \\right| ^p \\bigg) ^{1/p}$$\n",
    "\n",
    " \n",
    "\n"
   ]
  },
  {
   "cell_type": "markdown",
   "metadata": {
    "lang": "en",
    "nbgrader": {
     "grade": false,
     "grade_id": "cell-fe78601f220b770f",
     "locked": true,
     "schema_version": 1,
     "solution": false
    }
   },
   "source": [
    "## Calculate the norm\n",
    "\n",
    "- $L_1$\n",
    "- $L_2$\n",
    "\n",
    "for a given vector.\n",
    "\n",
    "\n",
    "\n",
    "$$ L_p = \\left\\| \\mathbf{x} \\right\\| _p := \\bigg( \\sum_{i=1}^n \\left| x_i \\right| ^p \\bigg) ^{1/p}$$"
   ]
  },
  {
   "cell_type": "code",
   "execution_count": 1,
   "metadata": {
    "nbgrader": {
     "grade": false,
     "grade_id": "cell-ac6d0b5a01ac4856",
     "locked": true,
     "schema_version": 1,
     "solution": false
    }
   },
   "outputs": [],
   "source": [
    "import numpy as np \n",
    "x = np.random.randn(4)"
   ]
  },
  {
   "cell_type": "code",
   "execution_count": 2,
   "metadata": {
    "nbgrader": {
     "grade": false,
     "grade_id": "cell-b46de071a57c605d",
     "locked": false,
     "schema_version": 1,
     "solution": true
    }
   },
   "outputs": [],
   "source": [
    "L2 = None\n",
    "### BEGIN SOLUTION\n",
    "L2 = np.sqrt(x.dot(x))\n",
    "### END SOLUTION"
   ]
  },
  {
   "cell_type": "code",
   "execution_count": 3,
   "metadata": {
    "nbgrader": {
     "grade": false,
     "grade_id": "cell-ff558036b82d01cb",
     "locked": false,
     "schema_version": 1,
     "solution": true
    }
   },
   "outputs": [],
   "source": [
    "L1 = None\n",
    "### BEGIN SOLUTION\n",
    "L1 = np.sum(np.abs(x))\n",
    "### END SOLUTION"
   ]
  },
  {
   "cell_type": "code",
   "execution_count": 69,
   "metadata": {
    "nbgrader": {
     "grade": true,
     "grade_id": "cell-5db5dc4edbd5d598",
     "locked": true,
     "points": 1,
     "schema_version": 1,
     "solution": false
    }
   },
   "outputs": [],
   "source": [
    "assert L2 == np.linalg.norm(x,ord=2)\n",
    "assert L1 == np.linalg.norm(x,ord=1)"
   ]
  },
  {
   "cell_type": "code",
   "execution_count": 70,
   "metadata": {},
   "outputs": [
    {
     "name": "stdout",
     "output_type": "stream",
     "text": [
      "[1 1 1 1 1] 2.23606797749979 5.0\n",
      "[0 0 0 0 5] 5.0 5.0\n"
     ]
    }
   ],
   "source": [
    "for x in [ [1,1,1,1,1],[0,0,0,0,5] ]:\n",
    "    x = np.array(x)\n",
    "    print(x,np.linalg.norm(x,ord=2),np.linalg.norm(x,ord=1) )"
   ]
  },
  {
   "cell_type": "code",
   "execution_count": null,
   "metadata": {},
   "outputs": [],
   "source": []
  }
 ],
 "metadata": {
  "celltoolbar": "Edit Metadata",
  "kernelspec": {
   "display_name": "Python 3",
   "language": "python",
   "name": "python3"
  },
  "language_info": {
   "codemirror_mode": {
    "name": "ipython",
    "version": 3
   },
   "file_extension": ".py",
   "mimetype": "text/x-python",
   "name": "python",
   "nbconvert_exporter": "python",
   "pygments_lexer": "ipython3",
   "version": "3.6.3"
  },
  "nbTranslate": {
   "displayLangs": [
    "pl"
   ],
   "hotkey": "alt-t",
   "langInMainMenu": true,
   "sourceLang": "pl",
   "targetLang": "en",
   "useGoogleTranslate": true
  }
 },
 "nbformat": 4,
 "nbformat_minor": 2
}
