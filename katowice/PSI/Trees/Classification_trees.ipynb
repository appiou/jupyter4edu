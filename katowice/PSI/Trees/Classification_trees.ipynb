{
 "cells": [
  {
   "cell_type": "code",
   "execution_count": 3,
   "metadata": {
    "colab": {},
    "colab_type": "code",
    "id": "l9TTl_qFBg42"
   },
   "outputs": [
    {
     "name": "stdout",
     "output_type": "stream",
     "text": [
      "Collecting graphviz\n",
      "  Using cached https://files.pythonhosted.org/packages/1f/e2/ef2581b5b86625657afd32030f90cf2717456c1d2b711ba074bf007c0f1a/graphviz-0.10.1-py2.py3-none-any.whl\n",
      "Installing collected packages: graphviz\n",
      "Successfully installed graphviz-0.10.1\n"
     ]
    }
   ],
   "source": [
    "#!pip install --user graphviz \n",
    "#!apt-get install graphviz"
   ]
  },
  {
   "cell_type": "markdown",
   "metadata": {
    "colab_type": "text",
    "id": "xc7CY5WNJzhF"
   },
   "source": [
    "# Drzewa klasyfikacyjne (metoda rekurencyjnego podziału)\n",
    "\n",
    "Metoda ta polega na sekwencyjnym (rekurencyjnym) podziale przestrzeni danych na podprzestrzenie (hiperkostki,segmenty), aż zmienna zależnao siągnie w każdej podprzestrzeni minimalny poziom zróżnicowania."
   ]
  },
  {
   "cell_type": "markdown",
   "metadata": {
    "colab_type": "text",
    "id": "D46x7ndWE2KW"
   },
   "source": [
    "\n",
    "## Wady i zalety drzewa decyzyjnego\n",
    "**Zalety:**\n",
    "\n",
    "1. *niezparametryczność* – przy budowaniu modelu nie zakłada się postaci rozkładów zmiennych ani relacji między nimi\n",
    "2. *adaptacyjność* – automatyczny proces doboru zmiennych do modelu, możliwość uwzględnieniem zarówno zmiennych jakościowych i ilościowych,\n",
    "3. *odporność na braki danych oraz występowanie wartości\n",
    "nietypowych* \n",
    "4. *łatwa interpretowalność* -  możliwość graficznego przedstawienia modelu w postaci drzewa, możliwość zapisania reguł klasyfikujących\n",
    "\n",
    "**Główna wada:**\n",
    "\n",
    "1. *niestabilność modelu* -  oznacza, że postać modelu silnie zależy od dostępnego zbioru uczącego, budowanie drzew na różnych podzbiorach trenujących daje bardzo różniące się modele"
   ]
  },
  {
   "cell_type": "markdown",
   "metadata": {
    "colab_type": "text",
    "id": "S8dV5z4h4DdE"
   },
   "source": [
    "## Algorytm tworzenia drzewa klasyfikującego\n",
    "\n",
    "**Kroki algorytmu**\n",
    "\n",
    "Mając treningory zbiór obiektów $S$, sprawdź, czy należą one do tej samej klasy. Jeżli\n",
    "tak, to zakończ pracę.\n",
    "2. W przeciwnym przypadku rozważ wszystkie możliwe podziały zbioru S na\n",
    "podzbiory $S_1$, $S_2$, ..., $S_m$ tak, aby były one jak najbardziej jednorodne.\n",
    "3. Dokonaj oceny jakości każdego z tych podziałów zgodnie z przyjętym kryterium\n",
    "i wybierz najlepszy z nich.\n",
    "4. Podziel zbiór $S$ w wybrany sposób.\n",
    "5. Wykonaj kroki 1-4 rekurencyjnie dla każdego z podzbiorów\n",
    "\n",
    "W domyślnej wersji algorytmu każdorazowo poszukiwany jest najlepszy podział pod względem zmiennej jak i sposobu podziału przestrzeni względem niej. To domyślne działanie można jednak zmienić, o czym powiemy za chwilę. \n",
    "\n",
    "\n",
    "## Kryterium podziału \n",
    "Domyślnie kryterium podziały jest minimalizacja zróżnicowania (heterogeniczności) elementów w każdym z podziałów. W powyższym przykładzie wykorzystywany jest wskaźnik Giniego.\n",
    "\n",
    "\n",
    "W pierwszej kolejności dla każdej z $K$ klas ($k \\in K$) dla każdego z $M$ podobszarów ($m \\in M$) wyznaczana jest średnia ilość elementów danej klasy w tym obszarze:\n",
    "\n",
    "$$p_{km} = \\frac{1}{N_s}\\sum_{x_i \\in S_m}I(y_i=k)$$\n",
    "\n",
    "$N_s$ to ilość elementów w danym obszarze.\n",
    "\n",
    "Współczynnik Giniego definiujemy jako:\n",
    "$$H(m) = \\sum_k p_{km}(1-p_{km})$$\n",
    "\n",
    "Gdy w danym obszerze występują tylko reprezentanci jednej klasy $p_{km}=1$ dla tej wybranej klasy. Dla pozostałych klas współczynnik ten wynosi 0. Wówczas $H=0$ dla takiego obszaru.\n"
   ]
  },
  {
   "cell_type": "markdown",
   "metadata": {},
   "source": [
    "### Klasyfikacja z wykorzystaniem metody rekurencyjnego podziału dla danych $iris$"
   ]
  },
  {
   "cell_type": "markdown",
   "metadata": {
    "colab_type": "text",
    "id": "xqxmdWvxImFk"
   },
   "source": [
    "W pierwszym kroku importujemy przydatne biblioteki. Drzewa klasyfikacyjne zostały zaimplementowane w bibliotece $sklearn$."
   ]
  },
  {
   "cell_type": "code",
   "execution_count": 1,
   "metadata": {
    "colab": {},
    "colab_type": "code",
    "id": "yMfyp-i0J1Df"
   },
   "outputs": [],
   "source": [
    "from sklearn.tree import DecisionTreeClassifier, export_graphviz\n",
    "#from sklearn import tree\n",
    "from sklearn.datasets import load_iris, load_breast_cancer\n",
    "from sklearn.model_selection import train_test_split"
   ]
  },
  {
   "cell_type": "markdown",
   "metadata": {},
   "source": [
    "Biblioteka $graphviz$ będzie przydatna do wizualizacji otrzymanych drzew."
   ]
  },
  {
   "cell_type": "code",
   "execution_count": 2,
   "metadata": {
    "colab": {},
    "colab_type": "code",
    "id": "0eX8P1l3jtiP"
   },
   "outputs": [],
   "source": [
    "import graphviz \n",
    "import numpy as np\n",
    "import matplotlib.pyplot as plt\n"
   ]
  },
  {
   "cell_type": "markdown",
   "metadata": {
    "colab_type": "text",
    "id": "V4b3h5n59cUQ"
   },
   "source": [
    "#### Zestaw danych IRIS"
   ]
  },
  {
   "cell_type": "markdown",
   "metadata": {
    "colab_type": "text",
    "id": "Uby3ev8F_-pm"
   },
   "source": [
    "Informacje o kwiatech o polskiej nazwie **kosaciec**  dostępne w zestawie *Iris* zostały zebrane przez  biologa Ronalda Fishera w roku 1936. Wykorzystał on je w pracy  *The use of multiple measurements in taxonomic problems*.\n",
    "\n",
    "#### Iris Setosa\n",
    "![alt text](https://i.ebayimg.com/images/g/xEgAAOSwoBtW6BoO/s-l1600.jpg)\n",
    "#### Iris Virginica\n",
    "![alt text](https://plants.ces.ncsu.edu/media/images/Iris-virginica--Justin-Meissen--CC-BY-SA.jpg)\n",
    "#### Iris Versicolor\n",
    "![alt text](http://latour-marliac.com/323-large_default/iris-versicolor-iris-versicolore.jpg)\n",
    "\n",
    "\n",
    "Dla reprezentantów poszczególnych  gatunków mierzono długość i szerokość płatka „petal” i działki kielicha kwiatu „sepal”."
   ]
  },
  {
   "cell_type": "markdown",
   "metadata": {
    "colab_type": "text",
    "id": "hb4cSOy4JO7r"
   },
   "source": [
    "**Krok 1:** Podziel dane na dane treningowe i testowe w proporcji 0.77 do 0.33. Ustaw random_state na 1."
   ]
  },
  {
   "cell_type": "code",
   "execution_count": 3,
   "metadata": {
    "colab": {},
    "colab_type": "code",
    "id": "khhEhXUvjCZN"
   },
   "outputs": [],
   "source": [
    "iris = load_iris()\n",
    "X, y = iris.data, iris.target\n",
    "X_train, X_test, y_train, y_test = train_test_split(X, y, test_size=0.33, random_state=1)\n"
   ]
  },
  {
   "cell_type": "code",
   "execution_count": 4,
   "metadata": {
    "colab": {
     "base_uri": "https://localhost:8080/",
     "height": 87
    },
    "colab_type": "code",
    "id": "wU9QRJuyutZE",
    "outputId": "46be077d-a055-448a-98ab-9aeca58b8b3c"
   },
   "outputs": [
    {
     "data": {
      "text/plain": [
       "['sepal length (cm)',\n",
       " 'sepal width (cm)',\n",
       " 'petal length (cm)',\n",
       " 'petal width (cm)']"
      ]
     },
     "execution_count": 4,
     "metadata": {},
     "output_type": "execute_result"
    }
   ],
   "source": [
    "iris.feature_names"
   ]
  },
  {
   "cell_type": "markdown",
   "metadata": {
    "colab_type": "text",
    "id": "VWet73ZiJZnL"
   },
   "source": [
    "**Krok 2:** Trening klasyfikatora  `DecisionTreeClassifier` z biblioteki `sklearn`\n",
    "\n",
    "\n"
   ]
  },
  {
   "cell_type": "code",
   "execution_count": 10,
   "metadata": {
    "colab": {
     "base_uri": "https://localhost:8080/",
     "height": 52
    },
    "colab_type": "code",
    "id": "UCEVM18f9Kry",
    "outputId": "c9768574-bcfe-4ba5-a188-f41cea3f9bae"
   },
   "outputs": [
    {
     "name": "stdout",
     "output_type": "stream",
     "text": [
      "CPU times: user 0 ns, sys: 0 ns, total: 0 ns\n",
      "Wall time: 1.6 ms\n"
     ]
    }
   ],
   "source": [
    "%%time\n",
    "\n",
    "clf = DecisionTreeClassifier()\n",
    "clf = clf.fit(X_train, y_train)"
   ]
  },
  {
   "cell_type": "markdown",
   "metadata": {
    "colab_type": "text",
    "id": "FLVcMn21Jm92"
   },
   "source": [
    "**Krok 2.1:** Podgląd otrzymanego drzewa decyzyjnego"
   ]
  },
  {
   "cell_type": "markdown",
   "metadata": {},
   "source": [
    "*wersja czarno-biała* "
   ]
  },
  {
   "cell_type": "code",
   "execution_count": 6,
   "metadata": {
    "colab": {},
    "colab_type": "code",
    "id": "iwhxbpqLj13n"
   },
   "outputs": [],
   "source": [
    "dot_data = export_graphviz(clf, out_file=None) \n",
    "graph = graphviz.Source(dot_data) "
   ]
  },
  {
   "cell_type": "code",
   "execution_count": 7,
   "metadata": {
    "colab": {
     "base_uri": "https://localhost:8080/",
     "height": 657
    },
    "colab_type": "code",
    "id": "2uGTtCSgkBI0",
    "outputId": "31d6ed7e-e150-4000-d792-d4000a9b43f0"
   },
   "outputs": [
    {
     "data": {
      "image/svg+xml": [
       "<?xml version=\"1.0\" encoding=\"UTF-8\" standalone=\"no\"?>\n",
       "<!DOCTYPE svg PUBLIC \"-//W3C//DTD SVG 1.1//EN\"\n",
       " \"http://www.w3.org/Graphics/SVG/1.1/DTD/svg11.dtd\">\n",
       "<!-- Generated by graphviz version 2.38.0 (20140413.2041)\n",
       " -->\n",
       "<!-- Title: Tree Pages: 1 -->\n",
       "<svg width=\"503pt\" height=\"477pt\"\n",
       " viewBox=\"0.00 0.00 503.00 477.00\" xmlns=\"http://www.w3.org/2000/svg\" xmlns:xlink=\"http://www.w3.org/1999/xlink\">\n",
       "<g id=\"graph0\" class=\"graph\" transform=\"scale(1 1) rotate(0) translate(4 473)\">\n",
       "<title>Tree</title>\n",
       "<polygon fill=\"white\" stroke=\"none\" points=\"-4,4 -4,-473 499,-473 499,4 -4,4\"/>\n",
       "<!-- 0 -->\n",
       "<g id=\"node1\" class=\"node\"><title>0</title>\n",
       "<polygon fill=\"none\" stroke=\"black\" points=\"243.5,-469 117.5,-469 117.5,-401 243.5,-401 243.5,-469\"/>\n",
       "<text text-anchor=\"middle\" x=\"180.5\" y=\"-453.8\" font-family=\"Times,serif\" font-size=\"14.00\">X[3] &lt;= 0.8</text>\n",
       "<text text-anchor=\"middle\" x=\"180.5\" y=\"-438.8\" font-family=\"Times,serif\" font-size=\"14.00\">gini = 0.665</text>\n",
       "<text text-anchor=\"middle\" x=\"180.5\" y=\"-423.8\" font-family=\"Times,serif\" font-size=\"14.00\">samples = 100</text>\n",
       "<text text-anchor=\"middle\" x=\"180.5\" y=\"-408.8\" font-family=\"Times,serif\" font-size=\"14.00\">value = [33, 31, 36]</text>\n",
       "</g>\n",
       "<!-- 1 -->\n",
       "<g id=\"node2\" class=\"node\"><title>1</title>\n",
       "<polygon fill=\"none\" stroke=\"black\" points=\"170,-357.5 57,-357.5 57,-304.5 170,-304.5 170,-357.5\"/>\n",
       "<text text-anchor=\"middle\" x=\"113.5\" y=\"-342.3\" font-family=\"Times,serif\" font-size=\"14.00\">gini = 0.0</text>\n",
       "<text text-anchor=\"middle\" x=\"113.5\" y=\"-327.3\" font-family=\"Times,serif\" font-size=\"14.00\">samples = 33</text>\n",
       "<text text-anchor=\"middle\" x=\"113.5\" y=\"-312.3\" font-family=\"Times,serif\" font-size=\"14.00\">value = [33, 0, 0]</text>\n",
       "</g>\n",
       "<!-- 0&#45;&gt;1 -->\n",
       "<g id=\"edge1\" class=\"edge\"><title>0&#45;&gt;1</title>\n",
       "<path fill=\"none\" stroke=\"black\" d=\"M158.747,-400.884C151.451,-389.776 143.303,-377.372 135.954,-366.184\"/>\n",
       "<polygon fill=\"black\" stroke=\"black\" points=\"138.679,-363.957 130.263,-357.52 132.828,-367.8 138.679,-363.957\"/>\n",
       "<text text-anchor=\"middle\" x=\"125.193\" y=\"-378.3\" font-family=\"Times,serif\" font-size=\"14.00\">True</text>\n",
       "</g>\n",
       "<!-- 2 -->\n",
       "<g id=\"node3\" class=\"node\"><title>2</title>\n",
       "<polygon fill=\"none\" stroke=\"black\" points=\"307,-365 188,-365 188,-297 307,-297 307,-365\"/>\n",
       "<text text-anchor=\"middle\" x=\"247.5\" y=\"-349.8\" font-family=\"Times,serif\" font-size=\"14.00\">X[3] &lt;= 1.65</text>\n",
       "<text text-anchor=\"middle\" x=\"247.5\" y=\"-334.8\" font-family=\"Times,serif\" font-size=\"14.00\">gini = 0.497</text>\n",
       "<text text-anchor=\"middle\" x=\"247.5\" y=\"-319.8\" font-family=\"Times,serif\" font-size=\"14.00\">samples = 67</text>\n",
       "<text text-anchor=\"middle\" x=\"247.5\" y=\"-304.8\" font-family=\"Times,serif\" font-size=\"14.00\">value = [0, 31, 36]</text>\n",
       "</g>\n",
       "<!-- 0&#45;&gt;2 -->\n",
       "<g id=\"edge2\" class=\"edge\"><title>0&#45;&gt;2</title>\n",
       "<path fill=\"none\" stroke=\"black\" d=\"M202.253,-400.884C207.928,-392.243 214.119,-382.819 220.048,-373.793\"/>\n",
       "<polygon fill=\"black\" stroke=\"black\" points=\"223.062,-375.579 225.627,-365.299 217.211,-371.736 223.062,-375.579\"/>\n",
       "<text text-anchor=\"middle\" x=\"230.697\" y=\"-386.08\" font-family=\"Times,serif\" font-size=\"14.00\">False</text>\n",
       "</g>\n",
       "<!-- 3 -->\n",
       "<g id=\"node4\" class=\"node\"><title>3</title>\n",
       "<polygon fill=\"none\" stroke=\"black\" points=\"238,-261 125,-261 125,-193 238,-193 238,-261\"/>\n",
       "<text text-anchor=\"middle\" x=\"181.5\" y=\"-245.8\" font-family=\"Times,serif\" font-size=\"14.00\">X[2] &lt;= 5.0</text>\n",
       "<text text-anchor=\"middle\" x=\"181.5\" y=\"-230.8\" font-family=\"Times,serif\" font-size=\"14.00\">gini = 0.165</text>\n",
       "<text text-anchor=\"middle\" x=\"181.5\" y=\"-215.8\" font-family=\"Times,serif\" font-size=\"14.00\">samples = 33</text>\n",
       "<text text-anchor=\"middle\" x=\"181.5\" y=\"-200.8\" font-family=\"Times,serif\" font-size=\"14.00\">value = [0, 30, 3]</text>\n",
       "</g>\n",
       "<!-- 2&#45;&gt;3 -->\n",
       "<g id=\"edge3\" class=\"edge\"><title>2&#45;&gt;3</title>\n",
       "<path fill=\"none\" stroke=\"black\" d=\"M226.072,-296.884C220.481,-288.243 214.383,-278.819 208.542,-269.793\"/>\n",
       "<polygon fill=\"black\" stroke=\"black\" points=\"211.418,-267.794 203.047,-261.299 205.541,-271.596 211.418,-267.794\"/>\n",
       "</g>\n",
       "<!-- 8 -->\n",
       "<g id=\"node9\" class=\"node\"><title>8</title>\n",
       "<polygon fill=\"none\" stroke=\"black\" points=\"369,-261 256,-261 256,-193 369,-193 369,-261\"/>\n",
       "<text text-anchor=\"middle\" x=\"312.5\" y=\"-245.8\" font-family=\"Times,serif\" font-size=\"14.00\">X[2] &lt;= 4.85</text>\n",
       "<text text-anchor=\"middle\" x=\"312.5\" y=\"-230.8\" font-family=\"Times,serif\" font-size=\"14.00\">gini = 0.057</text>\n",
       "<text text-anchor=\"middle\" x=\"312.5\" y=\"-215.8\" font-family=\"Times,serif\" font-size=\"14.00\">samples = 34</text>\n",
       "<text text-anchor=\"middle\" x=\"312.5\" y=\"-200.8\" font-family=\"Times,serif\" font-size=\"14.00\">value = [0, 1, 33]</text>\n",
       "</g>\n",
       "<!-- 2&#45;&gt;8 -->\n",
       "<g id=\"edge8\" class=\"edge\"><title>2&#45;&gt;8</title>\n",
       "<path fill=\"none\" stroke=\"black\" d=\"M268.604,-296.884C274.11,-288.243 280.115,-278.819 285.867,-269.793\"/>\n",
       "<polygon fill=\"black\" stroke=\"black\" points=\"288.857,-271.614 291.28,-261.299 282.954,-267.852 288.857,-271.614\"/>\n",
       "</g>\n",
       "<!-- 4 -->\n",
       "<g id=\"node5\" class=\"node\"><title>4</title>\n",
       "<polygon fill=\"none\" stroke=\"black\" points=\"113,-149.5 0,-149.5 0,-96.5 113,-96.5 113,-149.5\"/>\n",
       "<text text-anchor=\"middle\" x=\"56.5\" y=\"-134.3\" font-family=\"Times,serif\" font-size=\"14.00\">gini = 0.0</text>\n",
       "<text text-anchor=\"middle\" x=\"56.5\" y=\"-119.3\" font-family=\"Times,serif\" font-size=\"14.00\">samples = 29</text>\n",
       "<text text-anchor=\"middle\" x=\"56.5\" y=\"-104.3\" font-family=\"Times,serif\" font-size=\"14.00\">value = [0, 29, 0]</text>\n",
       "</g>\n",
       "<!-- 3&#45;&gt;4 -->\n",
       "<g id=\"edge4\" class=\"edge\"><title>3&#45;&gt;4</title>\n",
       "<path fill=\"none\" stroke=\"black\" d=\"M140.916,-192.884C126.36,-181.006 109.988,-167.646 95.5637,-155.876\"/>\n",
       "<polygon fill=\"black\" stroke=\"black\" points=\"97.7351,-153.13 87.7744,-149.52 93.3095,-158.554 97.7351,-153.13\"/>\n",
       "</g>\n",
       "<!-- 5 -->\n",
       "<g id=\"node6\" class=\"node\"><title>5</title>\n",
       "<polygon fill=\"none\" stroke=\"black\" points=\"237.5,-157 131.5,-157 131.5,-89 237.5,-89 237.5,-157\"/>\n",
       "<text text-anchor=\"middle\" x=\"184.5\" y=\"-141.8\" font-family=\"Times,serif\" font-size=\"14.00\">X[0] &lt;= 6.05</text>\n",
       "<text text-anchor=\"middle\" x=\"184.5\" y=\"-126.8\" font-family=\"Times,serif\" font-size=\"14.00\">gini = 0.375</text>\n",
       "<text text-anchor=\"middle\" x=\"184.5\" y=\"-111.8\" font-family=\"Times,serif\" font-size=\"14.00\">samples = 4</text>\n",
       "<text text-anchor=\"middle\" x=\"184.5\" y=\"-96.8\" font-family=\"Times,serif\" font-size=\"14.00\">value = [0, 1, 3]</text>\n",
       "</g>\n",
       "<!-- 3&#45;&gt;5 -->\n",
       "<g id=\"edge5\" class=\"edge\"><title>3&#45;&gt;5</title>\n",
       "<path fill=\"none\" stroke=\"black\" d=\"M182.474,-192.884C182.712,-184.778 182.971,-175.982 183.221,-167.472\"/>\n",
       "<polygon fill=\"black\" stroke=\"black\" points=\"186.725,-167.398 183.521,-157.299 179.728,-167.192 186.725,-167.398\"/>\n",
       "</g>\n",
       "<!-- 6 -->\n",
       "<g id=\"node7\" class=\"node\"><title>6</title>\n",
       "<polygon fill=\"none\" stroke=\"black\" points=\"113.5,-53 7.5,-53 7.5,-0 113.5,-0 113.5,-53\"/>\n",
       "<text text-anchor=\"middle\" x=\"60.5\" y=\"-37.8\" font-family=\"Times,serif\" font-size=\"14.00\">gini = 0.0</text>\n",
       "<text text-anchor=\"middle\" x=\"60.5\" y=\"-22.8\" font-family=\"Times,serif\" font-size=\"14.00\">samples = 1</text>\n",
       "<text text-anchor=\"middle\" x=\"60.5\" y=\"-7.8\" font-family=\"Times,serif\" font-size=\"14.00\">value = [0, 1, 0]</text>\n",
       "</g>\n",
       "<!-- 5&#45;&gt;6 -->\n",
       "<g id=\"edge6\" class=\"edge\"><title>5&#45;&gt;6</title>\n",
       "<path fill=\"none\" stroke=\"black\" d=\"M141.131,-88.9485C128.527,-79.3431 114.791,-68.8747 102.286,-59.345\"/>\n",
       "<polygon fill=\"black\" stroke=\"black\" points=\"104.346,-56.5144 94.2709,-53.2367 100.103,-62.0819 104.346,-56.5144\"/>\n",
       "</g>\n",
       "<!-- 7 -->\n",
       "<g id=\"node8\" class=\"node\"><title>7</title>\n",
       "<polygon fill=\"none\" stroke=\"black\" points=\"237.5,-53 131.5,-53 131.5,-0 237.5,-0 237.5,-53\"/>\n",
       "<text text-anchor=\"middle\" x=\"184.5\" y=\"-37.8\" font-family=\"Times,serif\" font-size=\"14.00\">gini = 0.0</text>\n",
       "<text text-anchor=\"middle\" x=\"184.5\" y=\"-22.8\" font-family=\"Times,serif\" font-size=\"14.00\">samples = 3</text>\n",
       "<text text-anchor=\"middle\" x=\"184.5\" y=\"-7.8\" font-family=\"Times,serif\" font-size=\"14.00\">value = [0, 0, 3]</text>\n",
       "</g>\n",
       "<!-- 5&#45;&gt;7 -->\n",
       "<g id=\"edge7\" class=\"edge\"><title>5&#45;&gt;7</title>\n",
       "<path fill=\"none\" stroke=\"black\" d=\"M184.5,-88.9485C184.5,-80.7153 184.5,-71.848 184.5,-63.4814\"/>\n",
       "<polygon fill=\"black\" stroke=\"black\" points=\"188,-63.2367 184.5,-53.2367 181,-63.2367 188,-63.2367\"/>\n",
       "</g>\n",
       "<!-- 9 -->\n",
       "<g id=\"node10\" class=\"node\"><title>9</title>\n",
       "<polygon fill=\"none\" stroke=\"black\" points=\"363.5,-157 257.5,-157 257.5,-89 363.5,-89 363.5,-157\"/>\n",
       "<text text-anchor=\"middle\" x=\"310.5\" y=\"-141.8\" font-family=\"Times,serif\" font-size=\"14.00\">X[1] &lt;= 3.1</text>\n",
       "<text text-anchor=\"middle\" x=\"310.5\" y=\"-126.8\" font-family=\"Times,serif\" font-size=\"14.00\">gini = 0.375</text>\n",
       "<text text-anchor=\"middle\" x=\"310.5\" y=\"-111.8\" font-family=\"Times,serif\" font-size=\"14.00\">samples = 4</text>\n",
       "<text text-anchor=\"middle\" x=\"310.5\" y=\"-96.8\" font-family=\"Times,serif\" font-size=\"14.00\">value = [0, 1, 3]</text>\n",
       "</g>\n",
       "<!-- 8&#45;&gt;9 -->\n",
       "<g id=\"edge9\" class=\"edge\"><title>8&#45;&gt;9</title>\n",
       "<path fill=\"none\" stroke=\"black\" d=\"M311.851,-192.884C311.692,-184.778 311.519,-175.982 311.352,-167.472\"/>\n",
       "<polygon fill=\"black\" stroke=\"black\" points=\"314.848,-167.229 311.153,-157.299 307.85,-167.366 314.848,-167.229\"/>\n",
       "</g>\n",
       "<!-- 12 -->\n",
       "<g id=\"node13\" class=\"node\"><title>12</title>\n",
       "<polygon fill=\"none\" stroke=\"black\" points=\"495,-149.5 382,-149.5 382,-96.5 495,-96.5 495,-149.5\"/>\n",
       "<text text-anchor=\"middle\" x=\"438.5\" y=\"-134.3\" font-family=\"Times,serif\" font-size=\"14.00\">gini = 0.0</text>\n",
       "<text text-anchor=\"middle\" x=\"438.5\" y=\"-119.3\" font-family=\"Times,serif\" font-size=\"14.00\">samples = 30</text>\n",
       "<text text-anchor=\"middle\" x=\"438.5\" y=\"-104.3\" font-family=\"Times,serif\" font-size=\"14.00\">value = [0, 0, 30]</text>\n",
       "</g>\n",
       "<!-- 8&#45;&gt;12 -->\n",
       "<g id=\"edge12\" class=\"edge\"><title>8&#45;&gt;12</title>\n",
       "<path fill=\"none\" stroke=\"black\" d=\"M353.409,-192.884C368.081,-181.006 384.584,-167.646 399.124,-155.876\"/>\n",
       "<polygon fill=\"black\" stroke=\"black\" points=\"401.405,-158.532 406.975,-149.52 397.001,-153.092 401.405,-158.532\"/>\n",
       "</g>\n",
       "<!-- 10 -->\n",
       "<g id=\"node11\" class=\"node\"><title>10</title>\n",
       "<polygon fill=\"none\" stroke=\"black\" points=\"362.5,-53 256.5,-53 256.5,-0 362.5,-0 362.5,-53\"/>\n",
       "<text text-anchor=\"middle\" x=\"309.5\" y=\"-37.8\" font-family=\"Times,serif\" font-size=\"14.00\">gini = 0.0</text>\n",
       "<text text-anchor=\"middle\" x=\"309.5\" y=\"-22.8\" font-family=\"Times,serif\" font-size=\"14.00\">samples = 3</text>\n",
       "<text text-anchor=\"middle\" x=\"309.5\" y=\"-7.8\" font-family=\"Times,serif\" font-size=\"14.00\">value = [0, 0, 3]</text>\n",
       "</g>\n",
       "<!-- 9&#45;&gt;10 -->\n",
       "<g id=\"edge10\" class=\"edge\"><title>9&#45;&gt;10</title>\n",
       "<path fill=\"none\" stroke=\"black\" d=\"M310.15,-88.9485C310.063,-80.7153 309.969,-71.848 309.881,-63.4814\"/>\n",
       "<polygon fill=\"black\" stroke=\"black\" points=\"313.378,-63.1991 309.772,-53.2367 306.378,-63.2732 313.378,-63.1991\"/>\n",
       "</g>\n",
       "<!-- 11 -->\n",
       "<g id=\"node12\" class=\"node\"><title>11</title>\n",
       "<polygon fill=\"none\" stroke=\"black\" points=\"486.5,-53 380.5,-53 380.5,-0 486.5,-0 486.5,-53\"/>\n",
       "<text text-anchor=\"middle\" x=\"433.5\" y=\"-37.8\" font-family=\"Times,serif\" font-size=\"14.00\">gini = 0.0</text>\n",
       "<text text-anchor=\"middle\" x=\"433.5\" y=\"-22.8\" font-family=\"Times,serif\" font-size=\"14.00\">samples = 1</text>\n",
       "<text text-anchor=\"middle\" x=\"433.5\" y=\"-7.8\" font-family=\"Times,serif\" font-size=\"14.00\">value = [0, 1, 0]</text>\n",
       "</g>\n",
       "<!-- 9&#45;&gt;11 -->\n",
       "<g id=\"edge11\" class=\"edge\"><title>9&#45;&gt;11</title>\n",
       "<path fill=\"none\" stroke=\"black\" d=\"M353.519,-88.9485C366.022,-79.3431 379.647,-68.8747 392.051,-59.345\"/>\n",
       "<polygon fill=\"black\" stroke=\"black\" points=\"394.204,-62.1046 400.001,-53.2367 389.939,-56.5537 394.204,-62.1046\"/>\n",
       "</g>\n",
       "</g>\n",
       "</svg>\n"
      ],
      "text/plain": [
       "<graphviz.files.Source at 0x7f2babb960f0>"
      ]
     },
     "execution_count": 7,
     "metadata": {},
     "output_type": "execute_result"
    }
   ],
   "source": [
    "graph"
   ]
  },
  {
   "cell_type": "markdown",
   "metadata": {},
   "source": [
    "*wersja kolorowa* "
   ]
  },
  {
   "cell_type": "code",
   "execution_count": 11,
   "metadata": {
    "colab": {
     "base_uri": "https://localhost:8080/",
     "height": 757
    },
    "colab_type": "code",
    "id": "7AeTxVdCLmR4",
    "outputId": "46ae1afa-e825-43b6-8871-ad6de95e73bf"
   },
   "outputs": [
    {
     "data": {
      "image/svg+xml": [
       "<?xml version=\"1.0\" encoding=\"UTF-8\" standalone=\"no\"?>\n",
       "<!DOCTYPE svg PUBLIC \"-//W3C//DTD SVG 1.1//EN\"\n",
       " \"http://www.w3.org/Graphics/SVG/1.1/DTD/svg11.dtd\">\n",
       "<!-- Generated by graphviz version 2.38.0 (20140413.2041)\n",
       " -->\n",
       "<!-- Title: Tree Pages: 1 -->\n",
       "<svg width=\"614pt\" height=\"552pt\"\n",
       " viewBox=\"0.00 0.00 614.00 552.00\" xmlns=\"http://www.w3.org/2000/svg\" xmlns:xlink=\"http://www.w3.org/1999/xlink\">\n",
       "<g id=\"graph0\" class=\"graph\" transform=\"scale(1 1) rotate(0) translate(4 548)\">\n",
       "<title>Tree</title>\n",
       "<polygon fill=\"white\" stroke=\"none\" points=\"-4,4 -4,-548 610,-548 610,4 -4,4\"/>\n",
       "<!-- 0 -->\n",
       "<g id=\"node1\" class=\"node\"><title>0</title>\n",
       "<path fill=\"#8139e5\" fill-opacity=\"0.043137\" stroke=\"black\" d=\"M292,-544C292,-544 169,-544 169,-544 163,-544 157,-538 157,-532 157,-532 157,-473 157,-473 157,-467 163,-461 169,-461 169,-461 292,-461 292,-461 298,-461 304,-467 304,-473 304,-473 304,-532 304,-532 304,-538 298,-544 292,-544\"/>\n",
       "<text text-anchor=\"start\" x=\"165\" y=\"-528.8\" font-family=\"Helvetica,sans-Serif\" font-size=\"14.00\">petal width (cm) ≤ 0.8</text>\n",
       "<text text-anchor=\"start\" x=\"195\" y=\"-513.8\" font-family=\"Helvetica,sans-Serif\" font-size=\"14.00\">gini = 0.665</text>\n",
       "<text text-anchor=\"start\" x=\"185.5\" y=\"-498.8\" font-family=\"Helvetica,sans-Serif\" font-size=\"14.00\">samples = 100</text>\n",
       "<text text-anchor=\"start\" x=\"172.5\" y=\"-483.8\" font-family=\"Helvetica,sans-Serif\" font-size=\"14.00\">value = [33, 31, 36]</text>\n",
       "<text text-anchor=\"start\" x=\"182\" y=\"-468.8\" font-family=\"Helvetica,sans-Serif\" font-size=\"14.00\">class = virginica</text>\n",
       "</g>\n",
       "<!-- 1 -->\n",
       "<g id=\"node2\" class=\"node\"><title>1</title>\n",
       "<path fill=\"#e58139\" stroke=\"black\" d=\"M200,-417.5C200,-417.5 107,-417.5 107,-417.5 101,-417.5 95,-411.5 95,-405.5 95,-405.5 95,-361.5 95,-361.5 95,-355.5 101,-349.5 107,-349.5 107,-349.5 200,-349.5 200,-349.5 206,-349.5 212,-355.5 212,-361.5 212,-361.5 212,-405.5 212,-405.5 212,-411.5 206,-417.5 200,-417.5\"/>\n",
       "<text text-anchor=\"start\" x=\"125.5\" y=\"-402.3\" font-family=\"Helvetica,sans-Serif\" font-size=\"14.00\">gini = 0.0</text>\n",
       "<text text-anchor=\"start\" x=\"112.5\" y=\"-387.3\" font-family=\"Helvetica,sans-Serif\" font-size=\"14.00\">samples = 33</text>\n",
       "<text text-anchor=\"start\" x=\"103\" y=\"-372.3\" font-family=\"Helvetica,sans-Serif\" font-size=\"14.00\">value = [33, 0, 0]</text>\n",
       "<text text-anchor=\"start\" x=\"110\" y=\"-357.3\" font-family=\"Helvetica,sans-Serif\" font-size=\"14.00\">class = setosa</text>\n",
       "</g>\n",
       "<!-- 0&#45;&gt;1 -->\n",
       "<g id=\"edge1\" class=\"edge\"><title>0&#45;&gt;1</title>\n",
       "<path fill=\"none\" stroke=\"black\" d=\"M203.785,-460.907C196.378,-449.652 188.327,-437.418 180.882,-426.106\"/>\n",
       "<polygon fill=\"black\" stroke=\"black\" points=\"183.749,-424.096 175.328,-417.667 177.902,-427.944 183.749,-424.096\"/>\n",
       "<text text-anchor=\"middle\" x=\"170.279\" y=\"-438.452\" font-family=\"Helvetica,sans-Serif\" font-size=\"14.00\">True</text>\n",
       "</g>\n",
       "<!-- 2 -->\n",
       "<g id=\"node3\" class=\"node\"><title>2</title>\n",
       "<path fill=\"#8139e5\" fill-opacity=\"0.137255\" stroke=\"black\" d=\"M373,-425C373,-425 242,-425 242,-425 236,-425 230,-419 230,-413 230,-413 230,-354 230,-354 230,-348 236,-342 242,-342 242,-342 373,-342 373,-342 379,-342 385,-348 385,-354 385,-354 385,-413 385,-413 385,-419 379,-425 373,-425\"/>\n",
       "<text text-anchor=\"start\" x=\"238\" y=\"-409.8\" font-family=\"Helvetica,sans-Serif\" font-size=\"14.00\">petal width (cm) ≤ 1.65</text>\n",
       "<text text-anchor=\"start\" x=\"272\" y=\"-394.8\" font-family=\"Helvetica,sans-Serif\" font-size=\"14.00\">gini = 0.497</text>\n",
       "<text text-anchor=\"start\" x=\"266.5\" y=\"-379.8\" font-family=\"Helvetica,sans-Serif\" font-size=\"14.00\">samples = 67</text>\n",
       "<text text-anchor=\"start\" x=\"253\" y=\"-364.8\" font-family=\"Helvetica,sans-Serif\" font-size=\"14.00\">value = [0, 31, 36]</text>\n",
       "<text text-anchor=\"start\" x=\"259\" y=\"-349.8\" font-family=\"Helvetica,sans-Serif\" font-size=\"14.00\">class = virginica</text>\n",
       "</g>\n",
       "<!-- 0&#45;&gt;2 -->\n",
       "<g id=\"edge2\" class=\"edge\"><title>0&#45;&gt;2</title>\n",
       "<path fill=\"none\" stroke=\"black\" d=\"M257.215,-460.907C263.008,-452.105 269.195,-442.703 275.178,-433.612\"/>\n",
       "<polygon fill=\"black\" stroke=\"black\" points=\"278.259,-435.298 280.832,-425.021 272.411,-431.45 278.259,-435.298\"/>\n",
       "<text text-anchor=\"middle\" x=\"285.881\" y=\"-445.806\" font-family=\"Helvetica,sans-Serif\" font-size=\"14.00\">False</text>\n",
       "</g>\n",
       "<!-- 3 -->\n",
       "<g id=\"node4\" class=\"node\"><title>3</title>\n",
       "<path fill=\"#39e581\" fill-opacity=\"0.901961\" stroke=\"black\" d=\"M284.5,-306C284.5,-306 156.5,-306 156.5,-306 150.5,-306 144.5,-300 144.5,-294 144.5,-294 144.5,-235 144.5,-235 144.5,-229 150.5,-223 156.5,-223 156.5,-223 284.5,-223 284.5,-223 290.5,-223 296.5,-229 296.5,-235 296.5,-235 296.5,-294 296.5,-294 296.5,-300 290.5,-306 284.5,-306\"/>\n",
       "<text text-anchor=\"start\" x=\"152.5\" y=\"-290.8\" font-family=\"Helvetica,sans-Serif\" font-size=\"14.00\">petal length (cm) ≤ 5.0</text>\n",
       "<text text-anchor=\"start\" x=\"185\" y=\"-275.8\" font-family=\"Helvetica,sans-Serif\" font-size=\"14.00\">gini = 0.165</text>\n",
       "<text text-anchor=\"start\" x=\"179.5\" y=\"-260.8\" font-family=\"Helvetica,sans-Serif\" font-size=\"14.00\">samples = 33</text>\n",
       "<text text-anchor=\"start\" x=\"170\" y=\"-245.8\" font-family=\"Helvetica,sans-Serif\" font-size=\"14.00\">value = [0, 30, 3]</text>\n",
       "<text text-anchor=\"start\" x=\"168\" y=\"-230.8\" font-family=\"Helvetica,sans-Serif\" font-size=\"14.00\">class = versicolor</text>\n",
       "</g>\n",
       "<!-- 2&#45;&gt;3 -->\n",
       "<g id=\"edge3\" class=\"edge\"><title>2&#45;&gt;3</title>\n",
       "<path fill=\"none\" stroke=\"black\" d=\"M277.316,-341.907C270.635,-332.923 263.491,-323.315 256.601,-314.05\"/>\n",
       "<polygon fill=\"black\" stroke=\"black\" points=\"259.407,-311.957 250.631,-306.021 253.789,-316.134 259.407,-311.957\"/>\n",
       "</g>\n",
       "<!-- 8 -->\n",
       "<g id=\"node9\" class=\"node\"><title>8</title>\n",
       "<path fill=\"#8139e5\" fill-opacity=\"0.968627\" stroke=\"black\" d=\"M463.5,-306C463.5,-306 327.5,-306 327.5,-306 321.5,-306 315.5,-300 315.5,-294 315.5,-294 315.5,-235 315.5,-235 315.5,-229 321.5,-223 327.5,-223 327.5,-223 463.5,-223 463.5,-223 469.5,-223 475.5,-229 475.5,-235 475.5,-235 475.5,-294 475.5,-294 475.5,-300 469.5,-306 463.5,-306\"/>\n",
       "<text text-anchor=\"start\" x=\"323.5\" y=\"-290.8\" font-family=\"Helvetica,sans-Serif\" font-size=\"14.00\">petal length (cm) ≤ 4.85</text>\n",
       "<text text-anchor=\"start\" x=\"360\" y=\"-275.8\" font-family=\"Helvetica,sans-Serif\" font-size=\"14.00\">gini = 0.057</text>\n",
       "<text text-anchor=\"start\" x=\"354.5\" y=\"-260.8\" font-family=\"Helvetica,sans-Serif\" font-size=\"14.00\">samples = 34</text>\n",
       "<text text-anchor=\"start\" x=\"345\" y=\"-245.8\" font-family=\"Helvetica,sans-Serif\" font-size=\"14.00\">value = [0, 1, 33]</text>\n",
       "<text text-anchor=\"start\" x=\"347\" y=\"-230.8\" font-family=\"Helvetica,sans-Serif\" font-size=\"14.00\">class = virginica</text>\n",
       "</g>\n",
       "<!-- 2&#45;&gt;8 -->\n",
       "<g id=\"edge8\" class=\"edge\"><title>2&#45;&gt;8</title>\n",
       "<path fill=\"none\" stroke=\"black\" d=\"M338.031,-341.907C344.789,-332.923 352.015,-323.315 358.984,-314.05\"/>\n",
       "<polygon fill=\"black\" stroke=\"black\" points=\"361.809,-316.116 365.023,-306.021 356.215,-311.909 361.809,-316.116\"/>\n",
       "</g>\n",
       "<!-- 4 -->\n",
       "<g id=\"node5\" class=\"node\"><title>4</title>\n",
       "<path fill=\"#39e581\" stroke=\"black\" d=\"M109,-179.5C109,-179.5 12,-179.5 12,-179.5 6,-179.5 7.10543e-15,-173.5 7.10543e-15,-167.5 7.10543e-15,-167.5 7.10543e-15,-123.5 7.10543e-15,-123.5 7.10543e-15,-117.5 6,-111.5 12,-111.5 12,-111.5 109,-111.5 109,-111.5 115,-111.5 121,-117.5 121,-123.5 121,-123.5 121,-167.5 121,-167.5 121,-173.5 115,-179.5 109,-179.5\"/>\n",
       "<text text-anchor=\"start\" x=\"32.5\" y=\"-164.3\" font-family=\"Helvetica,sans-Serif\" font-size=\"14.00\">gini = 0.0</text>\n",
       "<text text-anchor=\"start\" x=\"19.5\" y=\"-149.3\" font-family=\"Helvetica,sans-Serif\" font-size=\"14.00\">samples = 29</text>\n",
       "<text text-anchor=\"start\" x=\"10\" y=\"-134.3\" font-family=\"Helvetica,sans-Serif\" font-size=\"14.00\">value = [0, 29, 0]</text>\n",
       "<text text-anchor=\"start\" x=\"8\" y=\"-119.3\" font-family=\"Helvetica,sans-Serif\" font-size=\"14.00\">class = versicolor</text>\n",
       "</g>\n",
       "<!-- 3&#45;&gt;4 -->\n",
       "<g id=\"edge4\" class=\"edge\"><title>3&#45;&gt;4</title>\n",
       "<path fill=\"none\" stroke=\"black\" d=\"M164.989,-222.907C148.541,-210.88 130.564,-197.735 114.231,-185.791\"/>\n",
       "<polygon fill=\"black\" stroke=\"black\" points=\"115.995,-182.744 105.856,-179.667 111.863,-188.395 115.995,-182.744\"/>\n",
       "</g>\n",
       "<!-- 5 -->\n",
       "<g id=\"node6\" class=\"node\"><title>5</title>\n",
       "<path fill=\"#8139e5\" fill-opacity=\"0.666667\" stroke=\"black\" d=\"M290,-187C290,-187 151,-187 151,-187 145,-187 139,-181 139,-175 139,-175 139,-116 139,-116 139,-110 145,-104 151,-104 151,-104 290,-104 290,-104 296,-104 302,-110 302,-116 302,-116 302,-175 302,-175 302,-181 296,-187 290,-187\"/>\n",
       "<text text-anchor=\"start\" x=\"147\" y=\"-171.8\" font-family=\"Helvetica,sans-Serif\" font-size=\"14.00\">sepal length (cm) ≤ 6.05</text>\n",
       "<text text-anchor=\"start\" x=\"185\" y=\"-156.8\" font-family=\"Helvetica,sans-Serif\" font-size=\"14.00\">gini = 0.375</text>\n",
       "<text text-anchor=\"start\" x=\"183\" y=\"-141.8\" font-family=\"Helvetica,sans-Serif\" font-size=\"14.00\">samples = 4</text>\n",
       "<text text-anchor=\"start\" x=\"173.5\" y=\"-126.8\" font-family=\"Helvetica,sans-Serif\" font-size=\"14.00\">value = [0, 1, 3]</text>\n",
       "<text text-anchor=\"start\" x=\"172\" y=\"-111.8\" font-family=\"Helvetica,sans-Serif\" font-size=\"14.00\">class = virginica</text>\n",
       "</g>\n",
       "<!-- 3&#45;&gt;5 -->\n",
       "<g id=\"edge5\" class=\"edge\"><title>3&#45;&gt;5</title>\n",
       "<path fill=\"none\" stroke=\"black\" d=\"M220.5,-222.907C220.5,-214.649 220.5,-205.864 220.5,-197.302\"/>\n",
       "<polygon fill=\"black\" stroke=\"black\" points=\"224,-197.021 220.5,-187.021 217,-197.021 224,-197.021\"/>\n",
       "</g>\n",
       "<!-- 6 -->\n",
       "<g id=\"node7\" class=\"node\"><title>6</title>\n",
       "<path fill=\"#39e581\" stroke=\"black\" d=\"M145,-68C145,-68 48,-68 48,-68 42,-68 36,-62 36,-56 36,-56 36,-12 36,-12 36,-6 42,-0 48,-0 48,-0 145,-0 145,-0 151,-0 157,-6 157,-12 157,-12 157,-56 157,-56 157,-62 151,-68 145,-68\"/>\n",
       "<text text-anchor=\"start\" x=\"68.5\" y=\"-52.8\" font-family=\"Helvetica,sans-Serif\" font-size=\"14.00\">gini = 0.0</text>\n",
       "<text text-anchor=\"start\" x=\"59\" y=\"-37.8\" font-family=\"Helvetica,sans-Serif\" font-size=\"14.00\">samples = 1</text>\n",
       "<text text-anchor=\"start\" x=\"49.5\" y=\"-22.8\" font-family=\"Helvetica,sans-Serif\" font-size=\"14.00\">value = [0, 1, 0]</text>\n",
       "<text text-anchor=\"start\" x=\"44\" y=\"-7.8\" font-family=\"Helvetica,sans-Serif\" font-size=\"14.00\">class = versicolor</text>\n",
       "</g>\n",
       "<!-- 5&#45;&gt;6 -->\n",
       "<g id=\"edge6\" class=\"edge\"><title>5&#45;&gt;6</title>\n",
       "<path fill=\"none\" stroke=\"black\" d=\"M174.327,-103.726C163.689,-94.3318 152.384,-84.349 141.784,-74.9883\"/>\n",
       "<polygon fill=\"black\" stroke=\"black\" points=\"144.022,-72.2953 134.209,-68.2996 139.388,-77.5424 144.022,-72.2953\"/>\n",
       "</g>\n",
       "<!-- 7 -->\n",
       "<g id=\"node8\" class=\"node\"><title>7</title>\n",
       "<path fill=\"#8139e5\" stroke=\"black\" d=\"M276,-68C276,-68 187,-68 187,-68 181,-68 175,-62 175,-56 175,-56 175,-12 175,-12 175,-6 181,-0 187,-0 187,-0 276,-0 276,-0 282,-0 288,-6 288,-12 288,-12 288,-56 288,-56 288,-62 282,-68 276,-68\"/>\n",
       "<text text-anchor=\"start\" x=\"203.5\" y=\"-52.8\" font-family=\"Helvetica,sans-Serif\" font-size=\"14.00\">gini = 0.0</text>\n",
       "<text text-anchor=\"start\" x=\"194\" y=\"-37.8\" font-family=\"Helvetica,sans-Serif\" font-size=\"14.00\">samples = 3</text>\n",
       "<text text-anchor=\"start\" x=\"184.5\" y=\"-22.8\" font-family=\"Helvetica,sans-Serif\" font-size=\"14.00\">value = [0, 0, 3]</text>\n",
       "<text text-anchor=\"start\" x=\"183\" y=\"-7.8\" font-family=\"Helvetica,sans-Serif\" font-size=\"14.00\">class = virginica</text>\n",
       "</g>\n",
       "<!-- 5&#45;&gt;7 -->\n",
       "<g id=\"edge7\" class=\"edge\"><title>5&#45;&gt;7</title>\n",
       "<path fill=\"none\" stroke=\"black\" d=\"M224.596,-103.726C225.43,-95.4263 226.31,-86.6671 227.152,-78.2834\"/>\n",
       "<polygon fill=\"black\" stroke=\"black\" points=\"230.638,-78.5994 228.155,-68.2996 223.673,-77.8997 230.638,-78.5994\"/>\n",
       "</g>\n",
       "<!-- 9 -->\n",
       "<g id=\"node10\" class=\"node\"><title>9</title>\n",
       "<path fill=\"#8139e5\" fill-opacity=\"0.666667\" stroke=\"black\" d=\"M458.5,-187C458.5,-187 332.5,-187 332.5,-187 326.5,-187 320.5,-181 320.5,-175 320.5,-175 320.5,-116 320.5,-116 320.5,-110 326.5,-104 332.5,-104 332.5,-104 458.5,-104 458.5,-104 464.5,-104 470.5,-110 470.5,-116 470.5,-116 470.5,-175 470.5,-175 470.5,-181 464.5,-187 458.5,-187\"/>\n",
       "<text text-anchor=\"start\" x=\"328.5\" y=\"-171.8\" font-family=\"Helvetica,sans-Serif\" font-size=\"14.00\">sepal width (cm) ≤ 3.1</text>\n",
       "<text text-anchor=\"start\" x=\"360\" y=\"-156.8\" font-family=\"Helvetica,sans-Serif\" font-size=\"14.00\">gini = 0.375</text>\n",
       "<text text-anchor=\"start\" x=\"358\" y=\"-141.8\" font-family=\"Helvetica,sans-Serif\" font-size=\"14.00\">samples = 4</text>\n",
       "<text text-anchor=\"start\" x=\"348.5\" y=\"-126.8\" font-family=\"Helvetica,sans-Serif\" font-size=\"14.00\">value = [0, 1, 3]</text>\n",
       "<text text-anchor=\"start\" x=\"347\" y=\"-111.8\" font-family=\"Helvetica,sans-Serif\" font-size=\"14.00\">class = virginica</text>\n",
       "</g>\n",
       "<!-- 8&#45;&gt;9 -->\n",
       "<g id=\"edge9\" class=\"edge\"><title>8&#45;&gt;9</title>\n",
       "<path fill=\"none\" stroke=\"black\" d=\"M395.5,-222.907C395.5,-214.649 395.5,-205.864 395.5,-197.302\"/>\n",
       "<polygon fill=\"black\" stroke=\"black\" points=\"399,-197.021 395.5,-187.021 392,-197.021 399,-197.021\"/>\n",
       "</g>\n",
       "<!-- 12 -->\n",
       "<g id=\"node13\" class=\"node\"><title>12</title>\n",
       "<path fill=\"#8139e5\" stroke=\"black\" d=\"M594,-179.5C594,-179.5 501,-179.5 501,-179.5 495,-179.5 489,-173.5 489,-167.5 489,-167.5 489,-123.5 489,-123.5 489,-117.5 495,-111.5 501,-111.5 501,-111.5 594,-111.5 594,-111.5 600,-111.5 606,-117.5 606,-123.5 606,-123.5 606,-167.5 606,-167.5 606,-173.5 600,-179.5 594,-179.5\"/>\n",
       "<text text-anchor=\"start\" x=\"519.5\" y=\"-164.3\" font-family=\"Helvetica,sans-Serif\" font-size=\"14.00\">gini = 0.0</text>\n",
       "<text text-anchor=\"start\" x=\"506.5\" y=\"-149.3\" font-family=\"Helvetica,sans-Serif\" font-size=\"14.00\">samples = 30</text>\n",
       "<text text-anchor=\"start\" x=\"497\" y=\"-134.3\" font-family=\"Helvetica,sans-Serif\" font-size=\"14.00\">value = [0, 0, 30]</text>\n",
       "<text text-anchor=\"start\" x=\"499\" y=\"-119.3\" font-family=\"Helvetica,sans-Serif\" font-size=\"14.00\">class = virginica</text>\n",
       "</g>\n",
       "<!-- 8&#45;&gt;12 -->\n",
       "<g id=\"edge12\" class=\"edge\"><title>8&#45;&gt;12</title>\n",
       "<path fill=\"none\" stroke=\"black\" d=\"M448.236,-222.907C463.861,-210.88 480.939,-197.735 496.455,-185.791\"/>\n",
       "<polygon fill=\"black\" stroke=\"black\" points=\"498.622,-188.54 504.411,-179.667 494.352,-182.993 498.622,-188.54\"/>\n",
       "</g>\n",
       "<!-- 10 -->\n",
       "<g id=\"node11\" class=\"node\"><title>10</title>\n",
       "<path fill=\"#8139e5\" stroke=\"black\" d=\"M429,-68C429,-68 340,-68 340,-68 334,-68 328,-62 328,-56 328,-56 328,-12 328,-12 328,-6 334,-0 340,-0 340,-0 429,-0 429,-0 435,-0 441,-6 441,-12 441,-12 441,-56 441,-56 441,-62 435,-68 429,-68\"/>\n",
       "<text text-anchor=\"start\" x=\"356.5\" y=\"-52.8\" font-family=\"Helvetica,sans-Serif\" font-size=\"14.00\">gini = 0.0</text>\n",
       "<text text-anchor=\"start\" x=\"347\" y=\"-37.8\" font-family=\"Helvetica,sans-Serif\" font-size=\"14.00\">samples = 3</text>\n",
       "<text text-anchor=\"start\" x=\"337.5\" y=\"-22.8\" font-family=\"Helvetica,sans-Serif\" font-size=\"14.00\">value = [0, 0, 3]</text>\n",
       "<text text-anchor=\"start\" x=\"336\" y=\"-7.8\" font-family=\"Helvetica,sans-Serif\" font-size=\"14.00\">class = virginica</text>\n",
       "</g>\n",
       "<!-- 9&#45;&gt;10 -->\n",
       "<g id=\"edge10\" class=\"edge\"><title>9&#45;&gt;10</title>\n",
       "<path fill=\"none\" stroke=\"black\" d=\"M391.404,-103.726C390.57,-95.4263 389.69,-86.6671 388.848,-78.2834\"/>\n",
       "<polygon fill=\"black\" stroke=\"black\" points=\"392.327,-77.8997 387.845,-68.2996 385.362,-78.5994 392.327,-77.8997\"/>\n",
       "</g>\n",
       "<!-- 11 -->\n",
       "<g id=\"node12\" class=\"node\"><title>11</title>\n",
       "<path fill=\"#39e581\" stroke=\"black\" d=\"M568,-68C568,-68 471,-68 471,-68 465,-68 459,-62 459,-56 459,-56 459,-12 459,-12 459,-6 465,-0 471,-0 471,-0 568,-0 568,-0 574,-0 580,-6 580,-12 580,-12 580,-56 580,-56 580,-62 574,-68 568,-68\"/>\n",
       "<text text-anchor=\"start\" x=\"491.5\" y=\"-52.8\" font-family=\"Helvetica,sans-Serif\" font-size=\"14.00\">gini = 0.0</text>\n",
       "<text text-anchor=\"start\" x=\"482\" y=\"-37.8\" font-family=\"Helvetica,sans-Serif\" font-size=\"14.00\">samples = 1</text>\n",
       "<text text-anchor=\"start\" x=\"472.5\" y=\"-22.8\" font-family=\"Helvetica,sans-Serif\" font-size=\"14.00\">value = [0, 1, 0]</text>\n",
       "<text text-anchor=\"start\" x=\"467\" y=\"-7.8\" font-family=\"Helvetica,sans-Serif\" font-size=\"14.00\">class = versicolor</text>\n",
       "</g>\n",
       "<!-- 9&#45;&gt;11 -->\n",
       "<g id=\"edge11\" class=\"edge\"><title>9&#45;&gt;11</title>\n",
       "<path fill=\"none\" stroke=\"black\" d=\"M441.673,-103.726C452.311,-94.3318 463.616,-84.349 474.216,-74.9883\"/>\n",
       "<polygon fill=\"black\" stroke=\"black\" points=\"476.612,-77.5424 481.791,-68.2996 471.978,-72.2953 476.612,-77.5424\"/>\n",
       "</g>\n",
       "</g>\n",
       "</svg>\n"
      ],
      "text/plain": [
       "<graphviz.files.Source at 0x7f2babb545c0>"
      ]
     },
     "execution_count": 11,
     "metadata": {},
     "output_type": "execute_result"
    }
   ],
   "source": [
    "dot_data = export_graphviz(clf, out_file=None, \n",
    "                         feature_names=iris.feature_names,  \n",
    "                         class_names=iris.target_names,  \n",
    "                         filled=True, rounded=True,  \n",
    "                         special_characters=True)  \n",
    "graph = graphviz.Source(dot_data)  \n",
    "graph"
   ]
  },
  {
   "cell_type": "markdown",
   "metadata": {},
   "source": [
    "Do jakiej klasy został przypożądkowany irys z zestawu testowego X_test[10]. Podaj nazwę."
   ]
  },
  {
   "cell_type": "code",
   "execution_count": 16,
   "metadata": {},
   "outputs": [
    {
     "data": {
      "text/plain": [
       "'versicolor'"
      ]
     },
     "execution_count": 16,
     "metadata": {},
     "output_type": "execute_result"
    }
   ],
   "source": [
    "iris.target_names[clf.predict([X_test[10]])[0]]"
   ]
  },
  {
   "cell_type": "markdown",
   "metadata": {
    "colab_type": "text",
    "id": "6EyAGPZfWPkr"
   },
   "source": [
    "## Dokładność modelu\n",
    "\n",
    "Metodą $score$ wyznacz dokładność otrzymanego modelu"
   ]
  },
  {
   "cell_type": "code",
   "execution_count": 17,
   "metadata": {
    "colab": {
     "base_uri": "https://localhost:8080/",
     "height": 34
    },
    "colab_type": "code",
    "id": "PerPAAfLWPE4",
    "outputId": "4f999dce-d8f8-4148-d2c7-2363d0d8459f"
   },
   "outputs": [
    {
     "data": {
      "text/plain": [
       "0.96"
      ]
     },
     "execution_count": 17,
     "metadata": {},
     "output_type": "execute_result"
    }
   ],
   "source": [
    "clf.score(X_test, y_test)"
   ]
  },
  {
   "cell_type": "markdown",
   "metadata": {
    "colab_type": "text",
    "id": "nqdA5PT9WJon"
   },
   "source": [
    "## Podgląd otrzymanych podziałów\n",
    "\n",
    "Aby można było zwizualizować otrzymane podziały konieczna jest redukcja przestrzeni cech do dwóch wymirów. Oznacza to, że podczas klasyfikacji uwzględniamy tylko 2 zmienne objaśniające."
   ]
  },
  {
   "cell_type": "code",
   "execution_count": 18,
   "metadata": {
    "colab": {
     "base_uri": "https://localhost:8080/",
     "height": 416
    },
    "colab_type": "code",
    "id": "oWVetjlilclA",
    "outputId": "9b74a8d2-17fe-450e-b7b4-a30f0653c9ca"
   },
   "outputs": [
    {
     "data": {
      "image/png": "[encoded data removed]",
      "text/plain": [
       "<Figure size 432x288 with 6 Axes>"
      ]
     },
     "metadata": {
      "needs_background": "light"
     },
     "output_type": "display_data"
    }
   ],
   "source": [
    "# Parametry\n",
    "n_classes = 3\n",
    "plot_step = 0.02\n",
    "\n",
    "\n",
    "plt.set_cmap(plt.cm.jet)\n",
    "\n",
    "\n",
    "for pairidx, pair in enumerate([[0, 1], [0, 2], [0, 3],\n",
    "                                [1, 2], [1, 3], [2, 3]]):\n",
    "  \n",
    "    # Uczymy klasyfikator tylko na 2 cechach\n",
    "    X = iris.data[:, pair]\n",
    "    y = iris.target\n",
    "\n",
    "    clf_tmp = DecisionTreeClassifier().fit(X, y)\n",
    "\n",
    "    # Wykres\n",
    "    plt.subplot(2, 3, pairidx + 1)\n",
    "\n",
    "    x_min, x_max = X[:, 0].min() - 1, X[:, 0].max() + 1\n",
    "    y_min, y_max = X[:, 1].min() - 1, X[:, 1].max() + 1\n",
    "    xx, yy = np.meshgrid(np.arange(x_min, x_max, plot_step),\n",
    "                         np.arange(y_min, y_max, plot_step))\n",
    "\n",
    "    Z = clf_tmp.predict(np.c_[xx.ravel(), yy.ravel()])\n",
    "    Z = Z.reshape(xx.shape)\n",
    "    plt.imshow(Z,extent=[x_min,x_max,y_min,y_max],origin='lower',alpha=0.6)\n",
    "    plt.scatter(X[:,0], X[:,1],c=np.ravel(y),edgecolors='black')\n",
    "\n",
    "    plt.xlabel(iris.feature_names[pair[0]])\n",
    "    plt.ylabel(iris.feature_names[pair[1]])\n",
    "    plt.axis(\"tight\")\n",
    "\n",
    "\n",
    "    plt.tight_layout(pad=0.4, w_pad=0.5, h_pad=1.0)\n",
    "    plt.grid(False)\n",
    "\n",
    "plt.show()\n"
   ]
  },
  {
   "cell_type": "markdown",
   "metadata": {
    "colab_type": "text",
    "id": "_fLDbVIUb_SY"
   },
   "source": [
    "## Inne opcje poszukiwania najlepszego podziału\n",
    "\n",
    "Kiedy mamy zbyt dużo danych lub zmiennych objaśniających czas poszukiwania optymalnego podziału rośnie. Aby w każdym kroku nie przeszukiwać wszystkich możliwych podziałów mamy dwie możliwości. Możliwe ustawienia:\n",
    "\n",
    "### `max_features`\n",
    "\n",
    "Ilość zmiennych uwzględnianych w czasie poszukiwania optymalnego podziału. Możliwe opcje:\n",
    "*  liczba całkowita - uwzględnia dokładnie tyle ziennych podczas każdego podziału\n",
    "*  liczba zmiennoprzecinkowa - tyle procent zmiennych będzie uwzględnianych\n",
    "*  “auto” -  wówczas `max_features=sqrt(n_features)`.\n",
    "*  “sqrt” - wówczas `max_features=sqrt(n_features)`\n",
    "*  “log2” - wówczas `max_features=log2(n_features)`.\n",
    "*  `None` - wówczas `max_features=n_features`.\n"
   ]
  },
  {
   "cell_type": "code",
   "execution_count": 62,
   "metadata": {},
   "outputs": [
    {
     "name": "stdout",
     "output_type": "stream",
     "text": [
      "0.96 1.0\n",
      "0.88 1.0\n"
     ]
    }
   ],
   "source": [
    "clf_all = DecisionTreeClassifier()\n",
    "clf_all = clf_all.fit(X_train, y_train)\n",
    "\n",
    "print(clf_all.score(X_test, y_test), clf_all.score(X_train, y_train))\n",
    "\n",
    "\n",
    "clf = DecisionTreeClassifier(max_features=1, random_state=123)\n",
    "clf = clf.fit(X_train, y_train)\n",
    "\n",
    "print(clf.score(X_test, y_test), clf.score(X_train, y_train))"
   ]
  },
  {
   "cell_type": "markdown",
   "metadata": {
    "colab_type": "text",
    "id": "-LAzXmCRWfMx"
   },
   "source": [
    "### splitter='random':\n",
    "\n",
    "W tym przypadku wybór zmiennej względem której dokonywany jest podział będzie losowy."
   ]
  },
  {
   "cell_type": "code",
   "execution_count": 64,
   "metadata": {
    "colab": {
     "base_uri": "https://localhost:8080/",
     "height": 51
    },
    "colab_type": "code",
    "id": "mDhFHQHoWeni",
    "outputId": "fb2900e9-b5c9-4182-c023-1708da3a786e"
   },
   "outputs": [
    {
     "name": "stdout",
     "output_type": "stream",
     "text": [
      "CPU times: user 0 ns, sys: 0 ns, total: 0 ns\n",
      "Wall time: 1.29 ms\n"
     ]
    }
   ],
   "source": [
    "%%time\n",
    "\n",
    "clf = DecisionTreeClassifier(splitter='random', random_state=123)\n",
    "clf = clf.fit(X_train, y_train)"
   ]
  },
  {
   "cell_type": "code",
   "execution_count": 65,
   "metadata": {
    "colab": {
     "base_uri": "https://localhost:8080/",
     "height": 34
    },
    "colab_type": "code",
    "id": "sDhRFST-YQfF",
    "outputId": "254ba679-c7d5-46f8-e684-b7d698f4d2ab"
   },
   "outputs": [
    {
     "data": {
      "text/plain": [
       "(0.94, 1.0)"
      ]
     },
     "execution_count": 65,
     "metadata": {},
     "output_type": "execute_result"
    }
   ],
   "source": [
    "clf.score(X_test, y_test), clf.score(X_train, y_train)"
   ]
  },
  {
   "cell_type": "markdown",
   "metadata": {},
   "source": [
    "### Powównanie 2 podziałów dla różnej inicjalizacji generatora liczb pseudolosowych"
   ]
  },
  {
   "cell_type": "code",
   "execution_count": 67,
   "metadata": {
    "colab": {
     "base_uri": "https://localhost:8080/",
     "height": 434
    },
    "colab_type": "code",
    "id": "mduLh5B4nwKe",
    "outputId": "af741af5-00e8-4f88-e0dc-b1c037b84f0f"
   },
   "outputs": [
    {
     "name": "stderr",
     "output_type": "stream",
     "text": [
      "No handles with labels found to put in legend.\n"
     ]
    },
    {
     "data": {
      "image/png": "[encoded data removed]",
      "text/plain": [
       "<Figure size 432x288 with 6 Axes>"
      ]
     },
     "metadata": {
      "needs_background": "light"
     },
     "output_type": "display_data"
    }
   ],
   "source": [
    "\n",
    "# Parametery\n",
    "n_classes = 3\n",
    "plot_step = 0.02\n",
    "\n",
    "plt.set_cmap(plt.cm.jet)\n",
    "\n",
    "\n",
    "for pairidx, pair in enumerate([[0, 1], [0, 2], [0, 3],\n",
    "                                [1, 2], [1, 3], [2, 3]]):\n",
    "    X = iris.data[:, pair]\n",
    "    y = iris.target\n",
    "\n",
    "\n",
    "    clf_tmp = DecisionTreeClassifier(splitter='random', random_state=2).fit(X, y)\n",
    "\n",
    "    plt.subplot(2, 3, pairidx + 1)\n",
    "\n",
    "    x_min, x_max = X[:, 0].min() - 1, X[:, 0].max() + 1\n",
    "    y_min, y_max = X[:, 1].min() - 1, X[:, 1].max() + 1\n",
    "    xx, yy = np.meshgrid(np.arange(x_min, x_max, plot_step),\n",
    "                         np.arange(y_min, y_max, plot_step))\n",
    "\n",
    "    Z = clf_tmp.predict(np.c_[xx.ravel(), yy.ravel()])\n",
    "    Z = Z.reshape(xx.shape)\n",
    "    plt.imshow(Z,extent=[x_min,x_max,y_min,y_max],origin='lower',alpha=0.6)\n",
    "    plt.scatter(X[:,0], X[:,1],c=np.ravel(y),edgecolors='black')\n",
    "\n",
    "    plt.xlabel(iris.feature_names[pair[0]])\n",
    "    plt.ylabel(iris.feature_names[pair[1]])\n",
    "    plt.axis(\"tight\")\n",
    "\n",
    "    plt.tight_layout(pad=0.4, w_pad=0.5, h_pad=1.0)\n",
    "    plt.grid(False)\n",
    "\n",
    "\n",
    "plt.legend()\n",
    "plt.show()\n"
   ]
  },
  {
   "cell_type": "code",
   "execution_count": 68,
   "metadata": {},
   "outputs": [
    {
     "name": "stderr",
     "output_type": "stream",
     "text": [
      "No handles with labels found to put in legend.\n"
     ]
    },
    {
     "data": {
      "image/png": "[encoded data removed]",
      "text/plain": [
       "<Figure size 432x288 with 6 Axes>"
      ]
     },
     "metadata": {
      "needs_background": "light"
     },
     "output_type": "display_data"
    }
   ],
   "source": [
    "\n",
    "# Parametery\n",
    "n_classes = 3\n",
    "plot_step = 0.02\n",
    "\n",
    "plt.set_cmap(plt.cm.jet)\n",
    "\n",
    "\n",
    "for pairidx, pair in enumerate([[0, 1], [0, 2], [0, 3],\n",
    "                                [1, 2], [1, 3], [2, 3]]):\n",
    "    X = iris.data[:, pair]\n",
    "    y = iris.target\n",
    "\n",
    "\n",
    "    clf_tmp = DecisionTreeClassifier(splitter='random', random_state=100).fit(X, y)\n",
    "\n",
    "    plt.subplot(2, 3, pairidx + 1)\n",
    "\n",
    "    x_min, x_max = X[:, 0].min() - 1, X[:, 0].max() + 1\n",
    "    y_min, y_max = X[:, 1].min() - 1, X[:, 1].max() + 1\n",
    "    xx, yy = np.meshgrid(np.arange(x_min, x_max, plot_step),\n",
    "                         np.arange(y_min, y_max, plot_step))\n",
    "\n",
    "    Z = clf_tmp.predict(np.c_[xx.ravel(), yy.ravel()])\n",
    "    Z = Z.reshape(xx.shape)\n",
    "    plt.imshow(Z,extent=[x_min,x_max,y_min,y_max],origin='lower',alpha=0.6)\n",
    "    plt.scatter(X[:,0], X[:,1],c=np.ravel(y),edgecolors='black')\n",
    "\n",
    "    plt.xlabel(iris.feature_names[pair[0]])\n",
    "    plt.ylabel(iris.feature_names[pair[1]])\n",
    "    plt.axis(\"tight\")\n",
    "\n",
    "    plt.tight_layout(pad=0.4, w_pad=0.5, h_pad=1.0)\n",
    "    plt.grid(False)\n",
    "\n",
    "\n",
    "plt.legend()\n",
    "plt.show()\n"
   ]
  },
  {
   "cell_type": "markdown",
   "metadata": {
    "colab_type": "text",
    "id": "ueHn39W-ZU--"
   },
   "source": [
    "## Przeciwdziałanie przeuczeniu\n",
    "\n",
    "Wymuszanie jednorodności w otrzymanych podprzestrzeniach prowadzi na ogół do zbudowaniabardzo złożonego modelu, który jest nadmiernie dopasowany dodanych ze zbioru uczącego. POjawia się wówczas efekt przeuczenia.\n",
    "\n",
    "Następujące parametry pozwalają zmniejszyć efekt *overfittingu*. Po znaku równości zostały podane ich domyślne wartości.\n",
    "\n",
    "*   `max_depth=None`\n",
    "*   `min_samples_split=2`\n",
    "*   `min_samples_leaf=1`\n",
    "*  `min_impurity_decrease=0`\n",
    "\n"
   ]
  },
  {
   "cell_type": "code",
   "execution_count": 69,
   "metadata": {
    "colab": {
     "base_uri": "https://localhost:8080/",
     "height": 51
    },
    "colab_type": "code",
    "id": "KujHLNMceskO",
    "outputId": "5941d90c-84e5-47ed-f6c8-abf2cd71b669"
   },
   "outputs": [
    {
     "name": "stdout",
     "output_type": "stream",
     "text": [
      "CPU times: user 0 ns, sys: 0 ns, total: 0 ns\n",
      "Wall time: 1.41 ms\n"
     ]
    }
   ],
   "source": [
    "%%time\n",
    "\n",
    "clf = DecisionTreeClassifier(min_samples_split=10)\n",
    "clf = clf.fit(X_train, y_train)"
   ]
  },
  {
   "cell_type": "code",
   "execution_count": 73,
   "metadata": {
    "colab": {},
    "colab_type": "code",
    "id": "9gFDcJzhez9K"
   },
   "outputs": [],
   "source": [
    "dot_data = export_graphviz(clf, out_file=None) \n",
    "graph = graphviz.Source(dot_data) "
   ]
  },
  {
   "cell_type": "code",
   "execution_count": 74,
   "metadata": {
    "colab": {
     "base_uri": "https://localhost:8080/",
     "height": 598
    },
    "colab_type": "code",
    "id": "FKMiEYyVe6EC",
    "outputId": "409f40a5-0402-41e5-fc3d-04e1cbd4aca6"
   },
   "outputs": [
    {
     "data": {
      "image/svg+xml": [
       "<?xml version=\"1.0\" encoding=\"UTF-8\" standalone=\"no\"?>\n",
       "<!DOCTYPE svg PUBLIC \"-//W3C//DTD SVG 1.1//EN\"\n",
       " \"http://www.w3.org/Graphics/SVG/1.1/DTD/svg11.dtd\">\n",
       "<!-- Generated by graphviz version 2.38.0 (20140413.2041)\n",
       " -->\n",
       "<!-- Title: Tree Pages: 1 -->\n",
       "<svg width=\"547pt\" height=\"433pt\"\n",
       " viewBox=\"0.00 0.00 547.00 433.00\" xmlns=\"http://www.w3.org/2000/svg\" xmlns:xlink=\"http://www.w3.org/1999/xlink\">\n",
       "<g id=\"graph0\" class=\"graph\" transform=\"scale(1 1) rotate(0) translate(4 429)\">\n",
       "<title>Tree</title>\n",
       "<polygon fill=\"white\" stroke=\"none\" points=\"-4,4 -4,-429 543,-429 543,4 -4,4\"/>\n",
       "<!-- 0 -->\n",
       "<g id=\"node1\" class=\"node\"><title>0</title>\n",
       "<path fill=\"#8139e5\" fill-opacity=\"0.043137\" stroke=\"black\" d=\"M256,-425C256,-425 133,-425 133,-425 127,-425 121,-419 121,-413 121,-413 121,-354 121,-354 121,-348 127,-342 133,-342 133,-342 256,-342 256,-342 262,-342 268,-348 268,-354 268,-354 268,-413 268,-413 268,-419 262,-425 256,-425\"/>\n",
       "<text text-anchor=\"start\" x=\"129\" y=\"-409.8\" font-family=\"Helvetica,sans-Serif\" font-size=\"14.00\">petal width (cm) ≤ 0.8</text>\n",
       "<text text-anchor=\"start\" x=\"159\" y=\"-394.8\" font-family=\"Helvetica,sans-Serif\" font-size=\"14.00\">gini = 0.665</text>\n",
       "<text text-anchor=\"start\" x=\"149.5\" y=\"-379.8\" font-family=\"Helvetica,sans-Serif\" font-size=\"14.00\">samples = 100</text>\n",
       "<text text-anchor=\"start\" x=\"136.5\" y=\"-364.8\" font-family=\"Helvetica,sans-Serif\" font-size=\"14.00\">value = [33, 31, 36]</text>\n",
       "<text text-anchor=\"start\" x=\"146\" y=\"-349.8\" font-family=\"Helvetica,sans-Serif\" font-size=\"14.00\">class = virginica</text>\n",
       "</g>\n",
       "<!-- 1 -->\n",
       "<g id=\"node2\" class=\"node\"><title>1</title>\n",
       "<path fill=\"#e58139\" stroke=\"black\" d=\"M164,-298.5C164,-298.5 71,-298.5 71,-298.5 65,-298.5 59,-292.5 59,-286.5 59,-286.5 59,-242.5 59,-242.5 59,-236.5 65,-230.5 71,-230.5 71,-230.5 164,-230.5 164,-230.5 170,-230.5 176,-236.5 176,-242.5 176,-242.5 176,-286.5 176,-286.5 176,-292.5 170,-298.5 164,-298.5\"/>\n",
       "<text text-anchor=\"start\" x=\"89.5\" y=\"-283.3\" font-family=\"Helvetica,sans-Serif\" font-size=\"14.00\">gini = 0.0</text>\n",
       "<text text-anchor=\"start\" x=\"76.5\" y=\"-268.3\" font-family=\"Helvetica,sans-Serif\" font-size=\"14.00\">samples = 33</text>\n",
       "<text text-anchor=\"start\" x=\"67\" y=\"-253.3\" font-family=\"Helvetica,sans-Serif\" font-size=\"14.00\">value = [33, 0, 0]</text>\n",
       "<text text-anchor=\"start\" x=\"74\" y=\"-238.3\" font-family=\"Helvetica,sans-Serif\" font-size=\"14.00\">class = setosa</text>\n",
       "</g>\n",
       "<!-- 0&#45;&gt;1 -->\n",
       "<g id=\"edge1\" class=\"edge\"><title>0&#45;&gt;1</title>\n",
       "<path fill=\"none\" stroke=\"black\" d=\"M167.785,-341.907C160.378,-330.652 152.327,-318.418 144.882,-307.106\"/>\n",
       "<polygon fill=\"black\" stroke=\"black\" points=\"147.749,-305.096 139.328,-298.667 141.902,-308.944 147.749,-305.096\"/>\n",
       "<text text-anchor=\"middle\" x=\"134.279\" y=\"-319.452\" font-family=\"Helvetica,sans-Serif\" font-size=\"14.00\">True</text>\n",
       "</g>\n",
       "<!-- 2 -->\n",
       "<g id=\"node3\" class=\"node\"><title>2</title>\n",
       "<path fill=\"#8139e5\" fill-opacity=\"0.137255\" stroke=\"black\" d=\"M337,-306C337,-306 206,-306 206,-306 200,-306 194,-300 194,-294 194,-294 194,-235 194,-235 194,-229 200,-223 206,-223 206,-223 337,-223 337,-223 343,-223 349,-229 349,-235 349,-235 349,-294 349,-294 349,-300 343,-306 337,-306\"/>\n",
       "<text text-anchor=\"start\" x=\"202\" y=\"-290.8\" font-family=\"Helvetica,sans-Serif\" font-size=\"14.00\">petal width (cm) ≤ 1.65</text>\n",
       "<text text-anchor=\"start\" x=\"236\" y=\"-275.8\" font-family=\"Helvetica,sans-Serif\" font-size=\"14.00\">gini = 0.497</text>\n",
       "<text text-anchor=\"start\" x=\"230.5\" y=\"-260.8\" font-family=\"Helvetica,sans-Serif\" font-size=\"14.00\">samples = 67</text>\n",
       "<text text-anchor=\"start\" x=\"217\" y=\"-245.8\" font-family=\"Helvetica,sans-Serif\" font-size=\"14.00\">value = [0, 31, 36]</text>\n",
       "<text text-anchor=\"start\" x=\"223\" y=\"-230.8\" font-family=\"Helvetica,sans-Serif\" font-size=\"14.00\">class = virginica</text>\n",
       "</g>\n",
       "<!-- 0&#45;&gt;2 -->\n",
       "<g id=\"edge2\" class=\"edge\"><title>0&#45;&gt;2</title>\n",
       "<path fill=\"none\" stroke=\"black\" d=\"M221.215,-341.907C227.008,-333.105 233.195,-323.703 239.178,-314.612\"/>\n",
       "<polygon fill=\"black\" stroke=\"black\" points=\"242.259,-316.298 244.832,-306.021 236.411,-312.45 242.259,-316.298\"/>\n",
       "<text text-anchor=\"middle\" x=\"249.881\" y=\"-326.806\" font-family=\"Helvetica,sans-Serif\" font-size=\"14.00\">False</text>\n",
       "</g>\n",
       "<!-- 3 -->\n",
       "<g id=\"node4\" class=\"node\"><title>3</title>\n",
       "<path fill=\"#39e581\" fill-opacity=\"0.901961\" stroke=\"black\" d=\"M248.5,-187C248.5,-187 120.5,-187 120.5,-187 114.5,-187 108.5,-181 108.5,-175 108.5,-175 108.5,-116 108.5,-116 108.5,-110 114.5,-104 120.5,-104 120.5,-104 248.5,-104 248.5,-104 254.5,-104 260.5,-110 260.5,-116 260.5,-116 260.5,-175 260.5,-175 260.5,-181 254.5,-187 248.5,-187\"/>\n",
       "<text text-anchor=\"start\" x=\"116.5\" y=\"-171.8\" font-family=\"Helvetica,sans-Serif\" font-size=\"14.00\">petal length (cm) ≤ 5.0</text>\n",
       "<text text-anchor=\"start\" x=\"149\" y=\"-156.8\" font-family=\"Helvetica,sans-Serif\" font-size=\"14.00\">gini = 0.165</text>\n",
       "<text text-anchor=\"start\" x=\"143.5\" y=\"-141.8\" font-family=\"Helvetica,sans-Serif\" font-size=\"14.00\">samples = 33</text>\n",
       "<text text-anchor=\"start\" x=\"134\" y=\"-126.8\" font-family=\"Helvetica,sans-Serif\" font-size=\"14.00\">value = [0, 30, 3]</text>\n",
       "<text text-anchor=\"start\" x=\"132\" y=\"-111.8\" font-family=\"Helvetica,sans-Serif\" font-size=\"14.00\">class = versicolor</text>\n",
       "</g>\n",
       "<!-- 2&#45;&gt;3 -->\n",
       "<g id=\"edge3\" class=\"edge\"><title>2&#45;&gt;3</title>\n",
       "<path fill=\"none\" stroke=\"black\" d=\"M241.316,-222.907C234.635,-213.923 227.491,-204.315 220.601,-195.05\"/>\n",
       "<polygon fill=\"black\" stroke=\"black\" points=\"223.407,-192.957 214.631,-187.021 217.789,-197.134 223.407,-192.957\"/>\n",
       "</g>\n",
       "<!-- 6 -->\n",
       "<g id=\"node7\" class=\"node\"><title>6</title>\n",
       "<path fill=\"#8139e5\" fill-opacity=\"0.968627\" stroke=\"black\" d=\"M426.5,-187C426.5,-187 290.5,-187 290.5,-187 284.5,-187 278.5,-181 278.5,-175 278.5,-175 278.5,-116 278.5,-116 278.5,-110 284.5,-104 290.5,-104 290.5,-104 426.5,-104 426.5,-104 432.5,-104 438.5,-110 438.5,-116 438.5,-116 438.5,-175 438.5,-175 438.5,-181 432.5,-187 426.5,-187\"/>\n",
       "<text text-anchor=\"start\" x=\"286.5\" y=\"-171.8\" font-family=\"Helvetica,sans-Serif\" font-size=\"14.00\">petal length (cm) ≤ 4.85</text>\n",
       "<text text-anchor=\"start\" x=\"323\" y=\"-156.8\" font-family=\"Helvetica,sans-Serif\" font-size=\"14.00\">gini = 0.057</text>\n",
       "<text text-anchor=\"start\" x=\"317.5\" y=\"-141.8\" font-family=\"Helvetica,sans-Serif\" font-size=\"14.00\">samples = 34</text>\n",
       "<text text-anchor=\"start\" x=\"308\" y=\"-126.8\" font-family=\"Helvetica,sans-Serif\" font-size=\"14.00\">value = [0, 1, 33]</text>\n",
       "<text text-anchor=\"start\" x=\"310\" y=\"-111.8\" font-family=\"Helvetica,sans-Serif\" font-size=\"14.00\">class = virginica</text>\n",
       "</g>\n",
       "<!-- 2&#45;&gt;6 -->\n",
       "<g id=\"edge6\" class=\"edge\"><title>2&#45;&gt;6</title>\n",
       "<path fill=\"none\" stroke=\"black\" d=\"M301.684,-222.907C308.365,-213.923 315.509,-204.315 322.399,-195.05\"/>\n",
       "<polygon fill=\"black\" stroke=\"black\" points=\"325.211,-197.134 328.369,-187.021 319.593,-192.957 325.211,-197.134\"/>\n",
       "</g>\n",
       "<!-- 4 -->\n",
       "<g id=\"node5\" class=\"node\"><title>4</title>\n",
       "<path fill=\"#39e581\" stroke=\"black\" d=\"M109,-68C109,-68 12,-68 12,-68 6,-68 7.10543e-15,-62 7.10543e-15,-56 7.10543e-15,-56 7.10543e-15,-12 7.10543e-15,-12 7.10543e-15,-6 6,-0 12,-0 12,-0 109,-0 109,-0 115,-0 121,-6 121,-12 121,-12 121,-56 121,-56 121,-62 115,-68 109,-68\"/>\n",
       "<text text-anchor=\"start\" x=\"32.5\" y=\"-52.8\" font-family=\"Helvetica,sans-Serif\" font-size=\"14.00\">gini = 0.0</text>\n",
       "<text text-anchor=\"start\" x=\"19.5\" y=\"-37.8\" font-family=\"Helvetica,sans-Serif\" font-size=\"14.00\">samples = 29</text>\n",
       "<text text-anchor=\"start\" x=\"10\" y=\"-22.8\" font-family=\"Helvetica,sans-Serif\" font-size=\"14.00\">value = [0, 29, 0]</text>\n",
       "<text text-anchor=\"start\" x=\"8\" y=\"-7.8\" font-family=\"Helvetica,sans-Serif\" font-size=\"14.00\">class = versicolor</text>\n",
       "</g>\n",
       "<!-- 3&#45;&gt;4 -->\n",
       "<g id=\"edge4\" class=\"edge\"><title>3&#45;&gt;4</title>\n",
       "<path fill=\"none\" stroke=\"black\" d=\"M138.327,-103.726C127.689,-94.3318 116.384,-84.349 105.784,-74.9883\"/>\n",
       "<polygon fill=\"black\" stroke=\"black\" points=\"108.022,-72.2953 98.2091,-68.2996 103.388,-77.5424 108.022,-72.2953\"/>\n",
       "</g>\n",
       "<!-- 5 -->\n",
       "<g id=\"node6\" class=\"node\"><title>5</title>\n",
       "<path fill=\"#8139e5\" fill-opacity=\"0.666667\" stroke=\"black\" d=\"M240,-68C240,-68 151,-68 151,-68 145,-68 139,-62 139,-56 139,-56 139,-12 139,-12 139,-6 145,-0 151,-0 151,-0 240,-0 240,-0 246,-0 252,-6 252,-12 252,-12 252,-56 252,-56 252,-62 246,-68 240,-68\"/>\n",
       "<text text-anchor=\"start\" x=\"160\" y=\"-52.8\" font-family=\"Helvetica,sans-Serif\" font-size=\"14.00\">gini = 0.375</text>\n",
       "<text text-anchor=\"start\" x=\"158\" y=\"-37.8\" font-family=\"Helvetica,sans-Serif\" font-size=\"14.00\">samples = 4</text>\n",
       "<text text-anchor=\"start\" x=\"148.5\" y=\"-22.8\" font-family=\"Helvetica,sans-Serif\" font-size=\"14.00\">value = [0, 1, 3]</text>\n",
       "<text text-anchor=\"start\" x=\"147\" y=\"-7.8\" font-family=\"Helvetica,sans-Serif\" font-size=\"14.00\">class = virginica</text>\n",
       "</g>\n",
       "<!-- 3&#45;&gt;5 -->\n",
       "<g id=\"edge5\" class=\"edge\"><title>3&#45;&gt;5</title>\n",
       "<path fill=\"none\" stroke=\"black\" d=\"M188.596,-103.726C189.43,-95.4263 190.31,-86.6671 191.152,-78.2834\"/>\n",
       "<polygon fill=\"black\" stroke=\"black\" points=\"194.638,-78.5994 192.155,-68.2996 187.673,-77.8997 194.638,-78.5994\"/>\n",
       "</g>\n",
       "<!-- 7 -->\n",
       "<g id=\"node8\" class=\"node\"><title>7</title>\n",
       "<path fill=\"#8139e5\" fill-opacity=\"0.666667\" stroke=\"black\" d=\"M392,-68C392,-68 303,-68 303,-68 297,-68 291,-62 291,-56 291,-56 291,-12 291,-12 291,-6 297,-0 303,-0 303,-0 392,-0 392,-0 398,-0 404,-6 404,-12 404,-12 404,-56 404,-56 404,-62 398,-68 392,-68\"/>\n",
       "<text text-anchor=\"start\" x=\"312\" y=\"-52.8\" font-family=\"Helvetica,sans-Serif\" font-size=\"14.00\">gini = 0.375</text>\n",
       "<text text-anchor=\"start\" x=\"310\" y=\"-37.8\" font-family=\"Helvetica,sans-Serif\" font-size=\"14.00\">samples = 4</text>\n",
       "<text text-anchor=\"start\" x=\"300.5\" y=\"-22.8\" font-family=\"Helvetica,sans-Serif\" font-size=\"14.00\">value = [0, 1, 3]</text>\n",
       "<text text-anchor=\"start\" x=\"299\" y=\"-7.8\" font-family=\"Helvetica,sans-Serif\" font-size=\"14.00\">class = virginica</text>\n",
       "</g>\n",
       "<!-- 6&#45;&gt;7 -->\n",
       "<g id=\"edge7\" class=\"edge\"><title>6&#45;&gt;7</title>\n",
       "<path fill=\"none\" stroke=\"black\" d=\"M354.404,-103.726C353.57,-95.4263 352.69,-86.6671 351.848,-78.2834\"/>\n",
       "<polygon fill=\"black\" stroke=\"black\" points=\"355.327,-77.8997 350.845,-68.2996 348.362,-78.5994 355.327,-77.8997\"/>\n",
       "</g>\n",
       "<!-- 8 -->\n",
       "<g id=\"node9\" class=\"node\"><title>8</title>\n",
       "<path fill=\"#8139e5\" stroke=\"black\" d=\"M527,-68C527,-68 434,-68 434,-68 428,-68 422,-62 422,-56 422,-56 422,-12 422,-12 422,-6 428,-0 434,-0 434,-0 527,-0 527,-0 533,-0 539,-6 539,-12 539,-12 539,-56 539,-56 539,-62 533,-68 527,-68\"/>\n",
       "<text text-anchor=\"start\" x=\"452.5\" y=\"-52.8\" font-family=\"Helvetica,sans-Serif\" font-size=\"14.00\">gini = 0.0</text>\n",
       "<text text-anchor=\"start\" x=\"439.5\" y=\"-37.8\" font-family=\"Helvetica,sans-Serif\" font-size=\"14.00\">samples = 30</text>\n",
       "<text text-anchor=\"start\" x=\"430\" y=\"-22.8\" font-family=\"Helvetica,sans-Serif\" font-size=\"14.00\">value = [0, 0, 30]</text>\n",
       "<text text-anchor=\"start\" x=\"432\" y=\"-7.8\" font-family=\"Helvetica,sans-Serif\" font-size=\"14.00\">class = virginica</text>\n",
       "</g>\n",
       "<!-- 6&#45;&gt;8 -->\n",
       "<g id=\"edge8\" class=\"edge\"><title>6&#45;&gt;8</title>\n",
       "<path fill=\"none\" stroke=\"black\" d=\"M403.928,-103.726C414.395,-94.3318 425.518,-84.349 435.947,-74.9883\"/>\n",
       "<polygon fill=\"black\" stroke=\"black\" points=\"438.295,-77.5839 443.399,-68.2996 433.619,-72.3744 438.295,-77.5839\"/>\n",
       "</g>\n",
       "</g>\n",
       "</svg>\n"
      ],
      "text/plain": [
       "<graphviz.files.Source at 0x7f2ba2bcfa90>"
      ]
     },
     "execution_count": 74,
     "metadata": {},
     "output_type": "execute_result"
    }
   ],
   "source": [
    "dot_data = export_graphviz(clf, out_file=None, \n",
    "                         feature_names=iris.feature_names,  \n",
    "                         class_names=iris.target_names,  \n",
    "                         filled=True, rounded=True,  \n",
    "                         special_characters=True)  \n",
    "graph = graphviz.Source(dot_data)  \n",
    "graph"
   ]
  },
  {
   "cell_type": "code",
   "execution_count": 75,
   "metadata": {
    "colab": {
     "base_uri": "https://localhost:8080/",
     "height": 34
    },
    "colab_type": "code",
    "id": "AEZ3E2CLfnka",
    "outputId": "af4cc3b0-6f98-42de-8ae4-1e563d074992"
   },
   "outputs": [
    {
     "data": {
      "text/plain": [
       "(0.96, 0.98)"
      ]
     },
     "execution_count": 75,
     "metadata": {},
     "output_type": "execute_result"
    }
   ],
   "source": [
    "clf.score(X_test, y_test), clf.score(X_train, y_train)"
   ]
  },
  {
   "cell_type": "markdown",
   "metadata": {
    "colab_type": "text",
    "id": "u7lmH3w1dyLQ"
   },
   "source": [
    "## Poszukiwanie optymalnych parametrów metodą walidacji krzyżowej\n",
    "\n",
    "**Zapamiętaj:** danych testowych możesz użyć tylko raz do sprawdzenia dokładności ostatecznego modelu. \n",
    "\n",
    "Aby dopasować parametry drzewa klasyfikacyjnego można wykorzystać oddzielny zbiór walidacyjny lub **metodę walidacji krzyżowej**. W tym prykładzie użyjemy tej drugiej metody.\n",
    "\n",
    "Metoda ta pozwala określić dokładność modelu w sposób nieobciążony. \n",
    "Algorytm metody sprawdzania krzyżowego:\n",
    "\n",
    "1. Wybierz wartość parametru $b$ (zazwyczaj $b\\leq 10$) i podziel losowo zbiór uczący $U$ na $b$ równolicznych (w przybliżeniu) i rozłącznych części $U_1$, $U_2$, . . . , $U_b$.\n",
    "\n",
    "2.  Dla $h \\in {1, . . . , b}$ wykonaj kroki:\n",
    "\n",
    "  a. zbuduj model na zbiorze $U|U_h$ (wyłączając jedną część),\n",
    "\n",
    "  b.  oszacuj błąd klasyfikacji modelu na zbiorze $U_h$ (wykorzystując $U_h$ jako zbiór walidacyjny).\n",
    "\n",
    "3. Wyznacz ocenę błędu klasyfikacji modelu uśredniając wartości otrzymane w kroku 2. Otrzymany wynik jest nieobciążonym estymatorem błędu klasyfikacji\n",
    "\n",
    "Biiblioteka `sklearn` dostarcza metodę `GridSearchCV` do przeszukiwania przestrzeni hiperparametrów modelu z wykorzystaniem walidacji krzyżowej.\n"
   ]
  },
  {
   "cell_type": "code",
   "execution_count": 0,
   "metadata": {
    "colab": {
     "base_uri": "https://localhost:8080/",
     "height": 51
    },
    "colab_type": "code",
    "id": "VGs0zVx4dxwj",
    "outputId": "0fb92a80-df72-4240-a757-8d4d454dce86"
   },
   "outputs": [
    {
     "name": "stdout",
     "output_type": "stream",
     "text": [
      "Najlepsza dokładność 0.94\n",
      "Dobrane parametry: {'max_depth': 3, 'max_features': 4}\n"
     ]
    }
   ],
   "source": [
    "from sklearn.model_selection import GridSearchCV\n",
    "\n",
    "parameter_grid = {'max_depth': np.arange(3, 7),\n",
    "                  'max_features': np.arange(1, 5)}\n",
    "\n",
    "clf_grid = GridSearchCV(DecisionTreeClassifier(), parameter_grid)\n",
    "\n",
    "clf_grid.fit(X_train, y_train)\n",
    "\n",
    "print (\"Najlepsza dokładność {}\".format(clf_grid.best_score_))\n",
    "print (\"Dobrane parametry: {}\".format(clf_grid.best_params_))\n",
    "\n",
    "\n"
   ]
  },
  {
   "cell_type": "markdown",
   "metadata": {
    "colab_type": "text",
    "id": "ZznbsWO7Y0Es"
   },
   "source": [
    "Teraz możemy przetestować otrzymany model na danych testowych"
   ]
  },
  {
   "cell_type": "code",
   "execution_count": 0,
   "metadata": {
    "colab": {
     "base_uri": "https://localhost:8080/",
     "height": 34
    },
    "colab_type": "code",
    "id": "D0c7HoLqdx2M",
    "outputId": "d89020ca-e3bd-401f-ca7e-fa47ae0d7bae"
   },
   "outputs": [
    {
     "data": {
      "text/plain": [
       "0.96"
      ]
     },
     "execution_count": 18,
     "metadata": {
      "tags": []
     },
     "output_type": "execute_result"
    }
   ],
   "source": [
    "clf_grid.best_estimator_.score(X_test, y_test)"
   ]
  },
  {
   "cell_type": "markdown",
   "metadata": {
    "colab_type": "text",
    "id": "OUSPUTNNeLBB"
   },
   "source": [
    "# Istotność zmiennych objaśniających\n",
    "\n",
    "Zaletą drzewa klasyfikacyjnego jest możliwość określenia istotności poszczególnych zmiennych"
   ]
  },
  {
   "cell_type": "code",
   "execution_count": 0,
   "metadata": {
    "colab": {
     "base_uri": "https://localhost:8080/",
     "height": 85
    },
    "colab_type": "code",
    "id": "u3JoUJoOZKFT",
    "outputId": "8fb961a6-1693-4cd1-e9db-e02c24eec3d8"
   },
   "outputs": [
    {
     "name": "stdout",
     "output_type": "stream",
     "text": [
      "petal width (cm) 0.9308196108729353\n",
      "petal length (cm) 0.06918038912706467\n",
      "sepal width (cm) 0.0\n",
      "sepal length (cm) 0.0\n"
     ]
    }
   ],
   "source": [
    "ids = np.argsort(clf_grid.best_estimator_.feature_importances_)\n",
    "\n",
    "for i in ids[::-1]:\n",
    "    print (iris.feature_names[i], clf_grid.best_estimator_.feature_importances_[i])"
   ]
  },
  {
   "cell_type": "markdown",
   "metadata": {
    "colab_type": "text",
    "id": "uEx_wwova6ag"
   },
   "source": [
    "Dla poprzedniego modelu"
   ]
  },
  {
   "cell_type": "code",
   "execution_count": 0,
   "metadata": {
    "colab": {},
    "colab_type": "code",
    "id": "eNnGI_rwd-U6"
   },
   "outputs": [],
   "source": []
  },
  {
   "cell_type": "code",
   "execution_count": 0,
   "metadata": {
    "colab": {
     "base_uri": "https://localhost:8080/",
     "height": 85
    },
    "colab_type": "code",
    "id": "VwYBSykLZwn6",
    "outputId": "7cf1285a-f1df-40ca-98b7-46d6f95a913f"
   },
   "outputs": [
    {
     "name": "stdout",
     "output_type": "stream",
     "text": [
      "petal length (cm) 0.592104014625634\n",
      "petal width (cm) 0.407895985374366\n",
      "sepal width (cm) 0.0\n",
      "sepal length (cm) 0.0\n"
     ]
    }
   ],
   "source": [
    "ids = np.argsort(clf.feature_importances_)\n",
    "\n",
    "\n",
    "for i in ids[::-1]:\n",
    "    print (iris.feature_names[i], clf.feature_importances_[i])"
   ]
  },
  {
   "cell_type": "markdown",
   "metadata": {
    "colab_type": "text",
    "id": "t1Jdan2EYy1a"
   },
   "source": [
    "# Zadanie\n",
    "\n",
    "Zbuduj drzewo klasyfikacyjne dla danych dotyczących złośliwości raka piersi. Znajdź optymalne parametry i sprawdź jaka jest istotność poszczególnych zmiennych objaśniających.\n",
    "\n",
    "**Krok 1:** Wczytanie danych i podział na dane treningowe  i testowe w proporcji $0.77:0.33$. Aby móc porównać wyniki z kolegami ustaw `random_state` na 1"
   ]
  },
  {
   "cell_type": "code",
   "execution_count": 0,
   "metadata": {
    "colab": {},
    "colab_type": "code",
    "id": "9geKa26u6MK_"
   },
   "outputs": [],
   "source": [
    "breast = load_breast_cancer()\n",
    "\n",
    "### Your solution\n",
    "#raise NotImplementedError\n",
    "\n",
    "X, y = breast.data, breast.target\n",
    "X_train_breast, X_test_breast, y_train_breast, y_test_breast = train_test_split(X, y, test_size=0.33, random_state=1)"
   ]
  },
  {
   "cell_type": "markdown",
   "metadata": {
    "colab_type": "text",
    "id": "e27iUUW4cX9I"
   },
   "source": [
    "**Krok 2:** Medodą walidacji krzyżowej znajdź optymalne drzewo klasyfikujące:"
   ]
  },
  {
   "cell_type": "code",
   "execution_count": 0,
   "metadata": {
    "colab": {
     "base_uri": "https://localhost:8080/",
     "height": 51
    },
    "colab_type": "code",
    "id": "I2He_LUZRavR",
    "outputId": "7ebe9cca-a80f-42d6-9874-88431adbc16f"
   },
   "outputs": [
    {
     "name": "stdout",
     "output_type": "stream",
     "text": [
      "Najlepsza dokładność 0.9606299212598425\n",
      "Dobrane parametry: {'max_depth': 20, 'max_features': 13}\n"
     ]
    }
   ],
   "source": [
    "parameter_grid = {'max_depth': np.arange(3, 30),\n",
    "                  'max_features': np.arange(1, 30)}\n",
    "\n",
    "### Your solution\n",
    "#raise NotImplementedError\n",
    "\n",
    "\n",
    "clf_grid = GridSearchCV(DecisionTreeClassifier(), parameter_grid)\n",
    "\n",
    "clf_grid.fit(X_train_breast, y_train_breast)\n",
    "\n",
    "print (\"Najlepsza dokładność {}\".format(clf_grid.best_score_))\n",
    "print (\"Dobrane parametry: {}\".format(clf_grid.best_params_))\n"
   ]
  },
  {
   "cell_type": "markdown",
   "metadata": {
    "colab_type": "text",
    "id": "8landUcadIep"
   },
   "source": [
    "**Krok 3:** Podaj dokładność modelu na danych testowych:\n"
   ]
  },
  {
   "cell_type": "code",
   "execution_count": 0,
   "metadata": {
    "colab": {
     "base_uri": "https://localhost:8080/",
     "height": 34
    },
    "colab_type": "code",
    "id": "bX-bWj9yo_ui",
    "outputId": "024fa03f-a43f-465d-9cb5-16dcf3d2fae6"
   },
   "outputs": [
    {
     "data": {
      "text/plain": [
       "0.925531914893617"
      ]
     },
     "execution_count": 23,
     "metadata": {
      "tags": []
     },
     "output_type": "execute_result"
    }
   ],
   "source": [
    "### Your solution\n",
    "#raise NotImplementedError\n",
    "clf_grid.best_estimator_.score(X_test_breast, y_test_breast)\n"
   ]
  },
  {
   "cell_type": "markdown",
   "metadata": {
    "colab_type": "text",
    "id": "rTmCCQsidWX4"
   },
   "source": [
    "**Krok 4:** Sprawdź istotność poszczególnych zmiennych"
   ]
  },
  {
   "cell_type": "code",
   "execution_count": 0,
   "metadata": {
    "colab": {
     "base_uri": "https://localhost:8080/",
     "height": 527
    },
    "colab_type": "code",
    "id": "37EZmHHxdAZL",
    "outputId": "5d4703d5-2d9b-4de8-b0d9-ef3ce4b164ea"
   },
   "outputs": [
    {
     "name": "stdout",
     "output_type": "stream",
     "text": [
      "mean concave points 0.6728849843685007\n",
      "worst perimeter 0.13845715403142805\n",
      "worst radius 0.06696369390246942\n",
      "worst texture 0.043571915945865534\n",
      "mean area 0.025844525844525842\n",
      "worst smoothness 0.010515637098934591\n",
      "mean texture 0.010460879508498555\n",
      "worst concave points 0.009359734297077649\n",
      "mean smoothness 0.005538112680969823\n",
      "texture error 0.005538112680969823\n",
      "area error 0.005484861597498917\n",
      "worst compactness 0.005380388043260988\n",
      "radius error 0.0\n",
      "mean perimeter 0.0\n",
      "mean compactness 0.0\n",
      "mean concavity 0.0\n",
      "mean symmetry 0.0\n",
      "mean fractal dimension 0.0\n",
      "worst fractal dimension 0.0\n",
      "smoothness error 0.0\n",
      "perimeter error 0.0\n",
      "worst symmetry 0.0\n",
      "compactness error 0.0\n",
      "concavity error 0.0\n",
      "concave points error 0.0\n",
      "symmetry error 0.0\n",
      "fractal dimension error 0.0\n",
      "worst area 0.0\n",
      "worst concavity 0.0\n",
      "mean radius 0.0\n"
     ]
    }
   ],
   "source": [
    "### Your solution\n",
    "#raise NotImplementedError\n",
    "\n",
    "ids = np.argsort(clf_grid.best_estimator_.feature_importances_)\n",
    "\n",
    "for i in ids[::-1]:\n",
    "    print (breast.feature_names[i], clf_grid.best_estimator_.feature_importances_[i])"
   ]
  },
  {
   "cell_type": "markdown",
   "metadata": {
    "colab_type": "text",
    "id": "RqADYKR-gEhF"
   },
   "source": [
    "**Krok 5:** Podgląd otrzymanego drzewa"
   ]
  },
  {
   "cell_type": "code",
   "execution_count": 0,
   "metadata": {
    "colab": {
     "base_uri": "https://localhost:8080/",
     "height": 1094
    },
    "colab_type": "code",
    "id": "bFLFeyudgEsf",
    "outputId": "e37701fa-3873-4e0f-8165-813c8f7499b0"
   },
   "outputs": [
    {
     "data": {
      "image/svg+xml": [
       "<?xml version=\"1.0\" encoding=\"UTF-8\" standalone=\"no\"?>\n",
       "<!DOCTYPE svg PUBLIC \"-//W3C//DTD SVG 1.1//EN\"\n",
       " \"http://www.w3.org/Graphics/SVG/1.1/DTD/svg11.dtd\">\n",
       "<!-- Generated by graphviz version 2.38.0 (20140413.2041)\n",
       " -->\n",
       "<!-- Title: Tree Pages: 1 -->\n",
       "<svg width=\"2121pt\" height=\"790pt\"\n",
       " viewBox=\"0.00 0.00 2121.00 790.00\" xmlns=\"http://www.w3.org/2000/svg\" xmlns:xlink=\"http://www.w3.org/1999/xlink\">\n",
       "<g id=\"graph0\" class=\"graph\" transform=\"scale(1 1) rotate(0) translate(4 786)\">\n",
       "<title>Tree</title>\n",
       "<polygon fill=\"white\" stroke=\"none\" points=\"-4,4 -4,-786 2117,-786 2117,4 -4,4\"/>\n",
       "<!-- 0 -->\n",
       "<g id=\"node1\" class=\"node\"><title>0</title>\n",
       "<path fill=\"#399de5\" fill-opacity=\"0.372549\" stroke=\"black\" d=\"M1425.5,-782C1425.5,-782 1219.5,-782 1219.5,-782 1213.5,-782 1207.5,-776 1207.5,-770 1207.5,-770 1207.5,-711 1207.5,-711 1207.5,-705 1213.5,-699 1219.5,-699 1219.5,-699 1425.5,-699 1425.5,-699 1431.5,-699 1437.5,-705 1437.5,-711 1437.5,-711 1437.5,-770 1437.5,-770 1437.5,-776 1431.5,-782 1425.5,-782\"/>\n",
       "<text text-anchor=\"start\" x=\"1215.5\" y=\"-766.8\" font-family=\"Helvetica,sans-Serif\" font-size=\"14.00\">worst concave points ≤ 0.142</text>\n",
       "<text text-anchor=\"start\" x=\"1278.5\" y=\"-751.8\" font-family=\"Helvetica,sans-Serif\" font-size=\"14.00\">gini = 0.474</text>\n",
       "<text text-anchor=\"start\" x=\"1268\" y=\"-736.8\" font-family=\"Helvetica,sans-Serif\" font-size=\"14.00\">samples = 381</text>\n",
       "<text text-anchor=\"start\" x=\"1255.5\" y=\"-721.8\" font-family=\"Helvetica,sans-Serif\" font-size=\"14.00\">value = [147, 234]</text>\n",
       "<text text-anchor=\"start\" x=\"1269.5\" y=\"-706.8\" font-family=\"Helvetica,sans-Serif\" font-size=\"14.00\">class = benign</text>\n",
       "</g>\n",
       "<!-- 1 -->\n",
       "<g id=\"node2\" class=\"node\"><title>1</title>\n",
       "<path fill=\"#399de5\" fill-opacity=\"0.905882\" stroke=\"black\" d=\"M1141.5,-663C1141.5,-663 1007.5,-663 1007.5,-663 1001.5,-663 995.5,-657 995.5,-651 995.5,-651 995.5,-592 995.5,-592 995.5,-586 1001.5,-580 1007.5,-580 1007.5,-580 1141.5,-580 1141.5,-580 1147.5,-580 1153.5,-586 1153.5,-592 1153.5,-592 1153.5,-651 1153.5,-651 1153.5,-657 1147.5,-663 1141.5,-663\"/>\n",
       "<text text-anchor=\"start\" x=\"1003.5\" y=\"-647.8\" font-family=\"Helvetica,sans-Serif\" font-size=\"14.00\">worst radius ≤ 16.8</text>\n",
       "<text text-anchor=\"start\" x=\"1030.5\" y=\"-632.8\" font-family=\"Helvetica,sans-Serif\" font-size=\"14.00\">gini = 0.155</text>\n",
       "<text text-anchor=\"start\" x=\"1020\" y=\"-617.8\" font-family=\"Helvetica,sans-Serif\" font-size=\"14.00\">samples = 248</text>\n",
       "<text text-anchor=\"start\" x=\"1012\" y=\"-602.8\" font-family=\"Helvetica,sans-Serif\" font-size=\"14.00\">value = [21, 227]</text>\n",
       "<text text-anchor=\"start\" x=\"1021.5\" y=\"-587.8\" font-family=\"Helvetica,sans-Serif\" font-size=\"14.00\">class = benign</text>\n",
       "</g>\n",
       "<!-- 0&#45;&gt;1 -->\n",
       "<g id=\"edge1\" class=\"edge\"><title>0&#45;&gt;1</title>\n",
       "<path fill=\"none\" stroke=\"black\" d=\"M1236.46,-698.907C1212.64,-687.671 1186.75,-675.459 1162.81,-664.162\"/>\n",
       "<polygon fill=\"black\" stroke=\"black\" points=\"1164.27,-660.983 1153.74,-659.881 1161.29,-667.314 1164.27,-660.983\"/>\n",
       "<text text-anchor=\"middle\" x=\"1162.18\" y=\"-679.712\" font-family=\"Helvetica,sans-Serif\" font-size=\"14.00\">True</text>\n",
       "</g>\n",
       "<!-- 26 -->\n",
       "<g id=\"node27\" class=\"node\"><title>26</title>\n",
       "<path fill=\"#e58139\" fill-opacity=\"0.945098\" stroke=\"black\" d=\"M1680,-663C1680,-663 1461,-663 1461,-663 1455,-663 1449,-657 1449,-651 1449,-651 1449,-592 1449,-592 1449,-586 1455,-580 1461,-580 1461,-580 1680,-580 1680,-580 1686,-580 1692,-586 1692,-592 1692,-592 1692,-651 1692,-651 1692,-657 1686,-663 1680,-663\"/>\n",
       "<text text-anchor=\"start\" x=\"1457\" y=\"-647.8\" font-family=\"Helvetica,sans-Serif\" font-size=\"14.00\">fractal dimension error ≤ 0.013</text>\n",
       "<text text-anchor=\"start\" x=\"1535.5\" y=\"-632.8\" font-family=\"Helvetica,sans-Serif\" font-size=\"14.00\">gini = 0.1</text>\n",
       "<text text-anchor=\"start\" x=\"1516\" y=\"-617.8\" font-family=\"Helvetica,sans-Serif\" font-size=\"14.00\">samples = 133</text>\n",
       "<text text-anchor=\"start\" x=\"1512.5\" y=\"-602.8\" font-family=\"Helvetica,sans-Serif\" font-size=\"14.00\">value = [126, 7]</text>\n",
       "<text text-anchor=\"start\" x=\"1506\" y=\"-587.8\" font-family=\"Helvetica,sans-Serif\" font-size=\"14.00\">class = malignant</text>\n",
       "</g>\n",
       "<!-- 0&#45;&gt;26 -->\n",
       "<g id=\"edge26\" class=\"edge\"><title>0&#45;&gt;26</title>\n",
       "<path fill=\"none\" stroke=\"black\" d=\"M1408.54,-698.907C1430.09,-688.743 1453.32,-677.781 1475.28,-667.42\"/>\n",
       "<polygon fill=\"black\" stroke=\"black\" points=\"1477.06,-670.453 1484.61,-663.021 1474.07,-664.122 1477.06,-670.453\"/>\n",
       "<text text-anchor=\"middle\" x=\"1476.16\" y=\"-682.851\" font-family=\"Helvetica,sans-Serif\" font-size=\"14.00\">False</text>\n",
       "</g>\n",
       "<!-- 2 -->\n",
       "<g id=\"node3\" class=\"node\"><title>2</title>\n",
       "<path fill=\"#399de5\" fill-opacity=\"0.972549\" stroke=\"black\" d=\"M730.5,-544C730.5,-544 524.5,-544 524.5,-544 518.5,-544 512.5,-538 512.5,-532 512.5,-532 512.5,-473 512.5,-473 512.5,-467 518.5,-461 524.5,-461 524.5,-461 730.5,-461 730.5,-461 736.5,-461 742.5,-467 742.5,-473 742.5,-473 742.5,-532 742.5,-532 742.5,-538 736.5,-544 730.5,-544\"/>\n",
       "<text text-anchor=\"start\" x=\"520.5\" y=\"-528.8\" font-family=\"Helvetica,sans-Serif\" font-size=\"14.00\">worst concave points ≤ 0.136</text>\n",
       "<text text-anchor=\"start\" x=\"583.5\" y=\"-513.8\" font-family=\"Helvetica,sans-Serif\" font-size=\"14.00\">gini = 0.051</text>\n",
       "<text text-anchor=\"start\" x=\"573\" y=\"-498.8\" font-family=\"Helvetica,sans-Serif\" font-size=\"14.00\">samples = 228</text>\n",
       "<text text-anchor=\"start\" x=\"569.5\" y=\"-483.8\" font-family=\"Helvetica,sans-Serif\" font-size=\"14.00\">value = [6, 222]</text>\n",
       "<text text-anchor=\"start\" x=\"574.5\" y=\"-468.8\" font-family=\"Helvetica,sans-Serif\" font-size=\"14.00\">class = benign</text>\n",
       "</g>\n",
       "<!-- 1&#45;&gt;2 -->\n",
       "<g id=\"edge2\" class=\"edge\"><title>1&#45;&gt;2</title>\n",
       "<path fill=\"none\" stroke=\"black\" d=\"M995.358,-599.785C928.146,-582.192 830.49,-556.632 752.687,-536.267\"/>\n",
       "<polygon fill=\"black\" stroke=\"black\" points=\"753.377,-532.83 742.816,-533.684 751.604,-539.602 753.377,-532.83\"/>\n",
       "</g>\n",
       "<!-- 15 -->\n",
       "<g id=\"node16\" class=\"node\"><title>15</title>\n",
       "<path fill=\"#e58139\" fill-opacity=\"0.666667\" stroke=\"black\" d=\"M1161,-544C1161,-544 988,-544 988,-544 982,-544 976,-538 976,-532 976,-532 976,-473 976,-473 976,-467 982,-461 988,-461 988,-461 1161,-461 1161,-461 1167,-461 1173,-467 1173,-473 1173,-473 1173,-532 1173,-532 1173,-538 1167,-544 1161,-544\"/>\n",
       "<text text-anchor=\"start\" x=\"984\" y=\"-528.8\" font-family=\"Helvetica,sans-Serif\" font-size=\"14.00\">mean symmetry ≤ 0.151</text>\n",
       "<text text-anchor=\"start\" x=\"1030.5\" y=\"-513.8\" font-family=\"Helvetica,sans-Serif\" font-size=\"14.00\">gini = 0.375</text>\n",
       "<text text-anchor=\"start\" x=\"1024.5\" y=\"-498.8\" font-family=\"Helvetica,sans-Serif\" font-size=\"14.00\">samples = 20</text>\n",
       "<text text-anchor=\"start\" x=\"1021\" y=\"-483.8\" font-family=\"Helvetica,sans-Serif\" font-size=\"14.00\">value = [15, 5]</text>\n",
       "<text text-anchor=\"start\" x=\"1010\" y=\"-468.8\" font-family=\"Helvetica,sans-Serif\" font-size=\"14.00\">class = malignant</text>\n",
       "</g>\n",
       "<!-- 1&#45;&gt;15 -->\n",
       "<g id=\"edge15\" class=\"edge\"><title>1&#45;&gt;15</title>\n",
       "<path fill=\"none\" stroke=\"black\" d=\"M1074.5,-579.907C1074.5,-571.649 1074.5,-562.864 1074.5,-554.302\"/>\n",
       "<polygon fill=\"black\" stroke=\"black\" points=\"1078,-554.021 1074.5,-544.021 1071,-554.021 1078,-554.021\"/>\n",
       "</g>\n",
       "<!-- 3 -->\n",
       "<g id=\"node4\" class=\"node\"><title>3</title>\n",
       "<path fill=\"#399de5\" fill-opacity=\"0.992157\" stroke=\"black\" d=\"M398.5,-425C398.5,-425 270.5,-425 270.5,-425 264.5,-425 258.5,-419 258.5,-413 258.5,-413 258.5,-354 258.5,-354 258.5,-348 264.5,-342 270.5,-342 270.5,-342 398.5,-342 398.5,-342 404.5,-342 410.5,-348 410.5,-354 410.5,-354 410.5,-413 410.5,-413 410.5,-419 404.5,-425 398.5,-425\"/>\n",
       "<text text-anchor=\"start\" x=\"266.5\" y=\"-409.8\" font-family=\"Helvetica,sans-Serif\" font-size=\"14.00\">area error ≤ 38.35</text>\n",
       "<text text-anchor=\"start\" x=\"290.5\" y=\"-394.8\" font-family=\"Helvetica,sans-Serif\" font-size=\"14.00\">gini = 0.018</text>\n",
       "<text text-anchor=\"start\" x=\"280\" y=\"-379.8\" font-family=\"Helvetica,sans-Serif\" font-size=\"14.00\">samples = 219</text>\n",
       "<text text-anchor=\"start\" x=\"276.5\" y=\"-364.8\" font-family=\"Helvetica,sans-Serif\" font-size=\"14.00\">value = [2, 217]</text>\n",
       "<text text-anchor=\"start\" x=\"281.5\" y=\"-349.8\" font-family=\"Helvetica,sans-Serif\" font-size=\"14.00\">class = benign</text>\n",
       "</g>\n",
       "<!-- 2&#45;&gt;3 -->\n",
       "<g id=\"edge3\" class=\"edge\"><title>2&#45;&gt;3</title>\n",
       "<path fill=\"none\" stroke=\"black\" d=\"M525.845,-460.907C491.396,-447.151 453.285,-431.933 420.202,-418.722\"/>\n",
       "<polygon fill=\"black\" stroke=\"black\" points=\"421.146,-415.33 410.561,-414.872 418.55,-421.831 421.146,-415.33\"/>\n",
       "</g>\n",
       "<!-- 10 -->\n",
       "<g id=\"node11\" class=\"node\"><title>10</title>\n",
       "<path fill=\"#399de5\" fill-opacity=\"0.200000\" stroke=\"black\" d=\"M730.5,-425C730.5,-425 524.5,-425 524.5,-425 518.5,-425 512.5,-419 512.5,-413 512.5,-413 512.5,-354 512.5,-354 512.5,-348 518.5,-342 524.5,-342 524.5,-342 730.5,-342 730.5,-342 736.5,-342 742.5,-348 742.5,-354 742.5,-354 742.5,-413 742.5,-413 742.5,-419 736.5,-425 730.5,-425\"/>\n",
       "<text text-anchor=\"start\" x=\"520.5\" y=\"-409.8\" font-family=\"Helvetica,sans-Serif\" font-size=\"14.00\">worst concave points ≤ 0.139</text>\n",
       "<text text-anchor=\"start\" x=\"583.5\" y=\"-394.8\" font-family=\"Helvetica,sans-Serif\" font-size=\"14.00\">gini = 0.494</text>\n",
       "<text text-anchor=\"start\" x=\"582\" y=\"-379.8\" font-family=\"Helvetica,sans-Serif\" font-size=\"14.00\">samples = 9</text>\n",
       "<text text-anchor=\"start\" x=\"578.5\" y=\"-364.8\" font-family=\"Helvetica,sans-Serif\" font-size=\"14.00\">value = [4, 5]</text>\n",
       "<text text-anchor=\"start\" x=\"574.5\" y=\"-349.8\" font-family=\"Helvetica,sans-Serif\" font-size=\"14.00\">class = benign</text>\n",
       "</g>\n",
       "<!-- 2&#45;&gt;10 -->\n",
       "<g id=\"edge10\" class=\"edge\"><title>2&#45;&gt;10</title>\n",
       "<path fill=\"none\" stroke=\"black\" d=\"M627.5,-460.907C627.5,-452.649 627.5,-443.864 627.5,-435.302\"/>\n",
       "<polygon fill=\"black\" stroke=\"black\" points=\"631,-435.021 627.5,-425.021 624,-435.021 631,-435.021\"/>\n",
       "</g>\n",
       "<!-- 4 -->\n",
       "<g id=\"node5\" class=\"node\"><title>4</title>\n",
       "<path fill=\"#399de5\" stroke=\"black\" d=\"M189.5,-298.5C189.5,-298.5 81.5,-298.5 81.5,-298.5 75.5,-298.5 69.5,-292.5 69.5,-286.5 69.5,-286.5 69.5,-242.5 69.5,-242.5 69.5,-236.5 75.5,-230.5 81.5,-230.5 81.5,-230.5 189.5,-230.5 189.5,-230.5 195.5,-230.5 201.5,-236.5 201.5,-242.5 201.5,-242.5 201.5,-286.5 201.5,-286.5 201.5,-292.5 195.5,-298.5 189.5,-298.5\"/>\n",
       "<text text-anchor=\"start\" x=\"100.5\" y=\"-283.3\" font-family=\"Helvetica,sans-Serif\" font-size=\"14.00\">gini = 0.0</text>\n",
       "<text text-anchor=\"start\" x=\"81\" y=\"-268.3\" font-family=\"Helvetica,sans-Serif\" font-size=\"14.00\">samples = 211</text>\n",
       "<text text-anchor=\"start\" x=\"77.5\" y=\"-253.3\" font-family=\"Helvetica,sans-Serif\" font-size=\"14.00\">value = [0, 211]</text>\n",
       "<text text-anchor=\"start\" x=\"82.5\" y=\"-238.3\" font-family=\"Helvetica,sans-Serif\" font-size=\"14.00\">class = benign</text>\n",
       "</g>\n",
       "<!-- 3&#45;&gt;4 -->\n",
       "<g id=\"edge4\" class=\"edge\"><title>3&#45;&gt;4</title>\n",
       "<path fill=\"none\" stroke=\"black\" d=\"M265.458,-341.907C244.438,-329.549 221.41,-316.01 200.655,-303.807\"/>\n",
       "<polygon fill=\"black\" stroke=\"black\" points=\"202.307,-300.718 191.912,-298.667 198.759,-306.752 202.307,-300.718\"/>\n",
       "</g>\n",
       "<!-- 5 -->\n",
       "<g id=\"node6\" class=\"node\"><title>5</title>\n",
       "<path fill=\"#399de5\" fill-opacity=\"0.666667\" stroke=\"black\" d=\"M437.5,-306C437.5,-306 231.5,-306 231.5,-306 225.5,-306 219.5,-300 219.5,-294 219.5,-294 219.5,-235 219.5,-235 219.5,-229 225.5,-223 231.5,-223 231.5,-223 437.5,-223 437.5,-223 443.5,-223 449.5,-229 449.5,-235 449.5,-235 449.5,-294 449.5,-294 449.5,-300 443.5,-306 437.5,-306\"/>\n",
       "<text text-anchor=\"start\" x=\"227.5\" y=\"-290.8\" font-family=\"Helvetica,sans-Serif\" font-size=\"14.00\">worst concave points ≤ 0.112</text>\n",
       "<text text-anchor=\"start\" x=\"290.5\" y=\"-275.8\" font-family=\"Helvetica,sans-Serif\" font-size=\"14.00\">gini = 0.375</text>\n",
       "<text text-anchor=\"start\" x=\"289\" y=\"-260.8\" font-family=\"Helvetica,sans-Serif\" font-size=\"14.00\">samples = 8</text>\n",
       "<text text-anchor=\"start\" x=\"285.5\" y=\"-245.8\" font-family=\"Helvetica,sans-Serif\" font-size=\"14.00\">value = [2, 6]</text>\n",
       "<text text-anchor=\"start\" x=\"281.5\" y=\"-230.8\" font-family=\"Helvetica,sans-Serif\" font-size=\"14.00\">class = benign</text>\n",
       "</g>\n",
       "<!-- 3&#45;&gt;5 -->\n",
       "<g id=\"edge5\" class=\"edge\"><title>3&#45;&gt;5</title>\n",
       "<path fill=\"none\" stroke=\"black\" d=\"M334.5,-341.907C334.5,-333.649 334.5,-324.864 334.5,-316.302\"/>\n",
       "<polygon fill=\"black\" stroke=\"black\" points=\"338,-316.021 334.5,-306.021 331,-316.021 338,-316.021\"/>\n",
       "</g>\n",
       "<!-- 6 -->\n",
       "<g id=\"node7\" class=\"node\"><title>6</title>\n",
       "<path fill=\"#399de5\" fill-opacity=\"0.831373\" stroke=\"black\" d=\"M245,-187C245,-187 52,-187 52,-187 46,-187 40,-181 40,-175 40,-175 40,-116 40,-116 40,-110 46,-104 52,-104 52,-104 245,-104 245,-104 251,-104 257,-110 257,-116 257,-116 257,-175 257,-175 257,-181 251,-187 245,-187\"/>\n",
       "<text text-anchor=\"start\" x=\"48\" y=\"-171.8\" font-family=\"Helvetica,sans-Serif\" font-size=\"14.00\">worst compactness ≤ 0.082</text>\n",
       "<text text-anchor=\"start\" x=\"104.5\" y=\"-156.8\" font-family=\"Helvetica,sans-Serif\" font-size=\"14.00\">gini = 0.245</text>\n",
       "<text text-anchor=\"start\" x=\"103\" y=\"-141.8\" font-family=\"Helvetica,sans-Serif\" font-size=\"14.00\">samples = 7</text>\n",
       "<text text-anchor=\"start\" x=\"99.5\" y=\"-126.8\" font-family=\"Helvetica,sans-Serif\" font-size=\"14.00\">value = [1, 6]</text>\n",
       "<text text-anchor=\"start\" x=\"95.5\" y=\"-111.8\" font-family=\"Helvetica,sans-Serif\" font-size=\"14.00\">class = benign</text>\n",
       "</g>\n",
       "<!-- 5&#45;&gt;6 -->\n",
       "<g id=\"edge6\" class=\"edge\"><title>5&#45;&gt;6</title>\n",
       "<path fill=\"none\" stroke=\"black\" d=\"M269.968,-222.907C254.387,-213.106 237.626,-202.563 221.68,-192.533\"/>\n",
       "<polygon fill=\"black\" stroke=\"black\" points=\"223.246,-189.383 212.918,-187.021 219.519,-195.308 223.246,-189.383\"/>\n",
       "</g>\n",
       "<!-- 9 -->\n",
       "<g id=\"node10\" class=\"node\"><title>9</title>\n",
       "<path fill=\"#e58139\" stroke=\"black\" d=\"M408,-179.5C408,-179.5 287,-179.5 287,-179.5 281,-179.5 275,-173.5 275,-167.5 275,-167.5 275,-123.5 275,-123.5 275,-117.5 281,-111.5 287,-111.5 287,-111.5 408,-111.5 408,-111.5 414,-111.5 420,-117.5 420,-123.5 420,-123.5 420,-167.5 420,-167.5 420,-173.5 414,-179.5 408,-179.5\"/>\n",
       "<text text-anchor=\"start\" x=\"312.5\" y=\"-164.3\" font-family=\"Helvetica,sans-Serif\" font-size=\"14.00\">gini = 0.0</text>\n",
       "<text text-anchor=\"start\" x=\"302\" y=\"-149.3\" font-family=\"Helvetica,sans-Serif\" font-size=\"14.00\">samples = 1</text>\n",
       "<text text-anchor=\"start\" x=\"298.5\" y=\"-134.3\" font-family=\"Helvetica,sans-Serif\" font-size=\"14.00\">value = [1, 0]</text>\n",
       "<text text-anchor=\"start\" x=\"283\" y=\"-119.3\" font-family=\"Helvetica,sans-Serif\" font-size=\"14.00\">class = malignant</text>\n",
       "</g>\n",
       "<!-- 5&#45;&gt;9 -->\n",
       "<g id=\"edge9\" class=\"edge\"><title>5&#45;&gt;9</title>\n",
       "<path fill=\"none\" stroke=\"black\" d=\"M339.01,-222.907C340.2,-212.204 341.487,-200.615 342.692,-189.776\"/>\n",
       "<polygon fill=\"black\" stroke=\"black\" points=\"346.189,-189.992 343.815,-179.667 339.232,-189.219 346.189,-189.992\"/>\n",
       "</g>\n",
       "<!-- 7 -->\n",
       "<g id=\"node8\" class=\"node\"><title>7</title>\n",
       "<path fill=\"#e58139\" stroke=\"black\" d=\"M133,-68C133,-68 12,-68 12,-68 6,-68 0,-62 0,-56 0,-56 0,-12 0,-12 0,-6 6,-0 12,-0 12,-0 133,-0 133,-0 139,-0 145,-6 145,-12 145,-12 145,-56 145,-56 145,-62 139,-68 133,-68\"/>\n",
       "<text text-anchor=\"start\" x=\"37.5\" y=\"-52.8\" font-family=\"Helvetica,sans-Serif\" font-size=\"14.00\">gini = 0.0</text>\n",
       "<text text-anchor=\"start\" x=\"27\" y=\"-37.8\" font-family=\"Helvetica,sans-Serif\" font-size=\"14.00\">samples = 1</text>\n",
       "<text text-anchor=\"start\" x=\"23.5\" y=\"-22.8\" font-family=\"Helvetica,sans-Serif\" font-size=\"14.00\">value = [1, 0]</text>\n",
       "<text text-anchor=\"start\" x=\"8\" y=\"-7.8\" font-family=\"Helvetica,sans-Serif\" font-size=\"14.00\">class = malignant</text>\n",
       "</g>\n",
       "<!-- 6&#45;&gt;7 -->\n",
       "<g id=\"edge7\" class=\"edge\"><title>6&#45;&gt;7</title>\n",
       "<path fill=\"none\" stroke=\"black\" d=\"M120.2,-103.726C114.06,-94.879 107.557,-85.51 101.394,-76.6303\"/>\n",
       "<polygon fill=\"black\" stroke=\"black\" points=\"104.189,-74.5191 95.6121,-68.2996 98.4386,-78.5104 104.189,-74.5191\"/>\n",
       "</g>\n",
       "<!-- 8 -->\n",
       "<g id=\"node9\" class=\"node\"><title>8</title>\n",
       "<path fill=\"#399de5\" stroke=\"black\" d=\"M273.5,-68C273.5,-68 175.5,-68 175.5,-68 169.5,-68 163.5,-62 163.5,-56 163.5,-56 163.5,-12 163.5,-12 163.5,-6 169.5,-0 175.5,-0 175.5,-0 273.5,-0 273.5,-0 279.5,-0 285.5,-6 285.5,-12 285.5,-12 285.5,-56 285.5,-56 285.5,-62 279.5,-68 273.5,-68\"/>\n",
       "<text text-anchor=\"start\" x=\"189.5\" y=\"-52.8\" font-family=\"Helvetica,sans-Serif\" font-size=\"14.00\">gini = 0.0</text>\n",
       "<text text-anchor=\"start\" x=\"179\" y=\"-37.8\" font-family=\"Helvetica,sans-Serif\" font-size=\"14.00\">samples = 6</text>\n",
       "<text text-anchor=\"start\" x=\"175.5\" y=\"-22.8\" font-family=\"Helvetica,sans-Serif\" font-size=\"14.00\">value = [0, 6]</text>\n",
       "<text text-anchor=\"start\" x=\"171.5\" y=\"-7.8\" font-family=\"Helvetica,sans-Serif\" font-size=\"14.00\">class = benign</text>\n",
       "</g>\n",
       "<!-- 6&#45;&gt;8 -->\n",
       "<g id=\"edge8\" class=\"edge\"><title>6&#45;&gt;8</title>\n",
       "<path fill=\"none\" stroke=\"black\" d=\"M176.8,-103.726C182.94,-94.879 189.443,-85.51 195.606,-76.6303\"/>\n",
       "<polygon fill=\"black\" stroke=\"black\" points=\"198.561,-78.5104 201.388,-68.2996 192.811,-74.5191 198.561,-78.5104\"/>\n",
       "</g>\n",
       "<!-- 11 -->\n",
       "<g id=\"node12\" class=\"node\"><title>11</title>\n",
       "<path fill=\"#e58139\" fill-opacity=\"0.749020\" stroke=\"black\" d=\"M615,-306C615,-306 480,-306 480,-306 474,-306 468,-300 468,-294 468,-294 468,-235 468,-235 468,-229 474,-223 480,-223 480,-223 615,-223 615,-223 621,-223 627,-229 627,-235 627,-235 627,-294 627,-294 627,-300 621,-306 615,-306\"/>\n",
       "<text text-anchor=\"start\" x=\"476\" y=\"-290.8\" font-family=\"Helvetica,sans-Serif\" font-size=\"14.00\">mean radius ≤ 14.8</text>\n",
       "<text text-anchor=\"start\" x=\"508\" y=\"-275.8\" font-family=\"Helvetica,sans-Serif\" font-size=\"14.00\">gini = 0.32</text>\n",
       "<text text-anchor=\"start\" x=\"502\" y=\"-260.8\" font-family=\"Helvetica,sans-Serif\" font-size=\"14.00\">samples = 5</text>\n",
       "<text text-anchor=\"start\" x=\"498.5\" y=\"-245.8\" font-family=\"Helvetica,sans-Serif\" font-size=\"14.00\">value = [4, 1]</text>\n",
       "<text text-anchor=\"start\" x=\"483\" y=\"-230.8\" font-family=\"Helvetica,sans-Serif\" font-size=\"14.00\">class = malignant</text>\n",
       "</g>\n",
       "<!-- 10&#45;&gt;11 -->\n",
       "<g id=\"edge11\" class=\"edge\"><title>10&#45;&gt;11</title>\n",
       "<path fill=\"none\" stroke=\"black\" d=\"M599.744,-341.907C593.663,-333.014 587.164,-323.509 580.889,-314.331\"/>\n",
       "<polygon fill=\"black\" stroke=\"black\" points=\"583.74,-312.3 575.207,-306.021 577.962,-316.251 583.74,-312.3\"/>\n",
       "</g>\n",
       "<!-- 14 -->\n",
       "<g id=\"node15\" class=\"node\"><title>14</title>\n",
       "<path fill=\"#399de5\" stroke=\"black\" d=\"M755.5,-298.5C755.5,-298.5 657.5,-298.5 657.5,-298.5 651.5,-298.5 645.5,-292.5 645.5,-286.5 645.5,-286.5 645.5,-242.5 645.5,-242.5 645.5,-236.5 651.5,-230.5 657.5,-230.5 657.5,-230.5 755.5,-230.5 755.5,-230.5 761.5,-230.5 767.5,-236.5 767.5,-242.5 767.5,-242.5 767.5,-286.5 767.5,-286.5 767.5,-292.5 761.5,-298.5 755.5,-298.5\"/>\n",
       "<text text-anchor=\"start\" x=\"671.5\" y=\"-283.3\" font-family=\"Helvetica,sans-Serif\" font-size=\"14.00\">gini = 0.0</text>\n",
       "<text text-anchor=\"start\" x=\"661\" y=\"-268.3\" font-family=\"Helvetica,sans-Serif\" font-size=\"14.00\">samples = 4</text>\n",
       "<text text-anchor=\"start\" x=\"657.5\" y=\"-253.3\" font-family=\"Helvetica,sans-Serif\" font-size=\"14.00\">value = [0, 4]</text>\n",
       "<text text-anchor=\"start\" x=\"653.5\" y=\"-238.3\" font-family=\"Helvetica,sans-Serif\" font-size=\"14.00\">class = benign</text>\n",
       "</g>\n",
       "<!-- 10&#45;&gt;14 -->\n",
       "<g id=\"edge14\" class=\"edge\"><title>10&#45;&gt;14</title>\n",
       "<path fill=\"none\" stroke=\"black\" d=\"M654.909,-341.907C662.508,-330.652 670.769,-318.418 678.407,-307.106\"/>\n",
       "<polygon fill=\"black\" stroke=\"black\" points=\"681.41,-308.913 684.105,-298.667 675.609,-304.996 681.41,-308.913\"/>\n",
       "</g>\n",
       "<!-- 12 -->\n",
       "<g id=\"node13\" class=\"node\"><title>12</title>\n",
       "<path fill=\"#e58139\" stroke=\"black\" d=\"M596,-179.5C596,-179.5 475,-179.5 475,-179.5 469,-179.5 463,-173.5 463,-167.5 463,-167.5 463,-123.5 463,-123.5 463,-117.5 469,-111.5 475,-111.5 475,-111.5 596,-111.5 596,-111.5 602,-111.5 608,-117.5 608,-123.5 608,-123.5 608,-167.5 608,-167.5 608,-173.5 602,-179.5 596,-179.5\"/>\n",
       "<text text-anchor=\"start\" x=\"500.5\" y=\"-164.3\" font-family=\"Helvetica,sans-Serif\" font-size=\"14.00\">gini = 0.0</text>\n",
       "<text text-anchor=\"start\" x=\"490\" y=\"-149.3\" font-family=\"Helvetica,sans-Serif\" font-size=\"14.00\">samples = 4</text>\n",
       "<text text-anchor=\"start\" x=\"486.5\" y=\"-134.3\" font-family=\"Helvetica,sans-Serif\" font-size=\"14.00\">value = [4, 0]</text>\n",
       "<text text-anchor=\"start\" x=\"471\" y=\"-119.3\" font-family=\"Helvetica,sans-Serif\" font-size=\"14.00\">class = malignant</text>\n",
       "</g>\n",
       "<!-- 11&#45;&gt;12 -->\n",
       "<g id=\"edge12\" class=\"edge\"><title>11&#45;&gt;12</title>\n",
       "<path fill=\"none\" stroke=\"black\" d=\"M543.337,-222.907C542.239,-212.204 541.05,-200.615 539.939,-189.776\"/>\n",
       "<polygon fill=\"black\" stroke=\"black\" points=\"543.404,-189.258 538.902,-179.667 536.44,-189.972 543.404,-189.258\"/>\n",
       "</g>\n",
       "<!-- 13 -->\n",
       "<g id=\"node14\" class=\"node\"><title>13</title>\n",
       "<path fill=\"#399de5\" stroke=\"black\" d=\"M736.5,-179.5C736.5,-179.5 638.5,-179.5 638.5,-179.5 632.5,-179.5 626.5,-173.5 626.5,-167.5 626.5,-167.5 626.5,-123.5 626.5,-123.5 626.5,-117.5 632.5,-111.5 638.5,-111.5 638.5,-111.5 736.5,-111.5 736.5,-111.5 742.5,-111.5 748.5,-117.5 748.5,-123.5 748.5,-123.5 748.5,-167.5 748.5,-167.5 748.5,-173.5 742.5,-179.5 736.5,-179.5\"/>\n",
       "<text text-anchor=\"start\" x=\"652.5\" y=\"-164.3\" font-family=\"Helvetica,sans-Serif\" font-size=\"14.00\">gini = 0.0</text>\n",
       "<text text-anchor=\"start\" x=\"642\" y=\"-149.3\" font-family=\"Helvetica,sans-Serif\" font-size=\"14.00\">samples = 1</text>\n",
       "<text text-anchor=\"start\" x=\"638.5\" y=\"-134.3\" font-family=\"Helvetica,sans-Serif\" font-size=\"14.00\">value = [0, 1]</text>\n",
       "<text text-anchor=\"start\" x=\"634.5\" y=\"-119.3\" font-family=\"Helvetica,sans-Serif\" font-size=\"14.00\">class = benign</text>\n",
       "</g>\n",
       "<!-- 11&#45;&gt;13 -->\n",
       "<g id=\"edge13\" class=\"edge\"><title>11&#45;&gt;13</title>\n",
       "<path fill=\"none\" stroke=\"black\" d=\"M596.072,-222.907C610.332,-210.99 625.905,-197.976 640.092,-186.12\"/>\n",
       "<polygon fill=\"black\" stroke=\"black\" points=\"642.384,-188.765 647.813,-179.667 637.895,-183.394 642.384,-188.765\"/>\n",
       "</g>\n",
       "<!-- 16 -->\n",
       "<g id=\"node17\" class=\"node\"><title>16</title>\n",
       "<path fill=\"#399de5\" fill-opacity=\"0.666667\" stroke=\"black\" d=\"M1046.5,-425C1046.5,-425 880.5,-425 880.5,-425 874.5,-425 868.5,-419 868.5,-413 868.5,-413 868.5,-354 868.5,-354 868.5,-348 874.5,-342 880.5,-342 880.5,-342 1046.5,-342 1046.5,-342 1052.5,-342 1058.5,-348 1058.5,-354 1058.5,-354 1058.5,-413 1058.5,-413 1058.5,-419 1052.5,-425 1046.5,-425\"/>\n",
       "<text text-anchor=\"start\" x=\"876.5\" y=\"-409.8\" font-family=\"Helvetica,sans-Serif\" font-size=\"14.00\">perimeter error ≤ 3.465</text>\n",
       "<text text-anchor=\"start\" x=\"919.5\" y=\"-394.8\" font-family=\"Helvetica,sans-Serif\" font-size=\"14.00\">gini = 0.375</text>\n",
       "<text text-anchor=\"start\" x=\"918\" y=\"-379.8\" font-family=\"Helvetica,sans-Serif\" font-size=\"14.00\">samples = 4</text>\n",
       "<text text-anchor=\"start\" x=\"914.5\" y=\"-364.8\" font-family=\"Helvetica,sans-Serif\" font-size=\"14.00\">value = [1, 3]</text>\n",
       "<text text-anchor=\"start\" x=\"910.5\" y=\"-349.8\" font-family=\"Helvetica,sans-Serif\" font-size=\"14.00\">class = benign</text>\n",
       "</g>\n",
       "<!-- 15&#45;&gt;16 -->\n",
       "<g id=\"edge16\" class=\"edge\"><title>15&#45;&gt;16</title>\n",
       "<path fill=\"none\" stroke=\"black\" d=\"M1035.99,-460.907C1027.29,-451.742 1017.98,-441.927 1009.03,-432.489\"/>\n",
       "<polygon fill=\"black\" stroke=\"black\" points=\"1011.36,-429.867 1001.94,-425.021 1006.29,-434.684 1011.36,-429.867\"/>\n",
       "</g>\n",
       "<!-- 19 -->\n",
       "<g id=\"node20\" class=\"node\"><title>19</title>\n",
       "<path fill=\"#e58139\" fill-opacity=\"0.858824\" stroke=\"black\" d=\"M1282,-425C1282,-425 1089,-425 1089,-425 1083,-425 1077,-419 1077,-413 1077,-413 1077,-354 1077,-354 1077,-348 1083,-342 1089,-342 1089,-342 1282,-342 1282,-342 1288,-342 1294,-348 1294,-354 1294,-354 1294,-413 1294,-413 1294,-419 1288,-425 1282,-425\"/>\n",
       "<text text-anchor=\"start\" x=\"1085\" y=\"-409.8\" font-family=\"Helvetica,sans-Serif\" font-size=\"14.00\">worst compactness ≤ 0.142</text>\n",
       "<text text-anchor=\"start\" x=\"1141.5\" y=\"-394.8\" font-family=\"Helvetica,sans-Serif\" font-size=\"14.00\">gini = 0.219</text>\n",
       "<text text-anchor=\"start\" x=\"1135.5\" y=\"-379.8\" font-family=\"Helvetica,sans-Serif\" font-size=\"14.00\">samples = 16</text>\n",
       "<text text-anchor=\"start\" x=\"1132\" y=\"-364.8\" font-family=\"Helvetica,sans-Serif\" font-size=\"14.00\">value = [14, 2]</text>\n",
       "<text text-anchor=\"start\" x=\"1121\" y=\"-349.8\" font-family=\"Helvetica,sans-Serif\" font-size=\"14.00\">class = malignant</text>\n",
       "</g>\n",
       "<!-- 15&#45;&gt;19 -->\n",
       "<g id=\"edge19\" class=\"edge\"><title>15&#45;&gt;19</title>\n",
       "<path fill=\"none\" stroke=\"black\" d=\"M1113.01,-460.907C1121.71,-451.742 1131.02,-441.927 1139.97,-432.489\"/>\n",
       "<polygon fill=\"black\" stroke=\"black\" points=\"1142.71,-434.684 1147.06,-425.021 1137.64,-429.867 1142.71,-434.684\"/>\n",
       "</g>\n",
       "<!-- 17 -->\n",
       "<g id=\"node18\" class=\"node\"><title>17</title>\n",
       "<path fill=\"#399de5\" stroke=\"black\" d=\"M895.5,-298.5C895.5,-298.5 797.5,-298.5 797.5,-298.5 791.5,-298.5 785.5,-292.5 785.5,-286.5 785.5,-286.5 785.5,-242.5 785.5,-242.5 785.5,-236.5 791.5,-230.5 797.5,-230.5 797.5,-230.5 895.5,-230.5 895.5,-230.5 901.5,-230.5 907.5,-236.5 907.5,-242.5 907.5,-242.5 907.5,-286.5 907.5,-286.5 907.5,-292.5 901.5,-298.5 895.5,-298.5\"/>\n",
       "<text text-anchor=\"start\" x=\"811.5\" y=\"-283.3\" font-family=\"Helvetica,sans-Serif\" font-size=\"14.00\">gini = 0.0</text>\n",
       "<text text-anchor=\"start\" x=\"801\" y=\"-268.3\" font-family=\"Helvetica,sans-Serif\" font-size=\"14.00\">samples = 3</text>\n",
       "<text text-anchor=\"start\" x=\"797.5\" y=\"-253.3\" font-family=\"Helvetica,sans-Serif\" font-size=\"14.00\">value = [0, 3]</text>\n",
       "<text text-anchor=\"start\" x=\"793.5\" y=\"-238.3\" font-family=\"Helvetica,sans-Serif\" font-size=\"14.00\">class = benign</text>\n",
       "</g>\n",
       "<!-- 16&#45;&gt;17 -->\n",
       "<g id=\"edge17\" class=\"edge\"><title>16&#45;&gt;17</title>\n",
       "<path fill=\"none\" stroke=\"black\" d=\"M922.907,-341.907C911.211,-330.211 898.457,-317.457 886.78,-305.78\"/>\n",
       "<polygon fill=\"black\" stroke=\"black\" points=\"889.213,-303.263 879.667,-298.667 884.263,-308.213 889.213,-303.263\"/>\n",
       "</g>\n",
       "<!-- 18 -->\n",
       "<g id=\"node19\" class=\"node\"><title>18</title>\n",
       "<path fill=\"#e58139\" stroke=\"black\" d=\"M1059,-298.5C1059,-298.5 938,-298.5 938,-298.5 932,-298.5 926,-292.5 926,-286.5 926,-286.5 926,-242.5 926,-242.5 926,-236.5 932,-230.5 938,-230.5 938,-230.5 1059,-230.5 1059,-230.5 1065,-230.5 1071,-236.5 1071,-242.5 1071,-242.5 1071,-286.5 1071,-286.5 1071,-292.5 1065,-298.5 1059,-298.5\"/>\n",
       "<text text-anchor=\"start\" x=\"963.5\" y=\"-283.3\" font-family=\"Helvetica,sans-Serif\" font-size=\"14.00\">gini = 0.0</text>\n",
       "<text text-anchor=\"start\" x=\"953\" y=\"-268.3\" font-family=\"Helvetica,sans-Serif\" font-size=\"14.00\">samples = 1</text>\n",
       "<text text-anchor=\"start\" x=\"949.5\" y=\"-253.3\" font-family=\"Helvetica,sans-Serif\" font-size=\"14.00\">value = [1, 0]</text>\n",
       "<text text-anchor=\"start\" x=\"934\" y=\"-238.3\" font-family=\"Helvetica,sans-Serif\" font-size=\"14.00\">class = malignant</text>\n",
       "</g>\n",
       "<!-- 16&#45;&gt;18 -->\n",
       "<g id=\"edge18\" class=\"edge\"><title>16&#45;&gt;18</title>\n",
       "<path fill=\"none\" stroke=\"black\" d=\"M975.643,-341.907C978.878,-331.094 982.383,-319.376 985.654,-308.441\"/>\n",
       "<polygon fill=\"black\" stroke=\"black\" points=\"989.065,-309.251 988.578,-298.667 982.359,-307.244 989.065,-309.251\"/>\n",
       "</g>\n",
       "<!-- 20 -->\n",
       "<g id=\"node21\" class=\"node\"><title>20</title>\n",
       "<path fill=\"#399de5\" stroke=\"black\" d=\"M1199.5,-298.5C1199.5,-298.5 1101.5,-298.5 1101.5,-298.5 1095.5,-298.5 1089.5,-292.5 1089.5,-286.5 1089.5,-286.5 1089.5,-242.5 1089.5,-242.5 1089.5,-236.5 1095.5,-230.5 1101.5,-230.5 1101.5,-230.5 1199.5,-230.5 1199.5,-230.5 1205.5,-230.5 1211.5,-236.5 1211.5,-242.5 1211.5,-242.5 1211.5,-286.5 1211.5,-286.5 1211.5,-292.5 1205.5,-298.5 1199.5,-298.5\"/>\n",
       "<text text-anchor=\"start\" x=\"1115.5\" y=\"-283.3\" font-family=\"Helvetica,sans-Serif\" font-size=\"14.00\">gini = 0.0</text>\n",
       "<text text-anchor=\"start\" x=\"1105\" y=\"-268.3\" font-family=\"Helvetica,sans-Serif\" font-size=\"14.00\">samples = 1</text>\n",
       "<text text-anchor=\"start\" x=\"1101.5\" y=\"-253.3\" font-family=\"Helvetica,sans-Serif\" font-size=\"14.00\">value = [0, 1]</text>\n",
       "<text text-anchor=\"start\" x=\"1097.5\" y=\"-238.3\" font-family=\"Helvetica,sans-Serif\" font-size=\"14.00\">class = benign</text>\n",
       "</g>\n",
       "<!-- 19&#45;&gt;20 -->\n",
       "<g id=\"edge20\" class=\"edge\"><title>19&#45;&gt;20</title>\n",
       "<path fill=\"none\" stroke=\"black\" d=\"M1173.36,-341.907C1170.12,-331.094 1166.62,-319.376 1163.35,-308.441\"/>\n",
       "<polygon fill=\"black\" stroke=\"black\" points=\"1166.64,-307.244 1160.42,-298.667 1159.93,-309.251 1166.64,-307.244\"/>\n",
       "</g>\n",
       "<!-- 21 -->\n",
       "<g id=\"node22\" class=\"node\"><title>21</title>\n",
       "<path fill=\"#e58139\" fill-opacity=\"0.929412\" stroke=\"black\" d=\"M1413,-306C1413,-306 1242,-306 1242,-306 1236,-306 1230,-300 1230,-294 1230,-294 1230,-235 1230,-235 1230,-229 1236,-223 1242,-223 1242,-223 1413,-223 1413,-223 1419,-223 1425,-229 1425,-235 1425,-235 1425,-294 1425,-294 1425,-300 1419,-306 1413,-306\"/>\n",
       "<text text-anchor=\"start\" x=\"1238\" y=\"-290.8\" font-family=\"Helvetica,sans-Serif\" font-size=\"14.00\">worst symmetry ≤ 0.278</text>\n",
       "<text text-anchor=\"start\" x=\"1283.5\" y=\"-275.8\" font-family=\"Helvetica,sans-Serif\" font-size=\"14.00\">gini = 0.124</text>\n",
       "<text text-anchor=\"start\" x=\"1277.5\" y=\"-260.8\" font-family=\"Helvetica,sans-Serif\" font-size=\"14.00\">samples = 15</text>\n",
       "<text text-anchor=\"start\" x=\"1274\" y=\"-245.8\" font-family=\"Helvetica,sans-Serif\" font-size=\"14.00\">value = [14, 1]</text>\n",
       "<text text-anchor=\"start\" x=\"1263\" y=\"-230.8\" font-family=\"Helvetica,sans-Serif\" font-size=\"14.00\">class = malignant</text>\n",
       "</g>\n",
       "<!-- 19&#45;&gt;21 -->\n",
       "<g id=\"edge21\" class=\"edge\"><title>19&#45;&gt;21</title>\n",
       "<path fill=\"none\" stroke=\"black\" d=\"M1234.77,-341.907C1246.22,-332.469 1258.51,-322.343 1270.28,-312.649\"/>\n",
       "<polygon fill=\"black\" stroke=\"black\" points=\"1272.83,-315.081 1278.32,-306.021 1268.38,-309.679 1272.83,-315.081\"/>\n",
       "</g>\n",
       "<!-- 22 -->\n",
       "<g id=\"node23\" class=\"node\"><title>22</title>\n",
       "<path fill=\"#e58139\" fill-opacity=\"0.666667\" stroke=\"black\" d=\"M1316,-187C1316,-187 1157,-187 1157,-187 1151,-187 1145,-181 1145,-175 1145,-175 1145,-116 1145,-116 1145,-110 1151,-104 1157,-104 1157,-104 1316,-104 1316,-104 1322,-104 1328,-110 1328,-116 1328,-116 1328,-175 1328,-175 1328,-181 1322,-187 1316,-187\"/>\n",
       "<text text-anchor=\"start\" x=\"1153\" y=\"-171.8\" font-family=\"Helvetica,sans-Serif\" font-size=\"14.00\">worst texture ≤ 25.525</text>\n",
       "<text text-anchor=\"start\" x=\"1192.5\" y=\"-156.8\" font-family=\"Helvetica,sans-Serif\" font-size=\"14.00\">gini = 0.375</text>\n",
       "<text text-anchor=\"start\" x=\"1191\" y=\"-141.8\" font-family=\"Helvetica,sans-Serif\" font-size=\"14.00\">samples = 4</text>\n",
       "<text text-anchor=\"start\" x=\"1187.5\" y=\"-126.8\" font-family=\"Helvetica,sans-Serif\" font-size=\"14.00\">value = [3, 1]</text>\n",
       "<text text-anchor=\"start\" x=\"1172\" y=\"-111.8\" font-family=\"Helvetica,sans-Serif\" font-size=\"14.00\">class = malignant</text>\n",
       "</g>\n",
       "<!-- 21&#45;&gt;22 -->\n",
       "<g id=\"edge22\" class=\"edge\"><title>21&#45;&gt;22</title>\n",
       "<path fill=\"none\" stroke=\"black\" d=\"M1295.93,-222.907C1288.94,-213.923 1281.47,-204.315 1274.26,-195.05\"/>\n",
       "<polygon fill=\"black\" stroke=\"black\" points=\"1276.92,-192.766 1268.02,-187.021 1271.39,-197.063 1276.92,-192.766\"/>\n",
       "</g>\n",
       "<!-- 25 -->\n",
       "<g id=\"node26\" class=\"node\"><title>25</title>\n",
       "<path fill=\"#e58139\" stroke=\"black\" d=\"M1479,-179.5C1479,-179.5 1358,-179.5 1358,-179.5 1352,-179.5 1346,-173.5 1346,-167.5 1346,-167.5 1346,-123.5 1346,-123.5 1346,-117.5 1352,-111.5 1358,-111.5 1358,-111.5 1479,-111.5 1479,-111.5 1485,-111.5 1491,-117.5 1491,-123.5 1491,-123.5 1491,-167.5 1491,-167.5 1491,-173.5 1485,-179.5 1479,-179.5\"/>\n",
       "<text text-anchor=\"start\" x=\"1383.5\" y=\"-164.3\" font-family=\"Helvetica,sans-Serif\" font-size=\"14.00\">gini = 0.0</text>\n",
       "<text text-anchor=\"start\" x=\"1368.5\" y=\"-149.3\" font-family=\"Helvetica,sans-Serif\" font-size=\"14.00\">samples = 11</text>\n",
       "<text text-anchor=\"start\" x=\"1365\" y=\"-134.3\" font-family=\"Helvetica,sans-Serif\" font-size=\"14.00\">value = [11, 0]</text>\n",
       "<text text-anchor=\"start\" x=\"1354\" y=\"-119.3\" font-family=\"Helvetica,sans-Serif\" font-size=\"14.00\">class = malignant</text>\n",
       "</g>\n",
       "<!-- 21&#45;&gt;25 -->\n",
       "<g id=\"edge25\" class=\"edge\"><title>21&#45;&gt;25</title>\n",
       "<path fill=\"none\" stroke=\"black\" d=\"M1359.07,-222.907C1367.91,-211.542 1377.53,-199.178 1386.4,-187.774\"/>\n",
       "<polygon fill=\"black\" stroke=\"black\" points=\"1389.33,-189.709 1392.7,-179.667 1383.8,-185.412 1389.33,-189.709\"/>\n",
       "</g>\n",
       "<!-- 23 -->\n",
       "<g id=\"node24\" class=\"node\"><title>23</title>\n",
       "<path fill=\"#399de5\" stroke=\"black\" d=\"M1209.5,-68C1209.5,-68 1111.5,-68 1111.5,-68 1105.5,-68 1099.5,-62 1099.5,-56 1099.5,-56 1099.5,-12 1099.5,-12 1099.5,-6 1105.5,-0 1111.5,-0 1111.5,-0 1209.5,-0 1209.5,-0 1215.5,-0 1221.5,-6 1221.5,-12 1221.5,-12 1221.5,-56 1221.5,-56 1221.5,-62 1215.5,-68 1209.5,-68\"/>\n",
       "<text text-anchor=\"start\" x=\"1125.5\" y=\"-52.8\" font-family=\"Helvetica,sans-Serif\" font-size=\"14.00\">gini = 0.0</text>\n",
       "<text text-anchor=\"start\" x=\"1115\" y=\"-37.8\" font-family=\"Helvetica,sans-Serif\" font-size=\"14.00\">samples = 1</text>\n",
       "<text text-anchor=\"start\" x=\"1111.5\" y=\"-22.8\" font-family=\"Helvetica,sans-Serif\" font-size=\"14.00\">value = [0, 1]</text>\n",
       "<text text-anchor=\"start\" x=\"1107.5\" y=\"-7.8\" font-family=\"Helvetica,sans-Serif\" font-size=\"14.00\">class = benign</text>\n",
       "</g>\n",
       "<!-- 22&#45;&gt;23 -->\n",
       "<g id=\"edge23\" class=\"edge\"><title>22&#45;&gt;23</title>\n",
       "<path fill=\"none\" stroke=\"black\" d=\"M1208.2,-103.726C1202.06,-94.879 1195.56,-85.51 1189.39,-76.6303\"/>\n",
       "<polygon fill=\"black\" stroke=\"black\" points=\"1192.19,-74.5191 1183.61,-68.2996 1186.44,-78.5104 1192.19,-74.5191\"/>\n",
       "</g>\n",
       "<!-- 24 -->\n",
       "<g id=\"node25\" class=\"node\"><title>24</title>\n",
       "<path fill=\"#e58139\" stroke=\"black\" d=\"M1373,-68C1373,-68 1252,-68 1252,-68 1246,-68 1240,-62 1240,-56 1240,-56 1240,-12 1240,-12 1240,-6 1246,-0 1252,-0 1252,-0 1373,-0 1373,-0 1379,-0 1385,-6 1385,-12 1385,-12 1385,-56 1385,-56 1385,-62 1379,-68 1373,-68\"/>\n",
       "<text text-anchor=\"start\" x=\"1277.5\" y=\"-52.8\" font-family=\"Helvetica,sans-Serif\" font-size=\"14.00\">gini = 0.0</text>\n",
       "<text text-anchor=\"start\" x=\"1267\" y=\"-37.8\" font-family=\"Helvetica,sans-Serif\" font-size=\"14.00\">samples = 3</text>\n",
       "<text text-anchor=\"start\" x=\"1263.5\" y=\"-22.8\" font-family=\"Helvetica,sans-Serif\" font-size=\"14.00\">value = [3, 0]</text>\n",
       "<text text-anchor=\"start\" x=\"1248\" y=\"-7.8\" font-family=\"Helvetica,sans-Serif\" font-size=\"14.00\">class = malignant</text>\n",
       "</g>\n",
       "<!-- 22&#45;&gt;24 -->\n",
       "<g id=\"edge24\" class=\"edge\"><title>22&#45;&gt;24</title>\n",
       "<path fill=\"none\" stroke=\"black\" d=\"M1264.8,-103.726C1270.94,-94.879 1277.44,-85.51 1283.61,-76.6303\"/>\n",
       "<polygon fill=\"black\" stroke=\"black\" points=\"1286.56,-78.5104 1289.39,-68.2996 1280.81,-74.5191 1286.56,-78.5104\"/>\n",
       "</g>\n",
       "<!-- 27 -->\n",
       "<g id=\"node28\" class=\"node\"><title>27</title>\n",
       "<path fill=\"#e58139\" fill-opacity=\"0.960784\" stroke=\"black\" d=\"M1660,-544C1660,-544 1481,-544 1481,-544 1475,-544 1469,-538 1469,-532 1469,-532 1469,-473 1469,-473 1469,-467 1475,-461 1481,-461 1481,-461 1660,-461 1660,-461 1666,-461 1672,-467 1672,-473 1672,-473 1672,-532 1672,-532 1672,-538 1666,-544 1660,-544\"/>\n",
       "<text text-anchor=\"start\" x=\"1477\" y=\"-528.8\" font-family=\"Helvetica,sans-Serif\" font-size=\"14.00\">worst perimeter ≤ 103.15</text>\n",
       "<text text-anchor=\"start\" x=\"1526.5\" y=\"-513.8\" font-family=\"Helvetica,sans-Serif\" font-size=\"14.00\">gini = 0.073</text>\n",
       "<text text-anchor=\"start\" x=\"1516\" y=\"-498.8\" font-family=\"Helvetica,sans-Serif\" font-size=\"14.00\">samples = 131</text>\n",
       "<text text-anchor=\"start\" x=\"1512.5\" y=\"-483.8\" font-family=\"Helvetica,sans-Serif\" font-size=\"14.00\">value = [126, 5]</text>\n",
       "<text text-anchor=\"start\" x=\"1506\" y=\"-468.8\" font-family=\"Helvetica,sans-Serif\" font-size=\"14.00\">class = malignant</text>\n",
       "</g>\n",
       "<!-- 26&#45;&gt;27 -->\n",
       "<g id=\"edge27\" class=\"edge\"><title>26&#45;&gt;27</title>\n",
       "<path fill=\"none\" stroke=\"black\" d=\"M1570.5,-579.907C1570.5,-571.649 1570.5,-562.864 1570.5,-554.302\"/>\n",
       "<polygon fill=\"black\" stroke=\"black\" points=\"1574,-554.021 1570.5,-544.021 1567,-554.021 1574,-554.021\"/>\n",
       "</g>\n",
       "<!-- 36 -->\n",
       "<g id=\"node37\" class=\"node\"><title>36</title>\n",
       "<path fill=\"#399de5\" stroke=\"black\" d=\"M1800.5,-536.5C1800.5,-536.5 1702.5,-536.5 1702.5,-536.5 1696.5,-536.5 1690.5,-530.5 1690.5,-524.5 1690.5,-524.5 1690.5,-480.5 1690.5,-480.5 1690.5,-474.5 1696.5,-468.5 1702.5,-468.5 1702.5,-468.5 1800.5,-468.5 1800.5,-468.5 1806.5,-468.5 1812.5,-474.5 1812.5,-480.5 1812.5,-480.5 1812.5,-524.5 1812.5,-524.5 1812.5,-530.5 1806.5,-536.5 1800.5,-536.5\"/>\n",
       "<text text-anchor=\"start\" x=\"1716.5\" y=\"-521.3\" font-family=\"Helvetica,sans-Serif\" font-size=\"14.00\">gini = 0.0</text>\n",
       "<text text-anchor=\"start\" x=\"1706\" y=\"-506.3\" font-family=\"Helvetica,sans-Serif\" font-size=\"14.00\">samples = 2</text>\n",
       "<text text-anchor=\"start\" x=\"1702.5\" y=\"-491.3\" font-family=\"Helvetica,sans-Serif\" font-size=\"14.00\">value = [0, 2]</text>\n",
       "<text text-anchor=\"start\" x=\"1698.5\" y=\"-476.3\" font-family=\"Helvetica,sans-Serif\" font-size=\"14.00\">class = benign</text>\n",
       "</g>\n",
       "<!-- 26&#45;&gt;36 -->\n",
       "<g id=\"edge36\" class=\"edge\"><title>26&#45;&gt;36</title>\n",
       "<path fill=\"none\" stroke=\"black\" d=\"M1633.3,-579.907C1652.25,-567.659 1672.99,-554.252 1691.73,-542.135\"/>\n",
       "<polygon fill=\"black\" stroke=\"black\" points=\"1693.69,-545.035 1700.19,-536.667 1689.89,-539.156 1693.69,-545.035\"/>\n",
       "</g>\n",
       "<!-- 28 -->\n",
       "<g id=\"node29\" class=\"node\"><title>28</title>\n",
       "<path fill=\"#399de5\" fill-opacity=\"0.498039\" stroke=\"black\" d=\"M1658.5,-425C1658.5,-425 1482.5,-425 1482.5,-425 1476.5,-425 1470.5,-419 1470.5,-413 1470.5,-413 1470.5,-354 1470.5,-354 1470.5,-348 1476.5,-342 1482.5,-342 1482.5,-342 1658.5,-342 1658.5,-342 1664.5,-342 1670.5,-348 1670.5,-354 1670.5,-354 1670.5,-413 1670.5,-413 1670.5,-419 1664.5,-425 1658.5,-425\"/>\n",
       "<text text-anchor=\"start\" x=\"1478.5\" y=\"-409.8\" font-family=\"Helvetica,sans-Serif\" font-size=\"14.00\">worst smoothness ≤ 0.17</text>\n",
       "<text text-anchor=\"start\" x=\"1526.5\" y=\"-394.8\" font-family=\"Helvetica,sans-Serif\" font-size=\"14.00\">gini = 0.444</text>\n",
       "<text text-anchor=\"start\" x=\"1525\" y=\"-379.8\" font-family=\"Helvetica,sans-Serif\" font-size=\"14.00\">samples = 6</text>\n",
       "<text text-anchor=\"start\" x=\"1521.5\" y=\"-364.8\" font-family=\"Helvetica,sans-Serif\" font-size=\"14.00\">value = [2, 4]</text>\n",
       "<text text-anchor=\"start\" x=\"1517.5\" y=\"-349.8\" font-family=\"Helvetica,sans-Serif\" font-size=\"14.00\">class = benign</text>\n",
       "</g>\n",
       "<!-- 27&#45;&gt;28 -->\n",
       "<g id=\"edge28\" class=\"edge\"><title>27&#45;&gt;28</title>\n",
       "<path fill=\"none\" stroke=\"black\" d=\"M1570.5,-460.907C1570.5,-452.649 1570.5,-443.864 1570.5,-435.302\"/>\n",
       "<polygon fill=\"black\" stroke=\"black\" points=\"1574,-435.021 1570.5,-425.021 1567,-435.021 1574,-435.021\"/>\n",
       "</g>\n",
       "<!-- 31 -->\n",
       "<g id=\"node32\" class=\"node\"><title>31</title>\n",
       "<path fill=\"#e58139\" fill-opacity=\"0.992157\" stroke=\"black\" d=\"M1929,-425C1929,-425 1768,-425 1768,-425 1762,-425 1756,-419 1756,-413 1756,-413 1756,-354 1756,-354 1756,-348 1762,-342 1768,-342 1768,-342 1929,-342 1929,-342 1935,-342 1941,-348 1941,-354 1941,-354 1941,-413 1941,-413 1941,-419 1935,-425 1929,-425\"/>\n",
       "<text text-anchor=\"start\" x=\"1764\" y=\"-409.8\" font-family=\"Helvetica,sans-Serif\" font-size=\"14.00\">mean texture ≤ 15.345</text>\n",
       "<text text-anchor=\"start\" x=\"1804.5\" y=\"-394.8\" font-family=\"Helvetica,sans-Serif\" font-size=\"14.00\">gini = 0.016</text>\n",
       "<text text-anchor=\"start\" x=\"1794\" y=\"-379.8\" font-family=\"Helvetica,sans-Serif\" font-size=\"14.00\">samples = 125</text>\n",
       "<text text-anchor=\"start\" x=\"1790.5\" y=\"-364.8\" font-family=\"Helvetica,sans-Serif\" font-size=\"14.00\">value = [124, 1]</text>\n",
       "<text text-anchor=\"start\" x=\"1784\" y=\"-349.8\" font-family=\"Helvetica,sans-Serif\" font-size=\"14.00\">class = malignant</text>\n",
       "</g>\n",
       "<!-- 27&#45;&gt;31 -->\n",
       "<g id=\"edge31\" class=\"edge\"><title>27&#45;&gt;31</title>\n",
       "<path fill=\"none\" stroke=\"black\" d=\"M1666.95,-460.907C1692.65,-450.092 1720.5,-438.372 1746.48,-427.435\"/>\n",
       "<polygon fill=\"black\" stroke=\"black\" points=\"1748.11,-430.549 1755.97,-423.444 1745.39,-424.097 1748.11,-430.549\"/>\n",
       "</g>\n",
       "<!-- 29 -->\n",
       "<g id=\"node30\" class=\"node\"><title>29</title>\n",
       "<path fill=\"#399de5\" stroke=\"black\" d=\"M1553.5,-298.5C1553.5,-298.5 1455.5,-298.5 1455.5,-298.5 1449.5,-298.5 1443.5,-292.5 1443.5,-286.5 1443.5,-286.5 1443.5,-242.5 1443.5,-242.5 1443.5,-236.5 1449.5,-230.5 1455.5,-230.5 1455.5,-230.5 1553.5,-230.5 1553.5,-230.5 1559.5,-230.5 1565.5,-236.5 1565.5,-242.5 1565.5,-242.5 1565.5,-286.5 1565.5,-286.5 1565.5,-292.5 1559.5,-298.5 1553.5,-298.5\"/>\n",
       "<text text-anchor=\"start\" x=\"1469.5\" y=\"-283.3\" font-family=\"Helvetica,sans-Serif\" font-size=\"14.00\">gini = 0.0</text>\n",
       "<text text-anchor=\"start\" x=\"1459\" y=\"-268.3\" font-family=\"Helvetica,sans-Serif\" font-size=\"14.00\">samples = 4</text>\n",
       "<text text-anchor=\"start\" x=\"1455.5\" y=\"-253.3\" font-family=\"Helvetica,sans-Serif\" font-size=\"14.00\">value = [0, 4]</text>\n",
       "<text text-anchor=\"start\" x=\"1451.5\" y=\"-238.3\" font-family=\"Helvetica,sans-Serif\" font-size=\"14.00\">class = benign</text>\n",
       "</g>\n",
       "<!-- 28&#45;&gt;29 -->\n",
       "<g id=\"edge29\" class=\"edge\"><title>28&#45;&gt;29</title>\n",
       "<path fill=\"none\" stroke=\"black\" d=\"M1547.6,-341.907C1541.31,-330.763 1534.49,-318.658 1528.16,-307.439\"/>\n",
       "<polygon fill=\"black\" stroke=\"black\" points=\"1531.17,-305.657 1523.21,-298.667 1525.07,-309.096 1531.17,-305.657\"/>\n",
       "</g>\n",
       "<!-- 30 -->\n",
       "<g id=\"node31\" class=\"node\"><title>30</title>\n",
       "<path fill=\"#e58139\" stroke=\"black\" d=\"M1717,-298.5C1717,-298.5 1596,-298.5 1596,-298.5 1590,-298.5 1584,-292.5 1584,-286.5 1584,-286.5 1584,-242.5 1584,-242.5 1584,-236.5 1590,-230.5 1596,-230.5 1596,-230.5 1717,-230.5 1717,-230.5 1723,-230.5 1729,-236.5 1729,-242.5 1729,-242.5 1729,-286.5 1729,-286.5 1729,-292.5 1723,-298.5 1717,-298.5\"/>\n",
       "<text text-anchor=\"start\" x=\"1621.5\" y=\"-283.3\" font-family=\"Helvetica,sans-Serif\" font-size=\"14.00\">gini = 0.0</text>\n",
       "<text text-anchor=\"start\" x=\"1611\" y=\"-268.3\" font-family=\"Helvetica,sans-Serif\" font-size=\"14.00\">samples = 2</text>\n",
       "<text text-anchor=\"start\" x=\"1607.5\" y=\"-253.3\" font-family=\"Helvetica,sans-Serif\" font-size=\"14.00\">value = [2, 0]</text>\n",
       "<text text-anchor=\"start\" x=\"1592\" y=\"-238.3\" font-family=\"Helvetica,sans-Serif\" font-size=\"14.00\">class = malignant</text>\n",
       "</g>\n",
       "<!-- 28&#45;&gt;30 -->\n",
       "<g id=\"edge30\" class=\"edge\"><title>28&#45;&gt;30</title>\n",
       "<path fill=\"none\" stroke=\"black\" d=\"M1600.34,-341.907C1608.69,-330.542 1617.78,-318.178 1626.16,-306.774\"/>\n",
       "<polygon fill=\"black\" stroke=\"black\" points=\"1629.02,-308.797 1632.12,-298.667 1623.38,-304.652 1629.02,-308.797\"/>\n",
       "</g>\n",
       "<!-- 32 -->\n",
       "<g id=\"node33\" class=\"node\"><title>32</title>\n",
       "<path fill=\"#e58139\" fill-opacity=\"0.498039\" stroke=\"black\" d=\"M1938,-306C1938,-306 1759,-306 1759,-306 1753,-306 1747,-300 1747,-294 1747,-294 1747,-235 1747,-235 1747,-229 1753,-223 1759,-223 1759,-223 1938,-223 1938,-223 1944,-223 1950,-229 1950,-235 1950,-235 1950,-294 1950,-294 1950,-300 1944,-306 1938,-306\"/>\n",
       "<text text-anchor=\"start\" x=\"1755\" y=\"-290.8\" font-family=\"Helvetica,sans-Serif\" font-size=\"14.00\">worst perimeter ≤ 116.85</text>\n",
       "<text text-anchor=\"start\" x=\"1804.5\" y=\"-275.8\" font-family=\"Helvetica,sans-Serif\" font-size=\"14.00\">gini = 0.444</text>\n",
       "<text text-anchor=\"start\" x=\"1803\" y=\"-260.8\" font-family=\"Helvetica,sans-Serif\" font-size=\"14.00\">samples = 3</text>\n",
       "<text text-anchor=\"start\" x=\"1799.5\" y=\"-245.8\" font-family=\"Helvetica,sans-Serif\" font-size=\"14.00\">value = [2, 1]</text>\n",
       "<text text-anchor=\"start\" x=\"1784\" y=\"-230.8\" font-family=\"Helvetica,sans-Serif\" font-size=\"14.00\">class = malignant</text>\n",
       "</g>\n",
       "<!-- 31&#45;&gt;32 -->\n",
       "<g id=\"edge32\" class=\"edge\"><title>31&#45;&gt;32</title>\n",
       "<path fill=\"none\" stroke=\"black\" d=\"M1848.5,-341.907C1848.5,-333.649 1848.5,-324.864 1848.5,-316.302\"/>\n",
       "<polygon fill=\"black\" stroke=\"black\" points=\"1852,-316.021 1848.5,-306.021 1845,-316.021 1852,-316.021\"/>\n",
       "</g>\n",
       "<!-- 35 -->\n",
       "<g id=\"node36\" class=\"node\"><title>35</title>\n",
       "<path fill=\"#e58139\" stroke=\"black\" d=\"M2101,-298.5C2101,-298.5 1980,-298.5 1980,-298.5 1974,-298.5 1968,-292.5 1968,-286.5 1968,-286.5 1968,-242.5 1968,-242.5 1968,-236.5 1974,-230.5 1980,-230.5 1980,-230.5 2101,-230.5 2101,-230.5 2107,-230.5 2113,-236.5 2113,-242.5 2113,-242.5 2113,-286.5 2113,-286.5 2113,-292.5 2107,-298.5 2101,-298.5\"/>\n",
       "<text text-anchor=\"start\" x=\"2005.5\" y=\"-283.3\" font-family=\"Helvetica,sans-Serif\" font-size=\"14.00\">gini = 0.0</text>\n",
       "<text text-anchor=\"start\" x=\"1986\" y=\"-268.3\" font-family=\"Helvetica,sans-Serif\" font-size=\"14.00\">samples = 122</text>\n",
       "<text text-anchor=\"start\" x=\"1982.5\" y=\"-253.3\" font-family=\"Helvetica,sans-Serif\" font-size=\"14.00\">value = [122, 0]</text>\n",
       "<text text-anchor=\"start\" x=\"1976\" y=\"-238.3\" font-family=\"Helvetica,sans-Serif\" font-size=\"14.00\">class = malignant</text>\n",
       "</g>\n",
       "<!-- 31&#45;&gt;35 -->\n",
       "<g id=\"edge35\" class=\"edge\"><title>31&#45;&gt;35</title>\n",
       "<path fill=\"none\" stroke=\"black\" d=\"M1915.11,-341.907C1935.3,-329.604 1957.41,-316.131 1977.37,-303.971\"/>\n",
       "<polygon fill=\"black\" stroke=\"black\" points=\"1979.35,-306.859 1986.07,-298.667 1975.71,-300.882 1979.35,-306.859\"/>\n",
       "</g>\n",
       "<!-- 33 -->\n",
       "<g id=\"node34\" class=\"node\"><title>33</title>\n",
       "<path fill=\"#399de5\" stroke=\"black\" d=\"M1821.5,-179.5C1821.5,-179.5 1723.5,-179.5 1723.5,-179.5 1717.5,-179.5 1711.5,-173.5 1711.5,-167.5 1711.5,-167.5 1711.5,-123.5 1711.5,-123.5 1711.5,-117.5 1717.5,-111.5 1723.5,-111.5 1723.5,-111.5 1821.5,-111.5 1821.5,-111.5 1827.5,-111.5 1833.5,-117.5 1833.5,-123.5 1833.5,-123.5 1833.5,-167.5 1833.5,-167.5 1833.5,-173.5 1827.5,-179.5 1821.5,-179.5\"/>\n",
       "<text text-anchor=\"start\" x=\"1737.5\" y=\"-164.3\" font-family=\"Helvetica,sans-Serif\" font-size=\"14.00\">gini = 0.0</text>\n",
       "<text text-anchor=\"start\" x=\"1727\" y=\"-149.3\" font-family=\"Helvetica,sans-Serif\" font-size=\"14.00\">samples = 1</text>\n",
       "<text text-anchor=\"start\" x=\"1723.5\" y=\"-134.3\" font-family=\"Helvetica,sans-Serif\" font-size=\"14.00\">value = [0, 1]</text>\n",
       "<text text-anchor=\"start\" x=\"1719.5\" y=\"-119.3\" font-family=\"Helvetica,sans-Serif\" font-size=\"14.00\">class = benign</text>\n",
       "</g>\n",
       "<!-- 32&#45;&gt;33 -->\n",
       "<g id=\"edge33\" class=\"edge\"><title>32&#45;&gt;33</title>\n",
       "<path fill=\"none\" stroke=\"black\" d=\"M1822.13,-222.907C1814.82,-211.652 1806.87,-199.418 1799.53,-188.106\"/>\n",
       "<polygon fill=\"black\" stroke=\"black\" points=\"1802.43,-186.146 1794.04,-179.667 1796.56,-189.96 1802.43,-186.146\"/>\n",
       "</g>\n",
       "<!-- 34 -->\n",
       "<g id=\"node35\" class=\"node\"><title>34</title>\n",
       "<path fill=\"#e58139\" stroke=\"black\" d=\"M1985,-179.5C1985,-179.5 1864,-179.5 1864,-179.5 1858,-179.5 1852,-173.5 1852,-167.5 1852,-167.5 1852,-123.5 1852,-123.5 1852,-117.5 1858,-111.5 1864,-111.5 1864,-111.5 1985,-111.5 1985,-111.5 1991,-111.5 1997,-117.5 1997,-123.5 1997,-123.5 1997,-167.5 1997,-167.5 1997,-173.5 1991,-179.5 1985,-179.5\"/>\n",
       "<text text-anchor=\"start\" x=\"1889.5\" y=\"-164.3\" font-family=\"Helvetica,sans-Serif\" font-size=\"14.00\">gini = 0.0</text>\n",
       "<text text-anchor=\"start\" x=\"1879\" y=\"-149.3\" font-family=\"Helvetica,sans-Serif\" font-size=\"14.00\">samples = 2</text>\n",
       "<text text-anchor=\"start\" x=\"1875.5\" y=\"-134.3\" font-family=\"Helvetica,sans-Serif\" font-size=\"14.00\">value = [2, 0]</text>\n",
       "<text text-anchor=\"start\" x=\"1860\" y=\"-119.3\" font-family=\"Helvetica,sans-Serif\" font-size=\"14.00\">class = malignant</text>\n",
       "</g>\n",
       "<!-- 32&#45;&gt;34 -->\n",
       "<g id=\"edge34\" class=\"edge\"><title>32&#45;&gt;34</title>\n",
       "<path fill=\"none\" stroke=\"black\" d=\"M1874.87,-222.907C1882.18,-211.652 1890.13,-199.418 1897.47,-188.106\"/>\n",
       "<polygon fill=\"black\" stroke=\"black\" points=\"1900.44,-189.96 1902.96,-179.667 1894.57,-186.146 1900.44,-189.96\"/>\n",
       "</g>\n",
       "</g>\n",
       "</svg>\n"
      ],
      "text/plain": [
       "<graphviz.files.Source at 0x7f908e3ef0b8>"
      ]
     },
     "execution_count": 28,
     "metadata": {
      "tags": []
     },
     "output_type": "execute_result"
    }
   ],
   "source": [
    "### Your solution\n",
    "#raise NotImplementedError\n",
    "\n",
    "dot_data = tree.export_graphviz(clf_grid.best_estimator_, out_file=None, \n",
    "                         feature_names=breast.feature_names,  \n",
    "                         class_names=breast.target_names,  \n",
    "                         filled=True, rounded=True,  \n",
    "                         special_characters=True)  \n",
    "graph = graphviz.Source(dot_data)  \n",
    "graph"
   ]
  },
  {
   "cell_type": "markdown",
   "metadata": {
    "colab_type": "text",
    "id": "ScvHV4yefNrz"
   },
   "source": [
    "**Krok 6:** Czas na zabawę! Spróbuj dopasować inne parametry i poprawić powyższy wynik."
   ]
  },
  {
   "cell_type": "code",
   "execution_count": 0,
   "metadata": {
    "colab": {},
    "colab_type": "code",
    "id": "RgYXrPV8diHh"
   },
   "outputs": [],
   "source": []
  }
 ],
 "metadata": {
  "accelerator": "GPU",
  "colab": {
   "collapsed_sections": [],
   "name": "Classification_trees.ipynb",
   "provenance": [],
   "version": "0.3.2"
  },
  "kernelspec": {
   "display_name": "Python 3",
   "language": "python",
   "name": "python3"
  },
  "language_info": {
   "codemirror_mode": {
    "name": "ipython",
    "version": 3
   },
   "file_extension": ".py",
   "mimetype": "text/x-python",
   "name": "python",
   "nbconvert_exporter": "python",
   "pygments_lexer": "ipython3",
   "version": "3.6.7"
  }
 },
 "nbformat": 4,
 "nbformat_minor": 1
}
