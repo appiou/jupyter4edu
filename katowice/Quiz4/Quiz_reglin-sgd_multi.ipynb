{
 "cells": [
  {
   "cell_type": "markdown",
   "metadata": {
    "lang": "pl",
    "nbgrader": {
     "grade": false,
     "grade_id": "cell-c6807741c0de771a",
     "locked": true,
     "schema_version": 1,
     "solution": false
    }
   },
   "source": [
    "## Regresja liniowa wielu zmiennych\n",
    "\n"
   ]
  },
  {
   "cell_type": "markdown",
   "metadata": {
    "lang": "en"
   },
   "source": [
    "## Linear regression of many variables"
   ]
  },
  {
   "cell_type": "code",
   "execution_count": 2,
   "metadata": {
    "nbgrader": {
     "grade": false,
     "grade_id": "cell-0ea66fab73cc3d33",
     "locked": true,
     "schema_version": 1,
     "solution": false
    }
   },
   "outputs": [],
   "source": [
    "%matplotlib notebook \n",
    "import numpy as np \n",
    "from time import sleep\n",
    "import matplotlib.pyplot as plt\n",
    "\n",
    "\n",
    "x = np.array([-2.29399323, -1.43363036, -0.52468804])\n",
    "y = np.array([-7.77733551, -2.70740336, -2.41251556,])\n",
    "m = x.shape[0]\n"
   ]
  },
  {
   "cell_type": "code",
   "execution_count": null,
   "metadata": {
    "nbgrader": {
     "grade": false,
     "grade_id": "cell-f4746d5caa5399c0",
     "locked": true,
     "schema_version": 1,
     "solution": false
    }
   },
   "outputs": [],
   "source": []
  },
  {
   "cell_type": "markdown",
   "metadata": {
    "lang": "pl",
    "nbgrader": {
     "grade": false,
     "grade_id": "cell-90ba3def1b18d569",
     "locked": true,
     "schema_version": 1,
     "solution": false
    }
   },
   "source": [
    "Tworzymy  z potęg $x$ sztuczne cechy $x^2,x^3,...$. \n",
    "\n",
    "Chcemy rozwiązać problem regresji liniowej wielu zmiennych - czyli dopasowania funkcji liniowej wielu zmiennych do danych.\n",
    "\n",
    "$$y_i = \\sum_j w_j x_{ij} + b$$\n",
    "\n",
    "\n",
    " - $N$ to wymiar przestrzeni cech\n",
    " - $m$ - liczba przykładów"
   ]
  },
  {
   "cell_type": "markdown",
   "metadata": {
    "lang": "en"
   },
   "source": [
    "We create $x^2,x^3,...$ with the $x$ powers.\n",
    "\n",
    "We want to solve the problem of linear regression of many variables - that is, adjusting the linear function of many variables to data.\n",
    "\n",
    "$$y_i = \\sum_j w_j x_{ij} + b$$\n",
    "\n",
    "\n",
    " - $N$ is the dimension of feature space\n",
    " - $m$ - number of examples"
   ]
  },
  {
   "cell_type": "code",
   "execution_count": 3,
   "metadata": {},
   "outputs": [
    {
     "data": {
      "text/plain": [
       "(3, 2)"
      ]
     },
     "execution_count": 3,
     "metadata": {},
     "output_type": "execute_result"
    }
   ],
   "source": [
    "N = 2\n",
    "X = np.stack([x**i for i in range(1,N+1)]).T\n",
    "X_orig = X.copy()\n",
    "y_orig = y.copy()\n",
    "X.shape"
   ]
  },
  {
   "cell_type": "code",
   "execution_count": 4,
   "metadata": {
    "nbgrader": {
     "grade": false,
     "grade_id": "cell-c17f3b391351b636",
     "locked": true,
     "schema_version": 1,
     "solution": false
    }
   },
   "outputs": [
    {
     "data": {
      "text/plain": [
       "array([1., 1.])"
      ]
     },
     "execution_count": 4,
     "metadata": {},
     "output_type": "execute_result"
    }
   ],
   "source": [
    "w, b = np.ones(N), 0.1\n",
    "w"
   ]
  },
  {
   "cell_type": "code",
   "execution_count": null,
   "metadata": {},
   "outputs": [],
   "source": []
  },
  {
   "cell_type": "markdown",
   "metadata": {
    "lang": "pl",
    "nbgrader": {
     "grade": false,
     "grade_id": "cell-73e71b9d7bfabbc3",
     "locked": true,
     "schema_version": 1,
     "solution": false
    }
   },
   "source": [
    "## Funkcja straty\n",
    "\n",
    "Funkcją straty będzie suma kwadratów odchyleń przewidywania modelu od rzeczywistej wartości:\n",
    "\n",
    "$$ L = \\frac{1}{2m} \\sum_{i=0}^{m-1} ( \\sum_{j=0}^{N-1} w_j x_{ij} +b - y_i)^2$$\n",
    "\n",
    "### Zadanie 1:  zaimplementuj powyższą funkcję straty"
   ]
  },
  {
   "cell_type": "markdown",
   "metadata": {
    "lang": "en",
    "nbgrader": {
     "grade": false,
     "grade_id": "cell-a03e2fceb16d8270",
     "locked": true,
     "schema_version": 1,
     "solution": false
    }
   },
   "source": [
    "## Loss function\n",
    "\n",
    "The loss function will be the sum of the squares\n",
    "\n",
    "$$ L = \\frac{1}{2m} \\sum_{i=0}^{m-1} ( \\sum_{j=0}^{N-1} w_j x_{ij} +b - y_i)^2$$\n",
    "\n",
    "### Exercise 1: implement the loss function above"
   ]
  },
  {
   "cell_type": "code",
   "execution_count": 5,
   "metadata": {
    "nbgrader": {
     "grade": false,
     "grade_id": "cell-9d769269946a18db",
     "locked": false,
     "schema_version": 1,
     "solution": true
    }
   },
   "outputs": [],
   "source": [
    "L = None\n",
    "### BEGIN SOLUTION\n",
    "L = lambda w,b: 0.5/m*np.sum( (np.dot(X,w)+b-y)**2 )\n",
    "### END SOLUTION\n",
    "\n"
   ]
  },
  {
   "cell_type": "code",
   "execution_count": 6,
   "metadata": {
    "nbgrader": {
     "grade": true,
     "grade_id": "cell-793e6605ffd2e7e1",
     "locked": true,
     "points": 1,
     "schema_version": 1,
     "solution": false
    }
   },
   "outputs": [],
   "source": [
    "np.testing.assert_approx_equal(L(np.array([1,2]),3),76.863,significant=3)"
   ]
  },
  {
   "cell_type": "markdown",
   "metadata": {
    "lang": "pl",
    "nbgrader": {
     "grade": false,
     "grade_id": "cell-f8bd98ef0ec8b7a4",
     "locked": true,
     "schema_version": 1,
     "solution": false
    }
   },
   "source": [
    "### Zadanie 2\n",
    "\n",
    "Zaimplementuj gradienty\n",
    "\n",
    "$$\\frac{\\partial L}{\\partial w_j} = \\frac{\\partial  \\frac{1}{2m} \\sum_{i=0}^{m-1} (w\\cdot x_i+b - y_i)^2}{\\partial w_j}  = \n",
    "\\frac{1}{m} \\sum_{i=0}^{m-1} (w \\cdot x_i+b - y_i)  x_{ij}\n",
    "$$\n",
    "\n",
    "$$\\frac{\\partial L}{\\partial b} = \\frac{\\partial  \\frac{1}{2} \\sum_{i=0}^{m-1} (w\\cdot x_i+b - y_i)^2}{\\partial b}  = \n",
    "\\frac{1}{m} \\sum_{i=0}^{m-1} (w\\cdot x_i+b - y_i)  \n",
    "$$\n",
    "\n",
    "- $w\\cdot x_i $ oznacza iloczyn skalarny wag i cech dla $i$-tego przykładu\n",
    "\n"
   ]
  },
  {
   "cell_type": "markdown",
   "metadata": {
    "lang": "en",
    "nbgrader": {
     "grade": false,
     "grade_id": "cell-1ff3be9b7f9b7c1c",
     "locked": true,
     "schema_version": 1,
     "solution": false
    }
   },
   "source": [
    "### Exercise 2\n",
    "\n",
    "Implement gradients\n",
    "\n",
    "$$\\frac{\\partial L}{\\partial w_j} = \\frac{\\partial  \\frac{1}{2m} \\sum_{i=0}^{m-1} (w\\cdot x_i+b - y_i)^2}{\\partial w_j}  = \n",
    "\\frac{1}{m} \\sum_{i=0}^{m-1} (w \\cdot x_i+b - y_i)  x_{ij}\n",
    "$$\n",
    "\n",
    "$$\\frac{\\partial L}{\\partial b} = \\frac{\\partial  \\frac{1}{2} \\sum_{i=0}^{m-1} (w\\cdot x_i+b - y_i)^2}{\\partial b}  = \n",
    "\\frac{1}{m} \\sum_{i=0}^{m-1} (w\\cdot x_i+b - y_i)  \n",
    "$$\n",
    "\n",
    "- $w\\cdot x_i $ is the scalar product of weights and characteristics for the $i$th example"
   ]
  },
  {
   "cell_type": "code",
   "execution_count": 7,
   "metadata": {
    "nbgrader": {
     "grade": false,
     "grade_id": "cell-efaae9a2256d0f4c",
     "locked": false,
     "schema_version": 1,
     "solution": true
    }
   },
   "outputs": [
    {
     "data": {
      "text/plain": [
       "(array([-10.32784093,  21.58183278]), 5.512647095906201)"
      ]
     },
     "execution_count": 7,
     "metadata": {},
     "output_type": "execute_result"
    }
   ],
   "source": [
    "w, b = np.ones(N), 0.1\n",
    "\n",
    "### BEGIN SOLUTION\n",
    "dw = 1/m*((np.dot(X,w)+b-y).dot(X)) #+ 0.0*w\n",
    "db = 1/m*np.sum(np.dot(X,w)+b-y)\n",
    "### END SOLUTION\n",
    "dw,db"
   ]
  },
  {
   "cell_type": "code",
   "execution_count": 8,
   "metadata": {
    "nbgrader": {
     "grade": true,
     "grade_id": "cell-32a631f720536d30",
     "locked": true,
     "points": 2,
     "schema_version": 1,
     "solution": false
    }
   },
   "outputs": [],
   "source": [
    "np.testing.assert_approx_equal(db,5.5126470959062,significant=4)\n",
    "np.testing.assert_allclose(dw,np.array([-10.32784093,21.58183278]))"
   ]
  },
  {
   "cell_type": "code",
   "execution_count": 9,
   "metadata": {
    "scrolled": false
   },
   "outputs": [
    {
     "data": {
      "application/javascript": [
       "/* Put everything inside the global mpl namespace */\n",
       "window.mpl = {};\n",
       "\n",
       "\n",
       "mpl.get_websocket_type = function() {\n",
       "    if (typeof(WebSocket) !== 'undefined') {\n",
       "        return WebSocket;\n",
       "    } else if (typeof(MozWebSocket) !== 'undefined') {\n",
       "        return MozWebSocket;\n",
       "    } else {\n",
       "        alert('Your browser does not have WebSocket support.' +\n",
       "              'Please try Chrome, Safari or Firefox ≥ 6. ' +\n",
       "              'Firefox 4 and 5 are also supported but you ' +\n",
       "              'have to enable WebSockets in about:config.');\n",
       "    };\n",
       "}\n",
       "\n",
       "mpl.figure = function(figure_id, websocket, ondownload, parent_element) {\n",
       "    this.id = figure_id;\n",
       "\n",
       "    this.ws = websocket;\n",
       "\n",
       "    this.supports_binary = (this.ws.binaryType != undefined);\n",
       "\n",
       "    if (!this.supports_binary) {\n",
       "        var warnings = document.getElementById(\"mpl-warnings\");\n",
       "        if (warnings) {\n",
       "            warnings.style.display = 'block';\n",
       "            warnings.textContent = (\n",
       "                \"This browser does not support binary websocket messages. \" +\n",
       "                    \"Performance may be slow.\");\n",
       "        }\n",
       "    }\n",
       "\n",
       "    this.imageObj = new Image();\n",
       "\n",
       "    this.context = undefined;\n",
       "    this.message = undefined;\n",
       "    this.canvas = undefined;\n",
       "    this.rubberband_canvas = undefined;\n",
       "    this.rubberband_context = undefined;\n",
       "    this.format_dropdown = undefined;\n",
       "\n",
       "    this.image_mode = 'full';\n",
       "\n",
       "    this.root = $('<div/>');\n",
       "    this._root_extra_style(this.root)\n",
       "    this.root.attr('style', 'display: inline-block');\n",
       "\n",
       "    $(parent_element).append(this.root);\n",
       "\n",
       "    this._init_header(this);\n",
       "    this._init_canvas(this);\n",
       "    this._init_toolbar(this);\n",
       "\n",
       "    var fig = this;\n",
       "\n",
       "    this.waiting = false;\n",
       "\n",
       "    this.ws.onopen =  function () {\n",
       "            fig.send_message(\"supports_binary\", {value: fig.supports_binary});\n",
       "            fig.send_message(\"send_image_mode\", {});\n",
       "            if (mpl.ratio != 1) {\n",
       "                fig.send_message(\"set_dpi_ratio\", {'dpi_ratio': mpl.ratio});\n",
       "            }\n",
       "            fig.send_message(\"refresh\", {});\n",
       "        }\n",
       "\n",
       "    this.imageObj.onload = function() {\n",
       "            if (fig.image_mode == 'full') {\n",
       "                // Full images could contain transparency (where diff images\n",
       "                // almost always do), so we need to clear the canvas so that\n",
       "                // there is no ghosting.\n",
       "                fig.context.clearRect(0, 0, fig.canvas.width, fig.canvas.height);\n",
       "            }\n",
       "            fig.context.drawImage(fig.imageObj, 0, 0);\n",
       "        };\n",
       "\n",
       "    this.imageObj.onunload = function() {\n",
       "        fig.ws.close();\n",
       "    }\n",
       "\n",
       "    this.ws.onmessage = this._make_on_message_function(this);\n",
       "\n",
       "    this.ondownload = ondownload;\n",
       "}\n",
       "\n",
       "mpl.figure.prototype._init_header = function() {\n",
       "    var titlebar = $(\n",
       "        '<div class=\"ui-dialog-titlebar ui-widget-header ui-corner-all ' +\n",
       "        'ui-helper-clearfix\"/>');\n",
       "    var titletext = $(\n",
       "        '<div class=\"ui-dialog-title\" style=\"width: 100%; ' +\n",
       "        'text-align: center; padding: 3px;\"/>');\n",
       "    titlebar.append(titletext)\n",
       "    this.root.append(titlebar);\n",
       "    this.header = titletext[0];\n",
       "}\n",
       "\n",
       "\n",
       "\n",
       "mpl.figure.prototype._canvas_extra_style = function(canvas_div) {\n",
       "\n",
       "}\n",
       "\n",
       "\n",
       "mpl.figure.prototype._root_extra_style = function(canvas_div) {\n",
       "\n",
       "}\n",
       "\n",
       "mpl.figure.prototype._init_canvas = function() {\n",
       "    var fig = this;\n",
       "\n",
       "    var canvas_div = $('<div/>');\n",
       "\n",
       "    canvas_div.attr('style', 'position: relative; clear: both; outline: 0');\n",
       "\n",
       "    function canvas_keyboard_event(event) {\n",
       "        return fig.key_event(event, event['data']);\n",
       "    }\n",
       "\n",
       "    canvas_div.keydown('key_press', canvas_keyboard_event);\n",
       "    canvas_div.keyup('key_release', canvas_keyboard_event);\n",
       "    this.canvas_div = canvas_div\n",
       "    this._canvas_extra_style(canvas_div)\n",
       "    this.root.append(canvas_div);\n",
       "\n",
       "    var canvas = $('<canvas/>');\n",
       "    canvas.addClass('mpl-canvas');\n",
       "    canvas.attr('style', \"left: 0; top: 0; z-index: 0; outline: 0\")\n",
       "\n",
       "    this.canvas = canvas[0];\n",
       "    this.context = canvas[0].getContext(\"2d\");\n",
       "\n",
       "    var backingStore = this.context.backingStorePixelRatio ||\n",
       "\tthis.context.webkitBackingStorePixelRatio ||\n",
       "\tthis.context.mozBackingStorePixelRatio ||\n",
       "\tthis.context.msBackingStorePixelRatio ||\n",
       "\tthis.context.oBackingStorePixelRatio ||\n",
       "\tthis.context.backingStorePixelRatio || 1;\n",
       "\n",
       "    mpl.ratio = (window.devicePixelRatio || 1) / backingStore;\n",
       "\n",
       "    var rubberband = $('<canvas/>');\n",
       "    rubberband.attr('style', \"position: absolute; left: 0; top: 0; z-index: 1;\")\n",
       "\n",
       "    var pass_mouse_events = true;\n",
       "\n",
       "    canvas_div.resizable({\n",
       "        start: function(event, ui) {\n",
       "            pass_mouse_events = false;\n",
       "        },\n",
       "        resize: function(event, ui) {\n",
       "            fig.request_resize(ui.size.width, ui.size.height);\n",
       "        },\n",
       "        stop: function(event, ui) {\n",
       "            pass_mouse_events = true;\n",
       "            fig.request_resize(ui.size.width, ui.size.height);\n",
       "        },\n",
       "    });\n",
       "\n",
       "    function mouse_event_fn(event) {\n",
       "        if (pass_mouse_events)\n",
       "            return fig.mouse_event(event, event['data']);\n",
       "    }\n",
       "\n",
       "    rubberband.mousedown('button_press', mouse_event_fn);\n",
       "    rubberband.mouseup('button_release', mouse_event_fn);\n",
       "    // Throttle sequential mouse events to 1 every 20ms.\n",
       "    rubberband.mousemove('motion_notify', mouse_event_fn);\n",
       "\n",
       "    rubberband.mouseenter('figure_enter', mouse_event_fn);\n",
       "    rubberband.mouseleave('figure_leave', mouse_event_fn);\n",
       "\n",
       "    canvas_div.on(\"wheel\", function (event) {\n",
       "        event = event.originalEvent;\n",
       "        event['data'] = 'scroll'\n",
       "        if (event.deltaY < 0) {\n",
       "            event.step = 1;\n",
       "        } else {\n",
       "            event.step = -1;\n",
       "        }\n",
       "        mouse_event_fn(event);\n",
       "    });\n",
       "\n",
       "    canvas_div.append(canvas);\n",
       "    canvas_div.append(rubberband);\n",
       "\n",
       "    this.rubberband = rubberband;\n",
       "    this.rubberband_canvas = rubberband[0];\n",
       "    this.rubberband_context = rubberband[0].getContext(\"2d\");\n",
       "    this.rubberband_context.strokeStyle = \"#000000\";\n",
       "\n",
       "    this._resize_canvas = function(width, height) {\n",
       "        // Keep the size of the canvas, canvas container, and rubber band\n",
       "        // canvas in synch.\n",
       "        canvas_div.css('width', width)\n",
       "        canvas_div.css('height', height)\n",
       "\n",
       "        canvas.attr('width', width * mpl.ratio);\n",
       "        canvas.attr('height', height * mpl.ratio);\n",
       "        canvas.attr('style', 'width: ' + width + 'px; height: ' + height + 'px;');\n",
       "\n",
       "        rubberband.attr('width', width);\n",
       "        rubberband.attr('height', height);\n",
       "    }\n",
       "\n",
       "    // Set the figure to an initial 600x600px, this will subsequently be updated\n",
       "    // upon first draw.\n",
       "    this._resize_canvas(600, 600);\n",
       "\n",
       "    // Disable right mouse context menu.\n",
       "    $(this.rubberband_canvas).bind(\"contextmenu\",function(e){\n",
       "        return false;\n",
       "    });\n",
       "\n",
       "    function set_focus () {\n",
       "        canvas.focus();\n",
       "        canvas_div.focus();\n",
       "    }\n",
       "\n",
       "    window.setTimeout(set_focus, 100);\n",
       "}\n",
       "\n",
       "mpl.figure.prototype._init_toolbar = function() {\n",
       "    var fig = this;\n",
       "\n",
       "    var nav_element = $('<div/>')\n",
       "    nav_element.attr('style', 'width: 100%');\n",
       "    this.root.append(nav_element);\n",
       "\n",
       "    // Define a callback function for later on.\n",
       "    function toolbar_event(event) {\n",
       "        return fig.toolbar_button_onclick(event['data']);\n",
       "    }\n",
       "    function toolbar_mouse_event(event) {\n",
       "        return fig.toolbar_button_onmouseover(event['data']);\n",
       "    }\n",
       "\n",
       "    for(var toolbar_ind in mpl.toolbar_items) {\n",
       "        var name = mpl.toolbar_items[toolbar_ind][0];\n",
       "        var tooltip = mpl.toolbar_items[toolbar_ind][1];\n",
       "        var image = mpl.toolbar_items[toolbar_ind][2];\n",
       "        var method_name = mpl.toolbar_items[toolbar_ind][3];\n",
       "\n",
       "        if (!name) {\n",
       "            // put a spacer in here.\n",
       "            continue;\n",
       "        }\n",
       "        var button = $('<button/>');\n",
       "        button.addClass('ui-button ui-widget ui-state-default ui-corner-all ' +\n",
       "                        'ui-button-icon-only');\n",
       "        button.attr('role', 'button');\n",
       "        button.attr('aria-disabled', 'false');\n",
       "        button.click(method_name, toolbar_event);\n",
       "        button.mouseover(tooltip, toolbar_mouse_event);\n",
       "\n",
       "        var icon_img = $('<span/>');\n",
       "        icon_img.addClass('ui-button-icon-primary ui-icon');\n",
       "        icon_img.addClass(image);\n",
       "        icon_img.addClass('ui-corner-all');\n",
       "\n",
       "        var tooltip_span = $('<span/>');\n",
       "        tooltip_span.addClass('ui-button-text');\n",
       "        tooltip_span.html(tooltip);\n",
       "\n",
       "        button.append(icon_img);\n",
       "        button.append(tooltip_span);\n",
       "\n",
       "        nav_element.append(button);\n",
       "    }\n",
       "\n",
       "    var fmt_picker_span = $('<span/>');\n",
       "\n",
       "    var fmt_picker = $('<select/>');\n",
       "    fmt_picker.addClass('mpl-toolbar-option ui-widget ui-widget-content');\n",
       "    fmt_picker_span.append(fmt_picker);\n",
       "    nav_element.append(fmt_picker_span);\n",
       "    this.format_dropdown = fmt_picker[0];\n",
       "\n",
       "    for (var ind in mpl.extensions) {\n",
       "        var fmt = mpl.extensions[ind];\n",
       "        var option = $(\n",
       "            '<option/>', {selected: fmt === mpl.default_extension}).html(fmt);\n",
       "        fmt_picker.append(option)\n",
       "    }\n",
       "\n",
       "    // Add hover states to the ui-buttons\n",
       "    $( \".ui-button\" ).hover(\n",
       "        function() { $(this).addClass(\"ui-state-hover\");},\n",
       "        function() { $(this).removeClass(\"ui-state-hover\");}\n",
       "    );\n",
       "\n",
       "    var status_bar = $('<span class=\"mpl-message\"/>');\n",
       "    nav_element.append(status_bar);\n",
       "    this.message = status_bar[0];\n",
       "}\n",
       "\n",
       "mpl.figure.prototype.request_resize = function(x_pixels, y_pixels) {\n",
       "    // Request matplotlib to resize the figure. Matplotlib will then trigger a resize in the client,\n",
       "    // which will in turn request a refresh of the image.\n",
       "    this.send_message('resize', {'width': x_pixels, 'height': y_pixels});\n",
       "}\n",
       "\n",
       "mpl.figure.prototype.send_message = function(type, properties) {\n",
       "    properties['type'] = type;\n",
       "    properties['figure_id'] = this.id;\n",
       "    this.ws.send(JSON.stringify(properties));\n",
       "}\n",
       "\n",
       "mpl.figure.prototype.send_draw_message = function() {\n",
       "    if (!this.waiting) {\n",
       "        this.waiting = true;\n",
       "        this.ws.send(JSON.stringify({type: \"draw\", figure_id: this.id}));\n",
       "    }\n",
       "}\n",
       "\n",
       "\n",
       "mpl.figure.prototype.handle_save = function(fig, msg) {\n",
       "    var format_dropdown = fig.format_dropdown;\n",
       "    var format = format_dropdown.options[format_dropdown.selectedIndex].value;\n",
       "    fig.ondownload(fig, format);\n",
       "}\n",
       "\n",
       "\n",
       "mpl.figure.prototype.handle_resize = function(fig, msg) {\n",
       "    var size = msg['size'];\n",
       "    if (size[0] != fig.canvas.width || size[1] != fig.canvas.height) {\n",
       "        fig._resize_canvas(size[0], size[1]);\n",
       "        fig.send_message(\"refresh\", {});\n",
       "    };\n",
       "}\n",
       "\n",
       "mpl.figure.prototype.handle_rubberband = function(fig, msg) {\n",
       "    var x0 = msg['x0'] / mpl.ratio;\n",
       "    var y0 = (fig.canvas.height - msg['y0']) / mpl.ratio;\n",
       "    var x1 = msg['x1'] / mpl.ratio;\n",
       "    var y1 = (fig.canvas.height - msg['y1']) / mpl.ratio;\n",
       "    x0 = Math.floor(x0) + 0.5;\n",
       "    y0 = Math.floor(y0) + 0.5;\n",
       "    x1 = Math.floor(x1) + 0.5;\n",
       "    y1 = Math.floor(y1) + 0.5;\n",
       "    var min_x = Math.min(x0, x1);\n",
       "    var min_y = Math.min(y0, y1);\n",
       "    var width = Math.abs(x1 - x0);\n",
       "    var height = Math.abs(y1 - y0);\n",
       "\n",
       "    fig.rubberband_context.clearRect(\n",
       "        0, 0, fig.canvas.width, fig.canvas.height);\n",
       "\n",
       "    fig.rubberband_context.strokeRect(min_x, min_y, width, height);\n",
       "}\n",
       "\n",
       "mpl.figure.prototype.handle_figure_label = function(fig, msg) {\n",
       "    // Updates the figure title.\n",
       "    fig.header.textContent = msg['label'];\n",
       "}\n",
       "\n",
       "mpl.figure.prototype.handle_cursor = function(fig, msg) {\n",
       "    var cursor = msg['cursor'];\n",
       "    switch(cursor)\n",
       "    {\n",
       "    case 0:\n",
       "        cursor = 'pointer';\n",
       "        break;\n",
       "    case 1:\n",
       "        cursor = 'default';\n",
       "        break;\n",
       "    case 2:\n",
       "        cursor = 'crosshair';\n",
       "        break;\n",
       "    case 3:\n",
       "        cursor = 'move';\n",
       "        break;\n",
       "    }\n",
       "    fig.rubberband_canvas.style.cursor = cursor;\n",
       "}\n",
       "\n",
       "mpl.figure.prototype.handle_message = function(fig, msg) {\n",
       "    fig.message.textContent = msg['message'];\n",
       "}\n",
       "\n",
       "mpl.figure.prototype.handle_draw = function(fig, msg) {\n",
       "    // Request the server to send over a new figure.\n",
       "    fig.send_draw_message();\n",
       "}\n",
       "\n",
       "mpl.figure.prototype.handle_image_mode = function(fig, msg) {\n",
       "    fig.image_mode = msg['mode'];\n",
       "}\n",
       "\n",
       "mpl.figure.prototype.updated_canvas_event = function() {\n",
       "    // Called whenever the canvas gets updated.\n",
       "    this.send_message(\"ack\", {});\n",
       "}\n",
       "\n",
       "// A function to construct a web socket function for onmessage handling.\n",
       "// Called in the figure constructor.\n",
       "mpl.figure.prototype._make_on_message_function = function(fig) {\n",
       "    return function socket_on_message(evt) {\n",
       "        if (evt.data instanceof Blob) {\n",
       "            /* FIXME: We get \"Resource interpreted as Image but\n",
       "             * transferred with MIME type text/plain:\" errors on\n",
       "             * Chrome.  But how to set the MIME type?  It doesn't seem\n",
       "             * to be part of the websocket stream */\n",
       "            evt.data.type = \"image/png\";\n",
       "\n",
       "            /* Free the memory for the previous frames */\n",
       "            if (fig.imageObj.src) {\n",
       "                (window.URL || window.webkitURL).revokeObjectURL(\n",
       "                    fig.imageObj.src);\n",
       "            }\n",
       "\n",
       "            fig.imageObj.src = (window.URL || window.webkitURL).createObjectURL(\n",
       "                evt.data);\n",
       "            fig.updated_canvas_event();\n",
       "            fig.waiting = false;\n",
       "            return;\n",
       "        }\n",
       "        else if (typeof evt.data === 'string' && evt.data.slice(0, 21) == \"data:image/png;base64\") {\n",
       "            fig.imageObj.src = evt.data;\n",
       "            fig.updated_canvas_event();\n",
       "            fig.waiting = false;\n",
       "            return;\n",
       "        }\n",
       "\n",
       "        var msg = JSON.parse(evt.data);\n",
       "        var msg_type = msg['type'];\n",
       "\n",
       "        // Call the  \"handle_{type}\" callback, which takes\n",
       "        // the figure and JSON message as its only arguments.\n",
       "        try {\n",
       "            var callback = fig[\"handle_\" + msg_type];\n",
       "        } catch (e) {\n",
       "            console.log(\"No handler for the '\" + msg_type + \"' message type: \", msg);\n",
       "            return;\n",
       "        }\n",
       "\n",
       "        if (callback) {\n",
       "            try {\n",
       "                // console.log(\"Handling '\" + msg_type + \"' message: \", msg);\n",
       "                callback(fig, msg);\n",
       "            } catch (e) {\n",
       "                console.log(\"Exception inside the 'handler_\" + msg_type + \"' callback:\", e, e.stack, msg);\n",
       "            }\n",
       "        }\n",
       "    };\n",
       "}\n",
       "\n",
       "// from http://stackoverflow.com/questions/1114465/getting-mouse-location-in-canvas\n",
       "mpl.findpos = function(e) {\n",
       "    //this section is from http://www.quirksmode.org/js/events_properties.html\n",
       "    var targ;\n",
       "    if (!e)\n",
       "        e = window.event;\n",
       "    if (e.target)\n",
       "        targ = e.target;\n",
       "    else if (e.srcElement)\n",
       "        targ = e.srcElement;\n",
       "    if (targ.nodeType == 3) // defeat Safari bug\n",
       "        targ = targ.parentNode;\n",
       "\n",
       "    // jQuery normalizes the pageX and pageY\n",
       "    // pageX,Y are the mouse positions relative to the document\n",
       "    // offset() returns the position of the element relative to the document\n",
       "    var x = e.pageX - $(targ).offset().left;\n",
       "    var y = e.pageY - $(targ).offset().top;\n",
       "\n",
       "    return {\"x\": x, \"y\": y};\n",
       "};\n",
       "\n",
       "/*\n",
       " * return a copy of an object with only non-object keys\n",
       " * we need this to avoid circular references\n",
       " * http://stackoverflow.com/a/24161582/3208463\n",
       " */\n",
       "function simpleKeys (original) {\n",
       "  return Object.keys(original).reduce(function (obj, key) {\n",
       "    if (typeof original[key] !== 'object')\n",
       "        obj[key] = original[key]\n",
       "    return obj;\n",
       "  }, {});\n",
       "}\n",
       "\n",
       "mpl.figure.prototype.mouse_event = function(event, name) {\n",
       "    var canvas_pos = mpl.findpos(event)\n",
       "\n",
       "    if (name === 'button_press')\n",
       "    {\n",
       "        this.canvas.focus();\n",
       "        this.canvas_div.focus();\n",
       "    }\n",
       "\n",
       "    var x = canvas_pos.x * mpl.ratio;\n",
       "    var y = canvas_pos.y * mpl.ratio;\n",
       "\n",
       "    this.send_message(name, {x: x, y: y, button: event.button,\n",
       "                             step: event.step,\n",
       "                             guiEvent: simpleKeys(event)});\n",
       "\n",
       "    /* This prevents the web browser from automatically changing to\n",
       "     * the text insertion cursor when the button is pressed.  We want\n",
       "     * to control all of the cursor setting manually through the\n",
       "     * 'cursor' event from matplotlib */\n",
       "    event.preventDefault();\n",
       "    return false;\n",
       "}\n",
       "\n",
       "mpl.figure.prototype._key_event_extra = function(event, name) {\n",
       "    // Handle any extra behaviour associated with a key event\n",
       "}\n",
       "\n",
       "mpl.figure.prototype.key_event = function(event, name) {\n",
       "\n",
       "    // Prevent repeat events\n",
       "    if (name == 'key_press')\n",
       "    {\n",
       "        if (event.which === this._key)\n",
       "            return;\n",
       "        else\n",
       "            this._key = event.which;\n",
       "    }\n",
       "    if (name == 'key_release')\n",
       "        this._key = null;\n",
       "\n",
       "    var value = '';\n",
       "    if (event.ctrlKey && event.which != 17)\n",
       "        value += \"ctrl+\";\n",
       "    if (event.altKey && event.which != 18)\n",
       "        value += \"alt+\";\n",
       "    if (event.shiftKey && event.which != 16)\n",
       "        value += \"shift+\";\n",
       "\n",
       "    value += 'k';\n",
       "    value += event.which.toString();\n",
       "\n",
       "    this._key_event_extra(event, name);\n",
       "\n",
       "    this.send_message(name, {key: value,\n",
       "                             guiEvent: simpleKeys(event)});\n",
       "    return false;\n",
       "}\n",
       "\n",
       "mpl.figure.prototype.toolbar_button_onclick = function(name) {\n",
       "    if (name == 'download') {\n",
       "        this.handle_save(this, null);\n",
       "    } else {\n",
       "        this.send_message(\"toolbar_button\", {name: name});\n",
       "    }\n",
       "};\n",
       "\n",
       "mpl.figure.prototype.toolbar_button_onmouseover = function(tooltip) {\n",
       "    this.message.textContent = tooltip;\n",
       "};\n",
       "mpl.toolbar_items = [[\"Home\", \"Reset original view\", \"fa fa-home icon-home\", \"home\"], [\"Back\", \"Back to  previous view\", \"fa fa-arrow-left icon-arrow-left\", \"back\"], [\"Forward\", \"Forward to next view\", \"fa fa-arrow-right icon-arrow-right\", \"forward\"], [\"\", \"\", \"\", \"\"], [\"Pan\", \"Pan axes with left mouse, zoom with right\", \"fa fa-arrows icon-move\", \"pan\"], [\"Zoom\", \"Zoom to rectangle\", \"fa fa-square-o icon-check-empty\", \"zoom\"], [\"\", \"\", \"\", \"\"], [\"Download\", \"Download plot\", \"fa fa-floppy-o icon-save\", \"download\"]];\n",
       "\n",
       "mpl.extensions = [\"eps\", \"jpeg\", \"pdf\", \"png\", \"ps\", \"raw\", \"svg\", \"tif\"];\n",
       "\n",
       "mpl.default_extension = \"png\";var comm_websocket_adapter = function(comm) {\n",
       "    // Create a \"websocket\"-like object which calls the given IPython comm\n",
       "    // object with the appropriate methods. Currently this is a non binary\n",
       "    // socket, so there is still some room for performance tuning.\n",
       "    var ws = {};\n",
       "\n",
       "    ws.close = function() {\n",
       "        comm.close()\n",
       "    };\n",
       "    ws.send = function(m) {\n",
       "        //console.log('sending', m);\n",
       "        comm.send(m);\n",
       "    };\n",
       "    // Register the callback with on_msg.\n",
       "    comm.on_msg(function(msg) {\n",
       "        //console.log('receiving', msg['content']['data'], msg);\n",
       "        // Pass the mpl event to the overridden (by mpl) onmessage function.\n",
       "        ws.onmessage(msg['content']['data'])\n",
       "    });\n",
       "    return ws;\n",
       "}\n",
       "\n",
       "mpl.mpl_figure_comm = function(comm, msg) {\n",
       "    // This is the function which gets called when the mpl process\n",
       "    // starts-up an IPython Comm through the \"matplotlib\" channel.\n",
       "\n",
       "    var id = msg.content.data.id;\n",
       "    // Get hold of the div created by the display call when the Comm\n",
       "    // socket was opened in Python.\n",
       "    var element = $(\"#\" + id);\n",
       "    var ws_proxy = comm_websocket_adapter(comm)\n",
       "\n",
       "    function ondownload(figure, format) {\n",
       "        window.open(figure.imageObj.src);\n",
       "    }\n",
       "\n",
       "    var fig = new mpl.figure(id, ws_proxy,\n",
       "                           ondownload,\n",
       "                           element.get(0));\n",
       "\n",
       "    // Call onopen now - mpl needs it, as it is assuming we've passed it a real\n",
       "    // web socket which is closed, not our websocket->open comm proxy.\n",
       "    ws_proxy.onopen();\n",
       "\n",
       "    fig.parent_element = element.get(0);\n",
       "    fig.cell_info = mpl.find_output_cell(\"<div id='\" + id + \"'></div>\");\n",
       "    if (!fig.cell_info) {\n",
       "        console.error(\"Failed to find cell for figure\", id, fig);\n",
       "        return;\n",
       "    }\n",
       "\n",
       "    var output_index = fig.cell_info[2]\n",
       "    var cell = fig.cell_info[0];\n",
       "\n",
       "};\n",
       "\n",
       "mpl.figure.prototype.handle_close = function(fig, msg) {\n",
       "    var width = fig.canvas.width/mpl.ratio\n",
       "    fig.root.unbind('remove')\n",
       "\n",
       "    // Update the output cell to use the data from the current canvas.\n",
       "    fig.push_to_output();\n",
       "    var dataURL = fig.canvas.toDataURL();\n",
       "    // Re-enable the keyboard manager in IPython - without this line, in FF,\n",
       "    // the notebook keyboard shortcuts fail.\n",
       "    IPython.keyboard_manager.enable()\n",
       "    $(fig.parent_element).html('<img src=\"' + dataURL + '\" width=\"' + width + '\">');\n",
       "    fig.close_ws(fig, msg);\n",
       "}\n",
       "\n",
       "mpl.figure.prototype.close_ws = function(fig, msg){\n",
       "    fig.send_message('closing', msg);\n",
       "    // fig.ws.close()\n",
       "}\n",
       "\n",
       "mpl.figure.prototype.push_to_output = function(remove_interactive) {\n",
       "    // Turn the data on the canvas into data in the output cell.\n",
       "    var width = this.canvas.width/mpl.ratio\n",
       "    var dataURL = this.canvas.toDataURL();\n",
       "    this.cell_info[1]['text/html'] = '<img src=\"' + dataURL + '\" width=\"' + width + '\">';\n",
       "}\n",
       "\n",
       "mpl.figure.prototype.updated_canvas_event = function() {\n",
       "    // Tell IPython that the notebook contents must change.\n",
       "    IPython.notebook.set_dirty(true);\n",
       "    this.send_message(\"ack\", {});\n",
       "    var fig = this;\n",
       "    // Wait a second, then push the new image to the DOM so\n",
       "    // that it is saved nicely (might be nice to debounce this).\n",
       "    setTimeout(function () { fig.push_to_output() }, 1000);\n",
       "}\n",
       "\n",
       "mpl.figure.prototype._init_toolbar = function() {\n",
       "    var fig = this;\n",
       "\n",
       "    var nav_element = $('<div/>')\n",
       "    nav_element.attr('style', 'width: 100%');\n",
       "    this.root.append(nav_element);\n",
       "\n",
       "    // Define a callback function for later on.\n",
       "    function toolbar_event(event) {\n",
       "        return fig.toolbar_button_onclick(event['data']);\n",
       "    }\n",
       "    function toolbar_mouse_event(event) {\n",
       "        return fig.toolbar_button_onmouseover(event['data']);\n",
       "    }\n",
       "\n",
       "    for(var toolbar_ind in mpl.toolbar_items){\n",
       "        var name = mpl.toolbar_items[toolbar_ind][0];\n",
       "        var tooltip = mpl.toolbar_items[toolbar_ind][1];\n",
       "        var image = mpl.toolbar_items[toolbar_ind][2];\n",
       "        var method_name = mpl.toolbar_items[toolbar_ind][3];\n",
       "\n",
       "        if (!name) { continue; };\n",
       "\n",
       "        var button = $('<button class=\"btn btn-default\" href=\"#\" title=\"' + name + '\"><i class=\"fa ' + image + ' fa-lg\"></i></button>');\n",
       "        button.click(method_name, toolbar_event);\n",
       "        button.mouseover(tooltip, toolbar_mouse_event);\n",
       "        nav_element.append(button);\n",
       "    }\n",
       "\n",
       "    // Add the status bar.\n",
       "    var status_bar = $('<span class=\"mpl-message\" style=\"text-align:right; float: right;\"/>');\n",
       "    nav_element.append(status_bar);\n",
       "    this.message = status_bar[0];\n",
       "\n",
       "    // Add the close button to the window.\n",
       "    var buttongrp = $('<div class=\"btn-group inline pull-right\"></div>');\n",
       "    var button = $('<button class=\"btn btn-mini btn-primary\" href=\"#\" title=\"Stop Interaction\"><i class=\"fa fa-power-off icon-remove icon-large\"></i></button>');\n",
       "    button.click(function (evt) { fig.handle_close(fig, {}); } );\n",
       "    button.mouseover('Stop Interaction', toolbar_mouse_event);\n",
       "    buttongrp.append(button);\n",
       "    var titlebar = this.root.find($('.ui-dialog-titlebar'));\n",
       "    titlebar.prepend(buttongrp);\n",
       "}\n",
       "\n",
       "mpl.figure.prototype._root_extra_style = function(el){\n",
       "    var fig = this\n",
       "    el.on(\"remove\", function(){\n",
       "\tfig.close_ws(fig, {});\n",
       "    });\n",
       "}\n",
       "\n",
       "mpl.figure.prototype._canvas_extra_style = function(el){\n",
       "    // this is important to make the div 'focusable\n",
       "    el.attr('tabindex', 0)\n",
       "    // reach out to IPython and tell the keyboard manager to turn it's self\n",
       "    // off when our div gets focus\n",
       "\n",
       "    // location in version 3\n",
       "    if (IPython.notebook.keyboard_manager) {\n",
       "        IPython.notebook.keyboard_manager.register_events(el);\n",
       "    }\n",
       "    else {\n",
       "        // location in version 2\n",
       "        IPython.keyboard_manager.register_events(el);\n",
       "    }\n",
       "\n",
       "}\n",
       "\n",
       "mpl.figure.prototype._key_event_extra = function(event, name) {\n",
       "    var manager = IPython.notebook.keyboard_manager;\n",
       "    if (!manager)\n",
       "        manager = IPython.keyboard_manager;\n",
       "\n",
       "    // Check for shift+enter\n",
       "    if (event.shiftKey && event.which == 13) {\n",
       "        this.canvas_div.blur();\n",
       "        event.shiftKey = false;\n",
       "        // Send a \"J\" for go to next cell\n",
       "        event.which = 74;\n",
       "        event.keyCode = 74;\n",
       "        manager.command_mode();\n",
       "        manager.handle_keydown(event);\n",
       "    }\n",
       "}\n",
       "\n",
       "mpl.figure.prototype.handle_save = function(fig, msg) {\n",
       "    fig.ondownload(fig, null);\n",
       "}\n",
       "\n",
       "\n",
       "mpl.find_output_cell = function(html_output) {\n",
       "    // Return the cell and output element which can be found *uniquely* in the notebook.\n",
       "    // Note - this is a bit hacky, but it is done because the \"notebook_saving.Notebook\"\n",
       "    // IPython event is triggered only after the cells have been serialised, which for\n",
       "    // our purposes (turning an active figure into a static one), is too late.\n",
       "    var cells = IPython.notebook.get_cells();\n",
       "    var ncells = cells.length;\n",
       "    for (var i=0; i<ncells; i++) {\n",
       "        var cell = cells[i];\n",
       "        if (cell.cell_type === 'code'){\n",
       "            for (var j=0; j<cell.output_area.outputs.length; j++) {\n",
       "                var data = cell.output_area.outputs[j];\n",
       "                if (data.data) {\n",
       "                    // IPython >= 3 moved mimebundle to data attribute of output\n",
       "                    data = data.data;\n",
       "                }\n",
       "                if (data['text/html'] == html_output) {\n",
       "                    return [cell, data, j];\n",
       "                }\n",
       "            }\n",
       "        }\n",
       "    }\n",
       "}\n",
       "\n",
       "// Register the function which deals with the matplotlib target/channel.\n",
       "// The kernel may be null if the page has been refreshed.\n",
       "if (IPython.notebook.kernel != null) {\n",
       "    IPython.notebook.kernel.comm_manager.register_target('matplotlib', mpl.mpl_figure_comm);\n",
       "}\n"
      ],
      "text/plain": [
       "<IPython.core.display.Javascript object>"
      ]
     },
     "metadata": {},
     "output_type": "display_data"
    },
    {
     "data": {
      "text/html": [
       "<img src=\"data:image/png;base64,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\" width=\"640\">"
      ],
      "text/plain": [
       "<IPython.core.display.HTML object>"
      ]
     },
     "metadata": {},
     "output_type": "display_data"
    },
    {
     "data": {
      "text/plain": [
       "(-15, 3)"
      ]
     },
     "execution_count": 9,
     "metadata": {},
     "output_type": "execute_result"
    }
   ],
   "source": [
    "alpha = 0.1\n",
    "w, b = np.ones(N), 0.1\n",
    "\n",
    "plt.plot(X[:,0],y,'b.')\n",
    "xlin = np.linspace(-3,0,55)\n",
    "Xlin = np.stack([xlin**i for i in range(1,N+1)]).T\n",
    "l = plt.plot(xlin,np.dot(Xlin,w)+b,'r-')[0]\n",
    "ax = plt.gca()\n",
    "fig = plt.gcf()\n",
    "ax.set_ylim(-15,3)"
   ]
  },
  {
   "cell_type": "code",
   "execution_count": 10,
   "metadata": {
    "nbgrader": {
     "grade": false,
     "grade_id": "cell-6ec1ed32b1a7bf1d",
     "locked": false,
     "schema_version": 1,
     "solution": true
    }
   },
   "outputs": [
    {
     "name": "stdout",
     "output_type": "stream",
     "text": [
      "43.00296346587458 -4.569198803683822 4.3680731176532015e-0534\r"
     ]
    }
   ],
   "source": [
    "n = m # m all, n subset\n",
    "alpha = .02\n",
    "w, b = np.ones(N), 0.1\n",
    "for i in range(20000):    \n",
    "    ith = np.random.choice(m,n,replace=False)\n",
    "\n",
    "    X = X_orig[ith,:]\n",
    "    y = y_orig[ith]\n",
    "    dw,db = None,None\n",
    "### BEGIN SOLUTION\n",
    "    dw = 1/n*(np.dot(X,w)+b-y).dot(X) + 0.0*w\n",
    "    db = 1/n*np.sum(np.dot(X,w)+b-y)\n",
    "### END SOLUTION\n",
    "\n",
    "    w = w - alpha*dw\n",
    "    b = b - alpha*db\n",
    "    \n",
    "    if i%100==0:\n",
    "        l.set_data(xlin,np.dot(Xlin,w)+b)\n",
    "        fig.canvas.draw()\n",
    "        print(np.sum(w**2),b,L(w,b),end='\\r')\n",
    "    #sleep(0.1)"
   ]
  },
  {
   "cell_type": "markdown",
   "metadata": {
    "lang": "pl"
   },
   "source": [
    "### Dodatek: rozwiązanie dokładne"
   ]
  },
  {
   "cell_type": "markdown",
   "metadata": {
    "lang": "en"
   },
   "source": [
    "### Appendix: an exact solution"
   ]
  },
  {
   "cell_type": "code",
   "execution_count": 11,
   "metadata": {},
   "outputs": [
    {
     "data": {
      "text/plain": [
       "((3, 3), (3,))"
      ]
     },
     "execution_count": 11,
     "metadata": {},
     "output_type": "execute_result"
    }
   ],
   "source": [
    "X = X_orig[:,:]\n",
    "y = y_orig[:]\n",
    "\n",
    "A = np.stack([x**i for i in range(N+1)]).T\n",
    "A.shape,y.shape"
   ]
  },
  {
   "cell_type": "code",
   "execution_count": 12,
   "metadata": {},
   "outputs": [],
   "source": [
    "sol = np.linalg.solve(A.T.dot(A),A.T.dot(y))"
   ]
  },
  {
   "cell_type": "code",
   "execution_count": 13,
   "metadata": {},
   "outputs": [
    {
     "data": {
      "text/plain": [
       "((3, 3), 2)"
      ]
     },
     "execution_count": 13,
     "metadata": {},
     "output_type": "execute_result"
    }
   ],
   "source": [
    "A.shape,N"
   ]
  },
  {
   "cell_type": "code",
   "execution_count": 14,
   "metadata": {},
   "outputs": [
    {
     "data": {
      "text/plain": [
       "(array([-4.60964102, -5.83878633, -3.14719809]),\n",
       " -4.5701251162012975,\n",
       " array([-5.76818099, -3.12308702]))"
      ]
     },
     "execution_count": 14,
     "metadata": {},
     "output_type": "execute_result"
    }
   ],
   "source": [
    "sol,b,w"
   ]
  },
  {
   "cell_type": "code",
   "execution_count": 15,
   "metadata": {},
   "outputs": [
    {
     "data": {
      "text/plain": [
       "[<matplotlib.lines.Line2D at 0x7fe52d5f47b8>]"
      ]
     },
     "execution_count": 15,
     "metadata": {},
     "output_type": "execute_result"
    }
   ],
   "source": [
    "#plt.figure()\n",
    "plt.plot(xlin,np.stack([xlin**i for i in range(N+1)]).T.dot(sol))\n",
    "#plt.plot(x,y,'o')"
   ]
  },
  {
   "cell_type": "code",
   "execution_count": 16,
   "metadata": {},
   "outputs": [
    {
     "data": {
      "text/plain": [
       "((3, 3), (3,))"
      ]
     },
     "execution_count": 16,
     "metadata": {},
     "output_type": "execute_result"
    }
   ],
   "source": [
    "A.T.dot(A).shape,(A.T).dot(y).shape,"
   ]
  },
  {
   "cell_type": "code",
   "execution_count": 17,
   "metadata": {},
   "outputs": [
    {
     "data": {
      "text/plain": [
       "((55,), (55, 2), (2,))"
      ]
     },
     "execution_count": 17,
     "metadata": {},
     "output_type": "execute_result"
    }
   ],
   "source": [
    "np.dot(Xlin,w).shape,Xlin.shape,w.shape"
   ]
  },
  {
   "cell_type": "code",
   "execution_count": null,
   "metadata": {},
   "outputs": [],
   "source": []
  },
  {
   "cell_type": "code",
   "execution_count": null,
   "metadata": {},
   "outputs": [],
   "source": []
  }
 ],
 "metadata": {
  "celltoolbar": "Create Assignment",
  "kernelspec": {
   "display_name": "Python 3",
   "language": "python",
   "name": "python3"
  },
  "language_info": {
   "codemirror_mode": {
    "name": "ipython",
    "version": 3
   },
   "file_extension": ".py",
   "mimetype": "text/x-python",
   "name": "python",
   "nbconvert_exporter": "python",
   "pygments_lexer": "ipython3",
   "version": "3.6.3"
  },
  "nbTranslate": {
   "displayLangs": [
    "en"
   ],
   "hotkey": "alt-t",
   "langInMainMenu": true,
   "sourceLang": "pl",
   "targetLang": "en",
   "useGoogleTranslate": true
  }
 },
 "nbformat": 4,
 "nbformat_minor": 2
}
